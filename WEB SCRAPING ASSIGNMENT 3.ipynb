{
 "cells": [
  {
   "cell_type": "code",
   "execution_count": 2,
   "id": "15d0af93",
   "metadata": {},
   "outputs": [
    {
     "name": "stdout",
     "output_type": "stream",
     "text": [
      "Requirement already satisfied: selenium in c:\\users\\dell\\anaconda3\\lib\\site-packages (4.3.0)\n",
      "Requirement already satisfied: trio~=0.17 in c:\\users\\dell\\anaconda3\\lib\\site-packages (from selenium) (0.21.0)\n",
      "Requirement already satisfied: trio-websocket~=0.9 in c:\\users\\dell\\anaconda3\\lib\\site-packages (from selenium) (0.9.2)\n",
      "Requirement already satisfied: urllib3[secure,socks]~=1.26 in c:\\users\\dell\\anaconda3\\lib\\site-packages (from selenium) (1.26.9)\n",
      "Requirement already satisfied: idna in c:\\users\\dell\\anaconda3\\lib\\site-packages (from trio~=0.17->selenium) (3.3)\n",
      "Requirement already satisfied: attrs>=19.2.0 in c:\\users\\dell\\anaconda3\\lib\\site-packages (from trio~=0.17->selenium) (21.4.0)\n",
      "Requirement already satisfied: cffi>=1.14 in c:\\users\\dell\\anaconda3\\lib\\site-packages (from trio~=0.17->selenium) (1.15.0)\n",
      "Requirement already satisfied: sortedcontainers in c:\\users\\dell\\anaconda3\\lib\\site-packages (from trio~=0.17->selenium) (2.4.0)\n",
      "Requirement already satisfied: async-generator>=1.9 in c:\\users\\dell\\anaconda3\\lib\\site-packages (from trio~=0.17->selenium) (1.10)\n",
      "Requirement already satisfied: outcome in c:\\users\\dell\\anaconda3\\lib\\site-packages (from trio~=0.17->selenium) (1.2.0)\n",
      "Requirement already satisfied: sniffio in c:\\users\\dell\\anaconda3\\lib\\site-packages (from trio~=0.17->selenium) (1.2.0)\n",
      "Requirement already satisfied: pycparser in c:\\users\\dell\\anaconda3\\lib\\site-packages (from cffi>=1.14->trio~=0.17->selenium) (2.21)\n",
      "Requirement already satisfied: wsproto>=0.14 in c:\\users\\dell\\anaconda3\\lib\\site-packages (from trio-websocket~=0.9->selenium) (1.1.0)\n",
      "Requirement already satisfied: pyOpenSSL>=0.14 in c:\\users\\dell\\anaconda3\\lib\\site-packages (from urllib3[secure,socks]~=1.26->selenium) (21.0.0)\n",
      "Requirement already satisfied: cryptography>=1.3.4 in c:\\users\\dell\\anaconda3\\lib\\site-packages (from urllib3[secure,socks]~=1.26->selenium) (3.4.8)\n",
      "Requirement already satisfied: certifi in c:\\users\\dell\\anaconda3\\lib\\site-packages (from urllib3[secure,socks]~=1.26->selenium) (2021.10.8)\n",
      "Requirement already satisfied: PySocks!=1.5.7,<2.0,>=1.5.6 in c:\\users\\dell\\anaconda3\\lib\\site-packages (from urllib3[secure,socks]~=1.26->selenium) (1.7.1)\n",
      "Requirement already satisfied: six>=1.5.2 in c:\\users\\dell\\anaconda3\\lib\\site-packages (from pyOpenSSL>=0.14->urllib3[secure,socks]~=1.26->selenium) (1.16.0)\n",
      "Requirement already satisfied: h11<1,>=0.9.0 in c:\\users\\dell\\anaconda3\\lib\\site-packages (from wsproto>=0.14->trio-websocket~=0.9->selenium) (0.13.0)\n"
     ]
    }
   ],
   "source": [
    "!pip install selenium"
   ]
  },
  {
   "cell_type": "code",
   "execution_count": 3,
   "id": "c628db46",
   "metadata": {},
   "outputs": [],
   "source": [
    "import selenium\n",
    "import pandas as pd\n",
    "import numpy as np\n",
    "from selenium import webdriver\n",
    "from selenium.webdriver.common.by import By\n",
    "\n",
    "import warnings\n",
    "warnings.filterwarnings('ignore')\n",
    "\n",
    "from selenium.webdriver.support.ui import WebDriverWait\n",
    "from selenium.webdriver.common.by import By\n",
    "from selenium.webdriver.support import expected_conditions as EC\n",
    "from selenium.common.exceptions import StaleElementReferenceException, NoSuchElementException\n",
    "\n",
    "#importing request\n",
    "import requests\n",
    "\n",
    "#importing regex\n",
    "import re\n",
    "\n",
    "import time\n",
    "\n",
    "from bs4 import BeautifulSoup"
   ]
  },
  {
   "cell_type": "code",
   "execution_count": 4,
   "id": "0a631735",
   "metadata": {},
   "outputs": [],
   "source": [
    "driver=webdriver.Chrome(r'C:\\Users\\DELL\\chromedriver.exe')"
   ]
  },
  {
   "cell_type": "code",
   "execution_count": 5,
   "id": "3f11828e",
   "metadata": {},
   "outputs": [],
   "source": [
    "from selenium import webdriver\n",
    "from selenium.common.exceptions import StaleElementReferenceException \n",
    "from selenium.webdriver.support.ui import WebDriverWait\n",
    "from selenium.webdriver.support import expected_conditions as EC\n",
    "from selenium.webdriver.common.by import By\n"
   ]
  },
  {
   "cell_type": "code",
   "execution_count": 4,
   "id": "bf9853f6",
   "metadata": {},
   "outputs": [],
   "source": [
    "# Q1.Write a python program which searches all the product under a particular product from www.amazon.in. \n",
    "#The product to be searched will be taken as input from user. For e.g. If user input is ‘guitar’. Then search for guitars.\n",
    "\n",
    "# getting the website.\n",
    "\n",
    "url='https://www.amazon.in/'\n",
    "driver.get(url)\n"
   ]
  },
  {
   "cell_type": "code",
   "execution_count": 5,
   "id": "d54f1ba1",
   "metadata": {},
   "outputs": [
    {
     "data": {
      "text/plain": [
       "<selenium.webdriver.remote.webelement.WebElement (session=\"357ae6bfc664876961e7da3c0ffed212\", element=\"101cdc63-fa12-4243-b2a3-151ba13a3e49\")>"
      ]
     },
     "execution_count": 5,
     "metadata": {},
     "output_type": "execute_result"
    }
   ],
   "source": [
    "#finding web element search item bar\n",
    "search_item=driver.find_element(By.XPATH,'/html/body/div[1]/header/div/div[1]/div[2]/div/form/div[2]/div[1]/input')\n",
    "search_item\n",
    "                               "
   ]
  },
  {
   "cell_type": "code",
   "execution_count": 6,
   "id": "fe87860c",
   "metadata": {},
   "outputs": [
    {
     "name": "stdout",
     "output_type": "stream",
     "text": [
      "Enter name of the product :\n",
      "\n",
      "laptop\n",
      "laptop\n"
     ]
    }
   ],
   "source": [
    "# Taking input from user.\n",
    "print(\"Enter name of the product :\\n\")\n",
    "item_abc=input()\n",
    "\n",
    "print(item_abc)"
   ]
  },
  {
   "cell_type": "code",
   "execution_count": 7,
   "id": "aa81133b",
   "metadata": {},
   "outputs": [],
   "source": [
    "#writing the product in  the search bar\n",
    "\n",
    "search_item.send_keys(item_abc)"
   ]
  },
  {
   "cell_type": "code",
   "execution_count": 8,
   "id": "7a67a0ca",
   "metadata": {},
   "outputs": [
    {
     "data": {
      "text/plain": [
       "<selenium.webdriver.remote.webelement.WebElement (session=\"357ae6bfc664876961e7da3c0ffed212\", element=\"0798f52b-5cdb-4520-8a9d-5dc10f9f279d\")>"
      ]
     },
     "execution_count": 8,
     "metadata": {},
     "output_type": "execute_result"
    }
   ],
   "source": [
    "#finding the web element for search icon\n",
    "srch_icon=driver.find_element(By.XPATH, '/html/body/div[1]/header/div/div[1]/div[2]/div/form/div[3]/div/span/input')\n",
    "srch_icon"
   ]
  },
  {
   "cell_type": "code",
   "execution_count": 9,
   "id": "a9e0b8d9",
   "metadata": {},
   "outputs": [],
   "source": [
    "srch_icon.click()"
   ]
  },
  {
   "cell_type": "markdown",
   "id": "6188e13d",
   "metadata": {},
   "source": [
    "Q2. In the above question, now scrape the following details of each product listed in first 3 pages of your search results\n",
    " and save it in a data frame and csv. In case if any product has less than 3 pages in search results then scrape all the products available under that product name. Details to be scraped are: \"Brand Name\", \"Name of the Product\", \"Price\", \"Return/Exchange\", \"Expected Delivery\", \"Availability\" and “Product URL”. In case, if any of the details are missing for any of the product then replace it by “-“"
   ]
  },
  {
   "cell_type": "code",
   "execution_count": 10,
   "id": "218031d8",
   "metadata": {},
   "outputs": [
    {
     "data": {
      "text/plain": [
       "22"
      ]
     },
     "execution_count": 10,
     "metadata": {},
     "output_type": "execute_result"
    }
   ],
   "source": [
    "# scraping brand name/title for the Product.\n",
    "\n",
    "title_tag=driver.find_elements(By.XPATH, '//h2[@class=\"a-size-mini a-spacing-none a-color-base s-line-clamp-2\"]')\n",
    "#Creating empty list to store the scrape data\n",
    "title=[]\n",
    "for i in title_tag:\n",
    "    title.append(i.text)\n",
    "title\n",
    "len(title) "
   ]
  },
  {
   "cell_type": "code",
   "execution_count": 11,
   "id": "97d248e6",
   "metadata": {},
   "outputs": [
    {
     "data": {
      "text/plain": [
       "23"
      ]
     },
     "execution_count": 11,
     "metadata": {},
     "output_type": "execute_result"
    }
   ],
   "source": [
    "#price\n",
    "price_tag=driver.find_elements(By.XPATH,'//div[@class=\"a-row a-size-base a-color-base\"]' )\n",
    "price=[]\n",
    "for i in price_tag:\n",
    "    price.append((i.text).split('\\n')[0])\n",
    "len(price)"
   ]
  },
  {
   "cell_type": "code",
   "execution_count": 12,
   "id": "50577c1e",
   "metadata": {},
   "outputs": [
    {
     "data": {
      "text/plain": [
       "22"
      ]
     },
     "execution_count": 12,
     "metadata": {},
     "output_type": "execute_result"
    }
   ],
   "source": [
    "#expected delivery\n",
    "dlvry_tag=driver.find_elements(By.XPATH,'//div[@class=\"a-row s-align-children-center\"]')\n",
    "exp_delvry=['-','-']\n",
    "for i in dlvry_tag:\n",
    "    exp_delvry.append(i.text)\n",
    "len(exp_delvry)\n"
   ]
  },
  {
   "cell_type": "code",
   "execution_count": 13,
   "id": "50e9ad18",
   "metadata": {},
   "outputs": [
    {
     "data": {
      "text/plain": [
       "22"
      ]
     },
     "execution_count": 13,
     "metadata": {},
     "output_type": "execute_result"
    }
   ],
   "source": [
    "#Brand name\n",
    "title_tag=driver.find_elements(By.XPATH, '//h2[@class=\"a-size-mini a-spacing-none a-color-base s-line-clamp-2\"]')\n",
    "#Creating empty list to store the scrape data\n",
    "brand_name=[]\n",
    "for i in title_tag:\n",
    "    brand_name.append((i.text).split(' ')[0])\n",
    "len(brand_name)"
   ]
  },
  {
   "cell_type": "code",
   "execution_count": 14,
   "id": "95c8c0bb",
   "metadata": {},
   "outputs": [
    {
     "data": {
      "text/plain": [
       "22"
      ]
     },
     "execution_count": 14,
     "metadata": {},
     "output_type": "execute_result"
    }
   ],
   "source": [
    "#scraping url\n",
    "url_tag=driver.find_elements(By.XPATH, '//a[@ class=\"a-link-normal s-underline-text s-underline-link-text s-link-style a-text-normal\"]')\n",
    "p_urls=[]\n",
    "for i in url_tag:\n",
    "    p_urls.append(i.get_attribute('href'))\n",
    "len(p_urls)\n",
    "                             "
   ]
  },
  {
   "cell_type": "code",
   "execution_count": 15,
   "id": "90e51926",
   "metadata": {},
   "outputs": [],
   "source": [
    "import time"
   ]
  },
  {
   "cell_type": "code",
   "execution_count": 17,
   "id": "9b9cf966",
   "metadata": {},
   "outputs": [
    {
     "data": {
      "text/plain": [
       "<selenium.webdriver.remote.webelement.WebElement (session=\"357ae6bfc664876961e7da3c0ffed212\", element=\"796687ef-1204-482d-89ee-c58eb3c80f0a\")>"
      ]
     },
     "execution_count": 17,
     "metadata": {},
     "output_type": "execute_result"
    }
   ],
   "source": [
    "nxt_bttn=driver.find_element(By.XPATH, '/html/body/div[1]/div[2]/div[1]/div[1]/div/span[3]/div[2]/div[28]/div/div/span/a[3]')\n",
    "nxt_bttn"
   ]
  },
  {
   "cell_type": "code",
   "execution_count": 18,
   "id": "3dca82b1",
   "metadata": {},
   "outputs": [],
   "source": [
    "nxt_bttn.click()"
   ]
  },
  {
   "cell_type": "code",
   "execution_count": 19,
   "id": "6e60017c",
   "metadata": {},
   "outputs": [
    {
     "name": "stdout",
     "output_type": "stream",
     "text": [
      "length title  44\n",
      "length price :  46\n",
      "length of expected delivery :  43\n",
      "length of brand name :  44\n",
      "length of urls :  44\n"
     ]
    }
   ],
   "source": [
    "#scraping next page for title i.e product name and brand name\n",
    "title_tag=driver.find_elements(By.XPATH, '//h2[@class=\"a-size-mini a-spacing-none a-color-base s-line-clamp-2\"]')\n",
    "for i in title_tag:\n",
    "    title.append(i.text)\n",
    "print(\"length title \", len(title))\n",
    "# scraping next page for price \n",
    "price_tag=driver.find_elements(By.XPATH,'//div[@class=\"a-row a-size-base a-color-base\"]' )\n",
    "\n",
    "for i in price_tag[:25]:\n",
    "    price.append((i.text).split('\\n')[0])\n",
    "print(\"length price : \",len(price))\n",
    "\n",
    "#expected delivery\n",
    "dlvry_tag=driver.find_elements(By.XPATH,'//div[@class=\"a-row s-align-children-center\"]')\n",
    "for i in dlvry_tag:\n",
    "    exp_delvry.append(i.text)\n",
    "print(\"length of expected delivery : \",len(exp_delvry))\n",
    "\n",
    "\n",
    "# next page Brand name\n",
    "title_tag=driver.find_elements(By.XPATH, '//h2[@class=\"a-size-mini a-spacing-none a-color-base s-line-clamp-2\"]')\n",
    "for i in title_tag:\n",
    "    brand_name.append((i.text).split(' ')[0])\n",
    "print(\"length of brand name : \",len(brand_name))\n",
    "\n",
    "\n",
    "#next page scraping url\n",
    "url_tag=driver.find_elements(By.XPATH, '//a[@ class=\"a-link-normal s-underline-text s-underline-link-text s-link-style a-text-normal\"]')\n",
    "\n",
    "for i in url_tag:\n",
    "    p_urls.append(i.get_attribute('href'))\n",
    "print(\"length of urls : \",len(p_urls))"
   ]
  },
  {
   "cell_type": "code",
   "execution_count": 21,
   "id": "03ccc4b3",
   "metadata": {},
   "outputs": [],
   "source": [
    "nxt_btn=driver.find_element(By.XPATH,'/html/body/div[1]/div[2]/div[1]/div[1]/div/span[3]/div[2]/div[27]/div/div/span/a[4]')"
   ]
  },
  {
   "cell_type": "code",
   "execution_count": 22,
   "id": "efdb582d",
   "metadata": {},
   "outputs": [],
   "source": [
    "nxt_btn.click()"
   ]
  },
  {
   "cell_type": "code",
   "execution_count": 23,
   "id": "617cbff4",
   "metadata": {},
   "outputs": [
    {
     "name": "stdout",
     "output_type": "stream",
     "text": [
      "length title  66\n",
      "length price :  69\n",
      "length of expected delivery :  64\n",
      "length of brand name :  66\n",
      "length of urls :  66\n"
     ]
    }
   ],
   "source": [
    "#scraping next page for title i.e product name and brand name(page 3)\n",
    "title_tag=driver.find_elements(By.XPATH, '//h2[@class=\"a-size-mini a-spacing-none a-color-base s-line-clamp-2\"]')\n",
    "for i in title_tag:\n",
    "    title.append(i.text)\n",
    "print(\"length title \", len(title))\n",
    "# scraping next page for price \n",
    "price_tag=driver.find_elements(By.XPATH,'//div[@class=\"a-row a-size-base a-color-base\"]' )\n",
    "\n",
    "for i in price_tag[:25]:\n",
    "    price.append((i.text).split('\\n')[0])\n",
    "print(\"length price : \",len(price))\n",
    "\n",
    "#expected delivery\n",
    "dlvry_tag=driver.find_elements(By.XPATH,'//div[@class=\"a-row s-align-children-center\"]')\n",
    "for i in dlvry_tag:\n",
    "    exp_delvry.append(i.text)\n",
    "print(\"length of expected delivery : \",len(exp_delvry))\n",
    "\n",
    "\n",
    "# next page Brand name\n",
    "title_tag=driver.find_elements(By.XPATH, '//h2[@class=\"a-size-mini a-spacing-none a-color-base s-line-clamp-2\"]')\n",
    "for i in title_tag:\n",
    "    brand_name.append((i.text).split(' ')[0])\n",
    "print(\"length of brand name : \",len(brand_name))\n",
    "\n",
    "\n",
    "#next page scraping url\n",
    "url_tag=driver.find_elements(By.XPATH, '//a[@ class=\"a-link-normal s-underline-text s-underline-link-text s-link-style a-text-normal\"]')\n",
    "\n",
    "for i in url_tag:\n",
    "    p_urls.append(i.get_attribute('href'))\n",
    "print(\"length of urls : \",len(p_urls))"
   ]
  },
  {
   "cell_type": "code",
   "execution_count": 24,
   "id": "1165a703",
   "metadata": {},
   "outputs": [
    {
     "data": {
      "text/plain": [
       "2210"
      ]
     },
     "execution_count": 24,
     "metadata": {},
     "output_type": "execute_result"
    }
   ],
   "source": [
    "#returns/replacements.\n",
    "r_r=[] \n",
    "replace_retrn=[]\n",
    "for link in range(0,len(p_urls)):\n",
    "    driver.get(p_urls[link])\n",
    "    time.sleep(7)\n",
    "    rep_tag=driver.find_elements(By.XPATH, '//a[@class=\"a-size-small a-link-normal a-text-normal\" ]')\n",
    "    \n",
    "    for i in rep_tag:\n",
    "        replace_retrn.append(i.text)\n",
    "    \n",
    "         \n",
    "    for i in range(0,len(replace_retrn),4):\n",
    "        r_r.append(replace_retrn[i])\n",
    "r_r.remove('Pay on Delivery')    \n",
    "r_r\n",
    "\n",
    "len(r_r)"
   ]
  },
  {
   "cell_type": "code",
   "execution_count": 27,
   "id": "448d8ff9",
   "metadata": {},
   "outputs": [
    {
     "data": {
      "text/plain": [
       "1749"
      ]
     },
     "execution_count": 27,
     "metadata": {},
     "output_type": "execute_result"
    }
   ],
   "source": [
    "#removing unwanted data\n",
    "r_r=list(filter(lambda a: a!= 'Pay on Delivery', r_r))\n",
    "len(r_r)"
   ]
  },
  {
   "cell_type": "code",
   "execution_count": 29,
   "id": "a038c97b",
   "metadata": {},
   "outputs": [],
   "source": [
    "#matching with lenght of other columns.\n",
    "r_r=r_r[:len(title)]"
   ]
  },
  {
   "cell_type": "code",
   "execution_count": 31,
   "id": "95e14374",
   "metadata": {},
   "outputs": [
    {
     "data": {
      "text/plain": [
       "(66, 69, 64, 66, 66, 66)"
      ]
     },
     "execution_count": 31,
     "metadata": {},
     "output_type": "execute_result"
    }
   ],
   "source": [
    "#checking lenght of every column\n",
    "len(title),len(price),len(exp_delvry),len(brand_name),len(p_urls),len(r_r)"
   ]
  },
  {
   "cell_type": "code",
   "execution_count": 36,
   "id": "62f46bbc",
   "metadata": {},
   "outputs": [
    {
     "data": {
      "text/plain": [
       "(66, 66)"
      ]
     },
     "execution_count": 36,
     "metadata": {},
     "output_type": "execute_result"
    }
   ],
   "source": [
    "#Leveling all the columns\n",
    "#price:\n",
    "price=price[:len(title)]\n",
    "\n",
    "#expected delivery:\n",
    "for i in range(1,len(title)):\n",
    "    if len(exp_delvry)<len(title):\n",
    "        exp_delvry.append(None)\n",
    "\n",
    "len(price),len(exp_delvry)"
   ]
  },
  {
   "cell_type": "code",
   "execution_count": 37,
   "id": "3bbd2154",
   "metadata": {},
   "outputs": [
    {
     "name": "stdout",
     "output_type": "stream",
     "text": [
      "List of Product (laptop) appears in first three pages :\n",
      "\n"
     ]
    },
    {
     "data": {
      "text/html": [
       "<div>\n",
       "<style scoped>\n",
       "    .dataframe tbody tr th:only-of-type {\n",
       "        vertical-align: middle;\n",
       "    }\n",
       "\n",
       "    .dataframe tbody tr th {\n",
       "        vertical-align: top;\n",
       "    }\n",
       "\n",
       "    .dataframe thead th {\n",
       "        text-align: right;\n",
       "    }\n",
       "</style>\n",
       "<table border=\"1\" class=\"dataframe\">\n",
       "  <thead>\n",
       "    <tr style=\"text-align: right;\">\n",
       "      <th></th>\n",
       "      <th>Name of the Product</th>\n",
       "      <th>Brand name</th>\n",
       "      <th>Price</th>\n",
       "      <th>Expected Delivery</th>\n",
       "      <th>Returns/Replacements</th>\n",
       "      <th>Product URLs</th>\n",
       "    </tr>\n",
       "  </thead>\n",
       "  <tbody>\n",
       "    <tr>\n",
       "      <th>0</th>\n",
       "      <td>LG Gram 17 Intel Evo 11th Gen i7 Thin &amp; Light ...</td>\n",
       "      <td>LG</td>\n",
       "      <td>₹92,999</td>\n",
       "      <td>-</td>\n",
       "      <td>7 Days Replacement</td>\n",
       "      <td>https://www.amazon.in/gp/slredirect/picassoRed...</td>\n",
       "    </tr>\n",
       "    <tr>\n",
       "      <th>1</th>\n",
       "      <td>LG Gram 16 inches(40cm) Intel Evo 11th Gen Cor...</td>\n",
       "      <td>LG</td>\n",
       "      <td>₹81,999</td>\n",
       "      <td>-</td>\n",
       "      <td>7 Days Replacement</td>\n",
       "      <td>https://www.amazon.in/gp/slredirect/picassoRed...</td>\n",
       "    </tr>\n",
       "    <tr>\n",
       "      <th>2</th>\n",
       "      <td>ASUS VivoBook 15 (2021), 15.6-inch (39.62 cm) ...</td>\n",
       "      <td>ASUS</td>\n",
       "      <td>₹25,990</td>\n",
       "      <td>Get it by Friday, July 29</td>\n",
       "      <td>7 Days Replacement</td>\n",
       "      <td>https://www.amazon.in/ASUS-15-6-inch-Integrate...</td>\n",
       "    </tr>\n",
       "    <tr>\n",
       "      <th>3</th>\n",
       "      <td>Lenovo IdeaPad Slim 3 Intel Celeron N4020 15.6...</td>\n",
       "      <td>Lenovo</td>\n",
       "      <td>₹27,990</td>\n",
       "      <td></td>\n",
       "      <td>7 Days Replacement</td>\n",
       "      <td>https://www.amazon.in/Lenovo-IdeaPad-Warranty-...</td>\n",
       "    </tr>\n",
       "    <tr>\n",
       "      <th>4</th>\n",
       "      <td>Dell Inspiron 3525 Laptop, AMD Athlon Silver 3...</td>\n",
       "      <td>Dell</td>\n",
       "      <td>₹30,990</td>\n",
       "      <td>Get it by tomorrow, July 27</td>\n",
       "      <td>7 Days Replacement</td>\n",
       "      <td>https://www.amazon.in/Dell-Inspiron-Graphics-A...</td>\n",
       "    </tr>\n",
       "    <tr>\n",
       "      <th>...</th>\n",
       "      <td>...</td>\n",
       "      <td>...</td>\n",
       "      <td>...</td>\n",
       "      <td>...</td>\n",
       "      <td>...</td>\n",
       "      <td>...</td>\n",
       "    </tr>\n",
       "    <tr>\n",
       "      <th>61</th>\n",
       "      <td>ASUS VivoBook 14 (2021), 14-inch (35.56 cm) FH...</td>\n",
       "      <td>ASUS</td>\n",
       "      <td>₹39,490</td>\n",
       "      <td>Get it by Friday, July 29</td>\n",
       "      <td>7 Days Replacement</td>\n",
       "      <td>https://www.amazon.in/ASUS-VivoBook-i5-1035G1-...</td>\n",
       "    </tr>\n",
       "    <tr>\n",
       "      <th>62</th>\n",
       "      <td>Lenovo IdeaPad Gaming 3 Intel Core i5 10th Gen...</td>\n",
       "      <td>Lenovo</td>\n",
       "      <td>₹35,090</td>\n",
       "      <td>Get it by tomorrow, July 27</td>\n",
       "      <td>7 Days Replacement</td>\n",
       "      <td>https://www.amazon.in/Lenovo-IdeaPad-15-6-inch...</td>\n",
       "    </tr>\n",
       "    <tr>\n",
       "      <th>63</th>\n",
       "      <td>HP Pavilion, 12th Gen Intel Core i7 16GB RAM/1...</td>\n",
       "      <td>HP</td>\n",
       "      <td>₹38,999</td>\n",
       "      <td>Get it by Sunday, July 31</td>\n",
       "      <td>7 Days Replacement</td>\n",
       "      <td>https://www.amazon.in/HP-Pavilion-Display-Grap...</td>\n",
       "    </tr>\n",
       "    <tr>\n",
       "      <th>64</th>\n",
       "      <td>Acer Swift 3 Sf314-43 Thin and Light Laptop 14...</td>\n",
       "      <td>Acer</td>\n",
       "      <td>₹39,990</td>\n",
       "      <td>None</td>\n",
       "      <td>7 Days Replacement</td>\n",
       "      <td>https://www.amazon.in/gp/slredirect/picassoRed...</td>\n",
       "    </tr>\n",
       "    <tr>\n",
       "      <th>65</th>\n",
       "      <td>HP 15s 12th Gen Intel Core i5 8GB RAM/512GB SS...</td>\n",
       "      <td>HP</td>\n",
       "      <td>₹53,490</td>\n",
       "      <td>None</td>\n",
       "      <td>7 Days Replacement</td>\n",
       "      <td>https://www.amazon.in/gp/slredirect/picassoRed...</td>\n",
       "    </tr>\n",
       "  </tbody>\n",
       "</table>\n",
       "<p>66 rows × 6 columns</p>\n",
       "</div>"
      ],
      "text/plain": [
       "                                  Name of the Product Brand name    Price  \\\n",
       "0   LG Gram 17 Intel Evo 11th Gen i7 Thin & Light ...         LG  ₹92,999   \n",
       "1   LG Gram 16 inches(40cm) Intel Evo 11th Gen Cor...         LG  ₹81,999   \n",
       "2   ASUS VivoBook 15 (2021), 15.6-inch (39.62 cm) ...       ASUS  ₹25,990   \n",
       "3   Lenovo IdeaPad Slim 3 Intel Celeron N4020 15.6...     Lenovo  ₹27,990   \n",
       "4   Dell Inspiron 3525 Laptop, AMD Athlon Silver 3...       Dell  ₹30,990   \n",
       "..                                                ...        ...      ...   \n",
       "61  ASUS VivoBook 14 (2021), 14-inch (35.56 cm) FH...       ASUS  ₹39,490   \n",
       "62  Lenovo IdeaPad Gaming 3 Intel Core i5 10th Gen...     Lenovo  ₹35,090   \n",
       "63  HP Pavilion, 12th Gen Intel Core i7 16GB RAM/1...         HP  ₹38,999   \n",
       "64  Acer Swift 3 Sf314-43 Thin and Light Laptop 14...       Acer  ₹39,990   \n",
       "65  HP 15s 12th Gen Intel Core i5 8GB RAM/512GB SS...         HP  ₹53,490   \n",
       "\n",
       "              Expected Delivery Returns/Replacements  \\\n",
       "0                             -   7 Days Replacement   \n",
       "1                             -   7 Days Replacement   \n",
       "2     Get it by Friday, July 29   7 Days Replacement   \n",
       "3                                 7 Days Replacement   \n",
       "4   Get it by tomorrow, July 27   7 Days Replacement   \n",
       "..                          ...                  ...   \n",
       "61    Get it by Friday, July 29   7 Days Replacement   \n",
       "62  Get it by tomorrow, July 27   7 Days Replacement   \n",
       "63    Get it by Sunday, July 31   7 Days Replacement   \n",
       "64                         None   7 Days Replacement   \n",
       "65                         None   7 Days Replacement   \n",
       "\n",
       "                                         Product URLs  \n",
       "0   https://www.amazon.in/gp/slredirect/picassoRed...  \n",
       "1   https://www.amazon.in/gp/slredirect/picassoRed...  \n",
       "2   https://www.amazon.in/ASUS-15-6-inch-Integrate...  \n",
       "3   https://www.amazon.in/Lenovo-IdeaPad-Warranty-...  \n",
       "4   https://www.amazon.in/Dell-Inspiron-Graphics-A...  \n",
       "..                                                ...  \n",
       "61  https://www.amazon.in/ASUS-VivoBook-i5-1035G1-...  \n",
       "62  https://www.amazon.in/Lenovo-IdeaPad-15-6-inch...  \n",
       "63  https://www.amazon.in/HP-Pavilion-Display-Grap...  \n",
       "64  https://www.amazon.in/gp/slredirect/picassoRed...  \n",
       "65  https://www.amazon.in/gp/slredirect/picassoRed...  \n",
       "\n",
       "[66 rows x 6 columns]"
      ]
     },
     "execution_count": 37,
     "metadata": {},
     "output_type": "execute_result"
    }
   ],
   "source": [
    "# Preparing data frame for the first 3 pages of the data appear in Question1 search option. and here we search laptop\n",
    "\n",
    "item_list= pd.DataFrame({'Name of the Product' :title, 'Brand name': brand_name,\n",
    "                        'Price': price, 'Expected Delivery': exp_delvry, 'Returns/Replacements':r_r,\n",
    "                        'Product URLs': p_urls})\n",
    "print(\"List of Product (laptop) appears in first three pages :\\n\")\n",
    "item_list"
   ]
  },
  {
   "cell_type": "code",
   "execution_count": 38,
   "id": "19227e3e",
   "metadata": {},
   "outputs": [],
   "source": [
    "#saving as csv\n",
    "item_list.to_csv('product_list.csv', index=False)"
   ]
  },
  {
   "cell_type": "code",
   "execution_count": null,
   "id": "0e3b18a9",
   "metadata": {},
   "outputs": [],
   "source": []
  },
  {
   "cell_type": "markdown",
   "id": "ebf5c9e5",
   "metadata": {},
   "source": [
    "Q3. Write a python program to access the search bar and search button on images.google.com and scrape 10\n",
    "images each for keywords ‘fruits’, ‘cars’ and ‘Machine Learning’, ‘Guitar’, ‘Cakes’."
   ]
  },
  {
   "cell_type": "code",
   "execution_count": 147,
   "id": "02254e77",
   "metadata": {},
   "outputs": [],
   "source": [
    "# getting the website.\n",
    "\n",
    "url='https://images.google.com/'\n",
    "driver.get(url)\n"
   ]
  },
  {
   "cell_type": "code",
   "execution_count": 148,
   "id": "5655023e",
   "metadata": {},
   "outputs": [
    {
     "data": {
      "text/plain": [
       "<selenium.webdriver.remote.webelement.WebElement (session=\"03f65fd5b88d51cc2494a4f951b25c03\", element=\"e1b947e7-cfa6-4011-bebd-936a0ebb8315\")>"
      ]
     },
     "execution_count": 148,
     "metadata": {},
     "output_type": "execute_result"
    }
   ],
   "source": [
    "# for accessing the search bar, finding search bar element.\n",
    "srch_bar_tag=driver.find_element(By.XPATH,'/html/body/div[1]/div[3]/form/div[1]/div[1]/div[1]/div/div[2]/input')\n",
    "srch_bar_tag"
   ]
  },
  {
   "cell_type": "code",
   "execution_count": 149,
   "id": "058b9e3c",
   "metadata": {},
   "outputs": [
    {
     "data": {
      "text/plain": [
       "<selenium.webdriver.remote.webelement.WebElement (session=\"03f65fd5b88d51cc2494a4f951b25c03\", element=\"05fa0bb5-31c0-4cd2-9ab7-b138aba147d8\")>"
      ]
     },
     "execution_count": 149,
     "metadata": {},
     "output_type": "execute_result"
    }
   ],
   "source": [
    "#for accessing the search icon, finding web element for search icon\n",
    "srch_icon=driver.find_element(By.XPATH,\"/html/body/div[1]/div[3]/form/div[1]/div[1]/div[1]/button\")\n",
    "srch_icon"
   ]
  },
  {
   "cell_type": "code",
   "execution_count": 150,
   "id": "3bbed3fe",
   "metadata": {},
   "outputs": [],
   "source": [
    "#sending key words, to scrape 10 images\n",
    "srch_bar_tag.send_keys(\"fruits\")"
   ]
  },
  {
   "cell_type": "code",
   "execution_count": 151,
   "id": "e97a9f2e",
   "metadata": {},
   "outputs": [],
   "source": [
    "#click on search icon\n",
    "srch_icon.click()"
   ]
  },
  {
   "cell_type": "code",
   "execution_count": 160,
   "id": "613aa871",
   "metadata": {},
   "outputs": [
    {
     "name": "stdout",
     "output_type": "stream",
     "text": [
      "Downloading 0 of 10 image\n",
      "Downloading 1 of 10 image\n",
      "Downloading 2 of 10 image\n",
      "Downloading 3 of 10 image\n",
      "Downloading 4 of 10 image\n",
      "Downloading 5 of 10 image\n",
      "Downloading 6 of 10 image\n",
      "Downloading 7 of 10 image\n",
      "Downloading 8 of 10 image\n",
      "Downloading 9 of 10 image\n",
      "Downloading 10 of 10 image\n"
     ]
    }
   ],
   "source": [
    "#Scraping and downloading for fruits\n",
    "fruit=[]\n",
    "fruit_tag=driver.find_elements(By.XPATH,'//img[@class=\"rg_i Q4LuWd\"]')\n",
    "for i in fruit_tag:\n",
    "    source= i.get_attribute('src')\n",
    "    if source is not None:\n",
    "            if(source[0:4] == 'http'):\n",
    "                fruit.append(source)\n",
    "for i in range(len(fruit)):\n",
    "    if i >10:\n",
    "        break\n",
    "    print(\"Downloading {0} of {1} image\".format(i,10))\n",
    "    response= requests.get(fruit[i])\n",
    "    file=open(r\"F:\"+ str(i)+\".jpeg\", \"wb\" )\n",
    "    file.write(response.content)"
   ]
  },
  {
   "cell_type": "code",
   "execution_count": 161,
   "id": "d770690e",
   "metadata": {},
   "outputs": [],
   "source": [
    "driver.get('https://images.google.com/')"
   ]
  },
  {
   "cell_type": "code",
   "execution_count": 162,
   "id": "217d055c",
   "metadata": {},
   "outputs": [],
   "source": [
    "srch_bar_tag= driver.find_element(By.XPATH,'/html/body/div[1]/div[3]/form/div[1]/div[1]/div[1]/div/div[2]/input')"
   ]
  },
  {
   "cell_type": "code",
   "execution_count": 163,
   "id": "2ce70de6",
   "metadata": {},
   "outputs": [],
   "source": [
    "srch_bar_tag.send_keys(\"car\")"
   ]
  },
  {
   "cell_type": "code",
   "execution_count": 164,
   "id": "ea42689b",
   "metadata": {},
   "outputs": [],
   "source": [
    "srch_icon=driver.find_element(By.XPATH,\"/html/body/div[1]/div[3]/form/div[1]/div[1]/div[1]/button\")\n",
    "srch_icon\n",
    "srch_icon.click()"
   ]
  },
  {
   "cell_type": "code",
   "execution_count": 171,
   "id": "d0811cac",
   "metadata": {},
   "outputs": [
    {
     "name": "stdout",
     "output_type": "stream",
     "text": [
      "Downloading 0 of 10 image\n",
      "Downloading 1 of 10 image\n",
      "Downloading 2 of 10 image\n",
      "Downloading 3 of 10 image\n",
      "Downloading 4 of 10 image\n",
      "Downloading 5 of 10 image\n",
      "Downloading 6 of 10 image\n",
      "Downloading 7 of 10 image\n",
      "Downloading 8 of 10 image\n",
      "Downloading 9 of 10 image\n",
      "Downloading 10 of 10 image\n"
     ]
    }
   ],
   "source": [
    "car=[]\n",
    "car_tag=driver.find_elements(By.XPATH,'//img[@class=\"rg_i Q4LuWd\"]')\n",
    "for i in car_tag:\n",
    "    source= i.get_attribute('src')\n",
    "    if source is not None:\n",
    "            if(source[0:4] == 'http'):\n",
    "                car.append(source)\n",
    "for i in range(len(car)):\n",
    "    if i >10:\n",
    "        print(\"overload\")\n",
    "        break\n",
    "    print(\"Downloading {0} of {1} image\".format(i,10))\n",
    "    response= requests.get(car[i])\n",
    "    file=open(r\"F:\"+ str(i)+\".jpeg\", \"wb\" )\n",
    "    file.write(response.content)"
   ]
  },
  {
   "cell_type": "code",
   "execution_count": 172,
   "id": "d3f44505",
   "metadata": {},
   "outputs": [],
   "source": [
    "srch_tag= driver.find_element(By.XPATH, '/html/body/c-wiz/c-wiz/div/div[3]/div[2]/div/div[1]/form/div[1]/div[2]/div/div[2]/input')"
   ]
  },
  {
   "cell_type": "code",
   "execution_count": 173,
   "id": "35d3b1eb",
   "metadata": {},
   "outputs": [],
   "source": [
    "srch_tag.clear()"
   ]
  },
  {
   "cell_type": "code",
   "execution_count": 174,
   "id": "c7729f6b",
   "metadata": {},
   "outputs": [],
   "source": [
    "srch_tag.send_keys('Machine Learning')"
   ]
  },
  {
   "cell_type": "code",
   "execution_count": 176,
   "id": "41341ec8",
   "metadata": {},
   "outputs": [],
   "source": [
    "srch_icon=driver.find_element(By.XPATH, '/html/body/c-wiz/c-wiz/div/div[3]/div[2]/div/div[1]/form/div[1]/div[2]/button')\n",
    "srch_icon.click()"
   ]
  },
  {
   "cell_type": "code",
   "execution_count": 177,
   "id": "bdb465c0",
   "metadata": {},
   "outputs": [
    {
     "name": "stdout",
     "output_type": "stream",
     "text": [
      "Downloading 0 of 10 image\n",
      "Downloading 1 of 10 image\n",
      "Downloading 2 of 10 image\n",
      "Downloading 3 of 10 image\n",
      "Downloading 4 of 10 image\n",
      "Downloading 5 of 10 image\n",
      "Downloading 6 of 10 image\n",
      "Downloading 7 of 10 image\n",
      "Downloading 8 of 10 image\n",
      "Downloading 9 of 10 image\n",
      "Downloading 10 of 10 image\n",
      "overload\n"
     ]
    }
   ],
   "source": [
    "Machine_lern=[]\n",
    "ML_tag=driver.find_elements(By.XPATH,'//img[@class=\"rg_i Q4LuWd\"]')\n",
    "for i in ML_tag:\n",
    "    source= i.get_attribute('src')\n",
    "    if source is not None:\n",
    "            if(source[0:4] == 'http'):\n",
    "                Machine_lern.append(source)\n",
    "for i in range(len(Machine_lern)):\n",
    "    if i >10:\n",
    "        print(\"overload\")\n",
    "        break\n",
    "    print(\"Downloading {0} of {1} image\".format(i,10))\n",
    "    response= requests.get(Machine_lern[i])\n",
    "    file=open(r\"F:\"+ str(i)+\".jpeg\", \"wb\" )\n",
    "    file.write(response.content)\n",
    "                "
   ]
  },
  {
   "cell_type": "code",
   "execution_count": 178,
   "id": "b0207203",
   "metadata": {},
   "outputs": [],
   "source": [
    "#‘Guitar’\n",
    "srch_tag= driver.find_element(By.XPATH, '/html/body/c-wiz/c-wiz/div/div[3]/div[2]/div/div[1]/form/div[1]/div[2]/div/div[2]/input')\n",
    "srch_tag.clear()"
   ]
  },
  {
   "cell_type": "code",
   "execution_count": 179,
   "id": "d399b9aa",
   "metadata": {},
   "outputs": [],
   "source": [
    "srch_tag.send_keys('Guitar')"
   ]
  },
  {
   "cell_type": "code",
   "execution_count": 180,
   "id": "c3376f9f",
   "metadata": {},
   "outputs": [],
   "source": [
    "srch_icon=driver.find_element(By.XPATH, '/html/body/c-wiz/c-wiz/div/div[3]/div[2]/div/div[1]/form/div[1]/div[2]/button')\n",
    "srch_icon.click()"
   ]
  },
  {
   "cell_type": "code",
   "execution_count": 181,
   "id": "d2e89c37",
   "metadata": {},
   "outputs": [
    {
     "name": "stdout",
     "output_type": "stream",
     "text": [
      "Downloading 0 of 10 image\n",
      "Downloading 1 of 10 image\n",
      "Downloading 2 of 10 image\n",
      "Downloading 3 of 10 image\n",
      "Downloading 4 of 10 image\n",
      "Downloading 5 of 10 image\n",
      "Downloading 6 of 10 image\n",
      "Downloading 7 of 10 image\n",
      "Downloading 8 of 10 image\n",
      "Downloading 9 of 10 image\n",
      "Downloading 10 of 10 image\n",
      "overload\n"
     ]
    }
   ],
   "source": [
    "guitar=[]\n",
    "g_tag=driver.find_elements(By.XPATH,'//img[@class=\"rg_i Q4LuWd\"]')\n",
    "for i in g_tag:\n",
    "    source=i.get_attribute('src')\n",
    "    if source is not None:\n",
    "            if(source[0:4] == 'http'):\n",
    "                guitar.append(source)\n",
    "for i in range(len(guitar)):\n",
    "    if i >10:\n",
    "        print(\"overload\")\n",
    "        break\n",
    "    print(\"Downloading {0} of {1} image\".format(i,10))\n",
    "    response= requests.get(guitar[i])\n",
    "    file=open(r\"F:\"+ str(i)+\".jpeg\", \"wb\" )\n",
    "    file.write(response.content)\n",
    "                \n"
   ]
  },
  {
   "cell_type": "code",
   "execution_count": 182,
   "id": "9fdda708",
   "metadata": {},
   "outputs": [],
   "source": [
    "# ‘Cakes’\n",
    "srch_tag= driver.find_element(By.XPATH, '/html/body/c-wiz/c-wiz/div/div[3]/div[2]/div/div[1]/form/div[1]/div[2]/div/div[2]/input')\n",
    "srch_tag.clear()"
   ]
  },
  {
   "cell_type": "code",
   "execution_count": 183,
   "id": "92015a98",
   "metadata": {},
   "outputs": [],
   "source": [
    "srch_tag.send_keys('Cakes')"
   ]
  },
  {
   "cell_type": "code",
   "execution_count": 184,
   "id": "061600c4",
   "metadata": {},
   "outputs": [],
   "source": [
    "srch_icon=driver.find_element(By.XPATH, '/html/body/c-wiz/c-wiz/div/div[3]/div[2]/div/div[1]/form/div[1]/div[2]/button')\n",
    "srch_icon.click()"
   ]
  },
  {
   "cell_type": "code",
   "execution_count": 201,
   "id": "9a115e7c",
   "metadata": {},
   "outputs": [
    {
     "name": "stdout",
     "output_type": "stream",
     "text": [
      "Downloading 0 of 10 image\n",
      "Downloading 1 of 10 image\n",
      "Downloading 2 of 10 image\n",
      "Downloading 3 of 10 image\n",
      "Downloading 4 of 10 image\n",
      "Downloading 5 of 10 image\n",
      "Downloading 6 of 10 image\n",
      "Downloading 7 of 10 image\n",
      "Downloading 8 of 10 image\n",
      "Downloading 9 of 10 image\n",
      "Downloading 10 of 10 image\n",
      "overload\n"
     ]
    }
   ],
   "source": [
    "cakes=[]\n",
    "cake_tag=driver.find_elements(By.XPATH,'//img[@class=\"rg_i Q4LuWd\"]')\n",
    "for i in cake_tag:\n",
    "    source=i.get_attribute('src')\n",
    "    if source is not None:\n",
    "            if(source[0:4] == 'http'):\n",
    "                cakes.append(source)\n",
    "for i in range(len(cakes)):\n",
    "    if i >10:\n",
    "        print(\"overload\")\n",
    "        break\n",
    "    print(\"Downloading {0} of {1} image\".format(i,10))\n",
    "    response= requests.get(cakes[i])\n",
    "    file=open(r\"F:\"+ str(i)+\".jpeg\", \"wb\" )\n",
    "    file.write(response.content)\n"
   ]
  },
  {
   "cell_type": "code",
   "execution_count": 198,
   "id": "839a6b32",
   "metadata": {},
   "outputs": [],
   "source": [
    "# The images of  ‘fruits’, ‘cars’ and ‘Machine Learning’, ‘Guitar’, ‘Cakes’ is been downloaded"
   ]
  },
  {
   "cell_type": "code",
   "execution_count": null,
   "id": "d0b7c48b",
   "metadata": {},
   "outputs": [],
   "source": []
  },
  {
   "cell_type": "markdown",
   "id": "f5b5d1c9",
   "metadata": {},
   "source": [
    "Q4. Write a python program to search for a smartphone(e.g.: Oneplus Nord, pixel 4A, etc.) on\n",
    "www.flipkart.com and scrape following details for all the search results displayed on 1st page. Details to be \n",
    "scraped: “Brand Name”, “Smartphone name”, “Colour”, “RAM”, “Storage(ROM)”, “Primary Camera”, \n",
    "“Secondary Camera”, “Display Size”, “Battery Capacity”, “Price”, “Product URL”. Incase if any of the \n",
    "details is missing then replace it by “- “. Save your results in a dataframe and CSV.\n"
   ]
  },
  {
   "cell_type": "code",
   "execution_count": 83,
   "id": "bd691e8a",
   "metadata": {},
   "outputs": [],
   "source": [
    "#getting the web page\n",
    "url='https://www.flipkart.com/'\n",
    "driver.get(url)"
   ]
  },
  {
   "cell_type": "code",
   "execution_count": 84,
   "id": "bd0b10e3",
   "metadata": {},
   "outputs": [
    {
     "data": {
      "text/plain": [
       "<selenium.webdriver.remote.webelement.WebElement (session=\"357ae6bfc664876961e7da3c0ffed212\", element=\"9f0bd879-012e-4568-af3b-83ebd690a63b\")>"
      ]
     },
     "execution_count": 84,
     "metadata": {},
     "output_type": "execute_result"
    }
   ],
   "source": [
    "#finding web element for search bar\n",
    "srch_tag=driver.find_element(By.XPATH,'/html/body/div[1]/div/div[1]/div[1]/div[2]/div[2]/form/div/div/input')\n",
    "srch_tag"
   ]
  },
  {
   "cell_type": "code",
   "execution_count": 85,
   "id": "86369341",
   "metadata": {},
   "outputs": [],
   "source": [
    "#writing on the search bar\n",
    "srch_tag.send_keys('Smartphones')"
   ]
  },
  {
   "cell_type": "code",
   "execution_count": 88,
   "id": "47c16c94",
   "metadata": {},
   "outputs": [],
   "source": [
    "#finding web element for search icon and click on search icon\n",
    "srch_icon=driver.find_element(By.XPATH,'/html/body/div/div/div[1]/div[1]/div[2]/div[2]/form/div/button')\n",
    "srch_icon.click()"
   ]
  },
  {
   "cell_type": "code",
   "execution_count": 89,
   "id": "571c7280",
   "metadata": {},
   "outputs": [
    {
     "data": {
      "text/plain": [
       "['Idea Smartphone (Black)',\n",
       " 'Nokia C20 Plus Smartphone (Dark Grey, 32 GB)',\n",
       " 'Nokia C20 Plus Smartphone (Ocean Blue, 32 GB)',\n",
       " 'Nokia C20 Plus Smartphone (Ocean Blue, 32 GB)',\n",
       " 'Nokia C20 Plus Smartphone (Dark Grey, 32 GB)',\n",
       " 'Ziba K5 Non Camera Smartphone (Blue, 16 GB)',\n",
       " 'POCO C31 (Royal Blue, 64 GB)',\n",
       " 'POCO C31 (Shadow Gray, 64 GB)',\n",
       " 'POCO C31 (Royal Blue, 32 GB)',\n",
       " 'REDMI 10 (Pacific Blue, 64 GB)',\n",
       " 'REDMI 9i Sport (Coral Green, 64 GB)',\n",
       " 'SAMSUNG Galaxy F13 (Nightsky Green, 64 GB)',\n",
       " 'REDMI 9i Sport (Carbon Black, 64 GB)',\n",
       " 'REDMI 9i Sport (Metallic Blue, 64 GB)',\n",
       " 'REDMI 10 (Midnight Black, 64 GB)',\n",
       " 'Infinix HOT 12 Play (Racing Black, 64 GB)',\n",
       " 'Infinix HOT 12 Play (Daylight Green, 64 GB)',\n",
       " 'Infinix HOT 12 Play (Horizon Blue, 64 GB)',\n",
       " 'SAMSUNG Galaxy F13 (Sunrise Copper, 64 GB)',\n",
       " 'realme Narzo 50i (Carbon Black, 32 GB)',\n",
       " 'realme Narzo 50i (Mint Green, 32 GB)',\n",
       " 'REDMI 10 (Caribbean Green, 64 GB)',\n",
       " 'POCO M4 5G (Cool Blue, 64 GB)',\n",
       " 'SAMSUNG Galaxy F13 (Waterfall Blue, 64 GB)']"
      ]
     },
     "execution_count": 89,
     "metadata": {},
     "output_type": "execute_result"
    }
   ],
   "source": [
    "#scraping title of product, from were other features can be scraped.\n",
    "title=[]\n",
    "t_tag=driver.find_elements(By.CLASS_NAME, \"_4rR01T\")\n",
    "for i in t_tag:\n",
    "    title.append(i.text)\n",
    "title"
   ]
  },
  {
   "cell_type": "code",
   "execution_count": 109,
   "id": "5d4eff39",
   "metadata": {},
   "outputs": [
    {
     "data": {
      "text/plain": [
       "(24, 24, 24)"
      ]
     },
     "execution_count": 109,
     "metadata": {},
     "output_type": "execute_result"
    }
   ],
   "source": [
    "# scraping brand name, smartphone name, color from the above web element scraped\n",
    "brand_name=[]\n",
    "smrt_ph_name=[]\n",
    "color=[]\n",
    "ram=['-']\n",
    "for i in t_tag:\n",
    "    brand_name.append((i.text).split()[0])\n",
    "    smrt_ph_name.append((i.text).split('(')[0])\n",
    "    color.append(((i.text).split('(')[1]).split(',')[0])\n",
    "    \n",
    "\n",
    "len(brand_name),len(smrt_ph_name), len(color)\n",
    "    "
   ]
  },
  {
   "cell_type": "code",
   "execution_count": 113,
   "id": "a14cc141",
   "metadata": {},
   "outputs": [],
   "source": [
    "#scraping RAM feature of product\n",
    "ram=['-']\n",
    "for i in t_tag[1:]:\n",
    "    ram.append(((i.text).split('(')[1]).split(',')[1].replace(')',' '))\n",
    "#len(ram)\n"
   ]
  },
  {
   "cell_type": "code",
   "execution_count": 116,
   "id": "3ba99036",
   "metadata": {},
   "outputs": [
    {
     "data": {
      "text/plain": [
       "[['Expandable Upto 32 GB',\n",
       "  '8.13 cm (3.2 inch) HVGA Display',\n",
       "  '3.2MP Rear Camera',\n",
       "  '1300 mAh Li-Ion Battery',\n",
       "  '1 Year for Mobile & 6 Months for Accessories'],\n",
       " ['2 GB RAM | 32 GB ROM',\n",
       "  '16.51 cm (6.5 inch) HD+ Display',\n",
       "  '8MP + 2MP | 5MP Front Camera',\n",
       "  '5000 mAh Li-ion Battery',\n",
       "  'Unisoc SC9863A Processor',\n",
       "  '1 year replacement guarantee',\n",
       "  'Jio Exclusive up to 10% price support. Jio customers can also get additional benefits worth ?4000',\n",
       "  'V-notch screen',\n",
       "  'LED flash',\n",
       "  'expandable up to 128GB',\n",
       "  'up to 2-days battery life with a 5000 mAh battery',\n",
       "  'Android 11 Go Edition with 2 years of quarterly security updates',\n",
       "  '1 Year Manufacturer Warranty For Device and Battery and 6 Months Manufacturer Warranty for In-box Accessories From the Date of Purchase'],\n",
       " ['2 GB RAM | 32 GB ROM',\n",
       "  '16.51 cm (6.5 inch) HD+ Display',\n",
       "  '8MP + 2MP | 5MP Front Camera',\n",
       "  '5000 mAh Li-ion Battery',\n",
       "  'Unisoc SC9863A Processor',\n",
       "  '1 year replacement guarantee',\n",
       "  'Jio Exclusive up to 10% price support. Jio customers can also get additional benefits worth ?4000',\n",
       "  'V-notch screen',\n",
       "  'LED flash',\n",
       "  'expandable up to 128GB',\n",
       "  'up to 2-days battery life with a 5000 mAh battery',\n",
       "  'Android 11 Go Edition with 2 years of quarterly security updates',\n",
       "  '1 Year Manufacturer Warranty For Device and Battery and 6 Months Manufacturer Warranty for In-box Accessories From the Date of Purchase'],\n",
       " ['3 GB RAM | 32 GB ROM',\n",
       "  '16.51 cm (6.5 inch) HD+ Display',\n",
       "  '8MP + 2MP | 5MP Front Camera',\n",
       "  '4950 mAh Li-ion Battery',\n",
       "  'Unisoc SC9863A Processor',\n",
       "  '1 year replacement guarantee',\n",
       "  'Jio Exclusive up to 10% price support. Jio customers can also get additional benefits worth ?4000',\n",
       "  'V-notch screen',\n",
       "  'LED flash',\n",
       "  'expandable up to 128GB',\n",
       "  'up to 2-days battery life with a 5000 mAh battery',\n",
       "  'Android 11 Go Edition with 2 years of quarterly security updates',\n",
       "  '1 Year Manufacturer Warranty For Device and Battery and 6 Months Manufacturer Warranty for In-box Accessories From the Date of Purchase'],\n",
       " ['3 GB RAM | 32 GB ROM',\n",
       "  '16.51 cm (6.5 inch) HD+ Display',\n",
       "  '8MP + 2MP | 5MP Front Camera',\n",
       "  '5000 mAh Li-ion Battery',\n",
       "  'Unisoc SC9863A Processor',\n",
       "  '1 year replacement guarantee',\n",
       "  'Jio Exclusive up to 10% price support. Jio customers can also get additional benefits worth ?4000',\n",
       "  'V-notch screen',\n",
       "  'LED flash',\n",
       "  'expandable up to 128GB',\n",
       "  'up to 2-days battery life with a 5000 mAh battery',\n",
       "  'Android 11 Go Edition with 2 years of quarterly security updates',\n",
       "  '1 Year Manufacturer Warranty For Device and Battery and 6 Months Manufacturer Warranty for In-box Accessories From the Date of Purchase'],\n",
       " ['2 GB RAM | 16 GB ROM',\n",
       "  '13.97 cm (5.5 inch) Display',\n",
       "  '3000 mAh Battery',\n",
       "  '6 Months Manufacturer'],\n",
       " ['4 GB RAM | 64 GB ROM | Expandable Upto 512 GB',\n",
       "  '16.59 cm (6.53 inch) HD+ Display',\n",
       "  '13MP + 2MP + 2MP | 5MP Front Camera',\n",
       "  '5000 mAh Lithium-ion Polymer Battery',\n",
       "  'MediaTek Helio G35 Processor',\n",
       "  '1 Year Warranty for Handset, 6 Months for Accessories'],\n",
       " ['4 GB RAM | 64 GB ROM | Expandable Upto 512 GB',\n",
       "  '16.59 cm (6.53 inch) HD+ Display',\n",
       "  '13MP + 2MP + 2MP | 5MP Front Camera',\n",
       "  '5000 mAh Lithium-ion Polymer Battery',\n",
       "  'MediaTek Helio G35 Processor',\n",
       "  '1 Year Warranty for Handset, 6 Months for Accessories'],\n",
       " ['3 GB RAM | 32 GB ROM | Expandable Upto 512 GB',\n",
       "  '16.59 cm (6.53 inch) HD+ Display',\n",
       "  '13MP + 2MP + 2MP | 5MP Front Camera',\n",
       "  '5000 mAh Lithium-ion Polymer Battery',\n",
       "  'MediaTek Helio G35 Processor',\n",
       "  '1 Year Warranty for Handset, 6 Months for Accessories'],\n",
       " ['4 GB RAM | 64 GB ROM | Expandable Upto 1 TB',\n",
       "  '17.02 cm (6.7 inch) HD+ Display',\n",
       "  '50MP + 2MP | 5MP Front Camera',\n",
       "  '6000 mAh Lithium Polymer Battery',\n",
       "  'Qualcomm Snapdragon 680 Processor',\n",
       "  '1 Year Warranty for Phone and 6 Months Warranty for In-Box Accessories'],\n",
       " ['4 GB RAM | 64 GB ROM | Expandable Upto 512 GB',\n",
       "  '16.59 cm (6.53 inch) HD+ Display',\n",
       "  '13MP Rear Camera | 5MP Front Camera',\n",
       "  '5000 mAh Li-Polymer Battery',\n",
       "  'MediaTek Helio G25 Processor',\n",
       "  'Brand Warranty of 1 Year Available for Mobile and 6 Months for Accessories'],\n",
       " ['4 GB RAM | 64 GB ROM | Expandable Upto 1 TB',\n",
       "  '16.76 cm (6.6 inch) Full HD+ Display',\n",
       "  '50MP + 5MP + 2MP | 8MP Front Camera',\n",
       "  '6000 mAh Lithium Ion Battery',\n",
       "  'Exynos 850 Processor',\n",
       "  '1 Year Warranty Provided By the Manufacturer from Date of Purchase'],\n",
       " ['4 GB RAM | 64 GB ROM | Expandable Upto 512 GB',\n",
       "  '16.59 cm (6.53 inch) HD+ Display',\n",
       "  '13MP Rear Camera | 5MP Front Camera',\n",
       "  '5000 mAh Li-Polymer Battery',\n",
       "  'MediaTek Helio G25 Processor',\n",
       "  'Brand Warranty of 1 Year Available for Mobile and 6 Months for Accessories'],\n",
       " ['4 GB RAM | 64 GB ROM | Expandable Upto 512 GB',\n",
       "  '16.59 cm (6.53 inch) HD+ Display',\n",
       "  '13MP Rear Camera | 5MP Front Camera',\n",
       "  '5000 mAh Li-Polymer Battery',\n",
       "  'MediaTek Helio G25 Processor',\n",
       "  'Brand Warranty of 1 Year Available for Mobile and 6 Months for Accessories'],\n",
       " ['4 GB RAM | 64 GB ROM | Expandable Upto 1 TB',\n",
       "  '17.02 cm (6.7 inch) HD+ Display',\n",
       "  '50MP + 2MP | 5MP Front Camera',\n",
       "  '6000 mAh Lithium Polymer Battery',\n",
       "  'Qualcomm Snapdragon 680 Processor',\n",
       "  '1 Year Warranty for Phone and 6 Months Warranty for In-Box Accessories'],\n",
       " ['4 GB RAM | 64 GB ROM | Expandable Upto 256 GB',\n",
       "  '17.32 cm (6.82 inch) HD+ Display',\n",
       "  '13MP + Depth Lens | 8MP Front Camera',\n",
       "  '6000 mAh Li-ion Polymer Battery',\n",
       "  'Unisoc T610 Processor',\n",
       "  '1 Year on Handset And 6 Months on Accessories'],\n",
       " ['4 GB RAM | 64 GB ROM | Expandable Upto 256 GB',\n",
       "  '17.32 cm (6.82 inch) HD+ Display',\n",
       "  '13MP + Depth Lens | 8MP Front Camera',\n",
       "  '6000 mAh Li-ion Polymer Battery',\n",
       "  'Unisoc T610 Processor',\n",
       "  '1 Year on Handset And 6 Months on Accessories'],\n",
       " ['4 GB RAM | 64 GB ROM | Expandable Upto 256 GB',\n",
       "  '17.32 cm (6.82 inch) HD+ Display',\n",
       "  '13MP + Depth Lens | 8MP Front Camera',\n",
       "  '6000 mAh Li-ion Polymer Battery',\n",
       "  'Unisoc T610 Processor',\n",
       "  '1 Year on Handset And 6 Months on Accessories'],\n",
       " ['4 GB RAM | 64 GB ROM | Expandable Upto 1 TB',\n",
       "  '16.76 cm (6.6 inch) Full HD+ Display',\n",
       "  '50MP + 5MP + 2MP | 8MP Front Camera',\n",
       "  '6000 mAh Lithium Ion Battery',\n",
       "  'Exynos 850 Processor',\n",
       "  '1 Year Warranty Provided By the Manufacturer from Date of Purchase'],\n",
       " ['2 GB RAM | 32 GB ROM | Expandable Upto 256 GB',\n",
       "  '16.51 cm (6.5 inch) Display',\n",
       "  '8MP Rear Camera | 5MP Front Camera',\n",
       "  '5000 mAh Battery',\n",
       "  'SC9863A Processor',\n",
       "  '1 Year Warranty for Mobile and 6 Months for Accessories'],\n",
       " ['2 GB RAM | 32 GB ROM | Expandable Upto 256 GB',\n",
       "  '16.51 cm (6.5 inch) Display',\n",
       "  '8MP Rear Camera | 5MP Front Camera',\n",
       "  '5000 mAh Battery',\n",
       "  'SC9863A Processor',\n",
       "  '1 Year Warranty for Mobile and 6 Months for Accessories'],\n",
       " ['4 GB RAM | 64 GB ROM | Expandable Upto 1 TB',\n",
       "  '17.02 cm (6.7 inch) HD+ Display',\n",
       "  '50MP + 2MP | 5MP Front Camera',\n",
       "  '6000 mAh Lithium Polymer Battery',\n",
       "  'Qualcomm Snapdragon 680 Processor',\n",
       "  '1 Year Warranty for Phone and 6 Months Warranty for In-Box Accessories'],\n",
       " ['4 GB RAM | 64 GB ROM | Expandable Upto 512 GB',\n",
       "  '16.71 cm (6.58 inch) Full HD+ Display',\n",
       "  '50MP + 2MP | 8MP Front Camera',\n",
       "  '5000 mAh Lithium Ion Polymer Battery',\n",
       "  'Mediatek Dimensity 700 Processor',\n",
       "  '1 Year Warranty for Handset and 6 Months for Accessories'],\n",
       " ['4 GB RAM | 64 GB ROM | Expandable Upto 1 TB',\n",
       "  '16.76 cm (6.6 inch) Full HD+ Display',\n",
       "  '50MP + 5MP + 2MP | 8MP Front Camera',\n",
       "  '6000 mAh Lithium Ion Battery',\n",
       "  'Exynos 850 Processor',\n",
       "  '1 Year Warranty Provided By the Manufacturer from Date of Purchase']]"
      ]
     },
     "execution_count": 116,
     "metadata": {},
     "output_type": "execute_result"
    }
   ],
   "source": [
    "#scraping base description of product, from where required features description can be scraped \n",
    "des=[]\n",
    "des_tag=driver.find_elements(By.CLASS_NAME, \"fMghEO\")\n",
    "for i in des_tag:\n",
    "    des.append((i.text).split('\\n'))\n",
    "des"
   ]
  },
  {
   "cell_type": "code",
   "execution_count": 156,
   "id": "d510d9fc",
   "metadata": {},
   "outputs": [
    {
     "data": {
      "text/plain": [
       "(24, 24, 24, 24)"
      ]
     },
     "execution_count": 156,
     "metadata": {},
     "output_type": "execute_result"
    }
   ],
   "source": [
    "#scraping ROM,DISPLAY, Primary camera, battery capacity features of product\n",
    "rom=[]\n",
    "display=[]\n",
    "prim_camera=[]\n",
    "btry_cap=[]\n",
    "for i in des_tag:\n",
    "    rom.append((i.text).split('\\n')[0])\n",
    "    display.append((i.text).split('\\n')[1])\n",
    "    prim_camera.append((((i.text).split('\\n')[2]).split('|')[0]).replace('3000 mAh Battery','-'))\n",
    "    btry_cap.append(((i.text).split('\\n')[3]).replace('6 Months Manufacturer','3000 mAh Battery'))\n",
    "len(rom),len(display), len(prim_camera), len(btry_cap)   "
   ]
  },
  {
   "cell_type": "code",
   "execution_count": 157,
   "id": "bd4ffde8",
   "metadata": {},
   "outputs": [
    {
     "data": {
      "text/plain": [
       "24"
      ]
     },
     "execution_count": 157,
     "metadata": {},
     "output_type": "execute_result"
    }
   ],
   "source": [
    "#scraping secondary camera feature of product\n",
    "sec_camera=['-']\n",
    "for i in des_tag[1:5]:\n",
    "    sec_camera.append(((i.text).split('\\n')[2]).split('|')[1])\n",
    "sec_camera.append('-')\n",
    "for i in des_tag[6:]:\n",
    "    sec_camera.append(((i.text).split('\\n')[2]).split('|')[1])\n",
    "len(sec_camera)"
   ]
  },
  {
   "cell_type": "code",
   "execution_count": 160,
   "id": "faa735e8",
   "metadata": {},
   "outputs": [
    {
     "data": {
      "text/plain": [
       "24"
      ]
     },
     "execution_count": 160,
     "metadata": {},
     "output_type": "execute_result"
    }
   ],
   "source": [
    "#scraping price of product\n",
    "price=[]\n",
    "price_tag=driver.find_elements(By.XPATH,'//div[@class=\"_30jeq3 _1_WHN1\"]')\n",
    "for i in price_tag:\n",
    "    price.append(i.text)\n",
    "price\n",
    "len(price)"
   ]
  },
  {
   "cell_type": "code",
   "execution_count": 163,
   "id": "ff216f07",
   "metadata": {},
   "outputs": [
    {
     "data": {
      "text/plain": [
       "24"
      ]
     },
     "execution_count": 163,
     "metadata": {},
     "output_type": "execute_result"
    }
   ],
   "source": [
    "#scraping urls of product\n",
    "p_urls=[]\n",
    "p_url_tag=driver.find_elements(By.XPATH,'//a[@class=\"_1fQZEK\"]')\n",
    "for i in p_url_tag:\n",
    "    p_urls.append(i.get_attribute('href'))\n",
    "p_urls\n",
    "len(p_urls)"
   ]
  },
  {
   "cell_type": "code",
   "execution_count": 164,
   "id": "d94f142b",
   "metadata": {},
   "outputs": [
    {
     "name": "stdout",
     "output_type": "stream",
     "text": [
      "Page 1 entry of smartphones in flipkart.com \n",
      "\n"
     ]
    },
    {
     "data": {
      "text/html": [
       "<div>\n",
       "<style scoped>\n",
       "    .dataframe tbody tr th:only-of-type {\n",
       "        vertical-align: middle;\n",
       "    }\n",
       "\n",
       "    .dataframe tbody tr th {\n",
       "        vertical-align: top;\n",
       "    }\n",
       "\n",
       "    .dataframe thead th {\n",
       "        text-align: right;\n",
       "    }\n",
       "</style>\n",
       "<table border=\"1\" class=\"dataframe\">\n",
       "  <thead>\n",
       "    <tr style=\"text-align: right;\">\n",
       "      <th></th>\n",
       "      <th>Brand Name</th>\n",
       "      <th>Smartphone name</th>\n",
       "      <th>Colour</th>\n",
       "      <th>RAM</th>\n",
       "      <th>Storage(ROM)</th>\n",
       "      <th>Primary Camera</th>\n",
       "      <th>Secondary Camera</th>\n",
       "      <th>Display Size</th>\n",
       "      <th>Battery Capacity</th>\n",
       "      <th>Price</th>\n",
       "      <th>Product URL</th>\n",
       "    </tr>\n",
       "  </thead>\n",
       "  <tbody>\n",
       "    <tr>\n",
       "      <th>0</th>\n",
       "      <td>Idea</td>\n",
       "      <td>Idea Smartphone</td>\n",
       "      <td>Black)</td>\n",
       "      <td>-</td>\n",
       "      <td>Expandable Upto 32 GB</td>\n",
       "      <td>3.2MP Rear Camera</td>\n",
       "      <td>-</td>\n",
       "      <td>8.13 cm (3.2 inch) HVGA Display</td>\n",
       "      <td>1300 mAh Li-Ion Battery</td>\n",
       "      <td>₹6,999</td>\n",
       "      <td>https://www.flipkart.com/idea-smartphone-black...</td>\n",
       "    </tr>\n",
       "    <tr>\n",
       "      <th>1</th>\n",
       "      <td>Nokia</td>\n",
       "      <td>Nokia C20 Plus Smartphone</td>\n",
       "      <td>Dark Grey</td>\n",
       "      <td>32 GB</td>\n",
       "      <td>2 GB RAM | 32 GB ROM</td>\n",
       "      <td>8MP + 2MP</td>\n",
       "      <td>5MP Front Camera</td>\n",
       "      <td>16.51 cm (6.5 inch) HD+ Display</td>\n",
       "      <td>5000 mAh Li-ion Battery</td>\n",
       "      <td>₹8,999</td>\n",
       "      <td>https://www.flipkart.com/nokia-c20-plus-smartp...</td>\n",
       "    </tr>\n",
       "    <tr>\n",
       "      <th>2</th>\n",
       "      <td>Nokia</td>\n",
       "      <td>Nokia C20 Plus Smartphone</td>\n",
       "      <td>Ocean Blue</td>\n",
       "      <td>32 GB</td>\n",
       "      <td>2 GB RAM | 32 GB ROM</td>\n",
       "      <td>8MP + 2MP</td>\n",
       "      <td>5MP Front Camera</td>\n",
       "      <td>16.51 cm (6.5 inch) HD+ Display</td>\n",
       "      <td>5000 mAh Li-ion Battery</td>\n",
       "      <td>₹8,999</td>\n",
       "      <td>https://www.flipkart.com/nokia-c20-plus-smartp...</td>\n",
       "    </tr>\n",
       "    <tr>\n",
       "      <th>3</th>\n",
       "      <td>Nokia</td>\n",
       "      <td>Nokia C20 Plus Smartphone</td>\n",
       "      <td>Ocean Blue</td>\n",
       "      <td>32 GB</td>\n",
       "      <td>3 GB RAM | 32 GB ROM</td>\n",
       "      <td>8MP + 2MP</td>\n",
       "      <td>5MP Front Camera</td>\n",
       "      <td>16.51 cm (6.5 inch) HD+ Display</td>\n",
       "      <td>4950 mAh Li-ion Battery</td>\n",
       "      <td>₹8,999</td>\n",
       "      <td>https://www.flipkart.com/nokia-c20-plus-smartp...</td>\n",
       "    </tr>\n",
       "    <tr>\n",
       "      <th>4</th>\n",
       "      <td>Nokia</td>\n",
       "      <td>Nokia C20 Plus Smartphone</td>\n",
       "      <td>Dark Grey</td>\n",
       "      <td>32 GB</td>\n",
       "      <td>3 GB RAM | 32 GB ROM</td>\n",
       "      <td>8MP + 2MP</td>\n",
       "      <td>5MP Front Camera</td>\n",
       "      <td>16.51 cm (6.5 inch) HD+ Display</td>\n",
       "      <td>5000 mAh Li-ion Battery</td>\n",
       "      <td>₹8,999</td>\n",
       "      <td>https://www.flipkart.com/nokia-c20-plus-smartp...</td>\n",
       "    </tr>\n",
       "    <tr>\n",
       "      <th>5</th>\n",
       "      <td>Ziba</td>\n",
       "      <td>Ziba K5 Non Camera Smartphone</td>\n",
       "      <td>Blue</td>\n",
       "      <td>16 GB</td>\n",
       "      <td>2 GB RAM | 16 GB ROM</td>\n",
       "      <td>-</td>\n",
       "      <td>-</td>\n",
       "      <td>13.97 cm (5.5 inch) Display</td>\n",
       "      <td>3000 mAh Battery</td>\n",
       "      <td>₹4,500</td>\n",
       "      <td>https://www.flipkart.com/ziba-k5-non-camera-sm...</td>\n",
       "    </tr>\n",
       "    <tr>\n",
       "      <th>6</th>\n",
       "      <td>POCO</td>\n",
       "      <td>POCO C31</td>\n",
       "      <td>Royal Blue</td>\n",
       "      <td>64 GB</td>\n",
       "      <td>4 GB RAM | 64 GB ROM | Expandable Upto 512 GB</td>\n",
       "      <td>13MP + 2MP + 2MP</td>\n",
       "      <td>5MP Front Camera</td>\n",
       "      <td>16.59 cm (6.53 inch) HD+ Display</td>\n",
       "      <td>5000 mAh Lithium-ion Polymer Battery</td>\n",
       "      <td>₹7,999</td>\n",
       "      <td>https://www.flipkart.com/poco-c31-royal-blue-6...</td>\n",
       "    </tr>\n",
       "    <tr>\n",
       "      <th>7</th>\n",
       "      <td>POCO</td>\n",
       "      <td>POCO C31</td>\n",
       "      <td>Shadow Gray</td>\n",
       "      <td>64 GB</td>\n",
       "      <td>4 GB RAM | 64 GB ROM | Expandable Upto 512 GB</td>\n",
       "      <td>13MP + 2MP + 2MP</td>\n",
       "      <td>5MP Front Camera</td>\n",
       "      <td>16.59 cm (6.53 inch) HD+ Display</td>\n",
       "      <td>5000 mAh Lithium-ion Polymer Battery</td>\n",
       "      <td>₹7,999</td>\n",
       "      <td>https://www.flipkart.com/poco-c31-shadow-gray-...</td>\n",
       "    </tr>\n",
       "    <tr>\n",
       "      <th>8</th>\n",
       "      <td>POCO</td>\n",
       "      <td>POCO C31</td>\n",
       "      <td>Royal Blue</td>\n",
       "      <td>32 GB</td>\n",
       "      <td>3 GB RAM | 32 GB ROM | Expandable Upto 512 GB</td>\n",
       "      <td>13MP + 2MP + 2MP</td>\n",
       "      <td>5MP Front Camera</td>\n",
       "      <td>16.59 cm (6.53 inch) HD+ Display</td>\n",
       "      <td>5000 mAh Lithium-ion Polymer Battery</td>\n",
       "      <td>₹6,999</td>\n",
       "      <td>https://www.flipkart.com/poco-c31-royal-blue-3...</td>\n",
       "    </tr>\n",
       "    <tr>\n",
       "      <th>9</th>\n",
       "      <td>REDMI</td>\n",
       "      <td>REDMI 10</td>\n",
       "      <td>Pacific Blue</td>\n",
       "      <td>64 GB</td>\n",
       "      <td>4 GB RAM | 64 GB ROM | Expandable Upto 1 TB</td>\n",
       "      <td>50MP + 2MP</td>\n",
       "      <td>5MP Front Camera</td>\n",
       "      <td>17.02 cm (6.7 inch) HD+ Display</td>\n",
       "      <td>6000 mAh Lithium Polymer Battery</td>\n",
       "      <td>₹10,999</td>\n",
       "      <td>https://www.flipkart.com/redmi-10-pacific-blue...</td>\n",
       "    </tr>\n",
       "    <tr>\n",
       "      <th>10</th>\n",
       "      <td>REDMI</td>\n",
       "      <td>REDMI 9i Sport</td>\n",
       "      <td>Coral Green</td>\n",
       "      <td>64 GB</td>\n",
       "      <td>4 GB RAM | 64 GB ROM | Expandable Upto 512 GB</td>\n",
       "      <td>13MP Rear Camera</td>\n",
       "      <td>5MP Front Camera</td>\n",
       "      <td>16.59 cm (6.53 inch) HD+ Display</td>\n",
       "      <td>5000 mAh Li-Polymer Battery</td>\n",
       "      <td>₹8,799</td>\n",
       "      <td>https://www.flipkart.com/redmi-9i-sport-coral-...</td>\n",
       "    </tr>\n",
       "    <tr>\n",
       "      <th>11</th>\n",
       "      <td>SAMSUNG</td>\n",
       "      <td>SAMSUNG Galaxy F13</td>\n",
       "      <td>Nightsky Green</td>\n",
       "      <td>64 GB</td>\n",
       "      <td>4 GB RAM | 64 GB ROM | Expandable Upto 1 TB</td>\n",
       "      <td>50MP + 5MP + 2MP</td>\n",
       "      <td>8MP Front Camera</td>\n",
       "      <td>16.76 cm (6.6 inch) Full HD+ Display</td>\n",
       "      <td>6000 mAh Lithium Ion Battery</td>\n",
       "      <td>₹11,999</td>\n",
       "      <td>https://www.flipkart.com/samsung-galaxy-f13-ni...</td>\n",
       "    </tr>\n",
       "    <tr>\n",
       "      <th>12</th>\n",
       "      <td>REDMI</td>\n",
       "      <td>REDMI 9i Sport</td>\n",
       "      <td>Carbon Black</td>\n",
       "      <td>64 GB</td>\n",
       "      <td>4 GB RAM | 64 GB ROM | Expandable Upto 512 GB</td>\n",
       "      <td>13MP Rear Camera</td>\n",
       "      <td>5MP Front Camera</td>\n",
       "      <td>16.59 cm (6.53 inch) HD+ Display</td>\n",
       "      <td>5000 mAh Li-Polymer Battery</td>\n",
       "      <td>₹8,799</td>\n",
       "      <td>https://www.flipkart.com/redmi-9i-sport-carbon...</td>\n",
       "    </tr>\n",
       "    <tr>\n",
       "      <th>13</th>\n",
       "      <td>REDMI</td>\n",
       "      <td>REDMI 9i Sport</td>\n",
       "      <td>Metallic Blue</td>\n",
       "      <td>64 GB</td>\n",
       "      <td>4 GB RAM | 64 GB ROM | Expandable Upto 512 GB</td>\n",
       "      <td>13MP Rear Camera</td>\n",
       "      <td>5MP Front Camera</td>\n",
       "      <td>16.59 cm (6.53 inch) HD+ Display</td>\n",
       "      <td>5000 mAh Li-Polymer Battery</td>\n",
       "      <td>₹8,799</td>\n",
       "      <td>https://www.flipkart.com/redmi-9i-sport-metall...</td>\n",
       "    </tr>\n",
       "    <tr>\n",
       "      <th>14</th>\n",
       "      <td>REDMI</td>\n",
       "      <td>REDMI 10</td>\n",
       "      <td>Midnight Black</td>\n",
       "      <td>64 GB</td>\n",
       "      <td>4 GB RAM | 64 GB ROM | Expandable Upto 1 TB</td>\n",
       "      <td>50MP + 2MP</td>\n",
       "      <td>5MP Front Camera</td>\n",
       "      <td>17.02 cm (6.7 inch) HD+ Display</td>\n",
       "      <td>6000 mAh Lithium Polymer Battery</td>\n",
       "      <td>₹10,999</td>\n",
       "      <td>https://www.flipkart.com/redmi-10-midnight-bla...</td>\n",
       "    </tr>\n",
       "    <tr>\n",
       "      <th>15</th>\n",
       "      <td>Infinix</td>\n",
       "      <td>Infinix HOT 12 Play</td>\n",
       "      <td>Racing Black</td>\n",
       "      <td>64 GB</td>\n",
       "      <td>4 GB RAM | 64 GB ROM | Expandable Upto 256 GB</td>\n",
       "      <td>13MP + Depth Lens</td>\n",
       "      <td>8MP Front Camera</td>\n",
       "      <td>17.32 cm (6.82 inch) HD+ Display</td>\n",
       "      <td>6000 mAh Li-ion Polymer Battery</td>\n",
       "      <td>₹8,499</td>\n",
       "      <td>https://www.flipkart.com/infinix-hot-12-play-r...</td>\n",
       "    </tr>\n",
       "    <tr>\n",
       "      <th>16</th>\n",
       "      <td>Infinix</td>\n",
       "      <td>Infinix HOT 12 Play</td>\n",
       "      <td>Daylight Green</td>\n",
       "      <td>64 GB</td>\n",
       "      <td>4 GB RAM | 64 GB ROM | Expandable Upto 256 GB</td>\n",
       "      <td>13MP + Depth Lens</td>\n",
       "      <td>8MP Front Camera</td>\n",
       "      <td>17.32 cm (6.82 inch) HD+ Display</td>\n",
       "      <td>6000 mAh Li-ion Polymer Battery</td>\n",
       "      <td>₹8,499</td>\n",
       "      <td>https://www.flipkart.com/infinix-hot-12-play-d...</td>\n",
       "    </tr>\n",
       "    <tr>\n",
       "      <th>17</th>\n",
       "      <td>Infinix</td>\n",
       "      <td>Infinix HOT 12 Play</td>\n",
       "      <td>Horizon Blue</td>\n",
       "      <td>64 GB</td>\n",
       "      <td>4 GB RAM | 64 GB ROM | Expandable Upto 256 GB</td>\n",
       "      <td>13MP + Depth Lens</td>\n",
       "      <td>8MP Front Camera</td>\n",
       "      <td>17.32 cm (6.82 inch) HD+ Display</td>\n",
       "      <td>6000 mAh Li-ion Polymer Battery</td>\n",
       "      <td>₹8,499</td>\n",
       "      <td>https://www.flipkart.com/infinix-hot-12-play-h...</td>\n",
       "    </tr>\n",
       "    <tr>\n",
       "      <th>18</th>\n",
       "      <td>SAMSUNG</td>\n",
       "      <td>SAMSUNG Galaxy F13</td>\n",
       "      <td>Sunrise Copper</td>\n",
       "      <td>64 GB</td>\n",
       "      <td>4 GB RAM | 64 GB ROM | Expandable Upto 1 TB</td>\n",
       "      <td>50MP + 5MP + 2MP</td>\n",
       "      <td>8MP Front Camera</td>\n",
       "      <td>16.76 cm (6.6 inch) Full HD+ Display</td>\n",
       "      <td>6000 mAh Lithium Ion Battery</td>\n",
       "      <td>₹11,999</td>\n",
       "      <td>https://www.flipkart.com/samsung-galaxy-f13-su...</td>\n",
       "    </tr>\n",
       "    <tr>\n",
       "      <th>19</th>\n",
       "      <td>realme</td>\n",
       "      <td>realme Narzo 50i</td>\n",
       "      <td>Carbon Black</td>\n",
       "      <td>32 GB</td>\n",
       "      <td>2 GB RAM | 32 GB ROM | Expandable Upto 256 GB</td>\n",
       "      <td>8MP Rear Camera</td>\n",
       "      <td>5MP Front Camera</td>\n",
       "      <td>16.51 cm (6.5 inch) Display</td>\n",
       "      <td>5000 mAh Battery</td>\n",
       "      <td>₹7,499</td>\n",
       "      <td>https://www.flipkart.com/realme-narzo-50i-carb...</td>\n",
       "    </tr>\n",
       "    <tr>\n",
       "      <th>20</th>\n",
       "      <td>realme</td>\n",
       "      <td>realme Narzo 50i</td>\n",
       "      <td>Mint Green</td>\n",
       "      <td>32 GB</td>\n",
       "      <td>2 GB RAM | 32 GB ROM | Expandable Upto 256 GB</td>\n",
       "      <td>8MP Rear Camera</td>\n",
       "      <td>5MP Front Camera</td>\n",
       "      <td>16.51 cm (6.5 inch) Display</td>\n",
       "      <td>5000 mAh Battery</td>\n",
       "      <td>₹7,499</td>\n",
       "      <td>https://www.flipkart.com/realme-narzo-50i-mint...</td>\n",
       "    </tr>\n",
       "    <tr>\n",
       "      <th>21</th>\n",
       "      <td>REDMI</td>\n",
       "      <td>REDMI 10</td>\n",
       "      <td>Caribbean Green</td>\n",
       "      <td>64 GB</td>\n",
       "      <td>4 GB RAM | 64 GB ROM | Expandable Upto 1 TB</td>\n",
       "      <td>50MP + 2MP</td>\n",
       "      <td>5MP Front Camera</td>\n",
       "      <td>17.02 cm (6.7 inch) HD+ Display</td>\n",
       "      <td>6000 mAh Lithium Polymer Battery</td>\n",
       "      <td>₹10,999</td>\n",
       "      <td>https://www.flipkart.com/redmi-10-caribbean-gr...</td>\n",
       "    </tr>\n",
       "    <tr>\n",
       "      <th>22</th>\n",
       "      <td>POCO</td>\n",
       "      <td>POCO M4 5G</td>\n",
       "      <td>Cool Blue</td>\n",
       "      <td>64 GB</td>\n",
       "      <td>4 GB RAM | 64 GB ROM | Expandable Upto 512 GB</td>\n",
       "      <td>50MP + 2MP</td>\n",
       "      <td>8MP Front Camera</td>\n",
       "      <td>16.71 cm (6.58 inch) Full HD+ Display</td>\n",
       "      <td>5000 mAh Lithium Ion Polymer Battery</td>\n",
       "      <td>₹10,749</td>\n",
       "      <td>https://www.flipkart.com/poco-m4-5g-cool-blue-...</td>\n",
       "    </tr>\n",
       "    <tr>\n",
       "      <th>23</th>\n",
       "      <td>SAMSUNG</td>\n",
       "      <td>SAMSUNG Galaxy F13</td>\n",
       "      <td>Waterfall Blue</td>\n",
       "      <td>64 GB</td>\n",
       "      <td>4 GB RAM | 64 GB ROM | Expandable Upto 1 TB</td>\n",
       "      <td>50MP + 5MP + 2MP</td>\n",
       "      <td>8MP Front Camera</td>\n",
       "      <td>16.76 cm (6.6 inch) Full HD+ Display</td>\n",
       "      <td>6000 mAh Lithium Ion Battery</td>\n",
       "      <td>₹11,999</td>\n",
       "      <td>https://www.flipkart.com/samsung-galaxy-f13-wa...</td>\n",
       "    </tr>\n",
       "  </tbody>\n",
       "</table>\n",
       "</div>"
      ],
      "text/plain": [
       "   Brand Name                 Smartphone name           Colour      RAM  \\\n",
       "0        Idea                Idea Smartphone            Black)        -   \n",
       "1       Nokia      Nokia C20 Plus Smartphone         Dark Grey   32 GB    \n",
       "2       Nokia      Nokia C20 Plus Smartphone        Ocean Blue   32 GB    \n",
       "3       Nokia      Nokia C20 Plus Smartphone        Ocean Blue   32 GB    \n",
       "4       Nokia      Nokia C20 Plus Smartphone         Dark Grey   32 GB    \n",
       "5        Ziba  Ziba K5 Non Camera Smartphone              Blue   16 GB    \n",
       "6        POCO                       POCO C31        Royal Blue   64 GB    \n",
       "7        POCO                       POCO C31       Shadow Gray   64 GB    \n",
       "8        POCO                       POCO C31        Royal Blue   32 GB    \n",
       "9       REDMI                       REDMI 10      Pacific Blue   64 GB    \n",
       "10      REDMI                 REDMI 9i Sport       Coral Green   64 GB    \n",
       "11    SAMSUNG             SAMSUNG Galaxy F13    Nightsky Green   64 GB    \n",
       "12      REDMI                 REDMI 9i Sport      Carbon Black   64 GB    \n",
       "13      REDMI                 REDMI 9i Sport     Metallic Blue   64 GB    \n",
       "14      REDMI                       REDMI 10    Midnight Black   64 GB    \n",
       "15    Infinix            Infinix HOT 12 Play      Racing Black   64 GB    \n",
       "16    Infinix            Infinix HOT 12 Play    Daylight Green   64 GB    \n",
       "17    Infinix            Infinix HOT 12 Play      Horizon Blue   64 GB    \n",
       "18    SAMSUNG             SAMSUNG Galaxy F13    Sunrise Copper   64 GB    \n",
       "19     realme               realme Narzo 50i      Carbon Black   32 GB    \n",
       "20     realme               realme Narzo 50i        Mint Green   32 GB    \n",
       "21      REDMI                       REDMI 10   Caribbean Green   64 GB    \n",
       "22       POCO                     POCO M4 5G         Cool Blue   64 GB    \n",
       "23    SAMSUNG             SAMSUNG Galaxy F13    Waterfall Blue   64 GB    \n",
       "\n",
       "                                     Storage(ROM)      Primary Camera  \\\n",
       "0                           Expandable Upto 32 GB   3.2MP Rear Camera   \n",
       "1                            2 GB RAM | 32 GB ROM          8MP + 2MP    \n",
       "2                            2 GB RAM | 32 GB ROM          8MP + 2MP    \n",
       "3                            3 GB RAM | 32 GB ROM          8MP + 2MP    \n",
       "4                            3 GB RAM | 32 GB ROM          8MP + 2MP    \n",
       "5                            2 GB RAM | 16 GB ROM                   -   \n",
       "6   4 GB RAM | 64 GB ROM | Expandable Upto 512 GB   13MP + 2MP + 2MP    \n",
       "7   4 GB RAM | 64 GB ROM | Expandable Upto 512 GB   13MP + 2MP + 2MP    \n",
       "8   3 GB RAM | 32 GB ROM | Expandable Upto 512 GB   13MP + 2MP + 2MP    \n",
       "9     4 GB RAM | 64 GB ROM | Expandable Upto 1 TB         50MP + 2MP    \n",
       "10  4 GB RAM | 64 GB ROM | Expandable Upto 512 GB   13MP Rear Camera    \n",
       "11    4 GB RAM | 64 GB ROM | Expandable Upto 1 TB   50MP + 5MP + 2MP    \n",
       "12  4 GB RAM | 64 GB ROM | Expandable Upto 512 GB   13MP Rear Camera    \n",
       "13  4 GB RAM | 64 GB ROM | Expandable Upto 512 GB   13MP Rear Camera    \n",
       "14    4 GB RAM | 64 GB ROM | Expandable Upto 1 TB         50MP + 2MP    \n",
       "15  4 GB RAM | 64 GB ROM | Expandable Upto 256 GB  13MP + Depth Lens    \n",
       "16  4 GB RAM | 64 GB ROM | Expandable Upto 256 GB  13MP + Depth Lens    \n",
       "17  4 GB RAM | 64 GB ROM | Expandable Upto 256 GB  13MP + Depth Lens    \n",
       "18    4 GB RAM | 64 GB ROM | Expandable Upto 1 TB   50MP + 5MP + 2MP    \n",
       "19  2 GB RAM | 32 GB ROM | Expandable Upto 256 GB    8MP Rear Camera    \n",
       "20  2 GB RAM | 32 GB ROM | Expandable Upto 256 GB    8MP Rear Camera    \n",
       "21    4 GB RAM | 64 GB ROM | Expandable Upto 1 TB         50MP + 2MP    \n",
       "22  4 GB RAM | 64 GB ROM | Expandable Upto 512 GB         50MP + 2MP    \n",
       "23    4 GB RAM | 64 GB ROM | Expandable Upto 1 TB   50MP + 5MP + 2MP    \n",
       "\n",
       "     Secondary Camera                           Display Size  \\\n",
       "0                   -        8.13 cm (3.2 inch) HVGA Display   \n",
       "1    5MP Front Camera        16.51 cm (6.5 inch) HD+ Display   \n",
       "2    5MP Front Camera        16.51 cm (6.5 inch) HD+ Display   \n",
       "3    5MP Front Camera        16.51 cm (6.5 inch) HD+ Display   \n",
       "4    5MP Front Camera        16.51 cm (6.5 inch) HD+ Display   \n",
       "5                   -            13.97 cm (5.5 inch) Display   \n",
       "6    5MP Front Camera       16.59 cm (6.53 inch) HD+ Display   \n",
       "7    5MP Front Camera       16.59 cm (6.53 inch) HD+ Display   \n",
       "8    5MP Front Camera       16.59 cm (6.53 inch) HD+ Display   \n",
       "9    5MP Front Camera        17.02 cm (6.7 inch) HD+ Display   \n",
       "10   5MP Front Camera       16.59 cm (6.53 inch) HD+ Display   \n",
       "11   8MP Front Camera   16.76 cm (6.6 inch) Full HD+ Display   \n",
       "12   5MP Front Camera       16.59 cm (6.53 inch) HD+ Display   \n",
       "13   5MP Front Camera       16.59 cm (6.53 inch) HD+ Display   \n",
       "14   5MP Front Camera        17.02 cm (6.7 inch) HD+ Display   \n",
       "15   8MP Front Camera       17.32 cm (6.82 inch) HD+ Display   \n",
       "16   8MP Front Camera       17.32 cm (6.82 inch) HD+ Display   \n",
       "17   8MP Front Camera       17.32 cm (6.82 inch) HD+ Display   \n",
       "18   8MP Front Camera   16.76 cm (6.6 inch) Full HD+ Display   \n",
       "19   5MP Front Camera            16.51 cm (6.5 inch) Display   \n",
       "20   5MP Front Camera            16.51 cm (6.5 inch) Display   \n",
       "21   5MP Front Camera        17.02 cm (6.7 inch) HD+ Display   \n",
       "22   8MP Front Camera  16.71 cm (6.58 inch) Full HD+ Display   \n",
       "23   8MP Front Camera   16.76 cm (6.6 inch) Full HD+ Display   \n",
       "\n",
       "                        Battery Capacity    Price  \\\n",
       "0                1300 mAh Li-Ion Battery   ₹6,999   \n",
       "1                5000 mAh Li-ion Battery   ₹8,999   \n",
       "2                5000 mAh Li-ion Battery   ₹8,999   \n",
       "3                4950 mAh Li-ion Battery   ₹8,999   \n",
       "4                5000 mAh Li-ion Battery   ₹8,999   \n",
       "5                       3000 mAh Battery   ₹4,500   \n",
       "6   5000 mAh Lithium-ion Polymer Battery   ₹7,999   \n",
       "7   5000 mAh Lithium-ion Polymer Battery   ₹7,999   \n",
       "8   5000 mAh Lithium-ion Polymer Battery   ₹6,999   \n",
       "9       6000 mAh Lithium Polymer Battery  ₹10,999   \n",
       "10           5000 mAh Li-Polymer Battery   ₹8,799   \n",
       "11          6000 mAh Lithium Ion Battery  ₹11,999   \n",
       "12           5000 mAh Li-Polymer Battery   ₹8,799   \n",
       "13           5000 mAh Li-Polymer Battery   ₹8,799   \n",
       "14      6000 mAh Lithium Polymer Battery  ₹10,999   \n",
       "15       6000 mAh Li-ion Polymer Battery   ₹8,499   \n",
       "16       6000 mAh Li-ion Polymer Battery   ₹8,499   \n",
       "17       6000 mAh Li-ion Polymer Battery   ₹8,499   \n",
       "18          6000 mAh Lithium Ion Battery  ₹11,999   \n",
       "19                      5000 mAh Battery   ₹7,499   \n",
       "20                      5000 mAh Battery   ₹7,499   \n",
       "21      6000 mAh Lithium Polymer Battery  ₹10,999   \n",
       "22  5000 mAh Lithium Ion Polymer Battery  ₹10,749   \n",
       "23          6000 mAh Lithium Ion Battery  ₹11,999   \n",
       "\n",
       "                                          Product URL  \n",
       "0   https://www.flipkart.com/idea-smartphone-black...  \n",
       "1   https://www.flipkart.com/nokia-c20-plus-smartp...  \n",
       "2   https://www.flipkart.com/nokia-c20-plus-smartp...  \n",
       "3   https://www.flipkart.com/nokia-c20-plus-smartp...  \n",
       "4   https://www.flipkart.com/nokia-c20-plus-smartp...  \n",
       "5   https://www.flipkart.com/ziba-k5-non-camera-sm...  \n",
       "6   https://www.flipkart.com/poco-c31-royal-blue-6...  \n",
       "7   https://www.flipkart.com/poco-c31-shadow-gray-...  \n",
       "8   https://www.flipkart.com/poco-c31-royal-blue-3...  \n",
       "9   https://www.flipkart.com/redmi-10-pacific-blue...  \n",
       "10  https://www.flipkart.com/redmi-9i-sport-coral-...  \n",
       "11  https://www.flipkart.com/samsung-galaxy-f13-ni...  \n",
       "12  https://www.flipkart.com/redmi-9i-sport-carbon...  \n",
       "13  https://www.flipkart.com/redmi-9i-sport-metall...  \n",
       "14  https://www.flipkart.com/redmi-10-midnight-bla...  \n",
       "15  https://www.flipkart.com/infinix-hot-12-play-r...  \n",
       "16  https://www.flipkart.com/infinix-hot-12-play-d...  \n",
       "17  https://www.flipkart.com/infinix-hot-12-play-h...  \n",
       "18  https://www.flipkart.com/samsung-galaxy-f13-su...  \n",
       "19  https://www.flipkart.com/realme-narzo-50i-carb...  \n",
       "20  https://www.flipkart.com/realme-narzo-50i-mint...  \n",
       "21  https://www.flipkart.com/redmi-10-caribbean-gr...  \n",
       "22  https://www.flipkart.com/poco-m4-5g-cool-blue-...  \n",
       "23  https://www.flipkart.com/samsung-galaxy-f13-wa...  "
      ]
     },
     "execution_count": 164,
     "metadata": {},
     "output_type": "execute_result"
    }
   ],
   "source": [
    "#Preparing Dataframe of the Smartphones\n",
    "s_phn= pd.DataFrame({'Brand Name':brand_name, 'Smartphone name': smrt_ph_name, 'Colour':color,\n",
    "                     'RAM':ram, 'Storage(ROM)':rom, 'Primary Camera':prim_camera,\n",
    "                     'Secondary Camera':sec_camera, 'Display Size':display, 'Battery Capacity':btry_cap,\n",
    "                     'Price':price, 'Product URL': p_urls})\n",
    "print(\"Page 1 entry of smartphones in flipkart.com \\n\")\n",
    "s_phn"
   ]
  },
  {
   "cell_type": "code",
   "execution_count": 165,
   "id": "524977b0",
   "metadata": {},
   "outputs": [],
   "source": [
    "#saving as csv\n",
    "s_phn.to_csv('smartphones_list.csv', index=False)"
   ]
  },
  {
   "cell_type": "code",
   "execution_count": null,
   "id": "1eb7a877",
   "metadata": {},
   "outputs": [],
   "source": []
  },
  {
   "cell_type": "markdown",
   "id": "63ed6b21",
   "metadata": {},
   "source": [
    "Q5. Write a program to scrap geospatial coordinates (latitude, longitude) of a city searched on google\n",
    "maps.\n"
   ]
  },
  {
   "cell_type": "code",
   "execution_count": 181,
   "id": "e87a3f99",
   "metadata": {},
   "outputs": [],
   "source": []
  },
  {
   "cell_type": "code",
   "execution_count": 182,
   "id": "d07e11d6",
   "metadata": {},
   "outputs": [],
   "source": [
    "#getting the webpage\n",
    "\n",
    "url='https://maps.google.co.in'\n",
    "driver.get(url)\n"
   ]
  },
  {
   "cell_type": "code",
   "execution_count": 183,
   "id": "ab24a744",
   "metadata": {},
   "outputs": [
    {
     "data": {
      "text/plain": [
       "<selenium.webdriver.remote.webelement.WebElement (session=\"357ae6bfc664876961e7da3c0ffed212\", element=\"d240e4ab-046f-440c-9b01-cf75b7d0de6a\")>"
      ]
     },
     "execution_count": 183,
     "metadata": {},
     "output_type": "execute_result"
    }
   ],
   "source": [
    "#find web element for search bar\n",
    "serch_tag= driver.find_element(By.XPATH, '/html/body/div[3]/div[9]/div[3]/div[1]/div[1]/div[1]/div[2]/form/div[2]/div[3]/div/input[1]')\n",
    "serch_tag"
   ]
  },
  {
   "cell_type": "code",
   "execution_count": 184,
   "id": "bf6922cb",
   "metadata": {},
   "outputs": [
    {
     "data": {
      "text/plain": [
       "<selenium.webdriver.remote.webelement.WebElement (session=\"357ae6bfc664876961e7da3c0ffed212\", element=\"8143e671-7214-4a1b-8663-b3d3500bd3eb\")>"
      ]
     },
     "execution_count": 184,
     "metadata": {},
     "output_type": "execute_result"
    }
   ],
   "source": [
    "#find web element for search icon\n",
    "srch_icon=driver.find_element(By.XPATH, '/html/body/div[3]/div[9]/div[3]/div[1]/div[1]/div[1]/div[2]/div[1]/button')\n",
    "srch_icon"
   ]
  },
  {
   "cell_type": "code",
   "execution_count": 185,
   "id": "ede51618",
   "metadata": {},
   "outputs": [
    {
     "name": "stdout",
     "output_type": "stream",
     "text": [
      "Enter a city name : \n",
      "Lucknow\n",
      "Entered City is :  Lucknow\n"
     ]
    }
   ],
   "source": [
    "#Taking input from user\n",
    "print(\"Enter a city name : \")\n",
    "abc=input()\n",
    "print(\"Entered City is : \",abc)"
   ]
  },
  {
   "cell_type": "code",
   "execution_count": 186,
   "id": "16580d96",
   "metadata": {},
   "outputs": [],
   "source": [
    "serch_tag.send_keys(abc)"
   ]
  },
  {
   "cell_type": "code",
   "execution_count": 187,
   "id": "dd7d0c92",
   "metadata": {},
   "outputs": [],
   "source": [
    "srch_icon.click()"
   ]
  },
  {
   "cell_type": "code",
   "execution_count": 188,
   "id": "14b34d98",
   "metadata": {},
   "outputs": [],
   "source": [
    "url_string=driver.current_url"
   ]
  },
  {
   "cell_type": "code",
   "execution_count": 189,
   "id": "34d2a39c",
   "metadata": {},
   "outputs": [
    {
     "name": "stdout",
     "output_type": "stream",
     "text": [
      " The latitude, longitude of the city is :  @26.848623,80.8024245,11z\n"
     ]
    }
   ],
   "source": [
    "print(\" The latitude, longitude of the city is : \",url_string.split('/')[6])\n"
   ]
  },
  {
   "cell_type": "code",
   "execution_count": null,
   "id": "44399ff2",
   "metadata": {},
   "outputs": [],
   "source": []
  },
  {
   "cell_type": "markdown",
   "id": "70ff5e1f",
   "metadata": {},
   "source": [
    "Q6. Write a program to scrap details of all the funding deals for second quarter (i.e Jan 21 – March 21) \n",
    "from trak.in."
   ]
  },
  {
   "cell_type": "code",
   "execution_count": 190,
   "id": "56aa205a",
   "metadata": {},
   "outputs": [],
   "source": [
    "# getting the web page\n",
    "\n",
    "driver.get('https://trak.in/')"
   ]
  },
  {
   "cell_type": "code",
   "execution_count": 199,
   "id": "125e3ea7",
   "metadata": {},
   "outputs": [
    {
     "data": {
      "text/plain": [
       "<selenium.webdriver.remote.webelement.WebElement (session=\"357ae6bfc664876961e7da3c0ffed212\", element=\"e6b7d0f3-fb18-421e-b89c-d70b1ef9aadf\")>"
      ]
     },
     "execution_count": 199,
     "metadata": {},
     "output_type": "execute_result"
    }
   ],
   "source": [
    "# finding the web element for Funding deal\n",
    "fund_deal_tag=driver.find_element(By.XPATH, '/html/body/div[1]/header/div[2]/div/div/div/div/nav/ul/li[8]/ul/li[2]/a')\n",
    "fund_deal_tag"
   ]
  },
  {
   "cell_type": "code",
   "execution_count": 207,
   "id": "c81bda7f",
   "metadata": {},
   "outputs": [],
   "source": [
    "#clicking on funding deal\n",
    "timeout=5\n",
    "wait = WebDriverWait(driver, timeout);\n",
    "wait.until(EC.visibility_of(fund_deal_tag)); \n",
    "wait.until(EC.element_to_be_clickable(fund_deal_tag));\n",
    "fund_deal_tag.click()"
   ]
  },
  {
   "cell_type": "code",
   "execution_count": 234,
   "id": "405aa2ef",
   "metadata": {},
   "outputs": [
    {
     "data": {
      "text/plain": [
       "24"
      ]
     },
     "execution_count": 234,
     "metadata": {},
     "output_type": "execute_result"
    }
   ],
   "source": [
    "#scraping Details from the page between Jan 2021 to March 2021. Starting with startup name\n",
    "startup_name=[]\n",
    "start_tag=driver.find_elements(By.XPATH, '//td[@class=\"column-3\"]')[5:29]\n",
    "for i in start_tag:\n",
    "    startup_name.append(i.text)\n",
    "len(startup_name)"
   ]
  },
  {
   "cell_type": "code",
   "execution_count": 235,
   "id": "491d3085",
   "metadata": {},
   "outputs": [
    {
     "data": {
      "text/plain": [
       "24"
      ]
     },
     "execution_count": 235,
     "metadata": {},
     "output_type": "execute_result"
    }
   ],
   "source": [
    "#scraping date\n",
    "date=[]\n",
    "date_tag=driver.find_elements(By.XPATH, '//td[@class=\"column-2\"]')[5:29]\n",
    "for i in date_tag:\n",
    "    date.append(i.text)\n",
    "len(date)"
   ]
  },
  {
   "cell_type": "code",
   "execution_count": 236,
   "id": "1e08541e",
   "metadata": {},
   "outputs": [
    {
     "data": {
      "text/plain": [
       "24"
      ]
     },
     "execution_count": 236,
     "metadata": {},
     "output_type": "execute_result"
    }
   ],
   "source": [
    "#scraping Industry\n",
    "industry=[]\n",
    "industry_tag=driver.find_elements(By.XPATH, '//td[@class=\"column-4\"]')[5:29]\n",
    "for i in industry_tag:\n",
    "    industry.append(i.text)\n",
    "len(industry)"
   ]
  },
  {
   "cell_type": "code",
   "execution_count": 237,
   "id": "a4d1c020",
   "metadata": {},
   "outputs": [
    {
     "data": {
      "text/plain": [
       "24"
      ]
     },
     "execution_count": 237,
     "metadata": {},
     "output_type": "execute_result"
    }
   ],
   "source": [
    "#Scraping Sb Vertical column\n",
    "sub_vertical=[]\n",
    "sub_tag=driver.find_elements(By.XPATH, '//td[@class=\"column-5\"]')[5:29]\n",
    "for i in sub_tag:\n",
    "    sub_vertical.append(i.text)\n",
    "len(sub_vertical)"
   ]
  },
  {
   "cell_type": "code",
   "execution_count": 238,
   "id": "aed7d34b",
   "metadata": {},
   "outputs": [
    {
     "data": {
      "text/plain": [
       "24"
      ]
     },
     "execution_count": 238,
     "metadata": {},
     "output_type": "execute_result"
    }
   ],
   "source": [
    "#Scraping Location\n",
    "locatn=[]\n",
    "city_tag=driver.find_elements(By.XPATH, '//td[@class=\"column-6\"]')[5:29]\n",
    "for i in city_tag:\n",
    "    locatn.append(i.text)\n",
    "len(locatn)"
   ]
  },
  {
   "cell_type": "code",
   "execution_count": 239,
   "id": "06f89b62",
   "metadata": {},
   "outputs": [
    {
     "data": {
      "text/plain": [
       "24"
      ]
     },
     "execution_count": 239,
     "metadata": {},
     "output_type": "execute_result"
    }
   ],
   "source": [
    "#scraping Investor's name\n",
    "invest_name=[]\n",
    "invest_nm_tag=driver.find_elements(By.XPATH, '//td[@class=\"column-7\"]')[5:29]\n",
    "for i in invest_nm_tag:\n",
    "    invest_name.append(i.text)\n",
    "len(invest_name)"
   ]
  },
  {
   "cell_type": "code",
   "execution_count": 240,
   "id": "5cda5eba",
   "metadata": {},
   "outputs": [
    {
     "data": {
      "text/plain": [
       "24"
      ]
     },
     "execution_count": 240,
     "metadata": {},
     "output_type": "execute_result"
    }
   ],
   "source": [
    "#Scraping Investmen Type\n",
    "invest_type=[]\n",
    "type_tag=driver.find_elements(By.XPATH, '//td[@class=\"column-8\"]')[5:29]\n",
    "for i in type_tag:\n",
    "    invest_type.append(i.text)\n",
    "len(invest_type)"
   ]
  },
  {
   "cell_type": "code",
   "execution_count": 241,
   "id": "a08b22e8",
   "metadata": {},
   "outputs": [
    {
     "data": {
      "text/plain": [
       "24"
      ]
     },
     "execution_count": 241,
     "metadata": {},
     "output_type": "execute_result"
    }
   ],
   "source": [
    "#Scraping the Amount\n",
    "amount=[]\n",
    "amnt_tag=driver.find_elements(By.XPATH, '//td[@class=\"column-9\"]')[5:29]\n",
    "for i in amnt_tag:\n",
    "    amount.append(i.text)\n",
    "len(amount)"
   ]
  },
  {
   "cell_type": "code",
   "execution_count": 242,
   "id": "49273f1d",
   "metadata": {},
   "outputs": [
    {
     "name": "stdout",
     "output_type": "stream",
     "text": [
      "Details of all the funding deals for second quarter (i.e Jan 21 – March 21) from trak.in\n"
     ]
    },
    {
     "data": {
      "text/html": [
       "<div>\n",
       "<style scoped>\n",
       "    .dataframe tbody tr th:only-of-type {\n",
       "        vertical-align: middle;\n",
       "    }\n",
       "\n",
       "    .dataframe tbody tr th {\n",
       "        vertical-align: top;\n",
       "    }\n",
       "\n",
       "    .dataframe thead th {\n",
       "        text-align: right;\n",
       "    }\n",
       "</style>\n",
       "<table border=\"1\" class=\"dataframe\">\n",
       "  <thead>\n",
       "    <tr style=\"text-align: right;\">\n",
       "      <th></th>\n",
       "      <th>Date (dd/mm/yyyy)</th>\n",
       "      <th>StartUp Name</th>\n",
       "      <th>Industry</th>\n",
       "      <th>Sub Vertical</th>\n",
       "      <th>Location/City</th>\n",
       "      <th>Investors Name</th>\n",
       "      <th>Investment Type</th>\n",
       "      <th>Amount (USD)</th>\n",
       "    </tr>\n",
       "  </thead>\n",
       "  <tbody>\n",
       "    <tr>\n",
       "      <th>0</th>\n",
       "      <td>04/03/2021</td>\n",
       "      <td>DealShare</td>\n",
       "      <td>E-commerce</td>\n",
       "      <td>Online shopping platform</td>\n",
       "      <td>Jaipur, Rajasthan</td>\n",
       "      <td>Innoven Capital</td>\n",
       "      <td>Debt Financing</td>\n",
       "      <td>250,000,000</td>\n",
       "    </tr>\n",
       "    <tr>\n",
       "      <th>1</th>\n",
       "      <td>31/03/2021</td>\n",
       "      <td>Uniphore</td>\n",
       "      <td>Technology</td>\n",
       "      <td>Conversational Service Automation (CSA)</td>\n",
       "      <td>Palo Alto</td>\n",
       "      <td>Sorenson Capital Partners</td>\n",
       "      <td>Series D</td>\n",
       "      <td>140,000,000</td>\n",
       "    </tr>\n",
       "    <tr>\n",
       "      <th>2</th>\n",
       "      <td>30/03/2021</td>\n",
       "      <td>Dunzo</td>\n",
       "      <td>E-commerce</td>\n",
       "      <td>Hyper-local delivery app</td>\n",
       "      <td>Bengaluru</td>\n",
       "      <td>Krishtal Advisors Pte Ltd</td>\n",
       "      <td>Series E</td>\n",
       "      <td>8,000,000</td>\n",
       "    </tr>\n",
       "    <tr>\n",
       "      <th>3</th>\n",
       "      <td>30/03/2021</td>\n",
       "      <td>BYJU’S</td>\n",
       "      <td>Edu-tech</td>\n",
       "      <td>Online tutoring</td>\n",
       "      <td>Bengaluru</td>\n",
       "      <td>MC Global Edtech, B Capital, Baron, others</td>\n",
       "      <td>Series F</td>\n",
       "      <td>460,000,000</td>\n",
       "    </tr>\n",
       "    <tr>\n",
       "      <th>4</th>\n",
       "      <td>23/03/2021</td>\n",
       "      <td>SkilloVilla</td>\n",
       "      <td>Edu-tech</td>\n",
       "      <td>Career and job-oriented upskilling.</td>\n",
       "      <td>Bengaluru</td>\n",
       "      <td>Titan Capital, others</td>\n",
       "      <td>Seed</td>\n",
       "      <td>300,000,000</td>\n",
       "    </tr>\n",
       "    <tr>\n",
       "      <th>5</th>\n",
       "      <td>25/03/2021</td>\n",
       "      <td>CityMall</td>\n",
       "      <td>E-commerce</td>\n",
       "      <td>Social ecommerce and online grocery platform</td>\n",
       "      <td>Gurgaon</td>\n",
       "      <td>Accel Partners</td>\n",
       "      <td>Series A</td>\n",
       "      <td>11,000,000</td>\n",
       "    </tr>\n",
       "    <tr>\n",
       "      <th>6</th>\n",
       "      <td>26/03/2021</td>\n",
       "      <td>DotPe</td>\n",
       "      <td>FinTech</td>\n",
       "      <td>Commerce and payments platform to offline ente...</td>\n",
       "      <td>Gurgaon</td>\n",
       "      <td>PayU</td>\n",
       "      <td>Series A</td>\n",
       "      <td>27,500,000</td>\n",
       "    </tr>\n",
       "    <tr>\n",
       "      <th>7</th>\n",
       "      <td>11/02/2021</td>\n",
       "      <td>Doubtnut</td>\n",
       "      <td>Edu Tech</td>\n",
       "      <td>E-Learning Platform</td>\n",
       "      <td>Gurgaon</td>\n",
       "      <td>SIG Global, Sequoia Capital, WaterBridge Ventu...</td>\n",
       "      <td>Series B</td>\n",
       "      <td>2,500,000</td>\n",
       "    </tr>\n",
       "    <tr>\n",
       "      <th>8</th>\n",
       "      <td>22/02/2021</td>\n",
       "      <td>Zomato</td>\n",
       "      <td>Hospitality</td>\n",
       "      <td>Online Food Delivery Platform</td>\n",
       "      <td>Gurgaon</td>\n",
       "      <td>Tiger Global, Kora</td>\n",
       "      <td>Venture</td>\n",
       "      <td>250,000,000</td>\n",
       "    </tr>\n",
       "    <tr>\n",
       "      <th>9</th>\n",
       "      <td>19/02/2021</td>\n",
       "      <td>Fingerlix</td>\n",
       "      <td>Hospitality</td>\n",
       "      <td>Semi-cooked food delivery app</td>\n",
       "      <td>Mumbai</td>\n",
       "      <td>Rhodium Trust, Accel Partners and Swiggy</td>\n",
       "      <td>Series C</td>\n",
       "      <td>2,747,045.20</td>\n",
       "    </tr>\n",
       "    <tr>\n",
       "      <th>10</th>\n",
       "      <td>17/02/2021</td>\n",
       "      <td>Zolve</td>\n",
       "      <td>FinTech</td>\n",
       "      <td>Global Neobank Venture</td>\n",
       "      <td>Mumbai</td>\n",
       "      <td>Accel Partners and Lightspeed Venture Partners</td>\n",
       "      <td>Seed</td>\n",
       "      <td>1,50,00,000</td>\n",
       "    </tr>\n",
       "    <tr>\n",
       "      <th>11</th>\n",
       "      <td>15/02/2021</td>\n",
       "      <td>KreditBee</td>\n",
       "      <td>Finance</td>\n",
       "      <td>Digital lending platform</td>\n",
       "      <td>Bengaluru</td>\n",
       "      <td>Azim Premji’s PremjiInvest and South Korea’s M...</td>\n",
       "      <td>Series C</td>\n",
       "      <td>75,000,000</td>\n",
       "    </tr>\n",
       "    <tr>\n",
       "      <th>12</th>\n",
       "      <td>12/02/2021</td>\n",
       "      <td>Pepperfry</td>\n",
       "      <td>E-commerce</td>\n",
       "      <td>Multi-brand furniture brand</td>\n",
       "      <td>Mumbai</td>\n",
       "      <td>InnoVen Capital</td>\n",
       "      <td>Debt Financing</td>\n",
       "      <td>4,773,958</td>\n",
       "    </tr>\n",
       "    <tr>\n",
       "      <th>13</th>\n",
       "      <td>12/02/2021</td>\n",
       "      <td>Grofers</td>\n",
       "      <td>E-Commerce</td>\n",
       "      <td>Online supermarket</td>\n",
       "      <td>Gurgaon</td>\n",
       "      <td>SoftBank Vision Fund (SVF)</td>\n",
       "      <td>Unspecified</td>\n",
       "      <td>55,000,000</td>\n",
       "    </tr>\n",
       "    <tr>\n",
       "      <th>14</th>\n",
       "      <td>09/02/2021</td>\n",
       "      <td>Nothing</td>\n",
       "      <td>Technology</td>\n",
       "      <td>Consumer Technology Venture</td>\n",
       "      <td>London</td>\n",
       "      <td>GV</td>\n",
       "      <td>Series A</td>\n",
       "      <td>15,000,000</td>\n",
       "    </tr>\n",
       "    <tr>\n",
       "      <th>15</th>\n",
       "      <td>09/02/2021</td>\n",
       "      <td>SplashLearn</td>\n",
       "      <td>EdTech</td>\n",
       "      <td>Game-based learning programme</td>\n",
       "      <td>Gurgaon</td>\n",
       "      <td>Owl Ventures</td>\n",
       "      <td>Series C</td>\n",
       "      <td>18,000,000</td>\n",
       "    </tr>\n",
       "    <tr>\n",
       "      <th>16</th>\n",
       "      <td>15/01/2021</td>\n",
       "      <td>Digit Insurance</td>\n",
       "      <td>Financial Services</td>\n",
       "      <td>Insurance Services</td>\n",
       "      <td>Bengaluru</td>\n",
       "      <td>A91 Partners, Faering Capital, TVS Capital Funds</td>\n",
       "      <td>Venture</td>\n",
       "      <td>1,80,00,000</td>\n",
       "    </tr>\n",
       "    <tr>\n",
       "      <th>17</th>\n",
       "      <td>28/01/2021</td>\n",
       "      <td>Bombay Shaving Company</td>\n",
       "      <td>Consumer Goods Company</td>\n",
       "      <td>Shave care, beard care, and skincare products</td>\n",
       "      <td>New Delhi</td>\n",
       "      <td>Reckitt Benckiser</td>\n",
       "      <td>Venture</td>\n",
       "      <td>6,172,258.50</td>\n",
       "    </tr>\n",
       "    <tr>\n",
       "      <th>18</th>\n",
       "      <td>19/01/2021</td>\n",
       "      <td>DeHaat</td>\n",
       "      <td>AgriTech Startup</td>\n",
       "      <td>online marketplace for farm products and services</td>\n",
       "      <td>Patna</td>\n",
       "      <td>Prosus Ventures</td>\n",
       "      <td>Series C</td>\n",
       "      <td>30,000,000</td>\n",
       "    </tr>\n",
       "    <tr>\n",
       "      <th>19</th>\n",
       "      <td>19/01/2021</td>\n",
       "      <td>Darwinbox</td>\n",
       "      <td>SaaS</td>\n",
       "      <td>HR Tech</td>\n",
       "      <td>Mumbai</td>\n",
       "      <td>Salesforce Ventures</td>\n",
       "      <td>Seed</td>\n",
       "      <td>15,000,000</td>\n",
       "    </tr>\n",
       "    <tr>\n",
       "      <th>20</th>\n",
       "      <td>18/01/2021</td>\n",
       "      <td>mfine</td>\n",
       "      <td>Health Tech Startup</td>\n",
       "      <td>AI-powered telemedicine mobile app</td>\n",
       "      <td>Bengaluru</td>\n",
       "      <td>Heritas Capital Management</td>\n",
       "      <td>Venture Round</td>\n",
       "      <td>16,000,000</td>\n",
       "    </tr>\n",
       "    <tr>\n",
       "      <th>21</th>\n",
       "      <td>18/01/2021</td>\n",
       "      <td>Udayy</td>\n",
       "      <td>EdTech</td>\n",
       "      <td>Online learning platform for kids in class 1-5</td>\n",
       "      <td>Gurgaon</td>\n",
       "      <td>Sequoia Capital</td>\n",
       "      <td>Seed Funding</td>\n",
       "      <td>15,000,000</td>\n",
       "    </tr>\n",
       "    <tr>\n",
       "      <th>22</th>\n",
       "      <td>11/01/2021</td>\n",
       "      <td>True Elements</td>\n",
       "      <td>Food Startup</td>\n",
       "      <td>Whole Food plant based Nashta</td>\n",
       "      <td>Pune</td>\n",
       "      <td>SIDBI Venture Capital</td>\n",
       "      <td>Series</td>\n",
       "      <td>100,000,000</td>\n",
       "    </tr>\n",
       "    <tr>\n",
       "      <th>23</th>\n",
       "      <td>13/01/2021</td>\n",
       "      <td>Saveo</td>\n",
       "      <td>B2B E-commerce</td>\n",
       "      <td>Pharmacies</td>\n",
       "      <td>Bengaluru</td>\n",
       "      <td>Matrix Partners India, RTP Global, others</td>\n",
       "      <td>Seed</td>\n",
       "      <td>4,000,000</td>\n",
       "    </tr>\n",
       "  </tbody>\n",
       "</table>\n",
       "</div>"
      ],
      "text/plain": [
       "   Date (dd/mm/yyyy)            StartUp Name                Industry  \\\n",
       "0         04/03/2021               DealShare              E-commerce   \n",
       "1         31/03/2021                Uniphore              Technology   \n",
       "2         30/03/2021                   Dunzo              E-commerce   \n",
       "3         30/03/2021                  BYJU’S                Edu-tech   \n",
       "4         23/03/2021             SkilloVilla                Edu-tech   \n",
       "5         25/03/2021                CityMall              E-commerce   \n",
       "6         26/03/2021                   DotPe                 FinTech   \n",
       "7         11/02/2021                Doubtnut                Edu Tech   \n",
       "8         22/02/2021                  Zomato             Hospitality   \n",
       "9         19/02/2021               Fingerlix             Hospitality   \n",
       "10        17/02/2021                   Zolve                 FinTech   \n",
       "11        15/02/2021               KreditBee                 Finance   \n",
       "12        12/02/2021               Pepperfry              E-commerce   \n",
       "13        12/02/2021                 Grofers              E-Commerce   \n",
       "14        09/02/2021                 Nothing              Technology   \n",
       "15        09/02/2021             SplashLearn                  EdTech   \n",
       "16        15/01/2021         Digit Insurance      Financial Services   \n",
       "17        28/01/2021  Bombay Shaving Company  Consumer Goods Company   \n",
       "18        19/01/2021                  DeHaat        AgriTech Startup   \n",
       "19        19/01/2021               Darwinbox                    SaaS   \n",
       "20        18/01/2021                   mfine     Health Tech Startup   \n",
       "21        18/01/2021                   Udayy                  EdTech   \n",
       "22        11/01/2021           True Elements            Food Startup   \n",
       "23        13/01/2021                   Saveo          B2B E-commerce   \n",
       "\n",
       "                                         Sub Vertical      Location/City  \\\n",
       "0                            Online shopping platform  Jaipur, Rajasthan   \n",
       "1             Conversational Service Automation (CSA)          Palo Alto   \n",
       "2                            Hyper-local delivery app          Bengaluru   \n",
       "3                                     Online tutoring          Bengaluru   \n",
       "4                 Career and job-oriented upskilling.          Bengaluru   \n",
       "5        Social ecommerce and online grocery platform            Gurgaon   \n",
       "6   Commerce and payments platform to offline ente...            Gurgaon   \n",
       "7                                 E-Learning Platform            Gurgaon   \n",
       "8                       Online Food Delivery Platform            Gurgaon   \n",
       "9                       Semi-cooked food delivery app             Mumbai   \n",
       "10                             Global Neobank Venture             Mumbai   \n",
       "11                           Digital lending platform          Bengaluru   \n",
       "12                        Multi-brand furniture brand             Mumbai   \n",
       "13                                 Online supermarket            Gurgaon   \n",
       "14                        Consumer Technology Venture             London   \n",
       "15                      Game-based learning programme            Gurgaon   \n",
       "16                                 Insurance Services          Bengaluru   \n",
       "17      Shave care, beard care, and skincare products          New Delhi   \n",
       "18  online marketplace for farm products and services              Patna   \n",
       "19                                            HR Tech             Mumbai   \n",
       "20                 AI-powered telemedicine mobile app          Bengaluru   \n",
       "21     Online learning platform for kids in class 1-5            Gurgaon   \n",
       "22                      Whole Food plant based Nashta               Pune   \n",
       "23                                         Pharmacies          Bengaluru   \n",
       "\n",
       "                                       Investors Name Investment Type  \\\n",
       "0                                     Innoven Capital  Debt Financing   \n",
       "1                           Sorenson Capital Partners        Series D   \n",
       "2                           Krishtal Advisors Pte Ltd        Series E   \n",
       "3          MC Global Edtech, B Capital, Baron, others        Series F   \n",
       "4                               Titan Capital, others            Seed   \n",
       "5                                      Accel Partners        Series A   \n",
       "6                                                PayU        Series A   \n",
       "7   SIG Global, Sequoia Capital, WaterBridge Ventu...        Series B   \n",
       "8                                  Tiger Global, Kora         Venture   \n",
       "9            Rhodium Trust, Accel Partners and Swiggy        Series C   \n",
       "10     Accel Partners and Lightspeed Venture Partners            Seed   \n",
       "11  Azim Premji’s PremjiInvest and South Korea’s M...        Series C   \n",
       "12                                    InnoVen Capital  Debt Financing   \n",
       "13                         SoftBank Vision Fund (SVF)     Unspecified   \n",
       "14                                                 GV        Series A   \n",
       "15                                       Owl Ventures        Series C   \n",
       "16   A91 Partners, Faering Capital, TVS Capital Funds         Venture   \n",
       "17                                  Reckitt Benckiser         Venture   \n",
       "18                                    Prosus Ventures        Series C   \n",
       "19                                Salesforce Ventures            Seed   \n",
       "20                         Heritas Capital Management   Venture Round   \n",
       "21                                    Sequoia Capital    Seed Funding   \n",
       "22                              SIDBI Venture Capital          Series   \n",
       "23          Matrix Partners India, RTP Global, others            Seed   \n",
       "\n",
       "    Amount (USD)  \n",
       "0    250,000,000  \n",
       "1    140,000,000  \n",
       "2      8,000,000  \n",
       "3    460,000,000  \n",
       "4    300,000,000  \n",
       "5     11,000,000  \n",
       "6     27,500,000  \n",
       "7      2,500,000  \n",
       "8    250,000,000  \n",
       "9   2,747,045.20  \n",
       "10   1,50,00,000  \n",
       "11    75,000,000  \n",
       "12     4,773,958  \n",
       "13    55,000,000  \n",
       "14    15,000,000  \n",
       "15    18,000,000  \n",
       "16   1,80,00,000  \n",
       "17  6,172,258.50  \n",
       "18    30,000,000  \n",
       "19    15,000,000  \n",
       "20    16,000,000  \n",
       "21    15,000,000  \n",
       "22   100,000,000  \n",
       "23     4,000,000  "
      ]
     },
     "execution_count": 242,
     "metadata": {},
     "output_type": "execute_result"
    }
   ],
   "source": [
    "#preparing the data frame for Jan-March 2021 data\n",
    "\n",
    "fund_deal=pd.DataFrame({'Date (dd/mm/yyyy)':date, 'StartUp Name':startup_name,\n",
    "                       'Industry':industry, 'Sub Vertical':sub_vertical, 'Location/City':locatn,\n",
    "                       'Investors Name':invest_name, 'Investment Type': invest_type, 'Amount (USD)': amount})\n",
    "print(\"Details of all the funding deals for second quarter (i.e Jan 21 – March 21) from trak.in\")\n",
    "\n",
    "fund_deal"
   ]
  },
  {
   "cell_type": "code",
   "execution_count": null,
   "id": "c3bbe9b1",
   "metadata": {},
   "outputs": [],
   "source": []
  },
  {
   "cell_type": "markdown",
   "id": "dc1b7547",
   "metadata": {},
   "source": [
    "Q7. Write a program to scrap all the available details of best gaming laptops from digit.in.\n"
   ]
  },
  {
   "cell_type": "code",
   "execution_count": 244,
   "id": "7bbedd81",
   "metadata": {},
   "outputs": [],
   "source": [
    "#getting the web page\n",
    "driver.get(\"https://www.digit.in/laptops/\")"
   ]
  },
  {
   "cell_type": "code",
   "execution_count": 245,
   "id": "7787a928",
   "metadata": {},
   "outputs": [],
   "source": [
    "#finding Best gaming laptop\n",
    "best_tag=driver.find_element(By.XPATH, '/html/body/div[6]/div/div[2]/div[2]/ul/li[10]/a')\n",
    "best_tag.click()"
   ]
  },
  {
   "cell_type": "code",
   "execution_count": 266,
   "id": "900d4f7d",
   "metadata": {},
   "outputs": [],
   "source": [
    "#Scraping Details Of Laptops\n",
    "laptop_name=[]\n",
    "\n",
    "laptop_tag=driver.find_elements(By.XPATH,'/html/body/div[5]/div[1]/div[3]/table/tbody/tr[1]/td[1]' )\n",
    "for i in laptop_tag:\n",
    "    laptop_name.append(i.text)\n",
    "laptop_tag=driver.find_elements(By.XPATH,'/html/body/div[5]/div[1]/div[3]/table/tbody/tr[2]/td[1]' )\n",
    "for i in laptop_tag:\n",
    "    laptop_name.append(i.text)\n",
    "laptop_tag=driver.find_elements(By.XPATH,'/html/body/div[5]/div[1]/div[3]/table/tbody/tr[3]/td[1]' )\n",
    "for i in laptop_tag:\n",
    "    laptop_name.append(i.text)\n",
    "laptop_tag=driver.find_elements(By.XPATH,'/html/body/div[5]/div[1]/div[3]/table/tbody/tr[4]/td[1]' )\n",
    "for i in laptop_tag:\n",
    "    laptop_name.append(i.text)\n",
    "laptop_tag=driver.find_elements(By.XPATH,'/html/body/div[5]/div[1]/div[3]/table/tbody/tr[5]/td[1]' )\n",
    "for i in laptop_tag:\n",
    "    laptop_name.append(i.text)\n",
    "laptop_tag=driver.find_elements(By.XPATH,'/html/body/div[5]/div[1]/div[3]/table/tbody/tr[6]/td[1]' )\n",
    "for i in laptop_tag:\n",
    "    laptop_name.append(i.text)\n",
    "laptop_tag=driver.find_elements(By.XPATH,'/html/body/div[5]/div[1]/div[3]/table/tbody/tr[7]/td[1]' )\n",
    "for i in laptop_tag:\n",
    "    laptop_name.append(i.text)\n",
    "laptop_tag=driver.find_elements(By.XPATH,'/html/body/div[5]/div[1]/div[3]/table/tbody/tr[8]/td[1]' )\n",
    "for i in laptop_tag:\n",
    "    laptop_name.append(i.text)\n",
    "laptop_tag=driver.find_elements(By.XPATH,'/html/body/div[5]/div[1]/div[3]/table/tbody/tr[9]/td[1]' )\n",
    "for i in laptop_tag:\n",
    "    laptop_name.append(i.text)\n",
    "laptop_tag=driver.find_elements(By.XPATH,'/html/body/div[5]/div[1]/div[3]/table/tbody/tr[10]/td[1]' )\n",
    "for i in laptop_tag:\n",
    "    laptop_name.append(i.text)\n",
    "\n"
   ]
  },
  {
   "cell_type": "code",
   "execution_count": 267,
   "id": "e5d586ad",
   "metadata": {},
   "outputs": [
    {
     "data": {
      "text/plain": [
       "['MSI Titan GT77-12UHS',\n",
       " 'Alienware x17 R2',\n",
       " 'Acer Predator Triton 500 SE PT516-52s',\n",
       " 'Omen by HP (16-B1371TX)',\n",
       " 'Acer Predator Helios 300 AN515-45 (NH.QBRSI.0',\n",
       " 'MSI Delta 15 (A5EFK-083IN)',\n",
       " 'Omen by HP (16-c0141AX)',\n",
       " 'Lenovo Legion 5i Pro (82RF00MGIN)',\n",
       " 'Alienware m15 R5 Ryzen Edition icc-c780001win',\n",
       " 'Lenovo Slim 7 Gen 6 (82K8002JIN)']"
      ]
     },
     "execution_count": 267,
     "metadata": {},
     "output_type": "execute_result"
    }
   ],
   "source": [
    "laptop_name"
   ]
  },
  {
   "cell_type": "code",
   "execution_count": 268,
   "id": "1a2c3902",
   "metadata": {},
   "outputs": [
    {
     "data": {
      "text/plain": [
       "['N/A',\n",
       " 'Dell',\n",
       " 'N/A',\n",
       " 'Amazon',\n",
       " 'N/A',\n",
       " 'N/A',\n",
       " 'Amazon',\n",
       " 'N/A',\n",
       " 'Dell',\n",
       " 'Croma']"
      ]
     },
     "execution_count": 268,
     "metadata": {},
     "output_type": "execute_result"
    }
   ],
   "source": [
    "#scraping seller details\n",
    "seller=[]\n",
    "sel_tag=driver.find_elements(By.XPATH, '//td[@class=\"smmerchant\"]')\n",
    "for i in sel_tag:\n",
    "    seller.append(i.text)\n",
    "seller"
   ]
  },
  {
   "cell_type": "code",
   "execution_count": 269,
   "id": "9efde07b",
   "metadata": {},
   "outputs": [
    {
     "data": {
      "text/plain": [
       "['N/A',\n",
       " '₹ 389,990',\n",
       " '₹ 300,000',\n",
       " '₹ 170,990',\n",
       " '₹ 172,999',\n",
       " '₹ 188,990',\n",
       " '₹ 129,899',\n",
       " '₹ 230,890',\n",
       " '₹ 144,990',\n",
       " '₹ 142,990']"
      ]
     },
     "execution_count": 269,
     "metadata": {},
     "output_type": "execute_result"
    }
   ],
   "source": [
    "#scraping price details\n",
    "price=[]\n",
    "prc_tag=driver.find_elements(By.XPATH, '//td[@class=\"smprice\"]')\n",
    "for i in prc_tag:\n",
    "    price.append(i.text)\n",
    "price"
   ]
  },
  {
   "cell_type": "code",
   "execution_count": 270,
   "id": "9ee70ac1",
   "metadata": {},
   "outputs": [
    {
     "data": {
      "text/plain": [
       "(10, 10, 10)"
      ]
     },
     "execution_count": 270,
     "metadata": {},
     "output_type": "execute_result"
    }
   ],
   "source": [
    "#checking length of each column\n",
    "len(laptop_name),len(seller), len(price)"
   ]
  },
  {
   "cell_type": "code",
   "execution_count": 271,
   "id": "045bbb48",
   "metadata": {},
   "outputs": [
    {
     "name": "stdout",
     "output_type": "stream",
     "text": [
      "List Of Best Gaming Laptops In India (Jul 2022)\n"
     ]
    },
    {
     "data": {
      "text/html": [
       "<div>\n",
       "<style scoped>\n",
       "    .dataframe tbody tr th:only-of-type {\n",
       "        vertical-align: middle;\n",
       "    }\n",
       "\n",
       "    .dataframe tbody tr th {\n",
       "        vertical-align: top;\n",
       "    }\n",
       "\n",
       "    .dataframe thead th {\n",
       "        text-align: right;\n",
       "    }\n",
       "</style>\n",
       "<table border=\"1\" class=\"dataframe\">\n",
       "  <thead>\n",
       "    <tr style=\"text-align: right;\">\n",
       "      <th></th>\n",
       "      <th>Product Name</th>\n",
       "      <th>Seller</th>\n",
       "      <th>Price</th>\n",
       "    </tr>\n",
       "  </thead>\n",
       "  <tbody>\n",
       "    <tr>\n",
       "      <th>0</th>\n",
       "      <td>MSI Titan GT77-12UHS</td>\n",
       "      <td>N/A</td>\n",
       "      <td>N/A</td>\n",
       "    </tr>\n",
       "    <tr>\n",
       "      <th>1</th>\n",
       "      <td>Alienware x17 R2</td>\n",
       "      <td>Dell</td>\n",
       "      <td>₹ 389,990</td>\n",
       "    </tr>\n",
       "    <tr>\n",
       "      <th>2</th>\n",
       "      <td>Acer Predator Triton 500 SE PT516-52s</td>\n",
       "      <td>N/A</td>\n",
       "      <td>₹ 300,000</td>\n",
       "    </tr>\n",
       "    <tr>\n",
       "      <th>3</th>\n",
       "      <td>Omen by HP (16-B1371TX)</td>\n",
       "      <td>Amazon</td>\n",
       "      <td>₹ 170,990</td>\n",
       "    </tr>\n",
       "    <tr>\n",
       "      <th>4</th>\n",
       "      <td>Acer Predator Helios 300 AN515-45 (NH.QBRSI.0</td>\n",
       "      <td>N/A</td>\n",
       "      <td>₹ 172,999</td>\n",
       "    </tr>\n",
       "    <tr>\n",
       "      <th>5</th>\n",
       "      <td>MSI Delta 15 (A5EFK-083IN)</td>\n",
       "      <td>N/A</td>\n",
       "      <td>₹ 188,990</td>\n",
       "    </tr>\n",
       "    <tr>\n",
       "      <th>6</th>\n",
       "      <td>Omen by HP (16-c0141AX)</td>\n",
       "      <td>Amazon</td>\n",
       "      <td>₹ 129,899</td>\n",
       "    </tr>\n",
       "    <tr>\n",
       "      <th>7</th>\n",
       "      <td>Lenovo Legion 5i Pro (82RF00MGIN)</td>\n",
       "      <td>N/A</td>\n",
       "      <td>₹ 230,890</td>\n",
       "    </tr>\n",
       "    <tr>\n",
       "      <th>8</th>\n",
       "      <td>Alienware m15 R5 Ryzen Edition icc-c780001win</td>\n",
       "      <td>Dell</td>\n",
       "      <td>₹ 144,990</td>\n",
       "    </tr>\n",
       "    <tr>\n",
       "      <th>9</th>\n",
       "      <td>Lenovo Slim 7 Gen 6 (82K8002JIN)</td>\n",
       "      <td>Croma</td>\n",
       "      <td>₹ 142,990</td>\n",
       "    </tr>\n",
       "  </tbody>\n",
       "</table>\n",
       "</div>"
      ],
      "text/plain": [
       "                                    Product Name  Seller      Price\n",
       "0                           MSI Titan GT77-12UHS     N/A        N/A\n",
       "1                               Alienware x17 R2    Dell  ₹ 389,990\n",
       "2          Acer Predator Triton 500 SE PT516-52s     N/A  ₹ 300,000\n",
       "3                        Omen by HP (16-B1371TX)  Amazon  ₹ 170,990\n",
       "4  Acer Predator Helios 300 AN515-45 (NH.QBRSI.0     N/A  ₹ 172,999\n",
       "5                     MSI Delta 15 (A5EFK-083IN)     N/A  ₹ 188,990\n",
       "6                        Omen by HP (16-c0141AX)  Amazon  ₹ 129,899\n",
       "7              Lenovo Legion 5i Pro (82RF00MGIN)     N/A  ₹ 230,890\n",
       "8  Alienware m15 R5 Ryzen Edition icc-c780001win    Dell  ₹ 144,990\n",
       "9               Lenovo Slim 7 Gen 6 (82K8002JIN)   Croma  ₹ 142,990"
      ]
     },
     "execution_count": 271,
     "metadata": {},
     "output_type": "execute_result"
    }
   ],
   "source": [
    "#preparing the DataFrame\n",
    "laptop=pd.DataFrame({'Product Name':laptop_name, 'Seller': seller, 'Price':price })\n",
    "print(\"List Of Best Gaming Laptops In India (Jul 2022)\")\n",
    "laptop"
   ]
  },
  {
   "cell_type": "code",
   "execution_count": null,
   "id": "e921066c",
   "metadata": {},
   "outputs": [],
   "source": []
  },
  {
   "cell_type": "markdown",
   "id": "28d5992d",
   "metadata": {},
   "source": [
    "Q8. Write a python program to scrape the details for all billionaires from www.forbes.com. Details to be \n",
    "scrapped: “Rank”, “Name”, “Net worth”, “Age”, “Citizenship”, “Source”, “Industry”"
   ]
  },
  {
   "cell_type": "code",
   "execution_count": 272,
   "id": "0c487403",
   "metadata": {},
   "outputs": [],
   "source": [
    "#getting the web page\n",
    "\n",
    "driver.get('https://www.forbes.com/billionaires/')"
   ]
  },
  {
   "cell_type": "code",
   "execution_count": 274,
   "id": "4405289c",
   "metadata": {},
   "outputs": [
    {
     "data": {
      "text/plain": [
       "200"
      ]
     },
     "execution_count": 274,
     "metadata": {},
     "output_type": "execute_result"
    }
   ],
   "source": [
    "#scraping details , starting from rank\n",
    "rank=[]\n",
    "r_tag=driver.find_elements(By.XPATH, '//div[@class=\"rank\" ]')\n",
    "for i in r_tag:\n",
    "    rank.append(i.text)\n",
    "len(rank)"
   ]
  },
  {
   "cell_type": "code",
   "execution_count": 275,
   "id": "761377bb",
   "metadata": {},
   "outputs": [
    {
     "data": {
      "text/plain": [
       "200"
      ]
     },
     "execution_count": 275,
     "metadata": {},
     "output_type": "execute_result"
    }
   ],
   "source": [
    "#scraping name\n",
    "name=[]\n",
    "nm_tag=driver.find_elements(By.XPATH, '//div[@class=\"personName\"]')\n",
    "for i in nm_tag:\n",
    "    name.append(i.text)\n",
    "len(name)"
   ]
  },
  {
   "cell_type": "code",
   "execution_count": 277,
   "id": "e1b59a09",
   "metadata": {},
   "outputs": [
    {
     "data": {
      "text/plain": [
       "200"
      ]
     },
     "execution_count": 277,
     "metadata": {},
     "output_type": "execute_result"
    }
   ],
   "source": [
    "#scraping Net worth\n",
    "net_worth=[]\n",
    "nt_wrth_tag=driver.find_elements(By.XPATH,'//div[@class=\"netWorth\"]')\n",
    "for i in nt_wrth_tag:\n",
    "    net_worth.append(i.text)\n",
    "len(net_worth)"
   ]
  },
  {
   "cell_type": "code",
   "execution_count": 280,
   "id": "849bc735",
   "metadata": {},
   "outputs": [
    {
     "data": {
      "text/plain": [
       "200"
      ]
     },
     "execution_count": 280,
     "metadata": {},
     "output_type": "execute_result"
    }
   ],
   "source": [
    "#scraping Age\n",
    "age=[]\n",
    "a_tag=driver.find_elements(By.XPATH, '//div[@class=\"age\"]')\n",
    "for i in a_tag:\n",
    "    age.append(i.text)\n",
    "len(age)"
   ]
  },
  {
   "cell_type": "code",
   "execution_count": 282,
   "id": "9b10dfe8",
   "metadata": {},
   "outputs": [
    {
     "data": {
      "text/plain": [
       "200"
      ]
     },
     "execution_count": 282,
     "metadata": {},
     "output_type": "execute_result"
    }
   ],
   "source": [
    "#scraping citizenship\n",
    "citizen=[]\n",
    "c_tag=driver.find_elements(By.XPATH,'//div[@class=\"countryOfCitizenship\"]')\n",
    "for i in c_tag:\n",
    "    citizen.append(i.text)\n",
    "len(citizen)"
   ]
  },
  {
   "cell_type": "code",
   "execution_count": 284,
   "id": "7f6597dc",
   "metadata": {},
   "outputs": [
    {
     "data": {
      "text/plain": [
       "200"
      ]
     },
     "execution_count": 284,
     "metadata": {},
     "output_type": "execute_result"
    }
   ],
   "source": [
    "#scraping source\n",
    "source=[]\n",
    "s_tag=driver.find_elements(By.XPATH,'//div[@class=\"source\" ]')\n",
    "for i in s_tag:\n",
    "    source.append(i.text)\n",
    "len(source)"
   ]
  },
  {
   "cell_type": "code",
   "execution_count": 286,
   "id": "b98b8dbf",
   "metadata": {},
   "outputs": [
    {
     "data": {
      "text/plain": [
       "200"
      ]
     },
     "execution_count": 286,
     "metadata": {},
     "output_type": "execute_result"
    }
   ],
   "source": [
    "#scraping Industry\n",
    "industry=[]\n",
    "i_tag=driver.find_elements(By.XPATH,'//div[@class=\"category\"]')\n",
    "for i in i_tag:\n",
    "    industry.append(i.text)\n",
    "len(industry)"
   ]
  },
  {
   "cell_type": "code",
   "execution_count": 287,
   "id": "f7a7011a",
   "metadata": {},
   "outputs": [
    {
     "name": "stdout",
     "output_type": "stream",
     "text": [
      "List of The Richest People In The World according to Forbes\n"
     ]
    },
    {
     "data": {
      "text/html": [
       "<div>\n",
       "<style scoped>\n",
       "    .dataframe tbody tr th:only-of-type {\n",
       "        vertical-align: middle;\n",
       "    }\n",
       "\n",
       "    .dataframe tbody tr th {\n",
       "        vertical-align: top;\n",
       "    }\n",
       "\n",
       "    .dataframe thead th {\n",
       "        text-align: right;\n",
       "    }\n",
       "</style>\n",
       "<table border=\"1\" class=\"dataframe\">\n",
       "  <thead>\n",
       "    <tr style=\"text-align: right;\">\n",
       "      <th></th>\n",
       "      <th>Rank</th>\n",
       "      <th>Person Name</th>\n",
       "      <th>Age</th>\n",
       "      <th>Net Worth</th>\n",
       "      <th>Citizenship</th>\n",
       "      <th>Source</th>\n",
       "      <th>Industry</th>\n",
       "    </tr>\n",
       "  </thead>\n",
       "  <tbody>\n",
       "    <tr>\n",
       "      <th>0</th>\n",
       "      <td>1.</td>\n",
       "      <td>Elon Musk</td>\n",
       "      <td>50</td>\n",
       "      <td>$219 B</td>\n",
       "      <td>United States</td>\n",
       "      <td>Tesla, SpaceX</td>\n",
       "      <td>Automotive</td>\n",
       "    </tr>\n",
       "    <tr>\n",
       "      <th>1</th>\n",
       "      <td>2.</td>\n",
       "      <td>Jeff Bezos</td>\n",
       "      <td>58</td>\n",
       "      <td>$171 B</td>\n",
       "      <td>United States</td>\n",
       "      <td>Amazon</td>\n",
       "      <td>Technology</td>\n",
       "    </tr>\n",
       "    <tr>\n",
       "      <th>2</th>\n",
       "      <td>3.</td>\n",
       "      <td>Bernard Arnault &amp; family</td>\n",
       "      <td>73</td>\n",
       "      <td>$158 B</td>\n",
       "      <td>France</td>\n",
       "      <td>LVMH</td>\n",
       "      <td>Fashion &amp; Retail</td>\n",
       "    </tr>\n",
       "    <tr>\n",
       "      <th>3</th>\n",
       "      <td>4.</td>\n",
       "      <td>Bill Gates</td>\n",
       "      <td>66</td>\n",
       "      <td>$129 B</td>\n",
       "      <td>United States</td>\n",
       "      <td>Microsoft</td>\n",
       "      <td>Technology</td>\n",
       "    </tr>\n",
       "    <tr>\n",
       "      <th>4</th>\n",
       "      <td>5.</td>\n",
       "      <td>Warren Buffett</td>\n",
       "      <td>91</td>\n",
       "      <td>$118 B</td>\n",
       "      <td>United States</td>\n",
       "      <td>Berkshire Hathaway</td>\n",
       "      <td>Finance &amp; Investments</td>\n",
       "    </tr>\n",
       "    <tr>\n",
       "      <th>...</th>\n",
       "      <td>...</td>\n",
       "      <td>...</td>\n",
       "      <td>...</td>\n",
       "      <td>...</td>\n",
       "      <td>...</td>\n",
       "      <td>...</td>\n",
       "      <td>...</td>\n",
       "    </tr>\n",
       "    <tr>\n",
       "      <th>195</th>\n",
       "      <td>192.</td>\n",
       "      <td>Marcel Herrmann Telles</td>\n",
       "      <td>72</td>\n",
       "      <td>$10.3 B</td>\n",
       "      <td>Brazil</td>\n",
       "      <td>beer</td>\n",
       "      <td>Food &amp; Beverage</td>\n",
       "    </tr>\n",
       "    <tr>\n",
       "      <th>196</th>\n",
       "      <td>197.</td>\n",
       "      <td>Leon Black</td>\n",
       "      <td>70</td>\n",
       "      <td>$10 B</td>\n",
       "      <td>United States</td>\n",
       "      <td>private equity</td>\n",
       "      <td>Finance &amp; Investments</td>\n",
       "    </tr>\n",
       "    <tr>\n",
       "      <th>197</th>\n",
       "      <td>197.</td>\n",
       "      <td>Joe Gebbia</td>\n",
       "      <td>40</td>\n",
       "      <td>$10 B</td>\n",
       "      <td>United States</td>\n",
       "      <td>Airbnb</td>\n",
       "      <td>Technology</td>\n",
       "    </tr>\n",
       "    <tr>\n",
       "      <th>198</th>\n",
       "      <td>197.</td>\n",
       "      <td>David Geffen</td>\n",
       "      <td>79</td>\n",
       "      <td>$10 B</td>\n",
       "      <td>United States</td>\n",
       "      <td>movies, record labels</td>\n",
       "      <td>Media &amp; Entertainment</td>\n",
       "    </tr>\n",
       "    <tr>\n",
       "      <th>199</th>\n",
       "      <td>197.</td>\n",
       "      <td>Yu Renrong</td>\n",
       "      <td>56</td>\n",
       "      <td>$10 B</td>\n",
       "      <td>China</td>\n",
       "      <td>semiconductors</td>\n",
       "      <td>Manufacturing</td>\n",
       "    </tr>\n",
       "  </tbody>\n",
       "</table>\n",
       "<p>200 rows × 7 columns</p>\n",
       "</div>"
      ],
      "text/plain": [
       "     Rank               Person Name Age Net Worth    Citizenship  \\\n",
       "0      1.                 Elon Musk  50    $219 B  United States   \n",
       "1      2.                Jeff Bezos  58    $171 B  United States   \n",
       "2      3.  Bernard Arnault & family  73    $158 B         France   \n",
       "3      4.                Bill Gates  66    $129 B  United States   \n",
       "4      5.            Warren Buffett  91    $118 B  United States   \n",
       "..    ...                       ...  ..       ...            ...   \n",
       "195  192.    Marcel Herrmann Telles  72   $10.3 B         Brazil   \n",
       "196  197.                Leon Black  70     $10 B  United States   \n",
       "197  197.                Joe Gebbia  40     $10 B  United States   \n",
       "198  197.              David Geffen  79     $10 B  United States   \n",
       "199  197.                Yu Renrong  56     $10 B          China   \n",
       "\n",
       "                    Source               Industry  \n",
       "0            Tesla, SpaceX             Automotive  \n",
       "1                   Amazon             Technology  \n",
       "2                     LVMH       Fashion & Retail  \n",
       "3                Microsoft             Technology  \n",
       "4       Berkshire Hathaway  Finance & Investments  \n",
       "..                     ...                    ...  \n",
       "195                   beer        Food & Beverage  \n",
       "196         private equity  Finance & Investments  \n",
       "197                 Airbnb             Technology  \n",
       "198  movies, record labels  Media & Entertainment  \n",
       "199         semiconductors          Manufacturing  \n",
       "\n",
       "[200 rows x 7 columns]"
      ]
     },
     "execution_count": 287,
     "metadata": {},
     "output_type": "execute_result"
    }
   ],
   "source": [
    "#preparing dataframe\n",
    "rich_people=pd.DataFrame({'Rank': rank, 'Person Name':name, 'Age': age,\n",
    "                         'Net Worth':net_worth, 'Citizenship':citizen,\n",
    "                         'Source':source, 'Industry':industry})\n",
    "print(\"List of The Richest People In The World according to Forbes\")\n",
    "rich_people"
   ]
  },
  {
   "cell_type": "code",
   "execution_count": null,
   "id": "9577fd96",
   "metadata": {},
   "outputs": [],
   "source": []
  },
  {
   "cell_type": "markdown",
   "id": "5bfdd7d7",
   "metadata": {},
   "source": [
    "Q9. Write a program to extract at least 500 Comments, Comment upvote and time when comment was posted \n",
    "from any YouTube Video."
   ]
  },
  {
   "cell_type": "code",
   "execution_count": 23,
   "id": "5ace3cb9",
   "metadata": {},
   "outputs": [],
   "source": [
    "driver.get('https://www.youtube.com/watch?v=fxz5vzN4y3c&t=176s')"
   ]
  },
  {
   "cell_type": "code",
   "execution_count": 24,
   "id": "2ed55a4e",
   "metadata": {},
   "outputs": [],
   "source": [
    "#scraping comments\n",
    "\n",
    "comment_tag=driver.find_elements(By.ID,'content-text')\n"
   ]
  },
  {
   "cell_type": "code",
   "execution_count": 26,
   "id": "b6bc7456",
   "metadata": {},
   "outputs": [
    {
     "data": {
      "text/plain": [
       "570"
      ]
     },
     "execution_count": 26,
     "metadata": {},
     "output_type": "execute_result"
    }
   ],
   "source": [
    "comment=[]\n",
    "for _ in range(30):\n",
    "    driver.execute_script(\"window.scrollBy(0,1000)\")\n",
    "    time.sleep(5)\n",
    "    for i in comment_tag:\n",
    "        comment.append(i.text)\n",
    "len(comment)      "
   ]
  },
  {
   "cell_type": "code",
   "execution_count": 30,
   "id": "8e85eef6",
   "metadata": {},
   "outputs": [
    {
     "data": {
      "text/plain": [
       "5880"
      ]
     },
     "execution_count": 30,
     "metadata": {},
     "output_type": "execute_result"
    }
   ],
   "source": [
    "#scraping upvote on comment\n",
    "upvote=[]\n",
    "up_tag=driver.find_elements(By.ID, 'vote-count-middle')\n",
    "for _ in range(20):\n",
    "    driver.execute_script(\"window.scrollBy(0,1000)\")\n",
    "    time.sleep(5)\n",
    "    for i in up_tag:\n",
    "        if(i.text)== None:\n",
    "            upvote.append('-')\n",
    "        else:\n",
    "            upvote.append(i.text)\n",
    "len(upvote)      "
   ]
  },
  {
   "cell_type": "code",
   "execution_count": 34,
   "id": "3da928fd",
   "metadata": {},
   "outputs": [],
   "source": [
    "upvote=upvote[:len(comment)]\n"
   ]
  },
  {
   "cell_type": "code",
   "execution_count": 49,
   "id": "59072b3c",
   "metadata": {},
   "outputs": [
    {
     "data": {
      "text/plain": [
       "12280"
      ]
     },
     "execution_count": 49,
     "metadata": {},
     "output_type": "execute_result"
    }
   ],
   "source": [
    "#scraping time when comment was post\n",
    "tim=[]\n",
    "t_tag=driver.find_elements(By.XPATH, '//yt-formatted-string[@class=\"published-time-text style-scope ytd-comment-renderer\" ]')\n",
    "for _ in range(20):\n",
    "    driver.execute_script(\"window.scrollBy(0,1000)\")\n",
    "    time.sleep(5)\n",
    "    for i in t_tag:\n",
    "        tim.append(i.text)\n",
    "len(tim)\n",
    "    "
   ]
  },
  {
   "cell_type": "code",
   "execution_count": 51,
   "id": "f048ce6e",
   "metadata": {},
   "outputs": [],
   "source": [
    "tim=tim[:len(comment)]"
   ]
  },
  {
   "cell_type": "code",
   "execution_count": 52,
   "id": "9bbf2dac",
   "metadata": {},
   "outputs": [
    {
     "data": {
      "text/plain": [
       "(570, 570, 570)"
      ]
     },
     "execution_count": 52,
     "metadata": {},
     "output_type": "execute_result"
    }
   ],
   "source": [
    "len(comment),len(upvote),len(tim)"
   ]
  },
  {
   "cell_type": "code",
   "execution_count": 53,
   "id": "b86f2536",
   "metadata": {},
   "outputs": [
    {
     "name": "stdout",
     "output_type": "stream",
     "text": [
      "Comments posted on the YouTube video \n"
     ]
    },
    {
     "data": {
      "text/html": [
       "<div>\n",
       "<style scoped>\n",
       "    .dataframe tbody tr th:only-of-type {\n",
       "        vertical-align: middle;\n",
       "    }\n",
       "\n",
       "    .dataframe tbody tr th {\n",
       "        vertical-align: top;\n",
       "    }\n",
       "\n",
       "    .dataframe thead th {\n",
       "        text-align: right;\n",
       "    }\n",
       "</style>\n",
       "<table border=\"1\" class=\"dataframe\">\n",
       "  <thead>\n",
       "    <tr style=\"text-align: right;\">\n",
       "      <th></th>\n",
       "      <th>Comments</th>\n",
       "      <th>Upvote on Comments</th>\n",
       "      <th>Time of post</th>\n",
       "    </tr>\n",
       "  </thead>\n",
       "  <tbody>\n",
       "    <tr>\n",
       "      <th>0</th>\n",
       "      <td>As a christian I love watching these type of v...</td>\n",
       "      <td>5</td>\n",
       "      <td>4 days ago</td>\n",
       "    </tr>\n",
       "    <tr>\n",
       "      <th>1</th>\n",
       "      <td>वापस आकर यात्रा के दौरान की सारी तकलीफ और परेश...</td>\n",
       "      <td>94</td>\n",
       "      <td>2 weeks ago</td>\n",
       "    </tr>\n",
       "    <tr>\n",
       "      <th>2</th>\n",
       "      <td>The extra effort you add to make good a vlog a...</td>\n",
       "      <td>19</td>\n",
       "      <td>2 weeks ago</td>\n",
       "    </tr>\n",
       "    <tr>\n",
       "      <th>3</th>\n",
       "      <td>I was also there two days ago. The facilities ...</td>\n",
       "      <td>6</td>\n",
       "      <td>12 days ago</td>\n",
       "    </tr>\n",
       "    <tr>\n",
       "      <th>4</th>\n",
       "      <td>भाई आपको सकुशल देखके बेहद ख़ुशी हुई... महादेव आ...</td>\n",
       "      <td>38</td>\n",
       "      <td>2 weeks ago</td>\n",
       "    </tr>\n",
       "    <tr>\n",
       "      <th>...</th>\n",
       "      <td>...</td>\n",
       "      <td>...</td>\n",
       "      <td>...</td>\n",
       "    </tr>\n",
       "    <tr>\n",
       "      <th>565</th>\n",
       "      <td>Very informative video. When did you had Darsh...</td>\n",
       "      <td></td>\n",
       "      <td>18 hours ago</td>\n",
       "    </tr>\n",
       "    <tr>\n",
       "      <th>566</th>\n",
       "      <td>After watching this vlog, no other video or vl...</td>\n",
       "      <td>2</td>\n",
       "      <td>2 weeks ago</td>\n",
       "    </tr>\n",
       "    <tr>\n",
       "      <th>567</th>\n",
       "      <td>HAR HAR MAHADEV JAI BABA AMARNATH JI KI</td>\n",
       "      <td></td>\n",
       "      <td>4 days ago</td>\n",
       "    </tr>\n",
       "    <tr>\n",
       "      <th>568</th>\n",
       "      <td>Good job Sir. Very hard work.</td>\n",
       "      <td></td>\n",
       "      <td>11 days ago</td>\n",
       "    </tr>\n",
       "    <tr>\n",
       "      <th>569</th>\n",
       "      <td>Nice vlog.  Sir u have written Kedarnath also ...</td>\n",
       "      <td></td>\n",
       "      <td>13 days ago</td>\n",
       "    </tr>\n",
       "  </tbody>\n",
       "</table>\n",
       "<p>570 rows × 3 columns</p>\n",
       "</div>"
      ],
      "text/plain": [
       "                                              Comments Upvote on Comments  \\\n",
       "0    As a christian I love watching these type of v...                  5   \n",
       "1    वापस आकर यात्रा के दौरान की सारी तकलीफ और परेश...                 94   \n",
       "2    The extra effort you add to make good a vlog a...                 19   \n",
       "3    I was also there two days ago. The facilities ...                  6   \n",
       "4    भाई आपको सकुशल देखके बेहद ख़ुशी हुई... महादेव आ...                 38   \n",
       "..                                                 ...                ...   \n",
       "565  Very informative video. When did you had Darsh...                      \n",
       "566  After watching this vlog, no other video or vl...                  2   \n",
       "567            HAR HAR MAHADEV JAI BABA AMARNATH JI KI                      \n",
       "568                     Good job Sir. Very hard work.                       \n",
       "569  Nice vlog.  Sir u have written Kedarnath also ...                      \n",
       "\n",
       "     Time of post  \n",
       "0      4 days ago  \n",
       "1     2 weeks ago  \n",
       "2     2 weeks ago  \n",
       "3     12 days ago  \n",
       "4     2 weeks ago  \n",
       "..            ...  \n",
       "565  18 hours ago  \n",
       "566   2 weeks ago  \n",
       "567    4 days ago  \n",
       "568   11 days ago  \n",
       "569   13 days ago  \n",
       "\n",
       "[570 rows x 3 columns]"
      ]
     },
     "execution_count": 53,
     "metadata": {},
     "output_type": "execute_result"
    }
   ],
   "source": [
    "#preparing Dataframe\n",
    "you_tube= pd.DataFrame({'Comments':comment, 'Upvote on Comments':upvote, 'Time of post':tim})\n",
    "print(\"Comments posted on the YouTube video \")\n",
    "you_tube"
   ]
  },
  {
   "cell_type": "code",
   "execution_count": null,
   "id": "64e3b957",
   "metadata": {},
   "outputs": [],
   "source": []
  },
  {
   "cell_type": "markdown",
   "id": "b34cd654",
   "metadata": {},
   "source": [
    "Q10. . Write a python program to scrape a data for all available Hostels from https://www.hostelworld.com/ in \n",
    "“London” location. You have to scrape hostel name, distance from city centre, ratings, total reviews, \n",
    "overall reviews, privates from price, dorms from price, facilities and property description"
   ]
  },
  {
   "cell_type": "code",
   "execution_count": 285,
   "id": "29e81b75",
   "metadata": {},
   "outputs": [],
   "source": [
    "#getting the web page\n",
    "url=\"https://www.hostelworld.com/hostels\"\n",
    "driver.get(url)"
   ]
  },
  {
   "cell_type": "code",
   "execution_count": 286,
   "id": "3fcbf4fa",
   "metadata": {},
   "outputs": [
    {
     "data": {
      "text/plain": [
       "<selenium.webdriver.remote.webelement.WebElement (session=\"03f65fd5b88d51cc2494a4f951b25c03\", element=\"4d85e9a6-b173-48d3-b86d-cf7fe19e848f\")>"
      ]
     },
     "execution_count": 286,
     "metadata": {},
     "output_type": "execute_result"
    }
   ],
   "source": [
    "#finding web element for search bar\n",
    "city_tag=driver.find_element(By.XPATH, '/html/body/div[1]/div[1]/div[2]/section/div/form/div/div[1]/div/input')\n",
    "city_tag"
   ]
  },
  {
   "cell_type": "code",
   "execution_count": 287,
   "id": "7d3b4e86",
   "metadata": {},
   "outputs": [],
   "source": [
    "#writing in the search bar\n",
    "city_tag.send_keys('London')"
   ]
  },
  {
   "cell_type": "code",
   "execution_count": 288,
   "id": "4910d9be",
   "metadata": {},
   "outputs": [],
   "source": [
    "#selecting london from drop down\n",
    "main_tag=driver.find_element(By.XPATH,'//li[@class=\"hover\"]')\n",
    "main_tag.click()"
   ]
  },
  {
   "cell_type": "code",
   "execution_count": 289,
   "id": "2b0b58da",
   "metadata": {},
   "outputs": [],
   "source": [
    "#finding web element for search button and clicking on it.\n",
    "srch_tag=driver.find_element(By.XPATH,'/html/body/div[1]/div[1]/div[2]/section/div/form/div/div[2]/button')\n",
    "srch_tag.click()"
   ]
  },
  {
   "cell_type": "code",
   "execution_count": 293,
   "id": "7f4e0839",
   "metadata": {},
   "outputs": [
    {
     "data": {
      "text/plain": [
       "15"
      ]
     },
     "execution_count": 293,
     "metadata": {},
     "output_type": "execute_result"
    }
   ],
   "source": [
    "#scraping hostel name\n",
    "hostel=[]\n",
    "name_tag=driver.find_elements(By.XPATH,'//h2[@class=\"title title-6\"]')\n",
    "for i in name_tag:\n",
    "    hostel.append(i.text)\n",
    "len(hostel)"
   ]
  },
  {
   "cell_type": "code",
   "execution_count": 295,
   "id": "865651d2",
   "metadata": {},
   "outputs": [
    {
     "data": {
      "text/plain": [
       "15"
      ]
     },
     "execution_count": 295,
     "metadata": {},
     "output_type": "execute_result"
    }
   ],
   "source": [
    "#distance from city centre,\n",
    "distance=[]\n",
    "cc_tag=driver.find_elements(By.XPATH, '//div[@class=\"subtitle body-3\"]')\n",
    "for i in cc_tag:\n",
    "    distance.append(i.text)\n",
    "len(distance)"
   ]
  },
  {
   "cell_type": "code",
   "execution_count": 303,
   "id": "9c5476ad",
   "metadata": {},
   "outputs": [
    {
     "data": {
      "text/plain": [
       "15"
      ]
     },
     "execution_count": 303,
     "metadata": {},
     "output_type": "execute_result"
    }
   ],
   "source": [
    "#overall reviews, \n",
    "overall=[]\n",
    "o_tag=driver.find_elements(By.CLASS_NAME,\"keyword\")\n",
    "for i in o_tag:\n",
    "    overall.append(i.text)\n",
    "len(overall)"
   ]
  },
  {
   "cell_type": "code",
   "execution_count": 305,
   "id": "77589024",
   "metadata": {},
   "outputs": [
    {
     "data": {
      "text/plain": [
       "15"
      ]
     },
     "execution_count": 305,
     "metadata": {},
     "output_type": "execute_result"
    }
   ],
   "source": [
    "#privates from price,\n",
    "private=[]\n",
    "\n",
    "temp=[]\n",
    "pp_tag=driver.find_elements(By.XPATH, '//div[@class=\"price-col\"]')\n",
    "for i in pp_tag:\n",
    "    temp.append(i.text)\n",
    "for i in range(0,len(temp),2):\n",
    "    private.append((temp[i]).split('\\n'))\n",
    "\n",
    "len(private)"
   ]
  },
  {
   "cell_type": "code",
   "execution_count": 306,
   "id": "86b6a5bd",
   "metadata": {},
   "outputs": [
    {
     "data": {
      "text/plain": [
       "15"
      ]
     },
     "execution_count": 306,
     "metadata": {},
     "output_type": "execute_result"
    }
   ],
   "source": [
    "#dorms from price,\n",
    "dorm=[]\n",
    "for i in range(1,len(temp),2):\n",
    "    dorm.append((temp[i]).split('\\n'))\n",
    "len(dorm)"
   ]
  },
  {
   "cell_type": "code",
   "execution_count": 307,
   "id": "0bee23a0",
   "metadata": {},
   "outputs": [
    {
     "data": {
      "text/plain": [
       "15"
      ]
     },
     "execution_count": 307,
     "metadata": {},
     "output_type": "execute_result"
    }
   ],
   "source": [
    "#gathering urls for all the hostels present on the web page\n",
    "url=[]\n",
    "url_tag=driver.find_elements(By.XPATH,'//h2[@class=\"title title-6\"]//a')\n",
    "for i in url_tag:\n",
    "    url.append(i.get_attribute('href'))\n",
    "len(url)"
   ]
  },
  {
   "cell_type": "code",
   "execution_count": 308,
   "id": "a4c4652a",
   "metadata": {},
   "outputs": [
    {
     "data": {
      "text/plain": [
       "15"
      ]
     },
     "execution_count": 308,
     "metadata": {},
     "output_type": "execute_result"
    }
   ],
   "source": [
    "# facilities & property description\n",
    "fac=[]\n",
    "\n",
    "for i in url:\n",
    "    driver.get(i)\n",
    "    time.sleep(7)\n",
    "    try:\n",
    "        facilities=driver.find_elements(By.XPATH,'//ul[@class=\"facility-sections\"]')\n",
    "        for i in facilities:\n",
    "            fac.append(i.text)\n",
    "            \n",
    "\n",
    "    except NoSuchElementException:\n",
    "        \n",
    "        fac.append(\"Not present\")\n",
    "        \n",
    "len(fac)"
   ]
  },
  {
   "cell_type": "code",
   "execution_count": 313,
   "id": "162b357f",
   "metadata": {},
   "outputs": [
    {
     "name": "stdout",
     "output_type": "stream",
     "text": [
      "15 2\n"
     ]
    }
   ],
   "source": [
    "#property description\n",
    "descrptn=[]\n",
    "for i in url:\n",
    "    driver.get(i)\n",
    "    time.sleep(7)\n",
    "    try:\n",
    "       \n",
    "        pd_tag=driver.find_elements(By.XPATH,'//div[@class=\"content collapse-content\"]')\n",
    "        for i in pd_tag[0:1]:\n",
    "            descrptn.append(i.text)\n",
    "            \n",
    "    except NoSuchElementException:\n",
    "        descrptn.append('Not Present')\n",
    "        \n",
    "            \n",
    "        \n",
    "print(len(descrptn))                \n",
    "        \n",
    "        "
   ]
  },
  {
   "cell_type": "code",
   "execution_count": 311,
   "id": "4f62ab73",
   "metadata": {},
   "outputs": [
    {
     "data": {
      "text/plain": [
       "[\"Generator London is a design hotel-hostel located in Russell Square in the heart of central London, a short stroll to Covent Garden, Regents Park and trendy King's Cross. Guests can choose from shared dorms to private rooms, offering something for everyone. Complete with 24-hour reception, free wifi, cafe and bar Generator is a fun and affordable choice in London.\\n\\nGenerator London was the very first Generator and you'll find it in the area of Russell Square in the heart of the West End. \\n\\nIt's the ideal spot to enjoy London from, everything you need to see is minutes away by tube. You'll never run out of things to do in the UK's capital. You just have to decide where to start and we can help you with that. When you have seen and done it all for the day head back to Generator and unwind. \\n\\nIt's a destination in its own right and a great place to socialise and reflect on your experiences of the day. Head to the bar and chill out areas to get yourself a well deserved drink or two. It's lively, friendly and un-missable. We've also got great beds for sleepy heads and of course you'll be enjoying London life in the most authentic surroundings. \\n\\nChoose from a great selection of rooms, from Dorms, to Quads, to Private rooms with innovative mod cons. Fast and free Wi-Fi is all yours too. To get the most out of your stay visit the travel shop and our city experts will help you devise an itinerary that will take you to all the hidden treasures this dynamic city has to offer. You'll have to stay longer to fit it all in but you'll not need convincing of that. We'll see you there soon.\\n\\nImportant points:\\n\\n Central location Situated close to Russell Square\\n Complimentary Wi-Fi in public areas & guest bedrooms\\n Travel Desk\\n Luggage Store\\n Laundry Room\\n Games Room\\n Bar & Chill Out Areas\\n Nightly Events & Entertainment\\n Dining facilities for breakfast, lunch, dinner and all day snacks\\n Female Dormitories\\n Dormitories for 4, 6 & 8\\n Group bookings\\n\\nFREE WI-FI\\nStay connected. Free for all!\\n\\nTHE BAR\\nOrder a classic cocktail. Open from 5pm-2am with fun and games every night.\\n\\nTHE LOUNGE & CAFE \\nOpen everyday\\n\\nBREAKFAST\\n\\nBreakfast not included.\\nInternational breakfast available upon request: 8.50 (GBP) if booked online.\\nMon - Fri from 7 to 10 a.m.\\nWeekend 8 to 11 a.m.\\n\\nDINNER. \\nDelicious meals available between 5-9pm every evening. A dish of the day will also be available together with the bar snack menu.\\n\\nSNACKS\\nVending machines available for night owls to satisfy the midnight munchies.\\n\\nROOMS TO AMAZE\\nA wide selection of contemporary Privates, Twins, Triples & Dorms, with crisp white linen all available at great rates. Towels included complimentary in Twin rooms only.\\n\\nBATHROOMS\\nShared showers on every floor. \\n\\nLAUNDRY\\nOpen 24 hours a day where you can wash, dry and iron for a small fee.\\n\\n24 HOUR RECEPTION\\nNo need to worry about arriving late or early. The Generator Reception is open 24 hours a day with a duty manager who's always around to help.\\n\\nLUGGAGE STORE\\nSecure luggage room is available so you can sightsee without dragging your bag with you.\\n\\nPETS\\nWe would welcome a dog on property but only when staying in a private room/dorm, and subject to a £5 fee per dog per night.\\n\\nGREAT STAFF\\nAll our staff are multi lingual and on hand to help you with whatever info you need.\\n\\nTRAVEL SHOP\\nPurchase tickets, tours and a whole lot more including phone and postal service. We will help you make the most of your stay. Undecided? Take advantage of our complimentary guided walking tour available daily.\\n\\nUnfortunately guests under the age of 18 are not allowed to stay in the dorms .\\n\\nWe look forward to giving you a warm welcome to The Generator in the near future.\",\n",
       " \"I traveled to Europe by myself & needed a quick place to stay for the night. I absolutely loved my twin bed ensuite because it was very important for me to have my own bathroom. For the price though? I wish I at least had a discount but it's okay. It was much smaller than expected but I still managed. I do wish there was a little table near the lamp so I wouldn't have to put my phone on the floor while it charged. A fan would have been nice too since it was a bit warm. All in all, great place!\",\n",
       " \"Safestay at Elephant & Castle is ideal if you are looking for budget accommodation in London, whether you see the sights in this amazing city or travelling with your family. If Tate Modern, the National Theatre, The Imperial War Museum, the London Aquarium, the London Dungeon, a cricket match at the Kia Oval or clubbing at the world-famous Ministry of Sound are on your must-do list, Safestay London Elephant & Castle is perfectly located.\\n\\nOur beautiful 18th-century Georgian building is centrally located, close to London's mighty River Thames and the restaurants, bars and cafes the Southbank is famed for, along with the London Eye, Borough Market and Shakespeare's Globe Theatre. It's secure, stylish, comfortable and fun, with an illuminated garden for you to relax in.\\n\\nSo if you're after budget accommodation in London, bringing a group of school children to study the sights or want something different from the usual options in London, why not try this fantastic hostel out for size.\\n\\nClose to all the big London tourist attractions, our staff will happily help you plan your visit and give you top tips on what is happening in London during your stay.\\n\\nSee these London landmarks within 6 stops of the hostel using the Underground:\\n. Oxford Street\\n. Piccadilly Circus\\n. Leicester Square\\n. Covent Garden\\n. Westminster Abbey\\n. Big Ben & the Houses of Parliament\\n. Buckingham Palace\\n. St Paul's Cathedral\\n. The Tower of London and Tower Bridge \\n\\nFREE WI-FI\\nFree across all areas\\n\\nBREAKFAST\\nEnjoy our packed breakfast served between 7:00 am and 10:00 am for only GBP 6.00\\n\\nTravelling with children? Cots are available on request. Please contact the hostel in advance to arrange.\\nLuggage storage subject to availability upon arrival and departure\\n\\nAttractions: We sell discounted and fast track entrance tickets to some of London's most famous sights and best kept secrets. Including the London Eye, Madame Tussauds, The Tower of London, Walking tours, Bike tours, boat trips, and many more.\\n\\nHostel Activities: We organise fun stuff for you to do nearly every day of the week! Such as Free Walking tours, top-rated Pub Crawls, Group trips to famous West End Shows, Jet boating on the Thames\",\n",
       " 'I really enjoyed being able to pick an \"all girls\" room. That made staying in London feel a bit more safe. It is at the end of the Bakerloo Line, so it\\'s easy to access all the TUBE lines. The staff were friendly, even when overwhelmed and understaffed. The bar always has some sort of drink deal, and the breakfast is cheap and a decent selection of choices to get your day started off right. For the price, in London, it is the best deal.. compared to some other cheap hostels.',\n",
       " \"Safestay Holland Park\\n\\nSafestay Holland Park is ideally located in the heart of London, nestled within one of the capital's most prestigious parks. This stunning hostel consists of 3 buildings, including the East Wing of the park's original Jacobean building, and surrounds our private courtyard garden.\\n\\nThe property has been fully refurbished to the high standards for which Safestay is renowned. \\n\\nThe Grade 1 listed building is located on the edge of London's famous Holland Park (search for Holland walk and duchess of Bedford Walk on your maps) and will provide Safestay guests with the opportunity to stay in the heart of one of the capital's desirable neighborhoods. The property dates back to 1605 along with a 1950's extension and is situated in a huge garden within the middle of one of London's most beautiful parks.\\n\\nHistoric, Jacobean splendor, in a great city location. Who says you can't have it all? This mansion in the middle of Holland Park was visited by Sir Walter Scott, Lord Byron, and Dickens. Today it offers large, comfortable rooms to you. \\n\\nThree different houses with a range of standard & ensuite rooms as well as family rooms & private rooms for everyone!\\nPool room, breakfast room & restaurant as well as the garden, & the whole Park itself with its famous beautiful woodland trails, manicured lawns, the Kyoto Japanese Garden with its resident Coi, and a fantastic ice cream stand in the middle.\\nOpened in 1952, Holland Park used to be a private estate belonging to the Earl of Holland. During the 19th century, the Holland House attracted high-profile visitors from various walks of life, from the politician, Lord Palmerston, to the poet, Lord Byron.\\n\\nSafestay Holland Park has excellent transport links and is within easy reach of The Natural History Museum, Holland Park Avenue, Notting Hill Gate, Portobello Market, Harrods, The Science Museum, Hyde Park, Westfield Shopping Centre, and Kensington Palace Gardens.\\n\\nDormitory style and range in size from 2 beds upwards. They offer mixed accommodation. Clean fresh sheets are included in the price. Lockers are available in rooms. Padlocks available for sale\\n\\nSafestay Holland Park's Policies & Conditions:\\n\\nCancellation policy: 24 hours before arrival. \\nPayment upon arrival by credit cards, debit cards. \\nThis property may pre-authorize your card before arrival.\\n\\nCheck-in from 15:00\\nCheck out before 10:00\\n\\nTaxes included.\\nBreakfast not included - 6.00 GBP per person per day.\\nPlease note there is no guest kitchen facility to cook and corkage is applied at only GBP 1 per guest for outside food and soft drinks. No outside alcohol is allowed at all.\\n\\nGeneral:\\n24-hour Reception.\\nNo curfew.\\n\\nBookings cannot be accepted from any person age 16 years or under unless they are accompanied by an adult (over 18) who is staying in the same dorm/room. Families with children aged 16 years and under are welcome, however, they must book and pay for all beds in order to make the room private (i.e. in the case of 4 bedded dorms or larger). \\n\\nAlternatively, we have 2 Bedded and 3 Bedded Private rooms available, subject to availability. \\n\\nLook out for the Peacocks!\\nShow more\",\n",
       " 'Great location, lots of social space. Make sure you spend time in Holland Park and meet the army of squirrels I was in the cheaper dorm, the one with the most beds and they’ve made it happen by stacking the beds three high, not two and there’s not a lot of room between them vertically. You can’t sit up properly, at least not on the bottom one, which I was on. In fact, I banged my head getting in. So if you aren’t very nimble or are claustrophobic you might want a dorm with less capacity.',\n",
       " '*Please note we are operating on LIMITED reception hours*\\n\\n\\nThe Phoenix Bar & Hostel, housed in a homely English-style pub located between Hyde park and Regents park, the Phoenix is perfect located and walking distance to all main attractions, train stations, tubes being only 100+ yards away. \\n\\nWe are an award winning backpackers hostel. Operating for 13 years we take all of our guests safety and security seriously but we also know how to party! Enjoying a mixed entertainments program down at the bar, Comedy Night, Karaoke, Quiz nights... Lounge area to relax watch TV or a movie. \\n\\n- so come and join us on your next trip to London! \\n\\nAt the Phoenix Hostel we understand the health and safety concerns of travellers and can assure all guests we are doing everything possible to make your experience safe and enjoyable. A must: Government approved ID on check in for all members of your group!\\n\\nThe health and safety of our guests and staff are our number one priority, therefore we have updated our current standards and conditions to reflect this. \\n\\nHostel reception open hours:\\nMonday- Wednesday 10am - 2am\\nThursday 10am - 2:30am\\nFriday 10am - 3am\\n\\nGuests can check-in from 2pm on day of arrival (If arriving earlier, guests may leave their luggage in our holding room until check-in)\\n\\nIf arriving after midnight, a fee of £3 will be charged\\nCheck-out of rooms by 11AM\\n\\nForms of ID accepted:\\nUK/ROI Driving Licence\\nEU/EEA Identity Card \\nInternational Passport\\nIf you do not have these forms of ID, and wish to stay here, please contact us. \\n\\nGuests can cancel their reservation up to 2 days before Check in date. After this date the full amount will be charged. \\nPayment is taken in full upon arrival, and is non-refundable should the guest wish to alter their booking after check in.',\n",
       " 'Welcome to NX London Hostel!\\n\\nA Friendly backpackers hostel offering budget style rooms\\nSituated in SE London, close to New Cross Gate or New Cross Tube/ Train lines with easy access to London Bridge or connection to the Jubilee Line. We are also a short bus ride (15 minutes) away to the O2, if you are coming to London for a concert or event.\\n\\nWe offer a variety of rooms, including small dormitory rooms and private rooms for Individuals and small groups, children under 6 years of age are not allowed under any circumstances.\\n\\nFACILITIES Inc. :-\\nSelf Catering Kitchens.\\nCommon Room with Digital TV.\\nFree Wi-Fi throughout the hostel.\\nSecure Lockers (Chargeable)\\nFree ear plugs (For light sleepers)\\nComplimentary continental breakfast\\n\\nThe Pub next door to the hostel also offers discounts and free shots for our guests and often have live music / DJs. The bar has a pool table and shows all major sports events live. Please note that, since this is a well known live music venue, things can get noisy on the Hostel\\'s lower levels. If that\\'s a concern please request ear plugs (provided free or charge) or an upper floor room upon reserving.\\n\\nWhether you are coming to London to visit the sights, study or work, we look forward to welcoming you to the NX London Hostel.\\n\\nFree \\'On Street\\' Parking is available in close proximity to the Hostel. \\n \\nADDITIONAL INFORMATION\\n*We do not accept customers under 18 years old and over 65 years old unless they are part of a group staying in a private room. Children under the age of 6 are not allowed under any circumstances. We reserve the right to refuse your accommodation at any stage according to the manager discretion. *\\n\\n*Our Standards are in line with the accommodation type we offer (BUDGET HOSTEL). The NX London is not a Hotel, the shared nature of our dormitory rooms might occasionally result into clutter. Bathrooms are located in the hallways and partaken with other guests. In order to maintain our prices low, we kept \"on location amenities\" to a minimum: There are no toiletries, refrigerators, air conditioning and/or a mini-bar in the rooms. We feature a mix of long term and leisure guests, this gives the ambience a uniquely quirky character, as a consequence it would be impossible to meet everybody\\'s taste.\\n\\n*Reception is open 4:00pm to 11:00pm. Virtual assistance can be provided outside this time. \\n\\n*Property is not wheelchair accessible*\\n\\n*We require 7 days notice for a cancellation, if you do not give us 7 days notice you will be charged in full.\\n\\n*Groups of 8 guests or more will be charged 50% deposit on the day of booking. The remaining 50% is due 14 prior arrival. \\n\\n* Non-refundable reservations will be charged anytime after booking, standard bookings will be pre-authorized any time after reserving and shall be treated as non refundable reservations at the end of their free cancelation period (7 days prior to arrival). UNPAID NON REFUNDABLE RESERVATIONS WILL BE SUBJECT TO AVAILABILITY AND MIGHT INCUR A 20% SURCHARGE IF PAID UPON ARRIVAL.\\n\\n*The check-in time is from 4pm-11pm. Guests arriving after 11:00pm need to email at least 24hrs in advance to confirm their reservation, process payment and fill up check in form online to receive code, otherwise will be considered a no show and subject to availability and no show fees.\\nNo-Shows and Early check-outs will always result into a full (100%) charge and shall never constitute basis for a monetary refund regardless of circumstances. A transferable courtesy credit voucher, to be redeemed at our property might be offered at the Manager\\'s discretion.\\n\\nWe DO require a valid ID for all arrivals including UK/EU residents. Expired ones or without a clear or damaged photo are not valid to check-in.\\nA refundable £10.00 Key Deposit shall be required upon arrival.\\nShould loss of any key reasonably require a locksmith to be called and/or locksmith services to be carried out, guests shall be liable for any locksmith\\'s fees.',\n",
       " 'I was upgraded to the Female dorm free of charge, the receptionist I spoke to was very helpful and understanding. The Building is old and creaky, I found it charming, not everyone will feel the same, but I think expectations are key.',\n",
       " \"Note: 18-40 yrs old only.. All guest receive Free WIFI, Free lockers AND Free LINEN...Located in zone 1 and only 15 minutes walk from Big Ben and Westminster Abbey with the rest of London close by.\\n\\nStop press...â\\x80¦..each bed now has a double UK PLUG socket as well as 2 USB sockets ...so you can now charge your phone/tablet etc from the comfort of your own bed.\\n\\nWe have the honor of being the closest dedicated tourist hostel to Big Bien, Westminster as well as The London Eye itself. Our location is perfect.\\n\\nFree super-fast WIFI throughout the entire building\\nFree lockers.. \\nFree internet\\nFree tea and coffee \\nFree earplugs\\nFree city maps\\nFree London walking tour\\nFree bed linen\\n\\nYou can arrive at any time to drop your luggage off and return later anytime from 3pm to check into your bedroom\\n\\n\\nThere are no hidden costs\\n\\nOur nearest underground train station (Lambeth North. ZONE 1) is only 5 minutes walk from us and from here you can be in Piccadilly Circus and Oxford Street in less than 15 minutes. \\n\\nAs we are located in the centre of London you can walk all around the city without having to use the buses or London underground trains.\\n\\nOur team are on hand to ensure every traveler has a uniquely memorable stay and a fantastic London experience. \\n\\nGuests can socialize in our lively communal areas and our lobby bar, serving drinks, snacks and beer all day. The common room has a large-screen 50 inch TV. There's also a large guest kitchen with both microwave and hob, dining room and Free Internet throughout.\\n\\nThere is a bicycle docking station around the corner and a 24-hour bus stop at the end of the road. Lambeth north tube station is only a five-minute walk from the hostel.\\n\\nOur location near the banks of the river Thames puts us only yards from London's famous South Bank. A short stroll takes you into Westminster and the city's top attractions, including Big Ben, Westminster Abbey and Trafalgar Square. Our hostel is also handy for a spot of culture - visit the Tate modern or the imperial war museum nearby. With Waterloo rail station or Lambeth north tube station a short walk away it is the ideal starting point for your London adventure.\\n\\nPlease see our reception for luggage storage lockers, tickets and tour bookings, maps and information about London. Our vibrant staff are passionate about making your stay a memorable one.\\n\\nWe are unable to accommodate under-16's in our dormitories. Guests under the age of 16 are welcome to stay in one of our private rooms as long as they are accompanied by a adult parent or guardian.\\n\\nPhoto ID required upon check-in. (no ID, no stay, no exception)\\n\\nPlease read our things to note below before making a booking.\",\n",
       " 'Great place! Stayed in 3 bed room with my family. Cramped but only needed for sleeping. Great location. Bummed kitchen wasn’t available due to renovation. Would stay again.',\n",
       " \"We are located in central London - just 5 minutes walk from the station. Rated one of the best hostels in London 2017 by the Telegraph newspaper, we offer free dinner & free breakfast everyday. Come stay with us and make new friends for life.\\n\\nFree high speed WiFi throughout, a huge garden patio with free gym, communal lounge with a 85-inch Ultra HD TV with cable, Netflix & PS4. Guests can also use the modern shared kitchen to cook their own meals.\\n\\nAll dorms have contemporary designs. We also have many private rooms. \\n\\nThe hostel is 15 minutes walk from Natural History & Science Museums and Hyde Park. Madame Tussauds, Harrods and Buckingham Palace are also a 15-minute train ride away.\\n\\n\\n\\nThe Reception is open 24/7 and the international staff will be there, happy to help you. \\n\\nMore reasons to stay at Saint James Backpackers? \\n- A 24-hour reception to make sure to be available for our guests at any time \\n- Massive living rooms with a large television, with options such as Sky TV, Netflix and a PlayStation 4 \\n- USB Charging Points in every room \\n- An exclusive ladies-only dorm room and showers \\n- Massive patio garden including BBQ \\n- Outdoor gym\\n- Hostel activities: movie and popcorn nights, sangria nights, board game competitions, screening sports events, holiday partiesâ€¦\\n\\nNote: \\n\\n- There is a 48-hour cancellation policy on all reservations. Any night that isn't cancelled with at least 24 hours notice will not be refunded. \\n- A Â£10 key deposit is payable at check-in, which is returned on return of the key at check-out. \\n- Check-in: 14.00/ Check out: 10.00 \\n- Credit cards accepted \\n- Taxes included \\n- No smoking anywhere inside the building (but we do have a large patio garden where you can indulge) \\n- On the property lives one cat and one dog.\\n- Card Payments must be authorised by chip and pin \\n- Minimum age to stay in the hostel is 5. \\n- Please note that there are limited spaces for dinner; you must sign up at reception each day before 16:00, signup is done on a first come first serve bases. If you cannot make it here in time please just call us and request to be put on the list. Management reserve the right to discontinue meals without notice\",\n",
       " 'Very friendly, helpful staff! Low-key, easy-going atmosphere, friendly travelers. Great outdoor space to hangout, comfy living room, and even a room with tables to hang out and do work. Awesome location, close to public transportation. Don’t expect everything to be new and shiny - some of the common areas show signs of wear - but overall it’s a pretty comfortable place, and feels nice and safe.',\n",
       " 'Where it all began - PubLove was born here in 2007. \\nLoved by backpackers for well over a decade, The Green Man is the original Hostel-Pub and the ideal base for your London adventure. Visit the legendary Wembley Stadium & Lords Cricket ground, hit the shops on the world-famous Oxford Street, then dive into the warm glow of the West End & Theatre-Land. Head back to the bar to check your photos over a pint & a burger. London baby!\\nPerfect for the travellers looking to experience the London that the whole world loves.\\n\\nLegendary London adventures start at PubLove.\\nAll our Hostel-Pubs are welcoming, small and social - the perfect places to get to know your fellow travellers. The best thing about staying with us? Your common room is the great British pub! We have 24hr bars specialising in craft beer & gin. Get social with the locals or swap stories over a drink with your fellow backpackers.\\n\\nOur dorms are modern, cool and spotlessly clean. Our bunks have hygiene/privacy screens, dedicated power sockets, great free Wi-Fi and crisp white linen. Our top-class washrooms are private and offer shampoo, shower gel and plenty of hot water.\\n\\nEvery Hostel-Pub has an award-winning Burger Craft kitchen serving up burgers, loaded fries and brunch, with vegetarian and vegan options. They open daily from 12pm until 10pm.\\n\\nBOOK NOW to start your own London adventure.',\n",
       " 'Its a nice hostel, with great value for money The only thing missing, it would have been nice if there were a metal cabin for all users to lock away valuables I stayed in a 12 bedroom, and there were only 8',\n",
       " 'Our lovely boutique hotel is conveniently located in Central London and is perfect for those looking for a charming and enjoyable stay in the heart of London. We do offer private rooms ranging from singles to triple and quad family rooms, as well as 24-hour reception with in-house security. The 103-room hotel is housed in a charming Victorian Townhouse building and is very close to some of the most popular London attractions like Portobello Road Market, Kensington Palace, Hyde Park, Royal Albert Hall, Notting Hill and many more.\\n\\nAll the rooms have been furnished with a blend of style and functionality in mind. Each of our rooms feature an en-suite bathroom, flat-screen TV, a safe, mini-fridge, free Wi-Fi, free smartphone, dual sockets, clean linen, hair dryers, free toiletries, coffee and tea facilities , air conditioning and central heating\\n\\nWe serve fully continental breakfast buffet (charges apply).\\n\\nWe look forward to welcoming you at London House and make your stay as pleasant as possible!\\n\\nCheck-in: 2pm\\n\\nCheck-out: 11:00am',\n",
       " 'This is such a great hotel. The staff were so friendly, the room and lobby felt very clean and the location was brilliant for buses into central. The rooms are quite small but very nice and bright. We would definitely stay here again.',\n",
       " 'We are located about twenty minutes by tube from London city centre.\\n\\nThe Cranbrook Hotel is suited close to Valentines Park, which is beautiful and well cared for, covering over 136 acres. There are amenities for tennis, mini-golf, swimming and boating. The park is well known for its old English garden, the Rosary Terrace and its lakes.\\n\\nThe hotel is ideally placed for all public transport a few minutes walk from Ilford Station (twenty minutes to Central London). It is, therefore, an ideal situation for visiting London to see the sights.\\n\\nEight bus routes pass the door to Barking, Dagenham, Chigwell and further afield. Park Hotel has been established for over twenty-five years and is run as a family business by the resident proprietors. Free car parking is available in the hotel grounds.\\n\\nPLEASE NOTE: After booking, the hotel will contact you for your CVC code and address to gaurantee your reservation. This is normal policy, and must be provided to them, otherwise your booking may be cancelled.\\n\\nWe operate a 48 hour cancellation policy',\n",
       " \"The Hyde Park Court Hotel is a centrally located, family run hotel in a quiet and pleasant square. \\n\\nAll rooms have an ensuite shower and toilet, tea/coffee making facilities, satellite television, hairdryer and direct dial telephones. Our reception is open 24 hours and a continental breakfast is included in the rates.\\n\\nOur location allows easy accessibility to all major parts of London whether the purpose of your stay is business or pleasure. Edgware Road tube station offers easy access to London's major tourist attractions. Hyde Park and Oxford St., the heart of London's shopping area are both only a few minutes walking distance away.\\n\\nPaddington Station is only 2 minutes away. From here, the Heathrow Express takes 15 minutes to get to Heathrow Airport. The underground takes 10 to 20 minutes to get to the West End and most other attractions. \\n\\nThe local Paddington area offers many restaurants, pubs, clubs and cinemas.\\n\\n\\nPlease note this hotel has a 48-hour cancellation policy and your card may be pre-authorised before arrival. \\n\\nPlease be advised that the property requires the CVV code of the card in order to guarantee the booking and customers will be contacted directly regarding this. Failure to provide it will result in the cancellation of your booking.\",\n",
       " 'Won’t be staying at this hotel again. The hotel has seen better days. Very tired and needs lots of updating. Had a shower on arrival and the shower was cold, but didn’t mind to much as we are experiencing a heat wave but if it was winter most customers would be very annoyed not to be able to have a hot shower. The breakfast was very disappointing to. Not much on offer. No fresh coffee or tea just sachets out of the basket same as in the room. I wouldn’t recommend this hotel to anyone.',\n",
       " \"good little hotel for a quick break in London. the area is pretty good as Victoria bus station is very close. Big Ben, London eye etc are walking distance. Bus 24 drops you right off in front of the hotel. great location for a stay. the only issue we had was that the carpets smelt very bad living a bad odour in the room. they should refresh or at least clean the carpets as it smells like someone's been smoking cigarettes for years before we stayed there\",\n",
       " 'I regret booking this property. The location was falsely advertised (an hour walk away from where it is listed), facilities are not good (no outlets anywhere near the beds, shower has no separation from rest of bathroom and soaks entire tiny room), and it was grimy. The man at the front desk was nice, but I cannot recommend staying here. It’s also incredibly overpriced for what you get.',\n",
       " 'Hotel Shepherds Bush London provide 4 star hotel service in London. Reception and Cafe-Bar is open 24 hours 7 days a week.\\n\\nAll hotel bedrooms are on-suite, fully equipped: Free Wi-fi; Linen, towels, and daily cleaning service; Slippers; Tea & Coffee making facilities (including Kettle, tea, coffee); Toiletries: shampoo, soap, conditioner, body wash; Hairdryer; Refrigerator; Iron and Ironing board; Free view TV (flat screen good size).\\n\\nLocation: Shepherds Bush, White City, London. Next to Westfield Shopping center and near BBC TV center.\\n\\nMetro stations: Shepherds Bush Market (For Hammersmith & City line metro), and Shepherds Bush (For Central Line metro, Overground, Rail, and Bus station).\\nWe follow all COVID safety guidelines including cleaning, disinfection.\\n\\nHotel Shepherds Bush London - Terms & Conditions :\\n\\nThe reception works 24-hours 7 days a week\\n\\nCancellation policy: 24h before arrival (for flexible rate). In case of a late cancellation or No Show, you will be charged the first night of your stay. Non-refundable rate are non refundable, non amendable, full charge applies.\\n\\nCheck in from 14:00 (Reception is open 24 hours 7 days per week).\\nCheck out before 11:00 .\\n\\nPayment upon arrival by credit cards, debit cards. \\nThis property may pre-authorize your card before arrival for room security (not a charge, it is authorization only)\\nTaxes included.\\n\\nBreakfast not included - can be pre-ordered at extra 10.00 GBP per person per day.',\n",
       " \"Central London Hotel Accommodation situated in a quiet beautiful garden square in the heart of London. The accommodation has 20 rooms with tea/coffee making facilities, and central heating. Hairdryers, Adaptors and irons available on request. The reception is open 24 hrs, and the staff offer a personalized and friendly service and Free Breakfast!!!\\n\\nThe Hotel provides the ideal location to Oxford street - shoppers paradise or whether you want to visit some of the famous historic sights like Big Ben, Tower Bridge, Westminster Abbey and Buckingham Palace, drink a pint of England's finest ale, see a West End show or take a stroll in Hyde Park, not forgeting the hip international restaurants and the city's vibrant multi cultural population. London's fascination is its variety. Old and new stand side by side. History, pageantry and tradition mix with the modern, eccentric and avant garde, London the city thats in a world of its own offering something for everyone.\\n\\nGetting here: By Tube: Our nearest underground station is Paddington, which has the Bakerloo Line, Circle Line, District Line and the Hammersmith and City Line. Once you exit from the tube station, please walk on your right until you reach London Street, then turn left into Norfolk Square we are located on the left hand side at number 30.\\nBy Bus: 2 minutes walk from hotel. The London Buses that are nearby are the 36, 15, 23 and 27.\\nFrom Heathrow Airport: you can take the Heathrow Express, which will take you directly to Paddington Station, then follow directions as above. \\n\\nCheck-in Time: After 1:30 PM\\n\\nCheck-out Time: 11:00 AM \\n\\n\\nIMPORTANT INFORMATION: \\n\\nBed linen, towels and blankets are included in the price.\\nAll Taxes are included in the price.\\nNo extra charge for guests paying by credit cards.\\nNo Lockout / No curfew\\nAll rooms are equipped with televisions and free satellite channels.\\nFree Tourist Information Service.\\nFree Wireless internet access for guests with laptops.\\nYou can leave your luggage with reception if you arrive early or have a late departure. \\n\\n\\nCANCELLATION POLICY: \\n\\n48 hours prior to check in, cancallations not with in this time period will be charged the first nights accommadation.\",\n",
       " 'Excellent location good value for money. This was my second stay at Tony’s. Excellent staff from daily room service to Reza and Anthony at reception As it is a small hotel I got undisturbed sleep no noise from other guests. Wi fi was good Hotel does not have a dining room breakfast is delivered to your room I did not avail of it ,it did not suit my taste. All day English breakfast is served at La Tazza cafe 143 Praed St 2 mins walk from Tonys and costs £6.50 it’s excellent. Quiet peaceful',\n",
       " 'This Hotel is the right choice for visitors who are searching for a combination of charm, peace and quiet, and a convenient position from which to explore Venice. It is a small, comfortable hotel, situated on the Canale di Cannaregio. The Templatic family and their staff offer an attentive, personalized service and are always available to offer any help to guests.\\n\\nThe hotel is arranged on three floors, without a lift. On the ground floor, apart from the reception, there is a comfortable lounge where you can sit and drink tea, or just read. There is also a splendid terrace, where, you can relax and immerge yourself from morning onwards in the atmosphere of Venetian daily life, watching the city travelling about by water and people gathering together and filling the alleyways and little squares with their chatter.\\n\\nThe rooms are arranged on the first, second and third floors. On the top floor, there is also a delightful terrace or solarium available for the use of guests, from where you can enjoy the wonderful view.\\n\\nThe buffet breakfast is served in the lounge on the ground floor, and also outside on our little patio during the summer months.\\n\\nThe hotel provides an internet point, and a Wi-Fi service is available for an additional fee.\\n\\nService and Facilities\\n24 hour reception service\\nInternet access\\nFree Wi-Fi\\nFlat-screen TV\\nRadio\\nAlarm clock\\nDesk\\nElectric kettle\\nPrivate bathroom\\nFree toiletries\\nTowels\\nLinen\\nFan\\nHeating\\nBreakfast',\n",
       " \"After arriving at Park Hotel I was told I was going to be moved to a different hotel. It was explained to me why, but there was commotion in the lobby so I didn't understand. I had the opportunity to find out after the fact, but truthfully I didn't care. I ended up at Lucky 8 Hotel. Which was awesome. It is literally like 2 blocks from the underground station. Everything was fine. Nothing was outstanding and nothing was poor. It was perfectly mediocre. The free breakfast is also great!\"]"
      ]
     },
     "execution_count": 311,
     "metadata": {},
     "output_type": "execute_result"
    }
   ],
   "source": [
    "descrptn"
   ]
  },
  {
   "cell_type": "code",
   "execution_count": 350,
   "id": "63b18e25",
   "metadata": {},
   "outputs": [
    {
     "data": {
      "text/plain": [
       "15"
      ]
     },
     "execution_count": 350,
     "metadata": {},
     "output_type": "execute_result"
    }
   ],
   "source": [
    " #rating with help of href (URLS)\n",
    "r=[]\n",
    "for i in url:\n",
    "    driver.get(i)\n",
    "    time.sleep(7)\n",
    "    r_tag=driver.find_elements(By.XPATH,'//div[@class=\"score gray big\"]')\n",
    "    try:\n",
    "        xyz_tag=driver.find_elements(By.XPATH,'/html/body/div[3]/div/div/div[1]/section/div[6]/div/div[1]/div[1]/div[1]')\n",
    "       \n",
    "        for i in xyz_tag:\n",
    "            r.append(i.text)\n",
    "    except None:\n",
    "        r.append(\"No rating\")\n",
    "len(r )   "
   ]
  },
  {
   "cell_type": "code",
   "execution_count": 353,
   "id": "158cb423",
   "metadata": {},
   "outputs": [
    {
     "data": {
      "text/plain": [
       "['7.7',\n",
       " '7.0',\n",
       " '6.5',\n",
       " '7.6',\n",
       " '7.2',\n",
       " '6.3',\n",
       " '6.6',\n",
       " '7.7',\n",
       " '8.8',\n",
       " 'NO RATING',\n",
       " '4.2',\n",
       " '6.7',\n",
       " 'No Rating\\n0 Total Reviews',\n",
       " 'No Rating\\n0 Total Reviews',\n",
       " '8.0']"
      ]
     },
     "execution_count": 353,
     "metadata": {},
     "output_type": "execute_result"
    }
   ],
   "source": [
    "r[9]= 'NO RATING'\n",
    "r"
   ]
  },
  {
   "cell_type": "code",
   "execution_count": 354,
   "id": "c0a3310a",
   "metadata": {},
   "outputs": [
    {
     "data": {
      "text/plain": [
       "(15, 15, 15, 15, 15, 15, 15, 15, 15)"
      ]
     },
     "execution_count": 354,
     "metadata": {},
     "output_type": "execute_result"
    }
   ],
   "source": [
    "len(hostel),len(distance),len(r),len(total_review), len(overall), len(private), len(dorm), len(fac), len(descrptn)"
   ]
  },
  {
   "cell_type": "code",
   "execution_count": 355,
   "id": "edaab24f",
   "metadata": {},
   "outputs": [
    {
     "name": "stdout",
     "output_type": "stream",
     "text": [
      "All available Hostels from https://www.hostelworld.com/ in “London” location. \n"
     ]
    },
    {
     "data": {
      "text/html": [
       "<div>\n",
       "<style scoped>\n",
       "    .dataframe tbody tr th:only-of-type {\n",
       "        vertical-align: middle;\n",
       "    }\n",
       "\n",
       "    .dataframe tbody tr th {\n",
       "        vertical-align: top;\n",
       "    }\n",
       "\n",
       "    .dataframe thead th {\n",
       "        text-align: right;\n",
       "    }\n",
       "</style>\n",
       "<table border=\"1\" class=\"dataframe\">\n",
       "  <thead>\n",
       "    <tr style=\"text-align: right;\">\n",
       "      <th></th>\n",
       "      <th>Hostel Name</th>\n",
       "      <th>Distance from City Centre</th>\n",
       "      <th>Ratings</th>\n",
       "      <th>Total Reviews</th>\n",
       "      <th>Overall Reviews</th>\n",
       "      <th>Privates from price</th>\n",
       "      <th>Dorms from price</th>\n",
       "      <th>Facilities</th>\n",
       "      <th>Property Description</th>\n",
       "    </tr>\n",
       "  </thead>\n",
       "  <tbody>\n",
       "    <tr>\n",
       "      <th>0</th>\n",
       "      <td>Generator London</td>\n",
       "      <td>Hostel - 3km from city centre Show on Map</td>\n",
       "      <td>7.7</td>\n",
       "      <td>7064 Total Reviews</td>\n",
       "      <td>Very Good</td>\n",
       "      <td>[No Privates Available]</td>\n",
       "      <td>[Dorms From, Rs5200]</td>\n",
       "      <td>Free\\nLinen Included Free City Maps Free WiFi ...</td>\n",
       "      <td>Generator London is a design hotel-hostel loca...</td>\n",
       "    </tr>\n",
       "    <tr>\n",
       "      <th>1</th>\n",
       "      <td>Safestay London Elephant &amp; Castle</td>\n",
       "      <td>Hostel - 1.7km from city centre Show on Map</td>\n",
       "      <td>7.0</td>\n",
       "      <td>4407 Total Reviews</td>\n",
       "      <td>Very Good</td>\n",
       "      <td>[No Privates Available]</td>\n",
       "      <td>[Dorms From, Rs3692]</td>\n",
       "      <td>Free\\nLinen Included Free City Maps Free WiFi\\...</td>\n",
       "      <td>Safestay at Elephant &amp; Castle is ideal if you ...</td>\n",
       "    </tr>\n",
       "    <tr>\n",
       "      <th>2</th>\n",
       "      <td>Safestay London Kensington Holland Park</td>\n",
       "      <td>Hostel - 5.9km from city centre Show on Map</td>\n",
       "      <td>6.5</td>\n",
       "      <td>1271 Total Reviews</td>\n",
       "      <td>Good</td>\n",
       "      <td>[No Privates Available]</td>\n",
       "      <td>[Dorms From, Rs3459]</td>\n",
       "      <td>Free\\nLinen Included Free WiFi\\nGeneral\\nSecur...</td>\n",
       "      <td>Safestay Holland Park\\n\\nSafestay Holland Park...</td>\n",
       "    </tr>\n",
       "    <tr>\n",
       "      <th>3</th>\n",
       "      <td>Phoenix Hostel</td>\n",
       "      <td>Hostel - 4.2km from city centre Show on Map</td>\n",
       "      <td>7.6</td>\n",
       "      <td>3681 Total Reviews</td>\n",
       "      <td>Very Good</td>\n",
       "      <td>[No Privates Available]</td>\n",
       "      <td>[Dorms From, Rs4198.77 Rs3989]</td>\n",
       "      <td>Free\\nLinen Included Free City Maps Free WiFi ...</td>\n",
       "      <td>*Please note we are operating on LIMITED recep...</td>\n",
       "    </tr>\n",
       "    <tr>\n",
       "      <th>4</th>\n",
       "      <td>NX London Hostel</td>\n",
       "      <td>Hostel - 6.1km from city centre Show on Map</td>\n",
       "      <td>7.2</td>\n",
       "      <td>1180 Total Reviews</td>\n",
       "      <td>Very Good</td>\n",
       "      <td>[No Privates Available]</td>\n",
       "      <td>[Dorms From, Rs5422]</td>\n",
       "      <td>Free\\nFree Breakfast Linen Included Free Parki...</td>\n",
       "      <td>Welcome to NX London Hostel!\\n\\nA Friendly bac...</td>\n",
       "    </tr>\n",
       "    <tr>\n",
       "      <th>5</th>\n",
       "      <td>London Waterloo Hostel</td>\n",
       "      <td>Hostel - 0.7km from city centre Show on Map</td>\n",
       "      <td>6.3</td>\n",
       "      <td>2508 Total Reviews</td>\n",
       "      <td>Good</td>\n",
       "      <td>[No Privates Available]</td>\n",
       "      <td>[Dorms From, Rs4971]</td>\n",
       "      <td>Free\\nLinen Included Free City Maps Free WiFi ...</td>\n",
       "      <td>Note: 18-40 yrs old only.. All guest receive F...</td>\n",
       "    </tr>\n",
       "    <tr>\n",
       "      <th>6</th>\n",
       "      <td>Saint James Backpackers</td>\n",
       "      <td>Hostel - 5.5km from city centre Show on Map</td>\n",
       "      <td>6.6</td>\n",
       "      <td>1815 Total Reviews</td>\n",
       "      <td>Good</td>\n",
       "      <td>[Privates From, Rs9616.71 Rs9136]</td>\n",
       "      <td>[Dorms From, Rs4973.93 Rs4725]</td>\n",
       "      <td>Free\\nFree Breakfast Linen Included Free City ...</td>\n",
       "      <td>We are located in central London - just 5 minu...</td>\n",
       "    </tr>\n",
       "    <tr>\n",
       "      <th>7</th>\n",
       "      <td>PubLove @ The Green Man, Paddington</td>\n",
       "      <td>Hostel - 4.3km from city centre Show on Map</td>\n",
       "      <td>7.7</td>\n",
       "      <td>418 Total Reviews</td>\n",
       "      <td>Very Good</td>\n",
       "      <td>[No Privates Available]</td>\n",
       "      <td>[Dorms From, Rs4199]</td>\n",
       "      <td>Free\\nLinen Included Free City Maps Free WiFi\\...</td>\n",
       "      <td>Where it all began - PubLove was born here in ...</td>\n",
       "    </tr>\n",
       "    <tr>\n",
       "      <th>8</th>\n",
       "      <td>London House Hotel</td>\n",
       "      <td>Hotel - 5.3km from city centre Show on Map</td>\n",
       "      <td>8.8</td>\n",
       "      <td>1382 Total Reviews</td>\n",
       "      <td>Fabulous</td>\n",
       "      <td>[Privates From, Rs34358.83 Rs24051]</td>\n",
       "      <td>[No Dorms Available]</td>\n",
       "      <td>Free\\nFree City Maps Free WiFi\\nGeneral\\nKey C...</td>\n",
       "      <td>Our lovely boutique hotel is conveniently loca...</td>\n",
       "    </tr>\n",
       "    <tr>\n",
       "      <th>9</th>\n",
       "      <td>Cranbrook Hotel</td>\n",
       "      <td>Hotel - 14.8km from city centre Show on Map</td>\n",
       "      <td>NO RATING</td>\n",
       "      <td>58 Total Reviews</td>\n",
       "      <td>No Rating</td>\n",
       "      <td>[Privates From, Rs22932]</td>\n",
       "      <td>[No Dorms Available]</td>\n",
       "      <td>Free\\nFree Breakfast Free Parking\\nGeneral\\nHo...</td>\n",
       "      <td>We are located about twenty minutes by tube fr...</td>\n",
       "    </tr>\n",
       "    <tr>\n",
       "      <th>10</th>\n",
       "      <td>Hyde Park Court Hotel</td>\n",
       "      <td>Hotel - 4.3km from city centre Show on Map</td>\n",
       "      <td>4.2</td>\n",
       "      <td>139 Total Reviews</td>\n",
       "      <td>Rating</td>\n",
       "      <td>[Privates From, Rs12435]</td>\n",
       "      <td>[No Dorms Available]</td>\n",
       "      <td>Free\\nFree Breakfast Free City Maps Free WiFi ...</td>\n",
       "      <td>The Hyde Park Court Hotel is a centrally locat...</td>\n",
       "    </tr>\n",
       "    <tr>\n",
       "      <th>11</th>\n",
       "      <td>City Hotel Carlton</td>\n",
       "      <td>Hotel - 1.8km from city centre Show on Map</td>\n",
       "      <td>6.7</td>\n",
       "      <td>40 Total Reviews</td>\n",
       "      <td>Good</td>\n",
       "      <td>[Privates From, Rs22286]</td>\n",
       "      <td>[No Dorms Available]</td>\n",
       "      <td>Free\\nFree Internet Access\\nGeneral\\nSwimming ...</td>\n",
       "      <td>good little hotel for a quick break in London....</td>\n",
       "    </tr>\n",
       "    <tr>\n",
       "      <th>12</th>\n",
       "      <td>Hotel Shepherds Bush London</td>\n",
       "      <td>Hotel - 7.6km from city centre Show on Map</td>\n",
       "      <td>No Rating\\n0 Total Reviews</td>\n",
       "      <td>0 Total Reviews</td>\n",
       "      <td>No Rating</td>\n",
       "      <td>[Privates From, Rs20856.67 Rs16894]</td>\n",
       "      <td>[No Dorms Available]</td>\n",
       "      <td>Free\\nLinen Included Free City Maps Towels Inc...</td>\n",
       "      <td>Hotel Shepherds Bush London provide 4 star hot...</td>\n",
       "    </tr>\n",
       "    <tr>\n",
       "      <th>13</th>\n",
       "      <td>Tony's House Hotel</td>\n",
       "      <td>Hotel - 4.3km from city centre Show on Map</td>\n",
       "      <td>No Rating\\n0 Total Reviews</td>\n",
       "      <td>406 Total Reviews</td>\n",
       "      <td>No Rating</td>\n",
       "      <td>[Privates From, Rs24127]</td>\n",
       "      <td>[No Dorms Available]</td>\n",
       "      <td>Free\\nFree Breakfast Free Internet Access\\nGen...</td>\n",
       "      <td>Central London Hotel Accommodation situated in...</td>\n",
       "    </tr>\n",
       "    <tr>\n",
       "      <th>14</th>\n",
       "      <td>Park Hotel Essex</td>\n",
       "      <td>Hotel - 24.1km from city centre Show on Map</td>\n",
       "      <td>8.0</td>\n",
       "      <td>109 Total Reviews</td>\n",
       "      <td>Fabulous</td>\n",
       "      <td>[Privates From, Rs32460]</td>\n",
       "      <td>[No Dorms Available]</td>\n",
       "      <td>Free\\nFree Breakfast Free Parking\\nGeneral\\nPa...</td>\n",
       "      <td>This Hotel is the right choice for visitors wh...</td>\n",
       "    </tr>\n",
       "  </tbody>\n",
       "</table>\n",
       "</div>"
      ],
      "text/plain": [
       "                                Hostel Name  \\\n",
       "0                          Generator London   \n",
       "1         Safestay London Elephant & Castle   \n",
       "2   Safestay London Kensington Holland Park   \n",
       "3                            Phoenix Hostel   \n",
       "4                          NX London Hostel   \n",
       "5                    London Waterloo Hostel   \n",
       "6                   Saint James Backpackers   \n",
       "7       PubLove @ The Green Man, Paddington   \n",
       "8                        London House Hotel   \n",
       "9                           Cranbrook Hotel   \n",
       "10                    Hyde Park Court Hotel   \n",
       "11                       City Hotel Carlton   \n",
       "12              Hotel Shepherds Bush London   \n",
       "13                       Tony's House Hotel   \n",
       "14                         Park Hotel Essex   \n",
       "\n",
       "                      Distance from City Centre                     Ratings  \\\n",
       "0     Hostel - 3km from city centre Show on Map                         7.7   \n",
       "1   Hostel - 1.7km from city centre Show on Map                         7.0   \n",
       "2   Hostel - 5.9km from city centre Show on Map                         6.5   \n",
       "3   Hostel - 4.2km from city centre Show on Map                         7.6   \n",
       "4   Hostel - 6.1km from city centre Show on Map                         7.2   \n",
       "5   Hostel - 0.7km from city centre Show on Map                         6.3   \n",
       "6   Hostel - 5.5km from city centre Show on Map                         6.6   \n",
       "7   Hostel - 4.3km from city centre Show on Map                         7.7   \n",
       "8    Hotel - 5.3km from city centre Show on Map                         8.8   \n",
       "9   Hotel - 14.8km from city centre Show on Map                   NO RATING   \n",
       "10   Hotel - 4.3km from city centre Show on Map                         4.2   \n",
       "11   Hotel - 1.8km from city centre Show on Map                         6.7   \n",
       "12   Hotel - 7.6km from city centre Show on Map  No Rating\\n0 Total Reviews   \n",
       "13   Hotel - 4.3km from city centre Show on Map  No Rating\\n0 Total Reviews   \n",
       "14  Hotel - 24.1km from city centre Show on Map                         8.0   \n",
       "\n",
       "         Total Reviews Overall Reviews                  Privates from price  \\\n",
       "0   7064 Total Reviews       Very Good              [No Privates Available]   \n",
       "1   4407 Total Reviews       Very Good              [No Privates Available]   \n",
       "2   1271 Total Reviews            Good              [No Privates Available]   \n",
       "3   3681 Total Reviews       Very Good              [No Privates Available]   \n",
       "4   1180 Total Reviews       Very Good              [No Privates Available]   \n",
       "5   2508 Total Reviews            Good              [No Privates Available]   \n",
       "6   1815 Total Reviews            Good    [Privates From, Rs9616.71 Rs9136]   \n",
       "7    418 Total Reviews       Very Good              [No Privates Available]   \n",
       "8   1382 Total Reviews        Fabulous  [Privates From, Rs34358.83 Rs24051]   \n",
       "9     58 Total Reviews       No Rating             [Privates From, Rs22932]   \n",
       "10   139 Total Reviews          Rating             [Privates From, Rs12435]   \n",
       "11    40 Total Reviews            Good             [Privates From, Rs22286]   \n",
       "12     0 Total Reviews       No Rating  [Privates From, Rs20856.67 Rs16894]   \n",
       "13   406 Total Reviews       No Rating             [Privates From, Rs24127]   \n",
       "14   109 Total Reviews        Fabulous             [Privates From, Rs32460]   \n",
       "\n",
       "                  Dorms from price  \\\n",
       "0             [Dorms From, Rs5200]   \n",
       "1             [Dorms From, Rs3692]   \n",
       "2             [Dorms From, Rs3459]   \n",
       "3   [Dorms From, Rs4198.77 Rs3989]   \n",
       "4             [Dorms From, Rs5422]   \n",
       "5             [Dorms From, Rs4971]   \n",
       "6   [Dorms From, Rs4973.93 Rs4725]   \n",
       "7             [Dorms From, Rs4199]   \n",
       "8             [No Dorms Available]   \n",
       "9             [No Dorms Available]   \n",
       "10            [No Dorms Available]   \n",
       "11            [No Dorms Available]   \n",
       "12            [No Dorms Available]   \n",
       "13            [No Dorms Available]   \n",
       "14            [No Dorms Available]   \n",
       "\n",
       "                                           Facilities  \\\n",
       "0   Free\\nLinen Included Free City Maps Free WiFi ...   \n",
       "1   Free\\nLinen Included Free City Maps Free WiFi\\...   \n",
       "2   Free\\nLinen Included Free WiFi\\nGeneral\\nSecur...   \n",
       "3   Free\\nLinen Included Free City Maps Free WiFi ...   \n",
       "4   Free\\nFree Breakfast Linen Included Free Parki...   \n",
       "5   Free\\nLinen Included Free City Maps Free WiFi ...   \n",
       "6   Free\\nFree Breakfast Linen Included Free City ...   \n",
       "7   Free\\nLinen Included Free City Maps Free WiFi\\...   \n",
       "8   Free\\nFree City Maps Free WiFi\\nGeneral\\nKey C...   \n",
       "9   Free\\nFree Breakfast Free Parking\\nGeneral\\nHo...   \n",
       "10  Free\\nFree Breakfast Free City Maps Free WiFi ...   \n",
       "11  Free\\nFree Internet Access\\nGeneral\\nSwimming ...   \n",
       "12  Free\\nLinen Included Free City Maps Towels Inc...   \n",
       "13  Free\\nFree Breakfast Free Internet Access\\nGen...   \n",
       "14  Free\\nFree Breakfast Free Parking\\nGeneral\\nPa...   \n",
       "\n",
       "                                 Property Description  \n",
       "0   Generator London is a design hotel-hostel loca...  \n",
       "1   Safestay at Elephant & Castle is ideal if you ...  \n",
       "2   Safestay Holland Park\\n\\nSafestay Holland Park...  \n",
       "3   *Please note we are operating on LIMITED recep...  \n",
       "4   Welcome to NX London Hostel!\\n\\nA Friendly bac...  \n",
       "5   Note: 18-40 yrs old only.. All guest receive F...  \n",
       "6   We are located in central London - just 5 minu...  \n",
       "7   Where it all began - PubLove was born here in ...  \n",
       "8   Our lovely boutique hotel is conveniently loca...  \n",
       "9   We are located about twenty minutes by tube fr...  \n",
       "10  The Hyde Park Court Hotel is a centrally locat...  \n",
       "11  good little hotel for a quick break in London....  \n",
       "12  Hotel Shepherds Bush London provide 4 star hot...  \n",
       "13  Central London Hotel Accommodation situated in...  \n",
       "14  This Hotel is the right choice for visitors wh...  "
      ]
     },
     "execution_count": 355,
     "metadata": {},
     "output_type": "execute_result"
    }
   ],
   "source": [
    "#preparing data frame:\n",
    "import pandas as pd\n",
    "hostel_london = pd.DataFrame({'Hostel Name': hostel, 'Distance from City Centre':distance,\n",
    "                            'Ratings':r, 'Total Reviews':total_review, 'Overall Reviews':overall,\n",
    "                            'Privates from price':private, 'Dorms from price':dorm,\n",
    "                            'Facilities':fac, 'Property Description':descrptn})\n",
    "print(\"All available Hostels from https://www.hostelworld.com/ in “London” location. \")\n",
    "hostel_london"
   ]
  },
  {
   "cell_type": "code",
   "execution_count": null,
   "id": "2ce1789b",
   "metadata": {},
   "outputs": [],
   "source": [
    "\n",
    "\n"
   ]
  },
  {
   "cell_type": "code",
   "execution_count": 356,
   "id": "fdaa48c8",
   "metadata": {},
   "outputs": [],
   "source": [
    "# End Of Assignment"
   ]
  },
  {
   "cell_type": "code",
   "execution_count": null,
   "id": "30aeeb61",
   "metadata": {},
   "outputs": [],
   "source": []
  }
 ],
 "metadata": {
  "kernelspec": {
   "display_name": "Python 3 (ipykernel)",
   "language": "python",
   "name": "python3"
  },
  "language_info": {
   "codemirror_mode": {
    "name": "ipython",
    "version": 3
   },
   "file_extension": ".py",
   "mimetype": "text/x-python",
   "name": "python",
   "nbconvert_exporter": "python",
   "pygments_lexer": "ipython3",
   "version": "3.9.12"
  }
 },
 "nbformat": 4,
 "nbformat_minor": 5
}
