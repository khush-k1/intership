{
 "cells": [
  {
   "cell_type": "code",
   "execution_count": 1,
   "id": "7f91a88b",
   "metadata": {},
   "outputs": [
    {
     "name": "stdout",
     "output_type": "stream",
     "text": [
      "Enter a number : 5\n",
      "Factorial of the number 5 is :  120\n"
     ]
    }
   ],
   "source": [
    "# 11. Write a python program to find the factorial of a number.\n",
    "\n",
    "num= int(input(\"Enter a number : \"))\n",
    "factorial=1\n",
    "for i in range(1,num+1):\n",
    "    factorial = factorial*i\n",
    "\n",
    "print(\"Factorial of the number\", num ,\"is : \", factorial)"
   ]
  },
  {
   "cell_type": "code",
   "execution_count": 4,
   "id": "32f1b8dc",
   "metadata": {},
   "outputs": [
    {
     "name": "stdout",
     "output_type": "stream",
     "text": [
      "Enter a number : 9\n",
      "\n",
      "It's a composite number.\n"
     ]
    }
   ],
   "source": [
    "# 12. Write a python program to find whether a number is prime or composite.\n",
    "\n",
    "num= int(input(\"Enter a number : \"))\n",
    "\n",
    "if(num==0 or num==1):\n",
    "    print(\"\\nThe number is neither Prime nor Composite.\")\n",
    "elif num>1:\n",
    "    for i in range(2, num):\n",
    "        if num % i == 0:\n",
    "            print(\"\\nIt's a Composite number.\")\n",
    "            break\n",
    "    else :\n",
    "        print(\"\\nIt's a Prime number.\")\n",
    "else:\n",
    "    print(\"\\n Please enter positive integer only.\")"
   ]
  },
  {
   "cell_type": "code",
   "execution_count": 7,
   "id": "967c4122",
   "metadata": {},
   "outputs": [
    {
     "name": "stdout",
     "output_type": "stream",
     "text": [
      "Enter a String : wow\n",
      "\n",
      "Given string is palindrome.\n"
     ]
    }
   ],
   "source": [
    "# 13. Write a python program to check whether a given string is palindrome or not.\n",
    "\n",
    "string= str(input(\"Enter a String : \"))\n",
    "\n",
    "if (string==string[::-1]):\n",
    "    print (\"\\nGiven string is palindrome.\")\n",
    "    \n",
    "else:\n",
    "    print(\"\\nGiven string is not a Palindrome. \")"
   ]
  },
  {
   "cell_type": "code",
   "execution_count": 17,
   "id": "dc6ccb49",
   "metadata": {},
   "outputs": [
    {
     "name": "stdout",
     "output_type": "stream",
     "text": [
      "\n",
      " Enter the value for two side of the triangle and mention third 0. \n",
      " \n",
      "Enter value for base of right angled triangle : 3\n",
      "Enter value for perpendicular of the triangle : 4\n",
      "Enter the value for hypotenuse : 0\n",
      "Value of hypotenuse is :  5.0\n"
     ]
    }
   ],
   "source": [
    "# 14. Write a Python program to get the third side of right-angled triangle from two given sides.\n",
    "\n",
    "\n",
    "def hypo(a,b):\n",
    "    c = (a**2 + b**2)**0.5\n",
    "    return c\n",
    "def base(c,a):\n",
    "    b= (c**2 - a**2)**0.5\n",
    "    return b\n",
    "def perpen(c, b):\n",
    "    a = (c**2 - b**2)**0.5\n",
    "    return a\n",
    "\n",
    "print(\"\\n Enter the value for two side of the triangle and mention third 0. \\n \")\n",
    "\n",
    "a= float(input(\"Enter value for base of right angled triangle : \"))\n",
    "b= float(input(\"Enter value for perpendicular of the triangle : \"))\n",
    "c=float(input(\"Enter the value for hypotenuse : \"))\n",
    "\n",
    "if a==0 :\n",
    "    print(\"\\nValue of base of the triangle is : \", base(c,b))\n",
    "    \n",
    "elif b==0:\n",
    "    print(\"\\nValue of perpendicular side is : \", perpen(c,a))\n",
    "    \n",
    "elif c==0:\n",
    "    print(\"Value of hypotenuse is : \", hypo(a,b))\n",
    "    \n"
   ]
  },
  {
   "cell_type": "code",
   "execution_count": 18,
   "id": "56c93308",
   "metadata": {},
   "outputs": [
    {
     "name": "stdout",
     "output_type": "stream",
     "text": [
      "Enter a String : khushboo\n",
      "\n",
      "Count of all the Characters in String is: \n",
      " {'k': 1, 'h': 2, 'u': 1, 's': 1, 'b': 1, 'o': 2}\n"
     ]
    }
   ],
   "source": [
    "# 15. Write a python program to print the frequency of each of the characters present in a given string.\n",
    "\n",
    "abc= str(input(\"Enter a String : \"))\n",
    "\n",
    "freq ={ }\n",
    "\n",
    "for i in abc:\n",
    "    if i in freq:\n",
    "        freq[i]+=1\n",
    "    else:\n",
    "        freq[i]= 1\n",
    "        \n",
    "print(\"\\nCount of all the Characters in String is: \\n \" +str(freq))\n"
   ]
  },
  {
   "cell_type": "code",
   "execution_count": null,
   "id": "924a4075",
   "metadata": {},
   "outputs": [],
   "source": []
  }
 ],
 "metadata": {
  "kernelspec": {
   "display_name": "Python 3 (ipykernel)",
   "language": "python",
   "name": "python3"
  },
  "language_info": {
   "codemirror_mode": {
    "name": "ipython",
    "version": 3
   },
   "file_extension": ".py",
   "mimetype": "text/x-python",
   "name": "python",
   "nbconvert_exporter": "python",
   "pygments_lexer": "ipython3",
   "version": "3.9.7"
  }
 },
 "nbformat": 4,
 "nbformat_minor": 5
}
