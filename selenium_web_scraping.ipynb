{
 "cells": [
  {
   "cell_type": "code",
   "execution_count": 1,
   "id": "0fc68ccf",
   "metadata": {},
   "outputs": [
    {
     "name": "stdout",
     "output_type": "stream",
     "text": [
      "Requirement already satisfied: selenium in c:\\users\\dell\\anaconda3\\lib\\site-packages (4.3.0)\n",
      "Requirement already satisfied: trio-websocket~=0.9 in c:\\users\\dell\\anaconda3\\lib\\site-packages (from selenium) (0.9.2)\n",
      "Requirement already satisfied: trio~=0.17 in c:\\users\\dell\\anaconda3\\lib\\site-packages (from selenium) (0.21.0)\n",
      "Requirement already satisfied: urllib3[secure,socks]~=1.26 in c:\\users\\dell\\anaconda3\\lib\\site-packages (from selenium) (1.26.9)\n",
      "Requirement already satisfied: outcome in c:\\users\\dell\\anaconda3\\lib\\site-packages (from trio~=0.17->selenium) (1.2.0)\n",
      "Requirement already satisfied: cffi>=1.14 in c:\\users\\dell\\anaconda3\\lib\\site-packages (from trio~=0.17->selenium) (1.15.0)\n",
      "Requirement already satisfied: sniffio in c:\\users\\dell\\anaconda3\\lib\\site-packages (from trio~=0.17->selenium) (1.2.0)\n",
      "Requirement already satisfied: idna in c:\\users\\dell\\anaconda3\\lib\\site-packages (from trio~=0.17->selenium) (3.3)\n",
      "Requirement already satisfied: attrs>=19.2.0 in c:\\users\\dell\\anaconda3\\lib\\site-packages (from trio~=0.17->selenium) (21.4.0)\n",
      "Requirement already satisfied: async-generator>=1.9 in c:\\users\\dell\\anaconda3\\lib\\site-packages (from trio~=0.17->selenium) (1.10)\n",
      "Requirement already satisfied: sortedcontainers in c:\\users\\dell\\anaconda3\\lib\\site-packages (from trio~=0.17->selenium) (2.4.0)\n",
      "Requirement already satisfied: pycparser in c:\\users\\dell\\anaconda3\\lib\\site-packages (from cffi>=1.14->trio~=0.17->selenium) (2.21)\n",
      "Requirement already satisfied: wsproto>=0.14 in c:\\users\\dell\\anaconda3\\lib\\site-packages (from trio-websocket~=0.9->selenium) (1.1.0)\n",
      "Requirement already satisfied: PySocks!=1.5.7,<2.0,>=1.5.6 in c:\\users\\dell\\anaconda3\\lib\\site-packages (from urllib3[secure,socks]~=1.26->selenium) (1.7.1)\n",
      "Requirement already satisfied: certifi in c:\\users\\dell\\anaconda3\\lib\\site-packages (from urllib3[secure,socks]~=1.26->selenium) (2021.10.8)\n",
      "Requirement already satisfied: pyOpenSSL>=0.14 in c:\\users\\dell\\anaconda3\\lib\\site-packages (from urllib3[secure,socks]~=1.26->selenium) (21.0.0)\n",
      "Requirement already satisfied: cryptography>=1.3.4 in c:\\users\\dell\\anaconda3\\lib\\site-packages (from urllib3[secure,socks]~=1.26->selenium) (3.4.8)\n",
      "Requirement already satisfied: six>=1.5.2 in c:\\users\\dell\\anaconda3\\lib\\site-packages (from pyOpenSSL>=0.14->urllib3[secure,socks]~=1.26->selenium) (1.16.0)\n",
      "Requirement already satisfied: h11<1,>=0.9.0 in c:\\users\\dell\\anaconda3\\lib\\site-packages (from wsproto>=0.14->trio-websocket~=0.9->selenium) (0.13.0)\n"
     ]
    }
   ],
   "source": [
    "!pip install selenium"
   ]
  },
  {
   "cell_type": "code",
   "execution_count": 2,
   "id": "028a6186",
   "metadata": {},
   "outputs": [],
   "source": [
    "import selenium\n",
    "from selenium import webdriver\n",
    "from selenium.webdriver.common.by import By\n",
    "import pandas as pd\n",
    "import warnings\n",
    "warnings.filterwarnings('ignore')"
   ]
  },
  {
   "cell_type": "code",
   "execution_count": 3,
   "id": "b649c6e4",
   "metadata": {},
   "outputs": [],
   "source": [
    "driver=webdriver.Chrome(r'C:\\Users\\DELL\\chromedriver.exe')"
   ]
  },
  {
   "cell_type": "code",
   "execution_count": 4,
   "id": "99c10af4",
   "metadata": {},
   "outputs": [],
   "source": [
    "#Q1: Write a python program to scrape data for “Data Analyst” Job position in “Bangalore” location. \n",
    "#You have to scrape the job-title, job-location, company_name, experience_required. You have to scrape first 10 jobs data.\n",
    "#Getting the web page\n",
    "url='https://www.naukri.com/'\n",
    "driver.get(url)"
   ]
  },
  {
   "cell_type": "code",
   "execution_count": 5,
   "id": "29235b90",
   "metadata": {},
   "outputs": [
    {
     "data": {
      "text/plain": [
       "<selenium.webdriver.remote.webelement.WebElement (session=\"97f64dad07c692447079c4b93963e017\", element=\"790d7a98-063f-464b-86dd-1cb1feb19aef\")>"
      ]
     },
     "execution_count": 5,
     "metadata": {},
     "output_type": "execute_result"
    }
   ],
   "source": [
    "#finding web element for search job using id\n",
    "\n",
    "search_job = driver.find_element(By.CLASS_NAME,\"suggestor-input\")\n",
    "search_job"
   ]
  },
  {
   "cell_type": "code",
   "execution_count": 6,
   "id": "db5f0fb3",
   "metadata": {},
   "outputs": [],
   "source": [
    "# write on search bar\n",
    "search_job.send_keys(\"Data Analyst\")"
   ]
  },
  {
   "cell_type": "code",
   "execution_count": 7,
   "id": "f6c19679",
   "metadata": {},
   "outputs": [
    {
     "data": {
      "text/plain": [
       "<selenium.webdriver.remote.webelement.WebElement (session=\"97f64dad07c692447079c4b93963e017\", element=\"a0194766-ab49-4783-9b03-0e578a661015\")>"
      ]
     },
     "execution_count": 7,
     "metadata": {},
     "output_type": "execute_result"
    }
   ],
   "source": [
    "# finding web element using for search location using xpath\n",
    "search_locn= driver.find_element(By.XPATH,\"/html/body/div[1]/div[2]/div[3]/div/div/div[5]/div/div/div/input\")\n",
    "search_locn"
   ]
  },
  {
   "cell_type": "code",
   "execution_count": 8,
   "id": "f357b536",
   "metadata": {},
   "outputs": [],
   "source": [
    "#entering location 'Bangalore'\n",
    "search_locn.send_keys(\"Bangalore\")"
   ]
  },
  {
   "cell_type": "code",
   "execution_count": 9,
   "id": "cda199e8",
   "metadata": {},
   "outputs": [
    {
     "data": {
      "text/plain": [
       "<selenium.webdriver.remote.webelement.WebElement (session=\"97f64dad07c692447079c4b93963e017\", element=\"5d57a949-691a-40fd-90e9-918c892befd4\")>"
      ]
     },
     "execution_count": 9,
     "metadata": {},
     "output_type": "execute_result"
    }
   ],
   "source": [
    "search_btn=driver.find_element(By.XPATH,\"/html/body/div[1]/div[2]/div[3]/div/div/div[6]\")\n",
    "search_btn"
   ]
  },
  {
   "cell_type": "code",
   "execution_count": 10,
   "id": "4a20a88d",
   "metadata": {},
   "outputs": [],
   "source": [
    "# clicking on search button to land on desire page \n",
    "search_btn.click()"
   ]
  },
  {
   "cell_type": "code",
   "execution_count": 11,
   "id": "5cf3f0ab",
   "metadata": {},
   "outputs": [
    {
     "data": {
      "text/plain": [
       "10"
      ]
     },
     "execution_count": 11,
     "metadata": {},
     "output_type": "execute_result"
    }
   ],
   "source": [
    "#scraping data i) job title\n",
    "#now create empty list to store the scrape data\n",
    "title_tags=driver.find_elements(By.XPATH, '//a[@class=\"title fw500 ellipsis\" ]')[:10]\n",
    "len(title_tags)\n"
   ]
  },
  {
   "cell_type": "code",
   "execution_count": 12,
   "id": "a44813a1",
   "metadata": {},
   "outputs": [
    {
     "data": {
      "text/plain": [
       "['Sr.Business Data Analyst',\n",
       " 'Sr Data Analyst',\n",
       " 'Senior Data Analysis Analyst',\n",
       " 'Job opportunity For Data Analyst at Trellance - India',\n",
       " 'Data Analyst',\n",
       " 'Senior Data Analyst',\n",
       " 'Data Analyst',\n",
       " 'Associate Data Analyst',\n",
       " 'Associate Data Analyst',\n",
       " 'Data Analyst/Senior Data Analyst']"
      ]
     },
     "execution_count": 12,
     "metadata": {},
     "output_type": "execute_result"
    }
   ],
   "source": [
    "job_title=[]\n",
    "for i in title_tags:\n",
    "    job_title.append(i.text)\n",
    "job_title"
   ]
  },
  {
   "cell_type": "code",
   "execution_count": 18,
   "id": "ba9e3118",
   "metadata": {},
   "outputs": [
    {
     "data": {
      "text/plain": [
       "['Bangalore/Bengaluru, Mumbai, Hyderabad/Secunderabad, Pune, Chennai, Ahmedabad',\n",
       " 'Bangalore/Bengaluru',\n",
       " 'Bangalore/Bengaluru',\n",
       " 'Bangalore/Bengaluru',\n",
       " 'Bangalore/Bengaluru',\n",
       " 'Bangalore/Bengaluru',\n",
       " 'Bangalore/Bengaluru',\n",
       " 'Bangalore/Bengaluru',\n",
       " 'Bangalore/Bengaluru, Hyderabad/Secunderabad, Pune, Chennai',\n",
       " 'Bangalore/Bengaluru']"
      ]
     },
     "execution_count": 18,
     "metadata": {},
     "output_type": "execute_result"
    }
   ],
   "source": [
    "#now lets scrape first 10 job location\n",
    "locn_tag=driver.find_elements(By.XPATH,'//li[@class=\"fleft grey-text br2 placeHolderLi location\"]')[:10]\n",
    "location=[]\n",
    "for i in locn_tag:\n",
    "    location.append(i.text)\n",
    "location"
   ]
  },
  {
   "cell_type": "code",
   "execution_count": 19,
   "id": "8a6f701f",
   "metadata": {},
   "outputs": [
    {
     "data": {
      "text/plain": [
       "['Artech infosystem',\n",
       " 'Schneider Electric',\n",
       " 'Deutsche Bank',\n",
       " 'NUANCE INDIA PVT LTD',\n",
       " 'Jio',\n",
       " 'Accolite Software India Pvt Ltd',\n",
       " 'Meesho',\n",
       " 'Gojek',\n",
       " 'Virtusa',\n",
       " 'PayPal']"
      ]
     },
     "execution_count": 19,
     "metadata": {},
     "output_type": "execute_result"
    }
   ],
   "source": [
    "#now scrape first 10 company name\n",
    "company_tag=driver.find_elements(By.XPATH, '//a[@class=\"subTitle ellipsis fleft\" ]')[:10]\n",
    "company_name=[]\n",
    "for i in company_tag:\n",
    "    company_name.append(i.text)\n",
    "company_name"
   ]
  },
  {
   "cell_type": "code",
   "execution_count": 20,
   "id": "5bb5c1c9",
   "metadata": {},
   "outputs": [
    {
     "data": {
      "text/plain": [
       "['1-6 Yrs',\n",
       " '3-6 Yrs',\n",
       " '2-5 Yrs',\n",
       " '1-3 Yrs',\n",
       " '8-11 Yrs',\n",
       " '2-6 Yrs',\n",
       " '3-6 Yrs',\n",
       " '3-7 Yrs',\n",
       " '4-8 Yrs',\n",
       " '1-3 Yrs']"
      ]
     },
     "execution_count": 20,
     "metadata": {},
     "output_type": "execute_result"
    }
   ],
   "source": [
    "# Now scraping experience required\n",
    "exp_tag=driver.find_elements(By.XPATH,'//li[@class=\"fleft grey-text br2 placeHolderLi experience\"]')[:10]\n",
    "exp_req=[]\n",
    "for i in exp_tag:\n",
    "    exp_req.append(i.text)\n",
    "exp_req"
   ]
  },
  {
   "cell_type": "code",
   "execution_count": 21,
   "id": "4ccdf7b5",
   "metadata": {},
   "outputs": [
    {
     "data": {
      "text/plain": [
       "(10, 10, 10, 10)"
      ]
     },
     "execution_count": 21,
     "metadata": {},
     "output_type": "execute_result"
    }
   ],
   "source": [
    "#checking the length of each column\n",
    "len(job_title), len(location), len(company_name), len(exp_req)"
   ]
  },
  {
   "cell_type": "code",
   "execution_count": 22,
   "id": "67e9d37e",
   "metadata": {},
   "outputs": [
    {
     "data": {
      "text/html": [
       "<div>\n",
       "<style scoped>\n",
       "    .dataframe tbody tr th:only-of-type {\n",
       "        vertical-align: middle;\n",
       "    }\n",
       "\n",
       "    .dataframe tbody tr th {\n",
       "        vertical-align: top;\n",
       "    }\n",
       "\n",
       "    .dataframe thead th {\n",
       "        text-align: right;\n",
       "    }\n",
       "</style>\n",
       "<table border=\"1\" class=\"dataframe\">\n",
       "  <thead>\n",
       "    <tr style=\"text-align: right;\">\n",
       "      <th></th>\n",
       "      <th>Job Title</th>\n",
       "      <th>Company Name</th>\n",
       "      <th>Location</th>\n",
       "      <th>Experience Required</th>\n",
       "    </tr>\n",
       "  </thead>\n",
       "  <tbody>\n",
       "    <tr>\n",
       "      <th>0</th>\n",
       "      <td>Data Analyst - CRM Platform</td>\n",
       "      <td>Artech infosystem</td>\n",
       "      <td>Bangalore/Bengaluru, Mumbai, Hyderabad/Secunde...</td>\n",
       "      <td>1-6 Yrs</td>\n",
       "    </tr>\n",
       "    <tr>\n",
       "      <th>1</th>\n",
       "      <td>Software Technical Expert - Data Analyst</td>\n",
       "      <td>Schneider Electric</td>\n",
       "      <td>Bangalore/Bengaluru</td>\n",
       "      <td>3-6 Yrs</td>\n",
       "    </tr>\n",
       "    <tr>\n",
       "      <th>2</th>\n",
       "      <td>Reference Data Analyst</td>\n",
       "      <td>Deutsche Bank</td>\n",
       "      <td>Bangalore/Bengaluru</td>\n",
       "      <td>2-5 Yrs</td>\n",
       "    </tr>\n",
       "    <tr>\n",
       "      <th>3</th>\n",
       "      <td>Sales Data Analyst</td>\n",
       "      <td>NUANCE INDIA PVT LTD</td>\n",
       "      <td>Bangalore/Bengaluru</td>\n",
       "      <td>1-3 Yrs</td>\n",
       "    </tr>\n",
       "    <tr>\n",
       "      <th>4</th>\n",
       "      <td>Data Analyst</td>\n",
       "      <td>Jio</td>\n",
       "      <td>Bangalore/Bengaluru</td>\n",
       "      <td>8-11 Yrs</td>\n",
       "    </tr>\n",
       "    <tr>\n",
       "      <th>5</th>\n",
       "      <td>Big data analyst</td>\n",
       "      <td>Accolite Software India Pvt Ltd</td>\n",
       "      <td>Bangalore/Bengaluru</td>\n",
       "      <td>2-6 Yrs</td>\n",
       "    </tr>\n",
       "    <tr>\n",
       "      <th>6</th>\n",
       "      <td>Data Analyst/Senior Data Analyst</td>\n",
       "      <td>Meesho</td>\n",
       "      <td>Bangalore/Bengaluru</td>\n",
       "      <td>3-6 Yrs</td>\n",
       "    </tr>\n",
       "    <tr>\n",
       "      <th>7</th>\n",
       "      <td>Data Analyst - Marketplace</td>\n",
       "      <td>Gojek</td>\n",
       "      <td>Bangalore/Bengaluru</td>\n",
       "      <td>3-7 Yrs</td>\n",
       "    </tr>\n",
       "    <tr>\n",
       "      <th>8</th>\n",
       "      <td>Hiring Data Analysts - Virtusa</td>\n",
       "      <td>Virtusa</td>\n",
       "      <td>Bangalore/Bengaluru, Hyderabad/Secunderabad, P...</td>\n",
       "      <td>4-8 Yrs</td>\n",
       "    </tr>\n",
       "    <tr>\n",
       "      <th>9</th>\n",
       "      <td>Data Analyst 2</td>\n",
       "      <td>PayPal</td>\n",
       "      <td>Bangalore/Bengaluru</td>\n",
       "      <td>1-3 Yrs</td>\n",
       "    </tr>\n",
       "  </tbody>\n",
       "</table>\n",
       "</div>"
      ],
      "text/plain": [
       "                                  Job Title                     Company Name  \\\n",
       "0               Data Analyst - CRM Platform                Artech infosystem   \n",
       "1  Software Technical Expert - Data Analyst               Schneider Electric   \n",
       "2                    Reference Data Analyst                    Deutsche Bank   \n",
       "3                        Sales Data Analyst             NUANCE INDIA PVT LTD   \n",
       "4                              Data Analyst                              Jio   \n",
       "5                          Big data analyst  Accolite Software India Pvt Ltd   \n",
       "6          Data Analyst/Senior Data Analyst                           Meesho   \n",
       "7                Data Analyst - Marketplace                            Gojek   \n",
       "8            Hiring Data Analysts - Virtusa                          Virtusa   \n",
       "9                            Data Analyst 2                           PayPal   \n",
       "\n",
       "                                            Location Experience Required  \n",
       "0  Bangalore/Bengaluru, Mumbai, Hyderabad/Secunde...             1-6 Yrs  \n",
       "1                                Bangalore/Bengaluru             3-6 Yrs  \n",
       "2                                Bangalore/Bengaluru             2-5 Yrs  \n",
       "3                                Bangalore/Bengaluru             1-3 Yrs  \n",
       "4                                Bangalore/Bengaluru            8-11 Yrs  \n",
       "5                                Bangalore/Bengaluru             2-6 Yrs  \n",
       "6                                Bangalore/Bengaluru             3-6 Yrs  \n",
       "7                                Bangalore/Bengaluru             3-7 Yrs  \n",
       "8  Bangalore/Bengaluru, Hyderabad/Secunderabad, P...             4-8 Yrs  \n",
       "9                                Bangalore/Bengaluru             1-3 Yrs  "
      ]
     },
     "execution_count": 22,
     "metadata": {},
     "output_type": "execute_result"
    }
   ],
   "source": [
    "#Preparing DataFrame for first 10 data requirements including company name, job title, experince and location\n",
    "jobs=pd.DataFrame()\n",
    "jobs['Job Title']=job_title\n",
    "jobs['Company Name']=company_name\n",
    "jobs['Location']=location\n",
    "jobs['Experience Required']= exp_req\n",
    "jobs"
   ]
  },
  {
   "cell_type": "code",
   "execution_count": 23,
   "id": "03561032",
   "metadata": {},
   "outputs": [],
   "source": [
    "#Q2: Write a python program to scrape data for “Data Scientist” Job position in “Bangalore” location. \n",
    "#You have to scrape the job-title, job-location, company_name. You have to scrape first 10 jobs data.\n",
    "\n",
    "url='https://www.naukri.com/'\n",
    "driver.get(url)"
   ]
  },
  {
   "cell_type": "code",
   "execution_count": 24,
   "id": "02d4cdff",
   "metadata": {},
   "outputs": [
    {
     "data": {
      "text/plain": [
       "<selenium.webdriver.remote.webelement.WebElement (session=\"72aba396f4eb7e98417efe3a2b7dae7c\", element=\"227824d1-cdd5-4a12-aa97-9031253905da\")>"
      ]
     },
     "execution_count": 24,
     "metadata": {},
     "output_type": "execute_result"
    }
   ],
   "source": [
    "#finding web element for search job using id\n",
    "\n",
    "search_job = driver.find_element(By.CLASS_NAME,\"suggestor-input\")\n",
    "search_job"
   ]
  },
  {
   "cell_type": "code",
   "execution_count": 25,
   "id": "0e9f6efe",
   "metadata": {},
   "outputs": [],
   "source": [
    "# write on search bar\n",
    "search_job.send_keys(\"Data Scientist\")"
   ]
  },
  {
   "cell_type": "code",
   "execution_count": 26,
   "id": "9d6eb3fb",
   "metadata": {},
   "outputs": [
    {
     "data": {
      "text/plain": [
       "<selenium.webdriver.remote.webelement.WebElement (session=\"72aba396f4eb7e98417efe3a2b7dae7c\", element=\"6a72ebff-e357-4a3a-a69f-419401926ac5\")>"
      ]
     },
     "execution_count": 26,
     "metadata": {},
     "output_type": "execute_result"
    }
   ],
   "source": [
    "# finding web element using for search location using xpath\n",
    "search_locn= driver.find_element(By.XPATH,\"/html/body/div[1]/div[2]/div[3]/div/div/div[5]/div/div/div/input\")\n",
    "search_locn"
   ]
  },
  {
   "cell_type": "code",
   "execution_count": 27,
   "id": "692ea362",
   "metadata": {},
   "outputs": [],
   "source": [
    "#entering location 'Bangalore'\n",
    "search_locn.send_keys(\"Bangalore\")"
   ]
  },
  {
   "cell_type": "code",
   "execution_count": 28,
   "id": "3e2a6dd7",
   "metadata": {},
   "outputs": [
    {
     "data": {
      "text/plain": [
       "<selenium.webdriver.remote.webelement.WebElement (session=\"72aba396f4eb7e98417efe3a2b7dae7c\", element=\"ade59c5e-2182-418e-95d9-ce921778ad3d\")>"
      ]
     },
     "execution_count": 28,
     "metadata": {},
     "output_type": "execute_result"
    }
   ],
   "source": [
    "#finding webelement for search button\n",
    "search_btn=driver.find_element(By.XPATH,\"/html/body/div[1]/div[2]/div[3]/div/div/div[6]\")\n",
    "search_btn"
   ]
  },
  {
   "cell_type": "code",
   "execution_count": 29,
   "id": "e529cddb",
   "metadata": {},
   "outputs": [],
   "source": [
    "#clicking on search button\n",
    "search_btn.click()"
   ]
  },
  {
   "cell_type": "code",
   "execution_count": 30,
   "id": "90f3d96c",
   "metadata": {},
   "outputs": [
    {
     "data": {
      "text/plain": [
       "['Urgent Job Opening For AI Practitioner - Data Science at Wipro Holmes',\n",
       " 'Dataiku Consultant',\n",
       " 'Research and Development -AI/ML -(PhD )',\n",
       " 'Opportunity For Data Scientist - Female Candidates ONLY',\n",
       " 'Data Scientist: Artificial Intelligence',\n",
       " 'Data Scientist - IN3',\n",
       " 'Data Scientist - IN3',\n",
       " 'Senior Data Science Engineer',\n",
       " 'Senior Data Scientist',\n",
       " 'Data Science - Engineering Manager']"
      ]
     },
     "execution_count": 30,
     "metadata": {},
     "output_type": "execute_result"
    }
   ],
   "source": [
    "#scraping first 10 data entry on the webpage\n",
    "#1) job title\n",
    "title_tag1=driver.find_elements(By.XPATH, '//a[@class=\"title fw500 ellipsis\" ]')[:10]\n",
    "job_title1=[]\n",
    "for i in title_tag1:\n",
    "    job_title1.append(i.text)\n",
    "job_title1"
   ]
  },
  {
   "cell_type": "code",
   "execution_count": 31,
   "id": "73b81e65",
   "metadata": {},
   "outputs": [
    {
     "data": {
      "text/plain": [
       "['Bangalore/Bengaluru, Kochi/Cochin, New Delhi, Coimbatore, Chennai, Pune, Mumbai, Hyderabad',\n",
       " 'Bangalore/Bengaluru, Pune, Chennai',\n",
       " 'Bangalore/Bengaluru, Noida, Hyderabad/Secunderabad, Pune, Gurgaon/Gurugram, Chennai, Delhi / NCR',\n",
       " 'Bangalore/Bengaluru, Gurgaon/Gurugram, Mumbai (All Areas)',\n",
       " 'Bangalore/Bengaluru',\n",
       " 'Bangalore/Bengaluru',\n",
       " 'Bangalore/Bengaluru',\n",
       " 'Bangalore/Bengaluru, Gurgaon/Gurugram, Mumbai (All Areas)',\n",
       " 'Bangalore/Bengaluru, Mumbai',\n",
       " 'Bangalore/Bengaluru, Noida, Mumbai']"
      ]
     },
     "execution_count": 31,
     "metadata": {},
     "output_type": "execute_result"
    }
   ],
   "source": [
    "#scraping location \n",
    "\n",
    "locn_tag1=driver.find_elements(By.XPATH,'//li[@ class=\"fleft grey-text br2 placeHolderLi location\"]')[:10]\n",
    "location1=[]\n",
    "for i in locn_tag1:\n",
    "    location1.append(i.text)\n",
    "location1"
   ]
  },
  {
   "cell_type": "code",
   "execution_count": 32,
   "id": "3100e88a",
   "metadata": {},
   "outputs": [
    {
     "data": {
      "text/plain": [
       "['Wipro',\n",
       " 'Wipro',\n",
       " 'EXL',\n",
       " 'PayU',\n",
       " 'IBM',\n",
       " 'Walmart',\n",
       " 'Walmart',\n",
       " 'Fractal Analytics',\n",
       " 'Baker Hughes',\n",
       " 'Paytm']"
      ]
     },
     "execution_count": 32,
     "metadata": {},
     "output_type": "execute_result"
    }
   ],
   "source": [
    "#scraping Company Name\n",
    "\n",
    "cmpny_tag=driver.find_elements(By.XPATH, '//a[@class=\"subTitle ellipsis fleft\"]')[:10]\n",
    "company_name1=[]\n",
    "for i in cmpny_tag:\n",
    "    company_name1.append(i.text)\n",
    "company_name1"
   ]
  },
  {
   "cell_type": "code",
   "execution_count": 33,
   "id": "1caf73ee",
   "metadata": {},
   "outputs": [
    {
     "data": {
      "text/plain": [
       "(10, 10, 10)"
      ]
     },
     "execution_count": 33,
     "metadata": {},
     "output_type": "execute_result"
    }
   ],
   "source": [
    "#Checking length for columns of data frame\n",
    "len(job_title1),len(location1), len(company_name1)    "
   ]
  },
  {
   "cell_type": "code",
   "execution_count": 34,
   "id": "20a4636e",
   "metadata": {},
   "outputs": [
    {
     "data": {
      "text/html": [
       "<div>\n",
       "<style scoped>\n",
       "    .dataframe tbody tr th:only-of-type {\n",
       "        vertical-align: middle;\n",
       "    }\n",
       "\n",
       "    .dataframe tbody tr th {\n",
       "        vertical-align: top;\n",
       "    }\n",
       "\n",
       "    .dataframe thead th {\n",
       "        text-align: right;\n",
       "    }\n",
       "</style>\n",
       "<table border=\"1\" class=\"dataframe\">\n",
       "  <thead>\n",
       "    <tr style=\"text-align: right;\">\n",
       "      <th></th>\n",
       "      <th>Job Title</th>\n",
       "      <th>Company Name</th>\n",
       "      <th>Location</th>\n",
       "    </tr>\n",
       "  </thead>\n",
       "  <tbody>\n",
       "    <tr>\n",
       "      <th>0</th>\n",
       "      <td>Urgent Job Opening For AI Practitioner - Data ...</td>\n",
       "      <td>Wipro</td>\n",
       "      <td>Bangalore/Bengaluru, Mumbai, Hyderabad/Secunde...</td>\n",
       "    </tr>\n",
       "    <tr>\n",
       "      <th>1</th>\n",
       "      <td>Dataiku Consultant</td>\n",
       "      <td>Wipro</td>\n",
       "      <td>Bangalore/Bengaluru</td>\n",
       "    </tr>\n",
       "    <tr>\n",
       "      <th>2</th>\n",
       "      <td>Research and Development -AI/ML -(PhD )</td>\n",
       "      <td>EXL</td>\n",
       "      <td>Bangalore/Bengaluru</td>\n",
       "    </tr>\n",
       "    <tr>\n",
       "      <th>3</th>\n",
       "      <td>Opportunity For Data Scientist - Female Candid...</td>\n",
       "      <td>PayU</td>\n",
       "      <td>Bangalore/Bengaluru</td>\n",
       "    </tr>\n",
       "    <tr>\n",
       "      <th>4</th>\n",
       "      <td>Data Scientist: Artificial Intelligence</td>\n",
       "      <td>IBM</td>\n",
       "      <td>Bangalore/Bengaluru</td>\n",
       "    </tr>\n",
       "    <tr>\n",
       "      <th>5</th>\n",
       "      <td>Data Scientist - IN3</td>\n",
       "      <td>Walmart</td>\n",
       "      <td>Bangalore/Bengaluru</td>\n",
       "    </tr>\n",
       "    <tr>\n",
       "      <th>6</th>\n",
       "      <td>Data Scientist - IN3</td>\n",
       "      <td>Walmart</td>\n",
       "      <td>Bangalore/Bengaluru</td>\n",
       "    </tr>\n",
       "    <tr>\n",
       "      <th>7</th>\n",
       "      <td>Senior Data Science Engineer</td>\n",
       "      <td>Fractal Analytics</td>\n",
       "      <td>Bangalore/Bengaluru</td>\n",
       "    </tr>\n",
       "    <tr>\n",
       "      <th>8</th>\n",
       "      <td>Senior Data Scientist</td>\n",
       "      <td>Baker Hughes</td>\n",
       "      <td>Bangalore/Bengaluru, Hyderabad/Secunderabad, P...</td>\n",
       "    </tr>\n",
       "    <tr>\n",
       "      <th>9</th>\n",
       "      <td>Data Science - Engineering Manager</td>\n",
       "      <td>Paytm</td>\n",
       "      <td>Bangalore/Bengaluru</td>\n",
       "    </tr>\n",
       "  </tbody>\n",
       "</table>\n",
       "</div>"
      ],
      "text/plain": [
       "                                           Job Title       Company Name  \\\n",
       "0  Urgent Job Opening For AI Practitioner - Data ...              Wipro   \n",
       "1                                 Dataiku Consultant              Wipro   \n",
       "2            Research and Development -AI/ML -(PhD )                EXL   \n",
       "3  Opportunity For Data Scientist - Female Candid...               PayU   \n",
       "4            Data Scientist: Artificial Intelligence                IBM   \n",
       "5                               Data Scientist - IN3            Walmart   \n",
       "6                               Data Scientist - IN3            Walmart   \n",
       "7                       Senior Data Science Engineer  Fractal Analytics   \n",
       "8                              Senior Data Scientist       Baker Hughes   \n",
       "9                 Data Science - Engineering Manager              Paytm   \n",
       "\n",
       "                                            Location  \n",
       "0  Bangalore/Bengaluru, Mumbai, Hyderabad/Secunde...  \n",
       "1                                Bangalore/Bengaluru  \n",
       "2                                Bangalore/Bengaluru  \n",
       "3                                Bangalore/Bengaluru  \n",
       "4                                Bangalore/Bengaluru  \n",
       "5                                Bangalore/Bengaluru  \n",
       "6                                Bangalore/Bengaluru  \n",
       "7                                Bangalore/Bengaluru  \n",
       "8  Bangalore/Bengaluru, Hyderabad/Secunderabad, P...  \n",
       "9                                Bangalore/Bengaluru  "
      ]
     },
     "execution_count": 34,
     "metadata": {},
     "output_type": "execute_result"
    }
   ],
   "source": [
    "#Preparing DataFrame for Job Title, Location, and Company Name for first 10 data\n",
    "\n",
    "job1=pd.DataFrame({'Job Title':job_title1, 'Company Name': company_name1, 'Location':location})\n",
    "job1"
   ]
  },
  {
   "cell_type": "code",
   "execution_count": 35,
   "id": "15bded03",
   "metadata": {},
   "outputs": [],
   "source": [
    "#Q3: In this question you have to scrape data using the filters available on the webpage:You have to use the location and salary filter.\n",
    "#You have to scrape data for “Data Scientist” designation for first 10 job results.\n",
    "#You have to scrape the job-title, job-location, company name, experience required. \n",
    "#The location filter to be used is “Delhi/NCR”. The salary filter to be used is “3-6” lakhs\n",
    "\n",
    "# Getting the web page naukri.com\n",
    "\n",
    "url='https://www.naukri.com/'\n",
    "driver.get(url)"
   ]
  },
  {
   "cell_type": "code",
   "execution_count": 36,
   "id": "1ad6db79",
   "metadata": {},
   "outputs": [
    {
     "data": {
      "text/plain": [
       "<selenium.webdriver.remote.webelement.WebElement (session=\"72aba396f4eb7e98417efe3a2b7dae7c\", element=\"6d8cf6c9-783d-46a5-86b0-3d93bb7afa49\")>"
      ]
     },
     "execution_count": 36,
     "metadata": {},
     "output_type": "execute_result"
    }
   ],
   "source": [
    "#finding web element for search job using id\n",
    "\n",
    "search_job = driver.find_element(By.CLASS_NAME,\"suggestor-input\")\n",
    "search_job"
   ]
  },
  {
   "cell_type": "code",
   "execution_count": 37,
   "id": "5340d241",
   "metadata": {},
   "outputs": [],
   "source": [
    "# write on search bar\n",
    "search_job.send_keys(\"Data Scientist\")"
   ]
  },
  {
   "cell_type": "code",
   "execution_count": 38,
   "id": "ad7032dc",
   "metadata": {},
   "outputs": [
    {
     "data": {
      "text/plain": [
       "<selenium.webdriver.remote.webelement.WebElement (session=\"72aba396f4eb7e98417efe3a2b7dae7c\", element=\"c51637f8-d2e5-449b-8d1c-859dbf96c151\")>"
      ]
     },
     "execution_count": 38,
     "metadata": {},
     "output_type": "execute_result"
    }
   ],
   "source": [
    "# finding web element for search button\n",
    "search_btn=driver.find_element(By.XPATH,\"/html/body/div[1]/div[2]/div[3]/div/div/div[6]\")\n",
    "search_btn"
   ]
  },
  {
   "cell_type": "code",
   "execution_count": 39,
   "id": "8f9bdf71",
   "metadata": {},
   "outputs": [],
   "source": [
    "search_btn.click()"
   ]
  },
  {
   "cell_type": "code",
   "execution_count": 40,
   "id": "82485df8",
   "metadata": {},
   "outputs": [
    {
     "data": {
      "text/plain": [
       "<selenium.webdriver.remote.webelement.WebElement (session=\"72aba396f4eb7e98417efe3a2b7dae7c\", element=\"2d7b8020-3913-4586-b6f6-89e219b4caba\")>"
      ]
     },
     "execution_count": 40,
     "metadata": {},
     "output_type": "execute_result"
    }
   ],
   "source": [
    "#clicking filter by selecting check boxes using absolute xpath\n",
    "\n",
    "salary_check=driver.find_element(By.XPATH, \"/html/body/div[1]/div[3]/div[2]/section[1]/div[2]/div[6]/div[2]/div[2]/label/i\")\n",
    "salary_check"
   ]
  },
  {
   "cell_type": "code",
   "execution_count": 41,
   "id": "ba8d6178",
   "metadata": {},
   "outputs": [],
   "source": [
    "#click on slary check box range 3-6 lakhs\n",
    "\n",
    "salary_check.click()"
   ]
  },
  {
   "cell_type": "code",
   "execution_count": 43,
   "id": "9079713c",
   "metadata": {},
   "outputs": [
    {
     "data": {
      "text/plain": [
       "<selenium.webdriver.remote.webelement.WebElement (session=\"72aba396f4eb7e98417efe3a2b7dae7c\", element=\"66569e41-0ff6-4655-a7da-8165bd45b923\")>"
      ]
     },
     "execution_count": 43,
     "metadata": {},
     "output_type": "execute_result"
    }
   ],
   "source": [
    "#clicking filter location using absolute Xpath\n",
    "\n",
    "locn_check=driver.find_element(By.XPATH,\"/html/body/div[1]/div[3]/div[2]/section[1]/div[2]/div[6]/div[2]/div[3]/label/i\")\n",
    "locn_check"
   ]
  },
  {
   "cell_type": "code",
   "execution_count": 44,
   "id": "c1a4c61a",
   "metadata": {},
   "outputs": [],
   "source": [
    "#click on location filter \"Delhi location\"\n",
    "locn_check.click()"
   ]
  },
  {
   "cell_type": "code",
   "execution_count": 45,
   "id": "52062509",
   "metadata": {},
   "outputs": [
    {
     "data": {
      "text/plain": [
       "['DigitalBCG GAMMA Data ScientistDigitalBCG GAMMA Data ScientistDigitalBCG GAMMA Data ScientistDigitalBCG GAMMA Data Scientist',\n",
       " 'DigitalBCG GAMMA Data ScientistDigitalBCG GAMMA Data ScientistDigitalBCG GAMMA Data Scientist',\n",
       " 'DigitalBCG GAMMA Data ScientistDigitalBCG GAMMA Data Scientist',\n",
       " 'DigitalBCG GAMMA Data Scientist',\n",
       " 'Senior Associate - Data Science',\n",
       " 'Data Scientist - Noida/Bangalore',\n",
       " 'Data Scientist - Machine learning AI',\n",
       " 'Data Scientist',\n",
       " 'Data Scientist - MIND Infotech',\n",
       " 'Data Scientist']"
      ]
     },
     "execution_count": 45,
     "metadata": {},
     "output_type": "execute_result"
    }
   ],
   "source": [
    "#Now lets scrape data, and create empty list to store the first 10 scrape data, starting with job title\n",
    "\n",
    "title_tag3= driver.find_elements(By.XPATH, '//a[@class=\"title fw500 ellipsis\" ]')[:10]\n",
    "job_title3=[]\n",
    "for i in title_tag3:\n",
    "    job_title3.append(i.text)\n",
    "job_title3"
   ]
  },
  {
   "cell_type": "code",
   "execution_count": 46,
   "id": "b94293f4",
   "metadata": {},
   "outputs": [
    {
     "data": {
      "text/plain": [
       "['New Delhi, Bangalore/Bengaluru',\n",
       " 'Mumbai, Hyderabad/Secunderabad, Gurgaon/Gurugram, Bangalore/Bengaluru',\n",
       " 'Noida, Bangalore/Bengaluru',\n",
       " 'Delhi / NCR, Bangalore/Bengaluru, Mumbai (All Areas)\\n(WFH during Covid)',\n",
       " 'Pune, Gurgaon/Gurugram, Bangalore/Bengaluru',\n",
       " 'Noida',\n",
       " 'Delhi / NCR, Pune, Bangalore/Bengaluru',\n",
       " 'Delhi / NCR, Pune, Bangalore/Bengaluru',\n",
       " 'Noida, Mumbai, Chandigarh, Hyderabad/Secunderabad, Pune, Chennai, Gurgaon/Gurugram, Coimbatore, Bangalore/Bengaluru',\n",
       " 'Delhi / NCR, Kolkata, Mumbai, Hyderabad/Secunderabad, Lucknow, Chennai, Ahmedabad, Bangalore/Bengaluru']"
      ]
     },
     "execution_count": 46,
     "metadata": {},
     "output_type": "execute_result"
    }
   ],
   "source": [
    "#Now lets scrape the location of first 10 data\n",
    "locn_tag3=driver.find_elements(By.XPATH, '//li[@class=\"fleft grey-text br2 placeHolderLi location\"]')[:10]\n",
    "location3=[]\n",
    "for i in locn_tag3:\n",
    "    location3.append(i.text)\n",
    "location3"
   ]
  },
  {
   "cell_type": "code",
   "execution_count": 47,
   "id": "9be51068",
   "metadata": {},
   "outputs": [
    {
     "data": {
      "text/plain": [
       "['Boston Consulting Group',\n",
       " 'Black Turtle India Pvt Ltd',\n",
       " 'EXL',\n",
       " 'Teq Analytics',\n",
       " 'SS Supply Chain Solutions Pvt. Ltd. (3SC)',\n",
       " 'MOTHERSONSUMI INFOTECH & DESIGNS LIMITED',\n",
       " 'Mount Talent Consulting Private Limited',\n",
       " 'Mount Talent Consulting Private Limited',\n",
       " 'Confidential',\n",
       " 'Primo Hiring']"
      ]
     },
     "execution_count": 47,
     "metadata": {},
     "output_type": "execute_result"
    }
   ],
   "source": [
    "#Now let's scrape the company name of first 10 \n",
    "cmpny_tag3=driver.find_elements(By.XPATH, '//a[@class=\"subTitle ellipsis fleft\"]')[:10]\n",
    "company_name3=[]\n",
    "for i in cmpny_tag3:\n",
    "    company_name3.append(i.text)\n",
    "company_name3"
   ]
  },
  {
   "cell_type": "code",
   "execution_count": 48,
   "id": "97b08334",
   "metadata": {},
   "outputs": [
    {
     "data": {
      "text/plain": [
       "['2-5 Yrs',\n",
       " '4-7 Yrs',\n",
       " '5-10 Yrs',\n",
       " '3-8 Yrs',\n",
       " '2-5 Yrs',\n",
       " '4-8 Yrs',\n",
       " '2-4 Yrs',\n",
       " '2-4 Yrs',\n",
       " '1-6 Yrs',\n",
       " '1-3 Yrs']"
      ]
     },
     "execution_count": 48,
     "metadata": {},
     "output_type": "execute_result"
    }
   ],
   "source": [
    "#Now let's scrape the experience of first 10 data\n",
    "exp_tag3=driver.find_elements(By.XPATH, '//li[@class=\"fleft grey-text br2 placeHolderLi experience\"]')[:10]\n",
    "exp_req3=[]\n",
    "for i in exp_tag3:\n",
    "    exp_req3.append(i.text)\n",
    "exp_req3"
   ]
  },
  {
   "cell_type": "code",
   "execution_count": 49,
   "id": "e3e99b14",
   "metadata": {},
   "outputs": [
    {
     "data": {
      "text/plain": [
       "(10, 10, 10, 10)"
      ]
     },
     "execution_count": 49,
     "metadata": {},
     "output_type": "execute_result"
    }
   ],
   "source": [
    "#checking the length of the list\n",
    "len(job_title3), len(company_name3), len(exp_req3), len(location3)"
   ]
  },
  {
   "cell_type": "code",
   "execution_count": 50,
   "id": "45beb3da",
   "metadata": {},
   "outputs": [
    {
     "data": {
      "text/html": [
       "<div>\n",
       "<style scoped>\n",
       "    .dataframe tbody tr th:only-of-type {\n",
       "        vertical-align: middle;\n",
       "    }\n",
       "\n",
       "    .dataframe tbody tr th {\n",
       "        vertical-align: top;\n",
       "    }\n",
       "\n",
       "    .dataframe thead th {\n",
       "        text-align: right;\n",
       "    }\n",
       "</style>\n",
       "<table border=\"1\" class=\"dataframe\">\n",
       "  <thead>\n",
       "    <tr style=\"text-align: right;\">\n",
       "      <th></th>\n",
       "      <th>Job Title</th>\n",
       "      <th>Company name</th>\n",
       "      <th>Experience Required</th>\n",
       "      <th>Location</th>\n",
       "    </tr>\n",
       "  </thead>\n",
       "  <tbody>\n",
       "    <tr>\n",
       "      <th>0</th>\n",
       "      <td>DigitalBCG GAMMA Data ScientistDigitalBCG GAMM...</td>\n",
       "      <td>Boston Consulting Group</td>\n",
       "      <td>2-5 Yrs</td>\n",
       "      <td>New Delhi, Bangalore/Bengaluru</td>\n",
       "    </tr>\n",
       "    <tr>\n",
       "      <th>1</th>\n",
       "      <td>DigitalBCG GAMMA Data ScientistDigitalBCG GAMM...</td>\n",
       "      <td>Black Turtle India Pvt Ltd</td>\n",
       "      <td>4-7 Yrs</td>\n",
       "      <td>Mumbai, Hyderabad/Secunderabad, Gurgaon/Gurugr...</td>\n",
       "    </tr>\n",
       "    <tr>\n",
       "      <th>2</th>\n",
       "      <td>DigitalBCG GAMMA Data ScientistDigitalBCG GAMM...</td>\n",
       "      <td>EXL</td>\n",
       "      <td>5-10 Yrs</td>\n",
       "      <td>Noida, Bangalore/Bengaluru</td>\n",
       "    </tr>\n",
       "    <tr>\n",
       "      <th>3</th>\n",
       "      <td>DigitalBCG GAMMA Data Scientist</td>\n",
       "      <td>Teq Analytics</td>\n",
       "      <td>3-8 Yrs</td>\n",
       "      <td>Delhi / NCR, Bangalore/Bengaluru, Mumbai (All ...</td>\n",
       "    </tr>\n",
       "    <tr>\n",
       "      <th>4</th>\n",
       "      <td>Senior Associate - Data Science</td>\n",
       "      <td>SS Supply Chain Solutions Pvt. Ltd. (3SC)</td>\n",
       "      <td>2-5 Yrs</td>\n",
       "      <td>Pune, Gurgaon/Gurugram, Bangalore/Bengaluru</td>\n",
       "    </tr>\n",
       "    <tr>\n",
       "      <th>5</th>\n",
       "      <td>Data Scientist - Noida/Bangalore</td>\n",
       "      <td>MOTHERSONSUMI INFOTECH &amp; DESIGNS LIMITED</td>\n",
       "      <td>4-8 Yrs</td>\n",
       "      <td>Noida</td>\n",
       "    </tr>\n",
       "    <tr>\n",
       "      <th>6</th>\n",
       "      <td>Data Scientist - Machine learning AI</td>\n",
       "      <td>Mount Talent Consulting Private Limited</td>\n",
       "      <td>2-4 Yrs</td>\n",
       "      <td>Delhi / NCR, Pune, Bangalore/Bengaluru</td>\n",
       "    </tr>\n",
       "    <tr>\n",
       "      <th>7</th>\n",
       "      <td>Data Scientist</td>\n",
       "      <td>Mount Talent Consulting Private Limited</td>\n",
       "      <td>2-4 Yrs</td>\n",
       "      <td>Delhi / NCR, Pune, Bangalore/Bengaluru</td>\n",
       "    </tr>\n",
       "    <tr>\n",
       "      <th>8</th>\n",
       "      <td>Data Scientist - MIND Infotech</td>\n",
       "      <td>Confidential</td>\n",
       "      <td>1-6 Yrs</td>\n",
       "      <td>Noida, Mumbai, Chandigarh, Hyderabad/Secundera...</td>\n",
       "    </tr>\n",
       "    <tr>\n",
       "      <th>9</th>\n",
       "      <td>Data Scientist</td>\n",
       "      <td>Primo Hiring</td>\n",
       "      <td>1-3 Yrs</td>\n",
       "      <td>Delhi / NCR, Kolkata, Mumbai, Hyderabad/Secund...</td>\n",
       "    </tr>\n",
       "  </tbody>\n",
       "</table>\n",
       "</div>"
      ],
      "text/plain": [
       "                                           Job Title  \\\n",
       "0  DigitalBCG GAMMA Data ScientistDigitalBCG GAMM...   \n",
       "1  DigitalBCG GAMMA Data ScientistDigitalBCG GAMM...   \n",
       "2  DigitalBCG GAMMA Data ScientistDigitalBCG GAMM...   \n",
       "3                    DigitalBCG GAMMA Data Scientist   \n",
       "4                    Senior Associate - Data Science   \n",
       "5                   Data Scientist - Noida/Bangalore   \n",
       "6               Data Scientist - Machine learning AI   \n",
       "7                                     Data Scientist   \n",
       "8                     Data Scientist - MIND Infotech   \n",
       "9                                     Data Scientist   \n",
       "\n",
       "                               Company name  Experience Required  \\\n",
       "0                    Boston Consulting Group             2-5 Yrs   \n",
       "1                 Black Turtle India Pvt Ltd             4-7 Yrs   \n",
       "2                                        EXL            5-10 Yrs   \n",
       "3                              Teq Analytics             3-8 Yrs   \n",
       "4  SS Supply Chain Solutions Pvt. Ltd. (3SC)             2-5 Yrs   \n",
       "5   MOTHERSONSUMI INFOTECH & DESIGNS LIMITED             4-8 Yrs   \n",
       "6    Mount Talent Consulting Private Limited             2-4 Yrs   \n",
       "7    Mount Talent Consulting Private Limited             2-4 Yrs   \n",
       "8                               Confidential             1-6 Yrs   \n",
       "9                               Primo Hiring             1-3 Yrs   \n",
       "\n",
       "                                            Location  \n",
       "0                     New Delhi, Bangalore/Bengaluru  \n",
       "1  Mumbai, Hyderabad/Secunderabad, Gurgaon/Gurugr...  \n",
       "2                         Noida, Bangalore/Bengaluru  \n",
       "3  Delhi / NCR, Bangalore/Bengaluru, Mumbai (All ...  \n",
       "4        Pune, Gurgaon/Gurugram, Bangalore/Bengaluru  \n",
       "5                                              Noida  \n",
       "6             Delhi / NCR, Pune, Bangalore/Bengaluru  \n",
       "7             Delhi / NCR, Pune, Bangalore/Bengaluru  \n",
       "8  Noida, Mumbai, Chandigarh, Hyderabad/Secundera...  \n",
       "9  Delhi / NCR, Kolkata, Mumbai, Hyderabad/Secund...  "
      ]
     },
     "execution_count": 50,
     "metadata": {},
     "output_type": "execute_result"
    }
   ],
   "source": [
    "# Preparing The DataFrame with Job Title, Company, Experience, Job Location\n",
    "\n",
    "job3=pd.DataFrame({'Job Title':job_title3, 'Company name ':company_name3, 'Experience Required': exp_req3, 'Location':location3})\n",
    "job3"
   ]
  },
  {
   "cell_type": "code",
   "execution_count": 64,
   "id": "7c53054d",
   "metadata": {},
   "outputs": [],
   "source": [
    "#Q4. Scrape data of first 100 sunglasses listings on flipkart.com. You have to scrape four attributes:\n",
    "#1. Brand 2. Product Description 3. Price\n",
    "\n",
    "#Getting the web page.\n",
    "url= 'https://www.flipkart.com'\n",
    "driver.get(url)"
   ]
  },
  {
   "cell_type": "code",
   "execution_count": 65,
   "id": "a6468baf",
   "metadata": {},
   "outputs": [
    {
     "data": {
      "text/plain": [
       "<selenium.webdriver.remote.webelement.WebElement (session=\"b7ac6f154da4200d9bd26e15f706f28e\", element=\"4f84edfc-1e86-4eba-9017-2ea47a97fb89\")>"
      ]
     },
     "execution_count": 65,
     "metadata": {},
     "output_type": "execute_result"
    }
   ],
   "source": [
    "#finding the web element for search product \n",
    "\n",
    "search_item=driver.find_element(By.CLASS_NAME,\"_3704LK\")\n",
    "search_item"
   ]
  },
  {
   "cell_type": "code",
   "execution_count": 66,
   "id": "7dd83a23",
   "metadata": {},
   "outputs": [],
   "source": [
    "#writing in the search bar\"sunglasses\"\n",
    "\n",
    "search_item.send_keys(\"sunglasses\")"
   ]
  },
  {
   "cell_type": "code",
   "execution_count": 68,
   "id": "31158c9b",
   "metadata": {},
   "outputs": [
    {
     "data": {
      "text/plain": [
       "<selenium.webdriver.remote.webelement.WebElement (session=\"b7ac6f154da4200d9bd26e15f706f28e\", element=\"af035f27-1980-458b-a123-b66172b4d166\")>"
      ]
     },
     "execution_count": 68,
     "metadata": {},
     "output_type": "execute_result"
    }
   ],
   "source": [
    "#finding web element for the search icon\n",
    "\n",
    "search_icon=driver.find_element(By.XPATH,\"/html/body/div/div/div[1]/div[1]/div[2]/div[2]/form/div/button\")\n",
    "search_icon"
   ]
  },
  {
   "cell_type": "code",
   "execution_count": 69,
   "id": "5b139ca1",
   "metadata": {},
   "outputs": [],
   "source": [
    "# clicking on search icon\n",
    "search_icon.click()"
   ]
  },
  {
   "cell_type": "code",
   "execution_count": 70,
   "id": "f10dde4b",
   "metadata": {},
   "outputs": [],
   "source": [
    "# Now lets create empty list to store the scrape data\n",
    "#Starting with all the web element with brand name\n",
    "\n",
    "brand_tag=driver.find_elements(By.XPATH,'//div[@class=\"_2WkVRV\"]')"
   ]
  },
  {
   "cell_type": "code",
   "execution_count": 71,
   "id": "05eb3830",
   "metadata": {},
   "outputs": [
    {
     "data": {
      "text/plain": [
       "['Singco India',\n",
       " 'Silver Kartz',\n",
       " 'DAHAAZIL',\n",
       " 'Fastrack',\n",
       " 'New Specs',\n",
       " 'PIRASO',\n",
       " 'SRPM',\n",
       " 'Silver Kartz',\n",
       " 'Fastrack',\n",
       " 'PIRASO',\n",
       " 'SUNBEE',\n",
       " 'ROYAL SON',\n",
       " 'PIRASO',\n",
       " 'SHAAH COLLECTIONS',\n",
       " 'ROZZETTA CRAFT',\n",
       " 'ROZZETTA CRAFT',\n",
       " 'Lee Topper',\n",
       " 'Fastrack',\n",
       " 'VINCENT CHASE',\n",
       " 'ROYAL SON',\n",
       " 'Fastrack',\n",
       " 'PIRASO',\n",
       " 'NuVew',\n",
       " 'DEIXELS',\n",
       " 'PIRASO',\n",
       " 'CRYSTAL CART',\n",
       " 'PIRASO',\n",
       " 'ROYAL SON',\n",
       " 'PIRASO',\n",
       " 'Fastrack',\n",
       " 'ROZZETTA CRAFT',\n",
       " 'ROYAL SON',\n",
       " 'ROZZETTA CRAFT',\n",
       " 'New Specs',\n",
       " 'Sewell',\n",
       " 'AISLIN',\n",
       " 'Mi',\n",
       " 'SHAAH COLLECTIONS',\n",
       " 'PIRASO',\n",
       " 'AISLIN']"
      ]
     },
     "execution_count": 71,
     "metadata": {},
     "output_type": "execute_result"
    }
   ],
   "source": [
    "brand=[]\n",
    "for i in brand_tag:\n",
    "    brand.append(i.text)\n",
    "brand"
   ]
  },
  {
   "cell_type": "code",
   "execution_count": 72,
   "id": "47ec2a4b",
   "metadata": {},
   "outputs": [
    {
     "data": {
      "text/plain": [
       "['₹567',\n",
       " '₹313',\n",
       " '₹177',\n",
       " '₹639',\n",
       " '₹264',\n",
       " '₹224',\n",
       " '₹211',\n",
       " '₹288',\n",
       " '₹719',\n",
       " '₹359',\n",
       " '₹268',\n",
       " '₹664',\n",
       " '₹224',\n",
       " '₹185',\n",
       " '₹499',\n",
       " '₹399',\n",
       " '₹299',\n",
       " '₹1,039',\n",
       " '₹949',\n",
       " '₹474',\n",
       " '₹639',\n",
       " '₹306',\n",
       " '₹345',\n",
       " '₹236',\n",
       " '₹226',\n",
       " '₹189',\n",
       " '₹246',\n",
       " '₹759',\n",
       " '₹410',\n",
       " '₹719',\n",
       " '₹319',\n",
       " '₹664',\n",
       " '₹349',\n",
       " '₹299',\n",
       " '₹265',\n",
       " '₹425',\n",
       " '₹1,009',\n",
       " '₹265',\n",
       " '₹246',\n",
       " '₹475']"
      ]
     },
     "execution_count": 72,
     "metadata": {},
     "output_type": "execute_result"
    }
   ],
   "source": [
    "# scraping all the web element for price\n",
    "\n",
    "price_tag=driver.find_elements(By.XPATH,'//div[@class=\"_30jeq3\"]')\n",
    "price=[]\n",
    "for i in price_tag:\n",
    "    price.append(i.text)\n",
    "price"
   ]
  },
  {
   "cell_type": "code",
   "execution_count": 73,
   "id": "1ee5d6d4",
   "metadata": {},
   "outputs": [
    {
     "data": {
      "text/plain": [
       "['Gradient, Toughened Glass Lens, UV Protection Retro Squ...',\n",
       " 'UV Protection Clubmaster Sunglasses (53)',\n",
       " 'UV Protection, Night Vision, Riding Glasses Wayfarer, W...',\n",
       " 'UV Protection Rectangular Sunglasses (Free Size)',\n",
       " 'UV Protection Rectangular Sunglasses (Free Size)',\n",
       " 'UV Protection Aviator Sunglasses (54)',\n",
       " 'UV Protection Wayfarer Sunglasses (50)',\n",
       " 'UV Protection Wayfarer Sunglasses (Free Size)',\n",
       " 'UV Protection Wayfarer Sunglasses (Free Size)',\n",
       " 'UV Protection Aviator Sunglasses (58)',\n",
       " 'UV Protection, Polarized Wayfarer Sunglasses (Free Size...',\n",
       " 'UV Protection, Polarized Round Sunglasses (54)',\n",
       " 'UV Protection Aviator Sunglasses (54)',\n",
       " 'UV Protection, Polarized, Mirrored Rectangular Sunglass...',\n",
       " 'Polarized, Riding Glasses Sports, Wrap-around Sunglasse...',\n",
       " 'UV Protection Spectacle Sunglasses (Free Size)',\n",
       " 'Riding Glasses Wrap-around Sunglasses (Free Size)',\n",
       " 'UV Protection Aviator Sunglasses (58)',\n",
       " 'by Lenskart Polarized, UV Protection Cat-eye Sunglasses...',\n",
       " 'UV Protection Rectangular, Retro Square Sunglasses (58)',\n",
       " 'Gradient, UV Protection Wayfarer Sunglasses (Free Size)',\n",
       " 'UV Protection Rectangular Sunglasses (52)',\n",
       " 'UV Protection Sports Sunglasses (62)',\n",
       " 'UV Protection Aviator Sunglasses (Free Size)',\n",
       " 'UV Protection Wayfarer Sunglasses (32)',\n",
       " 'Mirrored, Night Vision Oval Sunglasses (Free Size)',\n",
       " 'UV Protection Aviator Sunglasses (54)',\n",
       " 'UV Protection, Polarized Wayfarer Sunglasses (54)',\n",
       " 'UV Protection Over-sized Sunglasses (65)',\n",
       " 'UV Protection Shield Sunglasses (Free Size)',\n",
       " 'UV Protection Rectangular Sunglasses (Free Size)',\n",
       " 'Polarized, UV Protection Wayfarer, Retro Square Sunglas...',\n",
       " 'UV Protection, Gradient Retro Square Sunglasses (Free S...',\n",
       " 'Mirrored, UV Protection, Riding Glasses, Others Round S...',\n",
       " 'Mirrored, Night Vision, UV Protection, Riding Glasses S...',\n",
       " 'UV Protection, Gradient Butterfly, Round Sunglasses (53...',\n",
       " 'Polarized Aviator Sunglasses (Free Size)',\n",
       " 'UV Protection Round Sunglasses (Free Size)',\n",
       " 'UV Protection Aviator Sunglasses (55)',\n",
       " 'UV Protection, Gradient Cat-eye, Round Sunglasses (62)']"
      ]
     },
     "execution_count": 73,
     "metadata": {},
     "output_type": "execute_result"
    }
   ],
   "source": [
    "#Scraping all the web element with product description\n",
    "\n",
    "prod_tag=driver.find_elements(By.XPATH,'//a[@class=\"IRpwTa\" ]')\n",
    "prod_descrp=[]\n",
    "for i in prod_tag:\n",
    "    prod_descrp.append(i.text)\n",
    "prod_descrp"
   ]
  },
  {
   "cell_type": "code",
   "execution_count": 74,
   "id": "7d611b14",
   "metadata": {},
   "outputs": [
    {
     "data": {
      "text/plain": [
       "['81% off',\n",
       " '79% off',\n",
       " '82% off',\n",
       " '20% off',\n",
       " '89% off',\n",
       " '85% off',\n",
       " '83% off',\n",
       " '80% off',\n",
       " '28% off',\n",
       " '86% off',\n",
       " '79% off',\n",
       " '66% off',\n",
       " '85% off',\n",
       " '89% off',\n",
       " '75% off',\n",
       " '80% off',\n",
       " '88% off',\n",
       " '20% off',\n",
       " '52% off',\n",
       " '68% off',\n",
       " '28% off',\n",
       " '88% off',\n",
       " '72% off',\n",
       " '80% off',\n",
       " '85% off',\n",
       " '68% off',\n",
       " '84% off',\n",
       " '62% off',\n",
       " '84% off',\n",
       " '20% off',\n",
       " '78% off',\n",
       " '66% off',\n",
       " '82% off',\n",
       " '81% off',\n",
       " '82% off',\n",
       " '72% off',\n",
       " '15% off',\n",
       " '79% off',\n",
       " '84% off',\n",
       " '72% off']"
      ]
     },
     "execution_count": 74,
     "metadata": {},
     "output_type": "execute_result"
    }
   ],
   "source": [
    "#scraping all web element with discount\n",
    "disc_tag=driver.find_elements(By.XPATH,'//div[@class=\"_3Ay6Sb\"]')\n",
    "discount=[]\n",
    "for i in disc_tag:\n",
    "    discount.append(i.text)\n",
    "discount"
   ]
  },
  {
   "cell_type": "code",
   "execution_count": 75,
   "id": "5bbf713c",
   "metadata": {},
   "outputs": [],
   "source": [
    "#finding web element for next button\n",
    "nxt_btn=driver.find_element(By.XPATH, \"/html/body/div/div/div[3]/div[1]/div[2]/div[12]/div/div/nav/a[11]\")"
   ]
  },
  {
   "cell_type": "code",
   "execution_count": 76,
   "id": "67eea45c",
   "metadata": {},
   "outputs": [],
   "source": [
    "#clicking on next button\n",
    "nxt_btn.click()"
   ]
  },
  {
   "cell_type": "code",
   "execution_count": 77,
   "id": "4d38b2c0",
   "metadata": {},
   "outputs": [
    {
     "data": {
      "text/plain": [
       "['Singco India',\n",
       " 'Silver Kartz',\n",
       " 'DAHAAZIL',\n",
       " 'Fastrack',\n",
       " 'New Specs',\n",
       " 'PIRASO',\n",
       " 'SRPM',\n",
       " 'Silver Kartz',\n",
       " 'Fastrack',\n",
       " 'PIRASO',\n",
       " 'SUNBEE',\n",
       " 'ROYAL SON',\n",
       " 'PIRASO',\n",
       " 'SHAAH COLLECTIONS',\n",
       " 'ROZZETTA CRAFT',\n",
       " 'ROZZETTA CRAFT',\n",
       " 'Lee Topper',\n",
       " 'Fastrack',\n",
       " 'VINCENT CHASE',\n",
       " 'ROYAL SON',\n",
       " 'Fastrack',\n",
       " 'PIRASO',\n",
       " 'NuVew',\n",
       " 'DEIXELS',\n",
       " 'PIRASO',\n",
       " 'CRYSTAL CART',\n",
       " 'PIRASO',\n",
       " 'ROYAL SON',\n",
       " 'PIRASO',\n",
       " 'Fastrack',\n",
       " 'ROZZETTA CRAFT',\n",
       " 'ROYAL SON',\n",
       " 'ROZZETTA CRAFT',\n",
       " 'New Specs',\n",
       " 'Sewell',\n",
       " 'AISLIN',\n",
       " 'Mi',\n",
       " 'SHAAH COLLECTIONS',\n",
       " 'PIRASO',\n",
       " 'AISLIN',\n",
       " 'Lee Topper',\n",
       " 'Fastrack',\n",
       " 'SRPM',\n",
       " 'Silver Kartz',\n",
       " 'ROYAL SON',\n",
       " 'Elligator',\n",
       " 'LIZA ANGEL',\n",
       " 'VINCENT CHASE',\n",
       " 'ROZZETTA CRAFT',\n",
       " 'PHENOMENAL',\n",
       " 'kingsunglasses',\n",
       " 'ROYAL SON',\n",
       " 'Fastrack',\n",
       " 'kingsunglasses',\n",
       " 'DEIXELS',\n",
       " 'ROZZETTA CRAFT',\n",
       " 'ROZZETTA CRAFT',\n",
       " 'CRYSTAL CART',\n",
       " 'kingsunglasses',\n",
       " 'ROYAL SON',\n",
       " 'kingsunglasses',\n",
       " 'Singco India',\n",
       " 'Fastrack',\n",
       " 'ROYAL SON',\n",
       " 'VINCENT CHASE',\n",
       " 'VINCENT CHASE',\n",
       " 'New Specs',\n",
       " 'ROYAL SON',\n",
       " 'ROYAL SON',\n",
       " 'Lee Topper',\n",
       " 'VINCENT CHASE',\n",
       " 'Singco India',\n",
       " 'ROYAL SON',\n",
       " 'Silver Kartz',\n",
       " 'LIZA ANGEL',\n",
       " 'AISLIN',\n",
       " 'Fastrack',\n",
       " 'Singco India',\n",
       " 'Fastrack',\n",
       " 'AISLIN']"
      ]
     },
     "execution_count": 77,
     "metadata": {},
     "output_type": "execute_result"
    }
   ],
   "source": [
    "#scraping next 40 brand name from the web elements\n",
    "brand_tag2=driver.find_elements(By.XPATH,'//div[@class=\"_2WkVRV\"]')\n",
    "for i in brand_tag2:\n",
    "    brand.append(i.text)\n",
    "brand"
   ]
  },
  {
   "cell_type": "code",
   "execution_count": 78,
   "id": "fa589ff2",
   "metadata": {},
   "outputs": [
    {
     "data": {
      "text/plain": [
       "['₹567',\n",
       " '₹313',\n",
       " '₹177',\n",
       " '₹639',\n",
       " '₹264',\n",
       " '₹224',\n",
       " '₹211',\n",
       " '₹288',\n",
       " '₹719',\n",
       " '₹359',\n",
       " '₹268',\n",
       " '₹664',\n",
       " '₹224',\n",
       " '₹185',\n",
       " '₹499',\n",
       " '₹399',\n",
       " '₹299',\n",
       " '₹1,039',\n",
       " '₹949',\n",
       " '₹474',\n",
       " '₹639',\n",
       " '₹306',\n",
       " '₹345',\n",
       " '₹236',\n",
       " '₹226',\n",
       " '₹189',\n",
       " '₹246',\n",
       " '₹759',\n",
       " '₹410',\n",
       " '₹719',\n",
       " '₹319',\n",
       " '₹664',\n",
       " '₹349',\n",
       " '₹299',\n",
       " '₹265',\n",
       " '₹425',\n",
       " '₹1,009',\n",
       " '₹265',\n",
       " '₹246',\n",
       " '₹475',\n",
       " '₹219',\n",
       " '₹719',\n",
       " '₹207',\n",
       " '₹313',\n",
       " '₹379',\n",
       " '₹207',\n",
       " '₹179',\n",
       " '₹799',\n",
       " '₹499',\n",
       " '₹369',\n",
       " '₹213',\n",
       " '₹664',\n",
       " '₹719',\n",
       " '₹214',\n",
       " '₹236',\n",
       " '₹399',\n",
       " '₹399',\n",
       " '₹529',\n",
       " '₹265',\n",
       " '₹474',\n",
       " '₹329',\n",
       " '₹629',\n",
       " '₹799',\n",
       " '₹759',\n",
       " '₹749',\n",
       " '₹1,099',\n",
       " '₹268',\n",
       " '₹664',\n",
       " '₹664',\n",
       " '₹255',\n",
       " '₹749',\n",
       " '₹220',\n",
       " '₹379',\n",
       " '₹288',\n",
       " '₹169',\n",
       " '₹425',\n",
       " '₹719',\n",
       " '₹567',\n",
       " '₹849',\n",
       " '₹475']"
      ]
     },
     "execution_count": 78,
     "metadata": {},
     "output_type": "execute_result"
    }
   ],
   "source": [
    "#scraping the web element for next 40 price \n",
    "price_tag2=driver.find_elements(By.XPATH, '//div[@class=\"_30jeq3\"]')\n",
    "for i in price_tag2:\n",
    "    price.append(i.text)\n",
    "price"
   ]
  },
  {
   "cell_type": "code",
   "execution_count": 79,
   "id": "c8a51181",
   "metadata": {},
   "outputs": [
    {
     "data": {
      "text/plain": [
       "['Gradient, Toughened Glass Lens, UV Protection Retro Squ...',\n",
       " 'UV Protection Clubmaster Sunglasses (53)',\n",
       " 'UV Protection, Night Vision, Riding Glasses Wayfarer, W...',\n",
       " 'UV Protection Rectangular Sunglasses (Free Size)',\n",
       " 'UV Protection Rectangular Sunglasses (Free Size)',\n",
       " 'UV Protection Aviator Sunglasses (54)',\n",
       " 'UV Protection Wayfarer Sunglasses (50)',\n",
       " 'UV Protection Wayfarer Sunglasses (Free Size)',\n",
       " 'UV Protection Wayfarer Sunglasses (Free Size)',\n",
       " 'UV Protection Aviator Sunglasses (58)',\n",
       " 'UV Protection, Polarized Wayfarer Sunglasses (Free Size...',\n",
       " 'UV Protection, Polarized Round Sunglasses (54)',\n",
       " 'UV Protection Aviator Sunglasses (54)',\n",
       " 'UV Protection, Polarized, Mirrored Rectangular Sunglass...',\n",
       " 'Polarized, Riding Glasses Sports, Wrap-around Sunglasse...',\n",
       " 'UV Protection Spectacle Sunglasses (Free Size)',\n",
       " 'Riding Glasses Wrap-around Sunglasses (Free Size)',\n",
       " 'UV Protection Aviator Sunglasses (58)',\n",
       " 'by Lenskart Polarized, UV Protection Cat-eye Sunglasses...',\n",
       " 'UV Protection Rectangular, Retro Square Sunglasses (58)',\n",
       " 'Gradient, UV Protection Wayfarer Sunglasses (Free Size)',\n",
       " 'UV Protection Rectangular Sunglasses (52)',\n",
       " 'UV Protection Sports Sunglasses (62)',\n",
       " 'UV Protection Aviator Sunglasses (Free Size)',\n",
       " 'UV Protection Wayfarer Sunglasses (32)',\n",
       " 'Mirrored, Night Vision Oval Sunglasses (Free Size)',\n",
       " 'UV Protection Aviator Sunglasses (54)',\n",
       " 'UV Protection, Polarized Wayfarer Sunglasses (54)',\n",
       " 'UV Protection Over-sized Sunglasses (65)',\n",
       " 'UV Protection Shield Sunglasses (Free Size)',\n",
       " 'UV Protection Rectangular Sunglasses (Free Size)',\n",
       " 'Polarized, UV Protection Wayfarer, Retro Square Sunglas...',\n",
       " 'UV Protection, Gradient Retro Square Sunglasses (Free S...',\n",
       " 'Mirrored, UV Protection, Riding Glasses, Others Round S...',\n",
       " 'Mirrored, Night Vision, UV Protection, Riding Glasses S...',\n",
       " 'UV Protection, Gradient Butterfly, Round Sunglasses (53...',\n",
       " 'Polarized Aviator Sunglasses (Free Size)',\n",
       " 'UV Protection Round Sunglasses (Free Size)',\n",
       " 'UV Protection Aviator Sunglasses (55)',\n",
       " 'UV Protection, Gradient Cat-eye, Round Sunglasses (62)',\n",
       " 'UV Protection Rectangular Sunglasses (Free Size)',\n",
       " 'Gradient, UV Protection Wayfarer Sunglasses (Free Size)',\n",
       " 'Others Wayfarer, Retro Square Sunglasses (50)',\n",
       " 'UV Protection Clubmaster Sunglasses (53)',\n",
       " 'Mirrored Aviator Sunglasses (55)',\n",
       " 'UV Protection Round Sunglasses (53)',\n",
       " 'Riding Glasses, Night Vision Spectacle Sunglasses (Fre...',\n",
       " 'by Lenskart Polarized, UV Protection Cat-eye Sunglasses...',\n",
       " 'UV Protection Retro Square Sunglasses (Free Size)',\n",
       " 'UV Protection Retro Square Sunglasses (Free Size)',\n",
       " 'UV Protection, Riding Glasses, Mirrored Wayfarer Sungla...',\n",
       " 'UV Protection, Polarized Round Sunglasses (54)',\n",
       " 'Gradient, UV Protection Wayfarer Sunglasses (Free Size)',\n",
       " 'UV Protection Round Sunglasses (54)',\n",
       " 'UV Protection Aviator Sunglasses (Free Size)',\n",
       " 'UV Protection Spectacle Sunglasses (Free Size)',\n",
       " 'UV Protection, Gradient Rectangular Sunglasses (Free Si...',\n",
       " 'Polarized, UV Protection, Mirrored, Gradient Rectangula...',\n",
       " 'UV Protection, Mirrored Round Sunglasses (Free Size)',\n",
       " 'UV Protection Rectangular, Retro Square Sunglasses (58)',\n",
       " 'UV Protection Round Sunglasses (Free Size)',\n",
       " 'Gradient, Toughened Glass Lens, UV Protection Retro Squ...',\n",
       " 'Mirrored, UV Protection Wayfarer Sunglasses (Free Size)',\n",
       " 'UV Protection, Polarized Wayfarer Sunglasses (54)',\n",
       " 'by Lenskart Polarized, UV Protection Wayfarer Sunglasse...',\n",
       " 'Polarized, UV Protection Round Sunglasses (51)',\n",
       " 'UV Protection Round Sunglasses (Free Size)',\n",
       " 'Polarized, UV Protection Wayfarer, Retro Square Sunglas...',\n",
       " 'Polarized, UV Protection Wayfarer Sunglasses (61)',\n",
       " 'UV Protection Round Sunglasses (Free Size)',\n",
       " 'by Lenskart Polarized, UV Protection Rectangular Sungla...',\n",
       " 'Riding Glasses, UV Protection, Others Aviator Sunglasse...',\n",
       " 'Mirrored Aviator Sunglasses (55)',\n",
       " 'UV Protection Wayfarer Sunglasses (Free Size)',\n",
       " 'UV Protection, Riding Glasses, Night Vision Spectacle ...',\n",
       " 'UV Protection, Gradient Butterfly, Round Sunglasses (53...',\n",
       " 'UV Protection Wayfarer Sunglasses (Free Size)',\n",
       " 'Gradient, Toughened Glass Lens, UV Protection Retro Squ...',\n",
       " 'UV Protection Wayfarer Sunglasses (Free Size)',\n",
       " 'UV Protection, Gradient Cat-eye, Round Sunglasses (62)']"
      ]
     },
     "execution_count": 79,
     "metadata": {},
     "output_type": "execute_result"
    }
   ],
   "source": [
    "#scraping the web element for next 40 product description\n",
    "prod_tag2=driver.find_elements(By.XPATH,'//a[@class=\"IRpwTa\" ]')\n",
    "for i in prod_tag2:\n",
    "    prod_descrp.append(i.text)\n",
    "prod_descrp"
   ]
  },
  {
   "cell_type": "code",
   "execution_count": 80,
   "id": "3abec8da",
   "metadata": {},
   "outputs": [
    {
     "data": {
      "text/plain": [
       "['81% off',\n",
       " '79% off',\n",
       " '82% off',\n",
       " '20% off',\n",
       " '89% off',\n",
       " '85% off',\n",
       " '83% off',\n",
       " '80% off',\n",
       " '28% off',\n",
       " '86% off',\n",
       " '79% off',\n",
       " '66% off',\n",
       " '85% off',\n",
       " '89% off',\n",
       " '75% off',\n",
       " '80% off',\n",
       " '88% off',\n",
       " '20% off',\n",
       " '52% off',\n",
       " '68% off',\n",
       " '28% off',\n",
       " '88% off',\n",
       " '72% off',\n",
       " '80% off',\n",
       " '85% off',\n",
       " '68% off',\n",
       " '84% off',\n",
       " '62% off',\n",
       " '84% off',\n",
       " '20% off',\n",
       " '78% off',\n",
       " '66% off',\n",
       " '82% off',\n",
       " '81% off',\n",
       " '82% off',\n",
       " '72% off',\n",
       " '15% off',\n",
       " '79% off',\n",
       " '84% off',\n",
       " '72% off',\n",
       " '78% off',\n",
       " '20% off',\n",
       " '79% off',\n",
       " '79% off',\n",
       " '74% off',\n",
       " '79% off',\n",
       " '82% off',\n",
       " '60% off',\n",
       " '77% off',\n",
       " '81% off',\n",
       " '82% off',\n",
       " '66% off',\n",
       " '20% off',\n",
       " '78% off',\n",
       " '80% off',\n",
       " '80% off',\n",
       " '80% off',\n",
       " '74% off',\n",
       " '84% off',\n",
       " '68% off',\n",
       " '79% off',\n",
       " '80% off',\n",
       " '20% off',\n",
       " '62% off',\n",
       " '70% off',\n",
       " '45% off',\n",
       " '79% off',\n",
       " '66% off',\n",
       " '66% off',\n",
       " '74% off',\n",
       " '62% off',\n",
       " '85% off',\n",
       " '74% off',\n",
       " '80% off',\n",
       " '66% off',\n",
       " '72% off',\n",
       " '20% off',\n",
       " '81% off',\n",
       " '15% off',\n",
       " '72% off']"
      ]
     },
     "execution_count": 80,
     "metadata": {},
     "output_type": "execute_result"
    }
   ],
   "source": [
    "#scraping web elemnt of next 40 for discount attribute\n",
    "disc_tag2=driver.find_elements(By.XPATH,'//div[@class=\"_3Ay6Sb\"]')\n",
    "for i in disc_tag2:\n",
    "    discount.append(i.text)\n",
    "discount"
   ]
  },
  {
   "cell_type": "code",
   "execution_count": 81,
   "id": "c41ea887",
   "metadata": {},
   "outputs": [],
   "source": [
    "#clicking on next button\n",
    "nxt_btn.click()"
   ]
  },
  {
   "cell_type": "code",
   "execution_count": 82,
   "id": "a318da33",
   "metadata": {},
   "outputs": [
    {
     "data": {
      "text/plain": [
       "['Singco India',\n",
       " 'Silver Kartz',\n",
       " 'DAHAAZIL',\n",
       " 'Fastrack',\n",
       " 'New Specs',\n",
       " 'PIRASO',\n",
       " 'SRPM',\n",
       " 'Silver Kartz',\n",
       " 'Fastrack',\n",
       " 'PIRASO',\n",
       " 'SUNBEE',\n",
       " 'ROYAL SON',\n",
       " 'PIRASO',\n",
       " 'SHAAH COLLECTIONS',\n",
       " 'ROZZETTA CRAFT',\n",
       " 'ROZZETTA CRAFT',\n",
       " 'Lee Topper',\n",
       " 'Fastrack',\n",
       " 'VINCENT CHASE',\n",
       " 'ROYAL SON',\n",
       " 'Fastrack',\n",
       " 'PIRASO',\n",
       " 'NuVew',\n",
       " 'DEIXELS',\n",
       " 'PIRASO',\n",
       " 'CRYSTAL CART',\n",
       " 'PIRASO',\n",
       " 'ROYAL SON',\n",
       " 'PIRASO',\n",
       " 'Fastrack',\n",
       " 'ROZZETTA CRAFT',\n",
       " 'ROYAL SON',\n",
       " 'ROZZETTA CRAFT',\n",
       " 'New Specs',\n",
       " 'Sewell',\n",
       " 'AISLIN',\n",
       " 'Mi',\n",
       " 'SHAAH COLLECTIONS',\n",
       " 'PIRASO',\n",
       " 'AISLIN',\n",
       " 'Lee Topper',\n",
       " 'Fastrack',\n",
       " 'SRPM',\n",
       " 'Silver Kartz',\n",
       " 'ROYAL SON',\n",
       " 'Elligator',\n",
       " 'LIZA ANGEL',\n",
       " 'VINCENT CHASE',\n",
       " 'ROZZETTA CRAFT',\n",
       " 'PHENOMENAL',\n",
       " 'kingsunglasses',\n",
       " 'ROYAL SON',\n",
       " 'Fastrack',\n",
       " 'kingsunglasses',\n",
       " 'DEIXELS',\n",
       " 'ROZZETTA CRAFT',\n",
       " 'ROZZETTA CRAFT',\n",
       " 'CRYSTAL CART',\n",
       " 'kingsunglasses',\n",
       " 'ROYAL SON',\n",
       " 'kingsunglasses',\n",
       " 'Singco India',\n",
       " 'Fastrack',\n",
       " 'ROYAL SON',\n",
       " 'VINCENT CHASE',\n",
       " 'VINCENT CHASE',\n",
       " 'New Specs',\n",
       " 'ROYAL SON',\n",
       " 'ROYAL SON',\n",
       " 'Lee Topper',\n",
       " 'VINCENT CHASE',\n",
       " 'Singco India',\n",
       " 'ROYAL SON',\n",
       " 'Silver Kartz',\n",
       " 'LIZA ANGEL',\n",
       " 'AISLIN',\n",
       " 'Fastrack',\n",
       " 'Singco India',\n",
       " 'Fastrack',\n",
       " 'AISLIN',\n",
       " 'ROYAL SON',\n",
       " 'Silver Kartz',\n",
       " 'LIZA ANGEL',\n",
       " 'ROYAL SON',\n",
       " 'Lee Topper',\n",
       " 'Fastrack',\n",
       " 'Fastrack',\n",
       " 'ROZZETTA CRAFT',\n",
       " 'ROYAL SON',\n",
       " 'Singco India',\n",
       " 'PIRASO',\n",
       " 'DEIXELS',\n",
       " 'Mi',\n",
       " 'ROYAL SON',\n",
       " 'New Specs',\n",
       " 'NuVew',\n",
       " 'Roadster',\n",
       " 'SRPM',\n",
       " 'AISLIN',\n",
       " 'VINCENT CHASE']"
      ]
     },
     "execution_count": 82,
     "metadata": {},
     "output_type": "execute_result"
    }
   ],
   "source": [
    "#Scraping brand name of next 20 web element\n",
    "brand_tag3=driver.find_elements(By.XPATH,'//div[@class=\"_2WkVRV\"]')[:20]\n",
    "for i in brand_tag3:\n",
    "    brand.append(i.text)\n",
    "brand"
   ]
  },
  {
   "cell_type": "code",
   "execution_count": 84,
   "id": "20ff0779",
   "metadata": {},
   "outputs": [
    {
     "data": {
      "text/plain": [
       "['₹567',\n",
       " '₹313',\n",
       " '₹177',\n",
       " '₹639',\n",
       " '₹264',\n",
       " '₹224',\n",
       " '₹211',\n",
       " '₹288',\n",
       " '₹719',\n",
       " '₹359',\n",
       " '₹268',\n",
       " '₹664',\n",
       " '₹224',\n",
       " '₹185',\n",
       " '₹499',\n",
       " '₹399',\n",
       " '₹299',\n",
       " '₹1,039',\n",
       " '₹949',\n",
       " '₹474',\n",
       " '₹639',\n",
       " '₹306',\n",
       " '₹345',\n",
       " '₹236',\n",
       " '₹226',\n",
       " '₹189',\n",
       " '₹246',\n",
       " '₹759',\n",
       " '₹410',\n",
       " '₹719',\n",
       " '₹319',\n",
       " '₹664',\n",
       " '₹349',\n",
       " '₹299',\n",
       " '₹265',\n",
       " '₹425',\n",
       " '₹1,009',\n",
       " '₹265',\n",
       " '₹246',\n",
       " '₹475',\n",
       " '₹219',\n",
       " '₹719',\n",
       " '₹207',\n",
       " '₹313',\n",
       " '₹379',\n",
       " '₹207',\n",
       " '₹179',\n",
       " '₹799',\n",
       " '₹499',\n",
       " '₹369',\n",
       " '₹213',\n",
       " '₹664',\n",
       " '₹719',\n",
       " '₹214',\n",
       " '₹236',\n",
       " '₹399',\n",
       " '₹399',\n",
       " '₹529',\n",
       " '₹265',\n",
       " '₹474',\n",
       " '₹329',\n",
       " '₹629',\n",
       " '₹799',\n",
       " '₹759',\n",
       " '₹749',\n",
       " '₹1,099',\n",
       " '₹268',\n",
       " '₹664',\n",
       " '₹664',\n",
       " '₹255',\n",
       " '₹749',\n",
       " '₹220',\n",
       " '₹379',\n",
       " '₹288',\n",
       " '₹169',\n",
       " '₹425',\n",
       " '₹719',\n",
       " '₹567',\n",
       " '₹849',\n",
       " '₹475',\n",
       " '₹379',\n",
       " '₹288',\n",
       " '₹169',\n",
       " '₹664',\n",
       " '₹255',\n",
       " '₹719',\n",
       " '₹849',\n",
       " '₹399',\n",
       " '₹379',\n",
       " '₹567',\n",
       " '₹223',\n",
       " '₹236',\n",
       " '₹849',\n",
       " '₹699',\n",
       " '₹189',\n",
       " '₹385',\n",
       " '₹649',\n",
       " '₹233',\n",
       " '₹498',\n",
       " '₹749',\n",
       " '₹664',\n",
       " '₹1,169',\n",
       " '₹498',\n",
       " '₹759',\n",
       " '₹721',\n",
       " '₹664',\n",
       " '₹449',\n",
       " '₹664',\n",
       " '₹399',\n",
       " '₹329',\n",
       " '₹269',\n",
       " '₹425',\n",
       " '₹219',\n",
       " '₹809',\n",
       " '₹949',\n",
       " '₹314',\n",
       " '₹289',\n",
       " '₹199',\n",
       " '₹759',\n",
       " '₹649',\n",
       " '₹379',\n",
       " '₹288',\n",
       " '₹169',\n",
       " '₹664',\n",
       " '₹255',\n",
       " '₹719',\n",
       " '₹849',\n",
       " '₹399',\n",
       " '₹379',\n",
       " '₹567',\n",
       " '₹223',\n",
       " '₹236',\n",
       " '₹849',\n",
       " '₹699',\n",
       " '₹189',\n",
       " '₹385',\n",
       " '₹649',\n",
       " '₹233',\n",
       " '₹498',\n",
       " '₹749']"
      ]
     },
     "execution_count": 84,
     "metadata": {},
     "output_type": "execute_result"
    }
   ],
   "source": [
    "#scraping the web element for next 20 price \n",
    "price_tag3=driver.find_elements(By.XPATH,'//div[@class=\"_30jeq3\"]')[:20]\n",
    "for i in price_tag3:\n",
    "    price.append(i.text)\n",
    "price"
   ]
  },
  {
   "cell_type": "code",
   "execution_count": 87,
   "id": "96519f7b",
   "metadata": {},
   "outputs": [
    {
     "data": {
      "text/plain": [
       "['Gradient, Toughened Glass Lens, UV Protection Retro Squ...',\n",
       " 'UV Protection Clubmaster Sunglasses (53)',\n",
       " 'UV Protection, Night Vision, Riding Glasses Wayfarer, W...',\n",
       " 'UV Protection Rectangular Sunglasses (Free Size)',\n",
       " 'UV Protection Rectangular Sunglasses (Free Size)',\n",
       " 'UV Protection Aviator Sunglasses (54)',\n",
       " 'UV Protection Wayfarer Sunglasses (50)',\n",
       " 'UV Protection Wayfarer Sunglasses (Free Size)',\n",
       " 'UV Protection Wayfarer Sunglasses (Free Size)',\n",
       " 'UV Protection Aviator Sunglasses (58)',\n",
       " 'UV Protection, Polarized Wayfarer Sunglasses (Free Size...',\n",
       " 'UV Protection, Polarized Round Sunglasses (54)',\n",
       " 'UV Protection Aviator Sunglasses (54)',\n",
       " 'UV Protection, Polarized, Mirrored Rectangular Sunglass...',\n",
       " 'Polarized, Riding Glasses Sports, Wrap-around Sunglasse...',\n",
       " 'UV Protection Spectacle Sunglasses (Free Size)',\n",
       " 'Riding Glasses Wrap-around Sunglasses (Free Size)',\n",
       " 'UV Protection Aviator Sunglasses (58)',\n",
       " 'by Lenskart Polarized, UV Protection Cat-eye Sunglasses...',\n",
       " 'UV Protection Rectangular, Retro Square Sunglasses (58)',\n",
       " 'Gradient, UV Protection Wayfarer Sunglasses (Free Size)',\n",
       " 'UV Protection Rectangular Sunglasses (52)',\n",
       " 'UV Protection Sports Sunglasses (62)',\n",
       " 'UV Protection Aviator Sunglasses (Free Size)',\n",
       " 'UV Protection Wayfarer Sunglasses (32)',\n",
       " 'Mirrored, Night Vision Oval Sunglasses (Free Size)',\n",
       " 'UV Protection Aviator Sunglasses (54)',\n",
       " 'UV Protection, Polarized Wayfarer Sunglasses (54)',\n",
       " 'UV Protection Over-sized Sunglasses (65)',\n",
       " 'UV Protection Shield Sunglasses (Free Size)',\n",
       " 'UV Protection Rectangular Sunglasses (Free Size)',\n",
       " 'Polarized, UV Protection Wayfarer, Retro Square Sunglas...',\n",
       " 'UV Protection, Gradient Retro Square Sunglasses (Free S...',\n",
       " 'Mirrored, UV Protection, Riding Glasses, Others Round S...',\n",
       " 'Mirrored, Night Vision, UV Protection, Riding Glasses S...',\n",
       " 'UV Protection, Gradient Butterfly, Round Sunglasses (53...',\n",
       " 'Polarized Aviator Sunglasses (Free Size)',\n",
       " 'UV Protection Round Sunglasses (Free Size)',\n",
       " 'UV Protection Aviator Sunglasses (55)',\n",
       " 'UV Protection, Gradient Cat-eye, Round Sunglasses (62)',\n",
       " 'UV Protection Rectangular Sunglasses (Free Size)',\n",
       " 'Gradient, UV Protection Wayfarer Sunglasses (Free Size)',\n",
       " 'Others Wayfarer, Retro Square Sunglasses (50)',\n",
       " 'UV Protection Clubmaster Sunglasses (53)',\n",
       " 'Mirrored Aviator Sunglasses (55)',\n",
       " 'UV Protection Round Sunglasses (53)',\n",
       " 'Riding Glasses, Night Vision Spectacle Sunglasses (Fre...',\n",
       " 'by Lenskart Polarized, UV Protection Cat-eye Sunglasses...',\n",
       " 'UV Protection Retro Square Sunglasses (Free Size)',\n",
       " 'UV Protection Retro Square Sunglasses (Free Size)',\n",
       " 'UV Protection, Riding Glasses, Mirrored Wayfarer Sungla...',\n",
       " 'UV Protection, Polarized Round Sunglasses (54)',\n",
       " 'Gradient, UV Protection Wayfarer Sunglasses (Free Size)',\n",
       " 'UV Protection Round Sunglasses (54)',\n",
       " 'UV Protection Aviator Sunglasses (Free Size)',\n",
       " 'UV Protection Spectacle Sunglasses (Free Size)',\n",
       " 'UV Protection, Gradient Rectangular Sunglasses (Free Si...',\n",
       " 'Polarized, UV Protection, Mirrored, Gradient Rectangula...',\n",
       " 'UV Protection, Mirrored Round Sunglasses (Free Size)',\n",
       " 'UV Protection Rectangular, Retro Square Sunglasses (58)',\n",
       " 'UV Protection Round Sunglasses (Free Size)',\n",
       " 'Gradient, Toughened Glass Lens, UV Protection Retro Squ...',\n",
       " 'Mirrored, UV Protection Wayfarer Sunglasses (Free Size)',\n",
       " 'UV Protection, Polarized Wayfarer Sunglasses (54)',\n",
       " 'by Lenskart Polarized, UV Protection Wayfarer Sunglasse...',\n",
       " 'Polarized, UV Protection Round Sunglasses (51)',\n",
       " 'UV Protection Round Sunglasses (Free Size)',\n",
       " 'Polarized, UV Protection Wayfarer, Retro Square Sunglas...',\n",
       " 'Polarized, UV Protection Wayfarer Sunglasses (61)',\n",
       " 'UV Protection Round Sunglasses (Free Size)',\n",
       " 'by Lenskart Polarized, UV Protection Rectangular Sungla...',\n",
       " 'Riding Glasses, UV Protection, Others Aviator Sunglasse...',\n",
       " 'Mirrored Aviator Sunglasses (55)',\n",
       " 'UV Protection Wayfarer Sunglasses (Free Size)',\n",
       " 'UV Protection, Riding Glasses, Night Vision Spectacle ...',\n",
       " 'UV Protection, Gradient Butterfly, Round Sunglasses (53...',\n",
       " 'UV Protection Wayfarer Sunglasses (Free Size)',\n",
       " 'Gradient, Toughened Glass Lens, UV Protection Retro Squ...',\n",
       " 'UV Protection Wayfarer Sunglasses (Free Size)',\n",
       " 'UV Protection, Gradient Cat-eye, Round Sunglasses (62)',\n",
       " 'Mirrored Aviator Sunglasses (55)',\n",
       " 'UV Protection Wayfarer Sunglasses (Free Size)',\n",
       " 'UV Protection, Riding Glasses, Night Vision Spectacle ...',\n",
       " 'UV Protection, Polarized Round Sunglasses (54)',\n",
       " 'UV Protection Round Sunglasses (Free Size)',\n",
       " 'UV Protection Wayfarer Sunglasses (Free Size)',\n",
       " 'UV Protection Wayfarer Sunglasses (Free Size)',\n",
       " 'UV Protection Spectacle Sunglasses (Free Size)',\n",
       " 'Mirrored Aviator Sunglasses (58)',\n",
       " 'Gradient, Toughened Glass Lens, UV Protection Retro Squ...',\n",
       " 'UV Protection Aviator Sunglasses (54)',\n",
       " 'UV Protection Aviator Sunglasses (Free Size)',\n",
       " 'Polarized Wayfarer Sunglasses (Free Size)',\n",
       " 'UV Protection, Gradient Butterfly Sunglasses (62)',\n",
       " 'UV Protection Rectangular Sunglasses (Free Size)',\n",
       " 'UV Protection Cat-eye Sunglasses (60)',\n",
       " 'UV Protection Oval Sunglasses (58)',\n",
       " 'Night Vision, UV Protection Round Sunglasses (54)',\n",
       " 'UV Protection, Gradient Butterfly, Retro Square Sunglas...',\n",
       " 'by Lenskart Polarized, UV Protection Rectangular Sungla...']"
      ]
     },
     "execution_count": 87,
     "metadata": {},
     "output_type": "execute_result"
    }
   ],
   "source": [
    "#scraping data for next 20 product description\n",
    "prod_tag3=driver.find_elements(By.XPATH,'//a[@class=\"IRpwTa\"]')[:20]\n",
    "for i in prod_tag3:\n",
    "    prod_descrp.append(i.text)\n",
    "prod_descrp"
   ]
  },
  {
   "cell_type": "code",
   "execution_count": 90,
   "id": "3bd00e27",
   "metadata": {},
   "outputs": [
    {
     "data": {
      "text/plain": [
       "['81% off',\n",
       " '79% off',\n",
       " '82% off',\n",
       " '20% off',\n",
       " '89% off',\n",
       " '85% off',\n",
       " '83% off',\n",
       " '80% off',\n",
       " '28% off',\n",
       " '86% off',\n",
       " '79% off',\n",
       " '66% off',\n",
       " '85% off',\n",
       " '89% off',\n",
       " '75% off',\n",
       " '80% off',\n",
       " '88% off',\n",
       " '20% off',\n",
       " '52% off',\n",
       " '68% off',\n",
       " '28% off',\n",
       " '88% off',\n",
       " '72% off',\n",
       " '80% off',\n",
       " '85% off',\n",
       " '68% off',\n",
       " '84% off',\n",
       " '62% off',\n",
       " '84% off',\n",
       " '20% off',\n",
       " '78% off',\n",
       " '66% off',\n",
       " '82% off',\n",
       " '81% off',\n",
       " '82% off',\n",
       " '72% off',\n",
       " '15% off',\n",
       " '79% off',\n",
       " '84% off',\n",
       " '72% off',\n",
       " '78% off',\n",
       " '20% off',\n",
       " '79% off',\n",
       " '79% off',\n",
       " '74% off',\n",
       " '79% off',\n",
       " '82% off',\n",
       " '60% off',\n",
       " '77% off',\n",
       " '81% off',\n",
       " '82% off',\n",
       " '66% off',\n",
       " '20% off',\n",
       " '78% off',\n",
       " '80% off',\n",
       " '80% off',\n",
       " '80% off',\n",
       " '74% off',\n",
       " '84% off',\n",
       " '68% off',\n",
       " '79% off',\n",
       " '80% off',\n",
       " '20% off',\n",
       " '62% off',\n",
       " '70% off',\n",
       " '45% off',\n",
       " '79% off',\n",
       " '66% off',\n",
       " '66% off',\n",
       " '74% off',\n",
       " '62% off',\n",
       " '85% off',\n",
       " '74% off',\n",
       " '80% off',\n",
       " '66% off',\n",
       " '72% off',\n",
       " '20% off',\n",
       " '81% off',\n",
       " '15% off',\n",
       " '72% off',\n",
       " '74% off',\n",
       " '80% off',\n",
       " '66% off',\n",
       " '66% off',\n",
       " '74% off',\n",
       " '20% off',\n",
       " '15% off',\n",
       " '80% off',\n",
       " '74% off',\n",
       " '81% off',\n",
       " '86% off',\n",
       " '80% off',\n",
       " '15% off',\n",
       " '65% off',\n",
       " '88% off',\n",
       " '73% off',\n",
       " '35% off',\n",
       " '76% off',\n",
       " '67% off',\n",
       " '62% off']"
      ]
     },
     "execution_count": 90,
     "metadata": {},
     "output_type": "execute_result"
    }
   ],
   "source": [
    "#scraping web elemnt of next 20 for discount attribute\n",
    "disc_tag3=driver.find_elements(By.XPATH,'//div[@class=\"_3Ay6Sb\"]')[:20]\n",
    "for i in disc_tag3:\n",
    "    discount.append(i.text)\n",
    "discount"
   ]
  },
  {
   "cell_type": "code",
   "execution_count": 91,
   "id": "410e85a4",
   "metadata": {},
   "outputs": [
    {
     "data": {
      "text/plain": [
       "(100, 140, 100, 100)"
      ]
     },
     "execution_count": 91,
     "metadata": {},
     "output_type": "execute_result"
    }
   ],
   "source": [
    "#checking the length of each attribute\n",
    "len(brand), len(price),len(prod_descrp), len(discount)"
   ]
  },
  {
   "cell_type": "code",
   "execution_count": 92,
   "id": "558d7f8b",
   "metadata": {},
   "outputs": [],
   "source": [
    "price=price[:100]"
   ]
  },
  {
   "cell_type": "code",
   "execution_count": 93,
   "id": "03458d57",
   "metadata": {},
   "outputs": [
    {
     "data": {
      "text/plain": [
       "100"
      ]
     },
     "execution_count": 93,
     "metadata": {},
     "output_type": "execute_result"
    }
   ],
   "source": [
    "len(price)"
   ]
  },
  {
   "cell_type": "code",
   "execution_count": 94,
   "id": "e950fb2d",
   "metadata": {},
   "outputs": [
    {
     "data": {
      "text/html": [
       "<div>\n",
       "<style scoped>\n",
       "    .dataframe tbody tr th:only-of-type {\n",
       "        vertical-align: middle;\n",
       "    }\n",
       "\n",
       "    .dataframe tbody tr th {\n",
       "        vertical-align: top;\n",
       "    }\n",
       "\n",
       "    .dataframe thead th {\n",
       "        text-align: right;\n",
       "    }\n",
       "</style>\n",
       "<table border=\"1\" class=\"dataframe\">\n",
       "  <thead>\n",
       "    <tr style=\"text-align: right;\">\n",
       "      <th></th>\n",
       "      <th>BRAND NAME</th>\n",
       "      <th>PRODUCT DESCRIPTION</th>\n",
       "      <th>PRICE</th>\n",
       "      <th>DISCOUNT</th>\n",
       "    </tr>\n",
       "  </thead>\n",
       "  <tbody>\n",
       "    <tr>\n",
       "      <th>0</th>\n",
       "      <td>Singco India</td>\n",
       "      <td>Gradient, Toughened Glass Lens, UV Protection ...</td>\n",
       "      <td>₹567</td>\n",
       "      <td>81% off</td>\n",
       "    </tr>\n",
       "    <tr>\n",
       "      <th>1</th>\n",
       "      <td>Silver Kartz</td>\n",
       "      <td>UV Protection Clubmaster Sunglasses (53)</td>\n",
       "      <td>₹313</td>\n",
       "      <td>79% off</td>\n",
       "    </tr>\n",
       "    <tr>\n",
       "      <th>2</th>\n",
       "      <td>DAHAAZIL</td>\n",
       "      <td>UV Protection, Night Vision, Riding Glasses Wa...</td>\n",
       "      <td>₹177</td>\n",
       "      <td>82% off</td>\n",
       "    </tr>\n",
       "    <tr>\n",
       "      <th>3</th>\n",
       "      <td>Fastrack</td>\n",
       "      <td>UV Protection Rectangular Sunglasses (Free Size)</td>\n",
       "      <td>₹639</td>\n",
       "      <td>20% off</td>\n",
       "    </tr>\n",
       "    <tr>\n",
       "      <th>4</th>\n",
       "      <td>New Specs</td>\n",
       "      <td>UV Protection Rectangular Sunglasses (Free Size)</td>\n",
       "      <td>₹264</td>\n",
       "      <td>89% off</td>\n",
       "    </tr>\n",
       "    <tr>\n",
       "      <th>...</th>\n",
       "      <td>...</td>\n",
       "      <td>...</td>\n",
       "      <td>...</td>\n",
       "      <td>...</td>\n",
       "    </tr>\n",
       "    <tr>\n",
       "      <th>95</th>\n",
       "      <td>NuVew</td>\n",
       "      <td>UV Protection Cat-eye Sunglasses (60)</td>\n",
       "      <td>₹385</td>\n",
       "      <td>73% off</td>\n",
       "    </tr>\n",
       "    <tr>\n",
       "      <th>96</th>\n",
       "      <td>Roadster</td>\n",
       "      <td>UV Protection Oval Sunglasses (58)</td>\n",
       "      <td>₹649</td>\n",
       "      <td>35% off</td>\n",
       "    </tr>\n",
       "    <tr>\n",
       "      <th>97</th>\n",
       "      <td>SRPM</td>\n",
       "      <td>Night Vision, UV Protection Round Sunglasses (54)</td>\n",
       "      <td>₹233</td>\n",
       "      <td>76% off</td>\n",
       "    </tr>\n",
       "    <tr>\n",
       "      <th>98</th>\n",
       "      <td>AISLIN</td>\n",
       "      <td>UV Protection, Gradient Butterfly, Retro Squar...</td>\n",
       "      <td>₹498</td>\n",
       "      <td>67% off</td>\n",
       "    </tr>\n",
       "    <tr>\n",
       "      <th>99</th>\n",
       "      <td>VINCENT CHASE</td>\n",
       "      <td>by Lenskart Polarized, UV Protection Rectangul...</td>\n",
       "      <td>₹749</td>\n",
       "      <td>62% off</td>\n",
       "    </tr>\n",
       "  </tbody>\n",
       "</table>\n",
       "<p>100 rows × 4 columns</p>\n",
       "</div>"
      ],
      "text/plain": [
       "       BRAND NAME                                PRODUCT DESCRIPTION PRICE  \\\n",
       "0    Singco India  Gradient, Toughened Glass Lens, UV Protection ...  ₹567   \n",
       "1    Silver Kartz           UV Protection Clubmaster Sunglasses (53)  ₹313   \n",
       "2        DAHAAZIL  UV Protection, Night Vision, Riding Glasses Wa...  ₹177   \n",
       "3        Fastrack   UV Protection Rectangular Sunglasses (Free Size)  ₹639   \n",
       "4       New Specs   UV Protection Rectangular Sunglasses (Free Size)  ₹264   \n",
       "..            ...                                                ...   ...   \n",
       "95          NuVew              UV Protection Cat-eye Sunglasses (60)  ₹385   \n",
       "96       Roadster                 UV Protection Oval Sunglasses (58)  ₹649   \n",
       "97           SRPM  Night Vision, UV Protection Round Sunglasses (54)  ₹233   \n",
       "98         AISLIN  UV Protection, Gradient Butterfly, Retro Squar...  ₹498   \n",
       "99  VINCENT CHASE  by Lenskart Polarized, UV Protection Rectangul...  ₹749   \n",
       "\n",
       "   DISCOUNT  \n",
       "0   81% off  \n",
       "1   79% off  \n",
       "2   82% off  \n",
       "3   20% off  \n",
       "4   89% off  \n",
       "..      ...  \n",
       "95  73% off  \n",
       "96  35% off  \n",
       "97  76% off  \n",
       "98  67% off  \n",
       "99  62% off  \n",
       "\n",
       "[100 rows x 4 columns]"
      ]
     },
     "execution_count": 94,
     "metadata": {},
     "output_type": "execute_result"
    }
   ],
   "source": [
    "#Preparing data frame Of first 100 sunglasses listing in flipkart\n",
    "\n",
    "item=pd.DataFrame({'BRAND NAME':brand, 'PRODUCT DESCRIPTION': prod_descrp, 'PRICE':price, 'DISCOUNT':discount})\n",
    "item"
   ]
  },
  {
   "cell_type": "code",
   "execution_count": 103,
   "id": "b864270a",
   "metadata": {},
   "outputs": [],
   "source": [
    "#Q5: Scrape 100 reviews data from flipkart.com for iphone11 phone. Data involve following attributes:1.Rating,  2.Review summary\n",
    "#3. Full review\n",
    "\n",
    "#Getting the web page.\n",
    "url= 'https://www.flipkart.com'\n",
    "driver.get(url)\n"
   ]
  },
  {
   "cell_type": "code",
   "execution_count": 105,
   "id": "0f50677a",
   "metadata": {},
   "outputs": [
    {
     "data": {
      "text/plain": [
       "<selenium.webdriver.remote.webelement.WebElement (session=\"2aec54eeaa7ce25586c6647a1ed8a1b4\", element=\"6f51da0f-eb1a-46fe-8212-e9ef0876a63c\")>"
      ]
     },
     "execution_count": 105,
     "metadata": {},
     "output_type": "execute_result"
    }
   ],
   "source": [
    "#finding the web element for search product \n",
    "\n",
    "search_item=driver.find_element(By.CLASS_NAME,\"_3704LK\")\n",
    "search_item"
   ]
  },
  {
   "cell_type": "code",
   "execution_count": 106,
   "id": "d2cbd3e6",
   "metadata": {},
   "outputs": [],
   "source": [
    "#writing in the search bar\"iphone 11\"\n",
    "search_item.send_keys(\"iphone 11\")\n"
   ]
  },
  {
   "cell_type": "code",
   "execution_count": 107,
   "id": "99d0a48f",
   "metadata": {},
   "outputs": [
    {
     "data": {
      "text/plain": [
       "<selenium.webdriver.remote.webelement.WebElement (session=\"2aec54eeaa7ce25586c6647a1ed8a1b4\", element=\"f1c4a756-e8cf-42be-bde7-cff43f9313dc\")>"
      ]
     },
     "execution_count": 107,
     "metadata": {},
     "output_type": "execute_result"
    }
   ],
   "source": [
    "#finding web element for the search icon\n",
    "\n",
    "search_icon=driver.find_element(By.XPATH,\"/html/body/div/div/div[1]/div[1]/div[2]/div[2]/form/div/button\")\n",
    "search_icon"
   ]
  },
  {
   "cell_type": "code",
   "execution_count": 108,
   "id": "167e3f1f",
   "metadata": {},
   "outputs": [],
   "source": [
    "search_icon.click()"
   ]
  },
  {
   "cell_type": "code",
   "execution_count": 8,
   "id": "f4bf4609",
   "metadata": {},
   "outputs": [],
   "source": [
    "# getting the required url\n",
    "\n",
    "url1= 'https://www.flipkart.com/apple-iphone-11-black-64-gb-includes-earpods-power-adapter/product-reviews/itm0f37c2240b217?pid=MOBFKCTSVZAXUHGR&lid=LSTMOBFKCTSVZAXUHGREPBFGI&marketplace=FLIPKART'\n",
    "driver.get(url1)"
   ]
  },
  {
   "cell_type": "code",
   "execution_count": 9,
   "id": "73604e3a",
   "metadata": {},
   "outputs": [
    {
     "data": {
      "text/plain": [
       "10"
      ]
     },
     "execution_count": 9,
     "metadata": {},
     "output_type": "execute_result"
    }
   ],
   "source": [
    "# From here lets open the review section to scrape the desired data. \n",
    "# finding the web element for scraping the rating\n",
    "\n",
    "review_tag=driver.find_elements(By.XPATH,'//p[@class=\"_2-N8zT\"]')\n",
    "len(review_tag)"
   ]
  },
  {
   "cell_type": "code",
   "execution_count": 11,
   "id": "f55cab4f",
   "metadata": {},
   "outputs": [
    {
     "data": {
      "text/plain": [
       "['Simply awesome',\n",
       " 'Perfect product!',\n",
       " 'Best in the market!',\n",
       " 'Highly recommended',\n",
       " 'Worth every penny',\n",
       " 'Fabulous!',\n",
       " 'Great product',\n",
       " 'Worth every penny',\n",
       " 'Good choice',\n",
       " 'Highly recommended']"
      ]
     },
     "execution_count": 11,
     "metadata": {},
     "output_type": "execute_result"
    }
   ],
   "source": [
    "review=[]\n",
    "for i in review_tag:\n",
    "    review.append(i.text)\n",
    "review"
   ]
  },
  {
   "cell_type": "code",
   "execution_count": 15,
   "id": "0f8c56f1",
   "metadata": {},
   "outputs": [
    {
     "data": {
      "text/plain": [
       "['Really satisfied with the Product I received... It’s totally genuine and the packaging was also really good so if ur planning to buy just go for it.',\n",
       " 'Amazing phone with great cameras and better battery which gives you the best performance. I just love the camera .',\n",
       " 'Great iPhone very snappy experience as apple kind. Upgraded from iPhone 7.\\nPros\\n-Camera top class\\n- Battery top performed\\n-Chipset no need to say as apple kind\\n-Security as you expect from apple\\n- Display super bright industry leading colour\\naccuracy and super responsive\\n-Build quality as expect from apple sturdy\\npremium durable beautiful stylish.\\n-Os most stable os in smartphone industry\\n\\nCons\\n-No 5G\\n-Display is not based on OLED technology\\n-Charger headphones and 1 apple stic...\\nREAD MORE',\n",
       " 'What a camera .....just awesome ..you can feel this iPhone just awesome . Good for gaming also ...try pubg in hd it’s just wow',\n",
       " 'Previously I was using one plus 3t it was a great phone\\nAnd then I decided to upgrade I am stuck between Samsung s10 plus or iPhone 11\\nI have seen the specs and everything were good except the display it’s somewhere between 720-1080 and it’s not even an amoled it’s an LCD display\\nBut I decided to go with iPhone because I have never used an IOS device I have Been an android user from the past 9 years I ordered IPhone 11 (128gb) product red\\nMy experience after using 3 weeks\\n1. The delivery ...\\nREAD MORE',\n",
       " 'This is my first iOS phone. I am very happy with this product. Very much satisfied with this. I love this phone.',\n",
       " 'Amazing Powerful and Durable Gadget.\\n\\nI’m am very happy with the camera picture quality, Amazing face id unlocked in dark room, Strong battery with perfect screen size as you can carry easily in pocket. This is my third iPhone.\\n\\nI shifted from android Samsung Note series to iPhone because of the strong build quality and peace of mind for next 3-4 years.\\n\\nDon’t think to much just go for it and I suggest you to go for minimum 128gb variant or more 256gb.\\n\\nI’ve attached my puppy pics and no fi...\\nREAD MORE',\n",
       " 'i11 is worthy to buy, too much happy with the product. Thank u flipkart I received the item on time..loved it..',\n",
       " 'So far it’s been an AMAZING experience coming back to iOS after nearly a decade but it’s not as versatile as android though phone is sturdy dropped it accidentally a couple of times and nothing happened fortunately camera is awesome',\n",
       " 'iphone 11 is a very good phone to buy only if you can compromise for the display. The display on this is device is pretty good but you can get other options with better displays in this price segment.\\nIf you can survive with an HD+ LCD panel with thicker bezels and a notch up top then this is a very good phone for you.\\nCameras are awesome, battery backup excellent, great performance and a decent premium look. Good job Apple !']"
      ]
     },
     "execution_count": 15,
     "metadata": {},
     "output_type": "execute_result"
    }
   ],
   "source": [
    "full_rev_tag=driver.find_elements(By.XPATH,'//div[@class=\"t-ZTKy\"]')\n",
    "full_review=[]\n",
    "for i in full_rev_tag:\n",
    "    full_review.append(i.text)\n",
    "full_review"
   ]
  },
  {
   "cell_type": "code",
   "execution_count": 17,
   "id": "1956d641",
   "metadata": {},
   "outputs": [
    {
     "data": {
      "text/plain": [
       "['5', '5', '5', '5', '5', '5', '5', '5', '4', '5']"
      ]
     },
     "execution_count": 17,
     "metadata": {},
     "output_type": "execute_result"
    }
   ],
   "source": [
    "rating_tag=driver.find_elements(By.XPATH,'//div[@class=\"_3LWZlK _1BLPMq\"]')\n",
    "rating=[]\n",
    "for i in rating_tag:\n",
    "    rating.append(i.text)\n",
    "rating"
   ]
  },
  {
   "cell_type": "code",
   "execution_count": 18,
   "id": "5e80f752",
   "metadata": {},
   "outputs": [
    {
     "data": {
      "text/plain": [
       "<selenium.webdriver.remote.webelement.WebElement (session=\"d79deb73c9dc63bde5b1620581ed8435\", element=\"c53a7a12-f1d9-402d-93ea-701c776b29b7\")>"
      ]
     },
     "execution_count": 18,
     "metadata": {},
     "output_type": "execute_result"
    }
   ],
   "source": [
    "#finding the web element for next button'\n",
    "nxt_btn1= driver.find_element(By.XPATH, '/html/body/div/div/div[3]/div/div/div[2]/div[13]/div/div/nav/a[11]')\n",
    "nxt_btn1"
   ]
  },
  {
   "cell_type": "code",
   "execution_count": 19,
   "id": "6ae63e64",
   "metadata": {},
   "outputs": [],
   "source": [
    "nxt_btn1.click()"
   ]
  },
  {
   "cell_type": "code",
   "execution_count": 25,
   "id": "7205b78e",
   "metadata": {},
   "outputs": [
    {
     "data": {
      "text/plain": [
       "['5',\n",
       " '5',\n",
       " '5',\n",
       " '5',\n",
       " '5',\n",
       " '5',\n",
       " '5',\n",
       " '5',\n",
       " '4',\n",
       " '5',\n",
       " '5',\n",
       " '5',\n",
       " '5',\n",
       " '5',\n",
       " '5',\n",
       " '5',\n",
       " '5',\n",
       " '5',\n",
       " '5',\n",
       " '5']"
      ]
     },
     "execution_count": 25,
     "metadata": {},
     "output_type": "execute_result"
    }
   ],
   "source": [
    "rating_tag=driver.find_elements(By.XPATH,'//div[@class=\"_3LWZlK _1BLPMq\"]')\n",
    "for i in rating_tag:\n",
    "    rating.append(i.text)\n",
    "rating"
   ]
  },
  {
   "cell_type": "code",
   "execution_count": 26,
   "id": "824683fe",
   "metadata": {},
   "outputs": [
    {
     "data": {
      "text/plain": [
       "['Simply awesome',\n",
       " 'Perfect product!',\n",
       " 'Best in the market!',\n",
       " 'Highly recommended',\n",
       " 'Worth every penny',\n",
       " 'Fabulous!',\n",
       " 'Great product',\n",
       " 'Worth every penny',\n",
       " 'Good choice',\n",
       " 'Highly recommended',\n",
       " 'Highly recommended',\n",
       " 'Perfect product!',\n",
       " 'Perfect product!',\n",
       " 'Worth every penny',\n",
       " 'Perfect product!',\n",
       " 'Perfect product!',\n",
       " 'Terrific',\n",
       " 'Worth every penny',\n",
       " 'Simply awesome',\n",
       " 'Wonderful']"
      ]
     },
     "execution_count": 26,
     "metadata": {},
     "output_type": "execute_result"
    }
   ],
   "source": [
    "review_tag=driver.find_elements(By.XPATH,'//p[@class=\"_2-N8zT\"]')\n",
    "for i in review_tag:\n",
    "    review.append(i.text)\n",
    "review"
   ]
  },
  {
   "cell_type": "code",
   "execution_count": 27,
   "id": "96a02009",
   "metadata": {},
   "outputs": [
    {
     "data": {
      "text/plain": [
       "['Really satisfied with the Product I received... It’s totally genuine and the packaging was also really good so if ur planning to buy just go for it.',\n",
       " 'Amazing phone with great cameras and better battery which gives you the best performance. I just love the camera .',\n",
       " 'Great iPhone very snappy experience as apple kind. Upgraded from iPhone 7.\\nPros\\n-Camera top class\\n- Battery top performed\\n-Chipset no need to say as apple kind\\n-Security as you expect from apple\\n- Display super bright industry leading colour\\naccuracy and super responsive\\n-Build quality as expect from apple sturdy\\npremium durable beautiful stylish.\\n-Os most stable os in smartphone industry\\n\\nCons\\n-No 5G\\n-Display is not based on OLED technology\\n-Charger headphones and 1 apple stic...\\nREAD MORE',\n",
       " 'What a camera .....just awesome ..you can feel this iPhone just awesome . Good for gaming also ...try pubg in hd it’s just wow',\n",
       " 'Previously I was using one plus 3t it was a great phone\\nAnd then I decided to upgrade I am stuck between Samsung s10 plus or iPhone 11\\nI have seen the specs and everything were good except the display it’s somewhere between 720-1080 and it’s not even an amoled it’s an LCD display\\nBut I decided to go with iPhone because I have never used an IOS device I have Been an android user from the past 9 years I ordered IPhone 11 (128gb) product red\\nMy experience after using 3 weeks\\n1. The delivery ...\\nREAD MORE',\n",
       " 'This is my first iOS phone. I am very happy with this product. Very much satisfied with this. I love this phone.',\n",
       " 'Amazing Powerful and Durable Gadget.\\n\\nI’m am very happy with the camera picture quality, Amazing face id unlocked in dark room, Strong battery with perfect screen size as you can carry easily in pocket. This is my third iPhone.\\n\\nI shifted from android Samsung Note series to iPhone because of the strong build quality and peace of mind for next 3-4 years.\\n\\nDon’t think to much just go for it and I suggest you to go for minimum 128gb variant or more 256gb.\\n\\nI’ve attached my puppy pics and no fi...\\nREAD MORE',\n",
       " 'i11 is worthy to buy, too much happy with the product. Thank u flipkart I received the item on time..loved it..',\n",
       " 'So far it’s been an AMAZING experience coming back to iOS after nearly a decade but it’s not as versatile as android though phone is sturdy dropped it accidentally a couple of times and nothing happened fortunately camera is awesome',\n",
       " 'iphone 11 is a very good phone to buy only if you can compromise for the display. The display on this is device is pretty good but you can get other options with better displays in this price segment.\\nIf you can survive with an HD+ LCD panel with thicker bezels and a notch up top then this is a very good phone for you.\\nCameras are awesome, battery backup excellent, great performance and a decent premium look. Good job Apple !',\n",
       " \"It's my first time to use iOS phone and I am loving my upgradation 😍😍 I love the color, I love the assebility of the phone....I need to learn more about its functionality, but as far as I have seen, it's quite easy and it has a lot of functions to work on, specially if you are a content writer or a blogger you get a lot of content creation platforms and they are really amazing.\\n\\nThis phone not only for good quality photography but a lot of other task too.😍💯\",\n",
       " 'It’s a must buy who is looking for an upgrade from previous generation of iPhones. If you are using XR then still you can hold on for sometime and upgrade to 2020 model else this phone is a must buy . Camera quality is amazing and wide angle is something to count upon. Performance wise it’s amazing and feels premium while holding in hand. So a big YES for this device. Go for 128 GB variant as the 4K videos will occupy lots of space and the storage can get over very quickly. Try to buy it with...\\nREAD MORE',\n",
       " 'Value for money❤️❤️\\nIts awesome mobile phone in the world ...\\nDisplay was very good and bright ..\\nTrust me freinds you r never regret after Buying..\\nJust go for it....\\nI love this phone and i switch to iphone x to 11',\n",
       " 'Smooth like butter, camera like fantabulous, sound is crystal clear & its red color is damn attractive, i am just loving it. Must buy if you love photography.\\n\\nLucky to get it in sale, thank you Flipkart.',\n",
       " 'It is just awesome mobile for this price from Apple,\\n\\nAfter 10 days review\\n\\nBattery enough for 1 day even 24*7 Internet will be on and mostly internet usage\\n\\nCamera is just awesome cool , android 64 MP is equal to this just 12 MP\\n\\nA13 Bionic chip will give more high performance without hanging\\n\\nAudio stereo speakers will give Dolby atoms sound with crystal clear\\n\\nVideo recording is like cinematic shots of every sec can be a 4K 60fps. Just awesome this phone\\niPhone 11 loved one',\n",
       " \"Iphone is just awesome.. battery backup is very very nice.. continuously for 10 hours we can use it.camera is just awesome.. display is just fab.i love it alot..i had to wait 15 days for it as i pre ordered it..overalll it's worth the price..these all images are clicked by my iPhone..and i love it.\",\n",
       " 'Really worth of money. i just love it. It is the best phone ever.',\n",
       " 'Best budget Iphone till date ❤️ go for it guys without second thought. Let me explain you guys about Camera, Display, battery, and performance.\\n\\nCamera: at this price range there is no comparison of camera, you’ll love the picture quality as well as video quality. I am a Vlogger I wanted an iPhone with 4k video by front camera and I got this phone and I am more than happy 😃\\n\\nBattery: I use this phone roughly as I am active social media person and I have a youtube channel. so the battery ba...\\nREAD MORE',\n",
       " 'Excellent camera, good performance, no lag. The lcd display is also good.. but difference come when we watch movie in prime and Netflix, the colours are not vibrant.. as we see in amoled display.. and the charger in box is of 5 watts.. takes more than 3 hours to charge from 0 to 100.. so guys be prepare to buy 18 watts charger . Finally I am an android user, it was my first Iapple phone, I promise u guys the iOS is so smooth.. overall the phone is damn good.... close eyes to buy it.. thanks t...\\nREAD MORE',\n",
       " 'This is my first ever I phone. Before this I was using my google nexus 5. But moving from android to iOS is a great experience. It’s worth at this price. I will highly recommend it if you want to move to iOS. The best part of this phone is it’s camera and it’s battery life. This two things have won my heart. I loved it. Happy to have it in my hand. Still exploring its features. And can’t forget to mention Flipkart service. Very prompt service and fast delivery.']"
      ]
     },
     "execution_count": 27,
     "metadata": {},
     "output_type": "execute_result"
    }
   ],
   "source": [
    "full_rev_tag=driver.find_elements(By.XPATH,'//div[@class=\"t-ZTKy\"]')\n",
    "for i in full_rev_tag:\n",
    "    full_review.append(i.text)\n",
    "full_review"
   ]
  },
  {
   "cell_type": "code",
   "execution_count": 30,
   "id": "b0bbe432",
   "metadata": {},
   "outputs": [],
   "source": [
    "nxt_btn1=driver.find_element(By.XPATH,'/html/body/div/div/div[3]/div/div/div[2]/div[13]/div/div/nav/a[12]')"
   ]
  },
  {
   "cell_type": "code",
   "execution_count": 32,
   "id": "ad93fe6c",
   "metadata": {},
   "outputs": [],
   "source": [
    "nxt_btn1.click()"
   ]
  },
  {
   "cell_type": "code",
   "execution_count": 33,
   "id": "188d4336",
   "metadata": {},
   "outputs": [
    {
     "data": {
      "text/plain": [
       "['5',\n",
       " '5',\n",
       " '5',\n",
       " '5',\n",
       " '5',\n",
       " '5',\n",
       " '5',\n",
       " '5',\n",
       " '4',\n",
       " '5',\n",
       " '5',\n",
       " '5',\n",
       " '5',\n",
       " '5',\n",
       " '5',\n",
       " '5',\n",
       " '5',\n",
       " '5',\n",
       " '5',\n",
       " '5',\n",
       " '5',\n",
       " '5',\n",
       " '4',\n",
       " '4',\n",
       " '5',\n",
       " '5',\n",
       " '5',\n",
       " '5',\n",
       " '5',\n",
       " '5']"
      ]
     },
     "execution_count": 33,
     "metadata": {},
     "output_type": "execute_result"
    }
   ],
   "source": [
    "rating_tag=driver.find_elements(By.XPATH,'//div[@class=\"_3LWZlK _1BLPMq\"]')\n",
    "for i in rating_tag:\n",
    "    rating.append(i.text)\n",
    "rating"
   ]
  },
  {
   "cell_type": "code",
   "execution_count": 34,
   "id": "7797eb5f",
   "metadata": {},
   "outputs": [
    {
     "data": {
      "text/plain": [
       "['Simply awesome',\n",
       " 'Perfect product!',\n",
       " 'Best in the market!',\n",
       " 'Highly recommended',\n",
       " 'Worth every penny',\n",
       " 'Fabulous!',\n",
       " 'Great product',\n",
       " 'Worth every penny',\n",
       " 'Good choice',\n",
       " 'Highly recommended',\n",
       " 'Highly recommended',\n",
       " 'Perfect product!',\n",
       " 'Perfect product!',\n",
       " 'Worth every penny',\n",
       " 'Perfect product!',\n",
       " 'Perfect product!',\n",
       " 'Terrific',\n",
       " 'Worth every penny',\n",
       " 'Simply awesome',\n",
       " 'Wonderful',\n",
       " 'Classy product',\n",
       " 'Worth every penny',\n",
       " 'Good choice',\n",
       " 'Nice product',\n",
       " 'Perfect product!',\n",
       " 'Classy product',\n",
       " 'Brilliant',\n",
       " 'Must buy!',\n",
       " 'Classy product',\n",
       " 'Must buy!']"
      ]
     },
     "execution_count": 34,
     "metadata": {},
     "output_type": "execute_result"
    }
   ],
   "source": [
    "review_tag=driver.find_elements(By.XPATH,'//p[@class=\"_2-N8zT\"]')\n",
    "for i in review_tag:\n",
    "    review.append(i.text)\n",
    "review"
   ]
  },
  {
   "cell_type": "code",
   "execution_count": 35,
   "id": "afcc3fd3",
   "metadata": {},
   "outputs": [
    {
     "data": {
      "text/plain": [
       "['Really satisfied with the Product I received... It’s totally genuine and the packaging was also really good so if ur planning to buy just go for it.',\n",
       " 'Amazing phone with great cameras and better battery which gives you the best performance. I just love the camera .',\n",
       " 'Great iPhone very snappy experience as apple kind. Upgraded from iPhone 7.\\nPros\\n-Camera top class\\n- Battery top performed\\n-Chipset no need to say as apple kind\\n-Security as you expect from apple\\n- Display super bright industry leading colour\\naccuracy and super responsive\\n-Build quality as expect from apple sturdy\\npremium durable beautiful stylish.\\n-Os most stable os in smartphone industry\\n\\nCons\\n-No 5G\\n-Display is not based on OLED technology\\n-Charger headphones and 1 apple stic...\\nREAD MORE',\n",
       " 'What a camera .....just awesome ..you can feel this iPhone just awesome . Good for gaming also ...try pubg in hd it’s just wow',\n",
       " 'Previously I was using one plus 3t it was a great phone\\nAnd then I decided to upgrade I am stuck between Samsung s10 plus or iPhone 11\\nI have seen the specs and everything were good except the display it’s somewhere between 720-1080 and it’s not even an amoled it’s an LCD display\\nBut I decided to go with iPhone because I have never used an IOS device I have Been an android user from the past 9 years I ordered IPhone 11 (128gb) product red\\nMy experience after using 3 weeks\\n1. The delivery ...\\nREAD MORE',\n",
       " 'This is my first iOS phone. I am very happy with this product. Very much satisfied with this. I love this phone.',\n",
       " 'Amazing Powerful and Durable Gadget.\\n\\nI’m am very happy with the camera picture quality, Amazing face id unlocked in dark room, Strong battery with perfect screen size as you can carry easily in pocket. This is my third iPhone.\\n\\nI shifted from android Samsung Note series to iPhone because of the strong build quality and peace of mind for next 3-4 years.\\n\\nDon’t think to much just go for it and I suggest you to go for minimum 128gb variant or more 256gb.\\n\\nI’ve attached my puppy pics and no fi...\\nREAD MORE',\n",
       " 'i11 is worthy to buy, too much happy with the product. Thank u flipkart I received the item on time..loved it..',\n",
       " 'So far it’s been an AMAZING experience coming back to iOS after nearly a decade but it’s not as versatile as android though phone is sturdy dropped it accidentally a couple of times and nothing happened fortunately camera is awesome',\n",
       " 'iphone 11 is a very good phone to buy only if you can compromise for the display. The display on this is device is pretty good but you can get other options with better displays in this price segment.\\nIf you can survive with an HD+ LCD panel with thicker bezels and a notch up top then this is a very good phone for you.\\nCameras are awesome, battery backup excellent, great performance and a decent premium look. Good job Apple !',\n",
       " \"It's my first time to use iOS phone and I am loving my upgradation 😍😍 I love the color, I love the assebility of the phone....I need to learn more about its functionality, but as far as I have seen, it's quite easy and it has a lot of functions to work on, specially if you are a content writer or a blogger you get a lot of content creation platforms and they are really amazing.\\n\\nThis phone not only for good quality photography but a lot of other task too.😍💯\",\n",
       " 'It’s a must buy who is looking for an upgrade from previous generation of iPhones. If you are using XR then still you can hold on for sometime and upgrade to 2020 model else this phone is a must buy . Camera quality is amazing and wide angle is something to count upon. Performance wise it’s amazing and feels premium while holding in hand. So a big YES for this device. Go for 128 GB variant as the 4K videos will occupy lots of space and the storage can get over very quickly. Try to buy it with...\\nREAD MORE',\n",
       " 'Value for money❤️❤️\\nIts awesome mobile phone in the world ...\\nDisplay was very good and bright ..\\nTrust me freinds you r never regret after Buying..\\nJust go for it....\\nI love this phone and i switch to iphone x to 11',\n",
       " 'Smooth like butter, camera like fantabulous, sound is crystal clear & its red color is damn attractive, i am just loving it. Must buy if you love photography.\\n\\nLucky to get it in sale, thank you Flipkart.',\n",
       " 'It is just awesome mobile for this price from Apple,\\n\\nAfter 10 days review\\n\\nBattery enough for 1 day even 24*7 Internet will be on and mostly internet usage\\n\\nCamera is just awesome cool , android 64 MP is equal to this just 12 MP\\n\\nA13 Bionic chip will give more high performance without hanging\\n\\nAudio stereo speakers will give Dolby atoms sound with crystal clear\\n\\nVideo recording is like cinematic shots of every sec can be a 4K 60fps. Just awesome this phone\\niPhone 11 loved one',\n",
       " \"Iphone is just awesome.. battery backup is very very nice.. continuously for 10 hours we can use it.camera is just awesome.. display is just fab.i love it alot..i had to wait 15 days for it as i pre ordered it..overalll it's worth the price..these all images are clicked by my iPhone..and i love it.\",\n",
       " 'Really worth of money. i just love it. It is the best phone ever.',\n",
       " 'Best budget Iphone till date ❤️ go for it guys without second thought. Let me explain you guys about Camera, Display, battery, and performance.\\n\\nCamera: at this price range there is no comparison of camera, you’ll love the picture quality as well as video quality. I am a Vlogger I wanted an iPhone with 4k video by front camera and I got this phone and I am more than happy 😃\\n\\nBattery: I use this phone roughly as I am active social media person and I have a youtube channel. so the battery ba...\\nREAD MORE',\n",
       " 'Excellent camera, good performance, no lag. The lcd display is also good.. but difference come when we watch movie in prime and Netflix, the colours are not vibrant.. as we see in amoled display.. and the charger in box is of 5 watts.. takes more than 3 hours to charge from 0 to 100.. so guys be prepare to buy 18 watts charger . Finally I am an android user, it was my first Iapple phone, I promise u guys the iOS is so smooth.. overall the phone is damn good.... close eyes to buy it.. thanks t...\\nREAD MORE',\n",
       " 'This is my first ever I phone. Before this I was using my google nexus 5. But moving from android to iOS is a great experience. It’s worth at this price. I will highly recommend it if you want to move to iOS. The best part of this phone is it’s camera and it’s battery life. This two things have won my heart. I loved it. Happy to have it in my hand. Still exploring its features. And can’t forget to mention Flipkart service. Very prompt service and fast delivery.',\n",
       " 'Totally in love with this ❤ the camera quality is amazing just love it 😘😘😘 itsss dammnnnnnn amazing... Must buy iPhone 11 this is my best experience ever ☀👌👌🧡🧡🧡🧡🧡 thanku apple ❤',\n",
       " 'It’s been almost a month since I have been using this phone. I upgraded from an iPhone 8. The main issue with my 8 was battery and this phone is just awesome when it comes to battery. It lasts a day and a half for me with my regular use , internet connected always with 4g\\nCan’t move forward without saying this. Battery of this phone is a life saver when I am traveling or at work when I don’t get the option to charge\\nCamera is superb. Front cam selfies and back cam photos are just awesome.\\n...\\nREAD MORE',\n",
       " 'Looking so good 👍 😍 super 👌 stylish 😎 phone\\nClean box 📦 good 👍 delivery 👌 fast delivery\\nOriginal box Original iphone 📱 👌 😍😍😍',\n",
       " 'Awesome Phone. Slightly high price but worth. Better than iPhone XR.\\nCamera is superb and wide angle camera is very clear.\\n12MP selfie camera is also very good.\\nA13 Chip gives a very good and smooth performance.',\n",
       " 'Battery backup is extraordinary, camera is decent & performance offered by A13 bionic is awsome. The display is good in practical usage like the visibility of display is very good in direct sun light compare to pro models. Iam extremely satisfied for the money I spent.',\n",
       " 'We are on apple ecosystem for almost eight years now with couple of iPads and iPhones, including Xr.\\n\\nBought iPhone 11 as a gift to my daughter who loves it. We chose for a purple coloured one. Believe me it is gorgeous and towards the lighter shade. Dazzling and brilliant!\\n\\nThe phone is great and does excellent RAM management like any other Apple device.\\n\\nThe screen, though a LCD and lesser ppi as compared to other flagship phones of competitor brands, is a delight to watch with perfect re...\\nREAD MORE',\n",
       " 'I have migrated from OP 7pro... and trust me, iPhone 11 is totally worth it.. following are the reasons:-\\n1)there is ABSOLUTELY NO ISSUE WITH THE DISPLAY... its crisp, sharp and I found it to be much much better than OP7 pro. Netflix, Prime video all run crisply... you won’t miss a thing. True Tone works flawlessly...the display brightness is perfect. OP have not calibrated their screens properly.\\n2) iPhone 11 series have really good cameras... others have spoken in depth about them.\\n3) bat...\\nREAD MORE',\n",
       " 'Best Apple iPhone that i have bought at a very reasonable price, camera quality is next level just awesome n of superior quality android phones not even close(RIP) to that and also battery is really good but packaging by Flipkart of iPhone was very poor of such a expensive product, firstly im bit worried about the quality of product if i purchased it through online how was the product but i think now this was mine best decision to bought it through Flipkart online because i got genuine Apple...\\nREAD MORE',\n",
       " 'Superb Product !!!\\nA big and worthy upgrade from mi 3S to iphone 11 .\\nTotally loved it !',\n",
       " 'It’s an amazing product from apple and the camera is simply superb. Phone is faster.Night shot is simply superb and detailing and colour differentiation from camera is an added advantage\\n\\nThis review I have written from iPhone 11 only and I am glad to say outside.\\n\\nCons wise if we see HD+ display only, no battery percentage indicator as in older iPhone 8.\\nNo assistive touch control button in it\\nNo oleophobic coating on back panel glass and finger prints are visible but since I bought mint gr...\\nREAD MORE']"
      ]
     },
     "execution_count": 35,
     "metadata": {},
     "output_type": "execute_result"
    }
   ],
   "source": [
    "full_rev_tag=driver.find_elements(By.XPATH,'//div[@class=\"t-ZTKy\"]')\n",
    "for i in full_rev_tag:\n",
    "    full_review.append(i.text)\n",
    "full_review"
   ]
  },
  {
   "cell_type": "code",
   "execution_count": 39,
   "id": "87ca6232",
   "metadata": {},
   "outputs": [],
   "source": [
    "nxt_btn1=driver.find_element(By.XPATH,'/html/body/div/div/div[3]/div/div/div[2]/div[13]/div/div/nav/a[12]')\n",
    "nxt_btn1.click()"
   ]
  },
  {
   "cell_type": "code",
   "execution_count": 44,
   "id": "4ba7ed85",
   "metadata": {},
   "outputs": [],
   "source": [
    "rating_tag=driver.find_elements(By.XPATH,'//div[@class=\"_3LWZlK _1BLPMq\"]')\n",
    "for i in rating_tag:\n",
    "    rating.append(i.text)\n"
   ]
  },
  {
   "cell_type": "code",
   "execution_count": 41,
   "id": "7b6fb933",
   "metadata": {},
   "outputs": [],
   "source": [
    "review_tag=driver.find_elements(By.XPATH,'//p[@class=\"_2-N8zT\"]')\n",
    "for i in review_tag:\n",
    "    review.append(i.text)"
   ]
  },
  {
   "cell_type": "code",
   "execution_count": 42,
   "id": "ba376b08",
   "metadata": {},
   "outputs": [],
   "source": [
    "full_rev_tag=driver.find_elements(By.XPATH,'//div[@class=\"t-ZTKy\"]')\n",
    "for i in full_rev_tag:\n",
    "    full_review.append(i.text)\n"
   ]
  },
  {
   "cell_type": "code",
   "execution_count": 43,
   "id": "44aec667",
   "metadata": {},
   "outputs": [],
   "source": [
    "nxt_btn1=driver.find_element(By.XPATH,'/html/body/div/div/div[3]/div/div/div[2]/div[13]/div/div/nav/a[12]')\n",
    "nxt_btn1.click()"
   ]
  },
  {
   "cell_type": "code",
   "execution_count": 45,
   "id": "2fb6cdc4",
   "metadata": {},
   "outputs": [
    {
     "data": {
      "text/plain": [
       "(49, 40, 40)"
      ]
     },
     "execution_count": 45,
     "metadata": {},
     "output_type": "execute_result"
    }
   ],
   "source": [
    "len(rating),len(review),len(full_review)"
   ]
  },
  {
   "cell_type": "code",
   "execution_count": 46,
   "id": "7264c341",
   "metadata": {},
   "outputs": [],
   "source": [
    "rating=rating[:40]"
   ]
  },
  {
   "cell_type": "code",
   "execution_count": 47,
   "id": "a0e614d7",
   "metadata": {},
   "outputs": [
    {
     "data": {
      "text/plain": [
       "40"
      ]
     },
     "execution_count": 47,
     "metadata": {},
     "output_type": "execute_result"
    }
   ],
   "source": [
    "len(rating)"
   ]
  },
  {
   "cell_type": "code",
   "execution_count": 48,
   "id": "f5daee4f",
   "metadata": {},
   "outputs": [],
   "source": [
    "rating_tag=driver.find_elements(By.XPATH,'//div[@class=\"_3LWZlK _1BLPMq\"]')\n",
    "for i in rating_tag:\n",
    "    rating.append(i.text)"
   ]
  },
  {
   "cell_type": "code",
   "execution_count": 49,
   "id": "feac1b4a",
   "metadata": {},
   "outputs": [],
   "source": [
    "review_tag=driver.find_elements(By.XPATH,'//p[@class=\"_2-N8zT\"]')\n",
    "for i in review_tag:\n",
    "    review.append(i.text)"
   ]
  },
  {
   "cell_type": "code",
   "execution_count": 50,
   "id": "66aa962c",
   "metadata": {},
   "outputs": [],
   "source": [
    "full_rev_tag=driver.find_elements(By.XPATH,'//div[@class=\"t-ZTKy\"]')\n",
    "for i in full_rev_tag:\n",
    "    full_review.append(i.text)\n"
   ]
  },
  {
   "cell_type": "code",
   "execution_count": 51,
   "id": "9246bb05",
   "metadata": {},
   "outputs": [
    {
     "data": {
      "text/plain": [
       "(49, 50, 50)"
      ]
     },
     "execution_count": 51,
     "metadata": {},
     "output_type": "execute_result"
    }
   ],
   "source": [
    "len(rating), len(review), len(full_review)"
   ]
  },
  {
   "cell_type": "code",
   "execution_count": 58,
   "id": "e2ceb7b0",
   "metadata": {},
   "outputs": [
    {
     "data": {
      "text/plain": [
       "1"
      ]
     },
     "execution_count": 58,
     "metadata": {},
     "output_type": "execute_result"
    }
   ],
   "source": [
    "rating_neg_tag=driver.find_elements(By.XPATH,'//div[@class=\"_3LWZlK _1rdVr6 _1BLPMq\"]')\n",
    "\n",
    "len(rating_neg_tag)"
   ]
  },
  {
   "cell_type": "code",
   "execution_count": 59,
   "id": "84513ac6",
   "metadata": {},
   "outputs": [
    {
     "data": {
      "text/plain": [
       "50"
      ]
     },
     "execution_count": 59,
     "metadata": {},
     "output_type": "execute_result"
    }
   ],
   "source": [
    "for i in rating_neg_tag:\n",
    "    rating.append(i.text)\n",
    "len(rating)"
   ]
  },
  {
   "cell_type": "code",
   "execution_count": 60,
   "id": "224af09b",
   "metadata": {},
   "outputs": [],
   "source": [
    "#clicking on next page\n",
    "nxt_btn1=driver.find_element(By.XPATH,'/html/body/div/div/div[3]/div/div/div[2]/div[13]/div/div/nav/a[12]')\n",
    "nxt_btn1.click()"
   ]
  },
  {
   "cell_type": "code",
   "execution_count": 61,
   "id": "6c88af8a",
   "metadata": {},
   "outputs": [],
   "source": [
    "rating_tag=driver.find_elements(By.XPATH,'//div[@class=\"_3LWZlK _1BLPMq\"]')\n",
    "for i in rating_tag:\n",
    "    rating.append(i.text)\n",
    "    \n",
    "\n"
   ]
  },
  {
   "cell_type": "code",
   "execution_count": 62,
   "id": "aea5c794",
   "metadata": {},
   "outputs": [],
   "source": [
    "review_tag=driver.find_elements(By.XPATH,'//p[@class=\"_2-N8zT\"]')\n",
    "for i in review_tag:\n",
    "    review.append(i.text)\n",
    "\n",
    "full_rev_tag=driver.find_elements(By.XPATH,'//div[@class=\"t-ZTKy\"]')\n",
    "for i in full_rev_tag:\n",
    "    full_review.append(i.text)"
   ]
  },
  {
   "cell_type": "code",
   "execution_count": 63,
   "id": "92dbfb29",
   "metadata": {},
   "outputs": [
    {
     "data": {
      "text/plain": [
       "(60, 60, 60)"
      ]
     },
     "execution_count": 63,
     "metadata": {},
     "output_type": "execute_result"
    }
   ],
   "source": [
    "len(rating), len(review), len(full_review)"
   ]
  },
  {
   "cell_type": "code",
   "execution_count": 64,
   "id": "2c635677",
   "metadata": {},
   "outputs": [],
   "source": [
    "#clicking on next button\n",
    "nxt_btn1=driver.find_element(By.XPATH,'/html/body/div/div/div[3]/div/div/div[2]/div[13]/div/div/nav/a[12]')\n",
    "nxt_btn1.click()"
   ]
  },
  {
   "cell_type": "code",
   "execution_count": 65,
   "id": "8ae51192",
   "metadata": {},
   "outputs": [],
   "source": [
    "#scraping data from the webpage including attributes: rating, summary review and full review\n",
    "\n",
    "rating_tag=driver.find_elements(By.XPATH,'//div[@class=\"_3LWZlK _1BLPMq\"]')\n",
    "for i in rating_tag:\n",
    "    rating.append(i.text)\n",
    "\n",
    "review_tag=driver.find_elements(By.XPATH,'//p[@class=\"_2-N8zT\"]')\n",
    "for i in review_tag:\n",
    "    review.append(i.text)\n",
    "\n",
    "full_rev_tag=driver.find_elements(By.XPATH,'//div[@class=\"t-ZTKy\"]')\n",
    "for i in full_rev_tag:\n",
    "    full_review.append(i.text)\n"
   ]
  },
  {
   "cell_type": "code",
   "execution_count": 66,
   "id": "db750941",
   "metadata": {},
   "outputs": [
    {
     "data": {
      "text/plain": [
       "(70, 70, 70)"
      ]
     },
     "execution_count": 66,
     "metadata": {},
     "output_type": "execute_result"
    }
   ],
   "source": [
    "#checking the length of the list made with scraped data\n",
    "len(rating), len(review),len(full_review)"
   ]
  },
  {
   "cell_type": "code",
   "execution_count": 67,
   "id": "a5014d09",
   "metadata": {},
   "outputs": [],
   "source": [
    "#clicking on next button\n",
    "nxt_btn1=driver.find_element(By.XPATH,'/html/body/div/div/div[3]/div/div/div[2]/div[13]/div/div/nav/a[12]')\n",
    "nxt_btn1.click()"
   ]
  },
  {
   "cell_type": "code",
   "execution_count": 68,
   "id": "8058fa19",
   "metadata": {},
   "outputs": [],
   "source": [
    "# scraping rating, review summary and full value from the webpage\n",
    "\n",
    "rating_tag=driver.find_elements(By.XPATH,'//div[@class=\"_3LWZlK _1BLPMq\"]')\n",
    "for i in rating_tag:\n",
    "    rating.append(i.text)\n",
    "\n",
    "review_tag=driver.find_elements(By.XPATH,'//p[@class=\"_2-N8zT\"]')\n",
    "for i in review_tag:\n",
    "    review.append(i.text)\n",
    "\n",
    "full_rev_tag=driver.find_elements(By.XPATH,'//div[@class=\"t-ZTKy\"]')\n",
    "for i in full_rev_tag:\n",
    "    full_review.append(i.text)"
   ]
  },
  {
   "cell_type": "code",
   "execution_count": 69,
   "id": "29eac5aa",
   "metadata": {},
   "outputs": [
    {
     "data": {
      "text/plain": [
       "(79, 80, 80)"
      ]
     },
     "execution_count": 69,
     "metadata": {},
     "output_type": "execute_result"
    }
   ],
   "source": [
    "len(rating), len(review),len(full_review)"
   ]
  },
  {
   "cell_type": "code",
   "execution_count": 70,
   "id": "e7c48cf1",
   "metadata": {},
   "outputs": [
    {
     "data": {
      "text/plain": [
       "80"
      ]
     },
     "execution_count": 70,
     "metadata": {},
     "output_type": "execute_result"
    }
   ],
   "source": [
    "#scrape the lower rating present at the end of page\n",
    "rating_neg_tag=driver.find_elements(By.XPATH,'//div[@class=\"_3LWZlK _1rdVr6 _1BLPMq\"]')\n",
    "for i in rating_neg_tag:\n",
    "    rating.append(i.text)\n",
    "len(rating)\n"
   ]
  },
  {
   "cell_type": "code",
   "execution_count": 71,
   "id": "60aed305",
   "metadata": {},
   "outputs": [],
   "source": [
    "#clicking on next button\n",
    "nxt_btn1=driver.find_element(By.XPATH,'/html/body/div/div/div[3]/div/div/div[2]/div[13]/div/div/nav/a[12]')\n",
    "nxt_btn1.click()"
   ]
  },
  {
   "cell_type": "code",
   "execution_count": 72,
   "id": "53952ea7",
   "metadata": {},
   "outputs": [
    {
     "data": {
      "text/plain": [
       "83"
      ]
     },
     "execution_count": 72,
     "metadata": {},
     "output_type": "execute_result"
    }
   ],
   "source": [
    "#scraping data of next page, since there is a lower rating, so we will distribute this into two groups and then continue.\n",
    "rating_tag=driver.find_elements(By.XPATH,'//div[@class=\"_3LWZlK _1BLPMq\"]')[:3]\n",
    "for i in rating_tag:\n",
    "    rating.append(i.text)\n",
    "len(rating)"
   ]
  },
  {
   "cell_type": "code",
   "execution_count": 73,
   "id": "6f0549c4",
   "metadata": {},
   "outputs": [
    {
     "data": {
      "text/plain": [
       "84"
      ]
     },
     "execution_count": 73,
     "metadata": {},
     "output_type": "execute_result"
    }
   ],
   "source": [
    "#scraping lower rating\n",
    "rating_neg_tag=driver.find_elements(By.XPATH,'//div[@class=\"_3LWZlK _1rdVr6 _1BLPMq\"]')\n",
    "for i in rating_neg_tag:\n",
    "    rating.append(i.text)\n",
    "len(rating)"
   ]
  },
  {
   "cell_type": "code",
   "execution_count": 75,
   "id": "8399dfef",
   "metadata": {},
   "outputs": [
    {
     "data": {
      "text/plain": [
       "95"
      ]
     },
     "execution_count": 75,
     "metadata": {},
     "output_type": "execute_result"
    }
   ],
   "source": [
    "#continue scraping with remaining rating.\n",
    "rating_tag=driver.find_elements(By.XPATH,'//div[@class=\"_3LWZlK _1BLPMq\"]')[3:]\n",
    "for i in rating_tag:\n",
    "    rating.append(i.text)\n",
    "len(rating)"
   ]
  },
  {
   "cell_type": "code",
   "execution_count": 76,
   "id": "bf072e3f",
   "metadata": {},
   "outputs": [
    {
     "data": {
      "text/plain": [
       "84"
      ]
     },
     "execution_count": 76,
     "metadata": {},
     "output_type": "execute_result"
    }
   ],
   "source": [
    "rating=rating[:84]\n",
    "len(rating)"
   ]
  },
  {
   "cell_type": "code",
   "execution_count": 77,
   "id": "1b87bc5b",
   "metadata": {},
   "outputs": [
    {
     "data": {
      "text/plain": [
       "90"
      ]
     },
     "execution_count": 77,
     "metadata": {},
     "output_type": "execute_result"
    }
   ],
   "source": [
    "rating_tag=driver.find_elements(By.XPATH,'//div[@class=\"_3LWZlK _1BLPMq\"]')[3:]\n",
    "for i in rating_tag:\n",
    "    rating.append(i.text)\n",
    "len(rating)"
   ]
  },
  {
   "cell_type": "code",
   "execution_count": 78,
   "id": "a3d3c03b",
   "metadata": {},
   "outputs": [],
   "source": [
    "#scraping the data for full review and review summary\n",
    "review_tag=driver.find_elements(By.XPATH,'//p[@class=\"_2-N8zT\"]')\n",
    "for i in review_tag:\n",
    "    review.append(i.text)\n",
    "\n",
    "full_rev_tag=driver.find_elements(By.XPATH,'//div[@class=\"t-ZTKy\"]')\n",
    "for i in full_rev_tag:\n",
    "    full_review.append(i.text)"
   ]
  },
  {
   "cell_type": "code",
   "execution_count": 79,
   "id": "7a61b541",
   "metadata": {},
   "outputs": [
    {
     "data": {
      "text/plain": [
       "(90, 90)"
      ]
     },
     "execution_count": 79,
     "metadata": {},
     "output_type": "execute_result"
    }
   ],
   "source": [
    "len(full_review),len(review)"
   ]
  },
  {
   "cell_type": "code",
   "execution_count": 80,
   "id": "391249f8",
   "metadata": {},
   "outputs": [],
   "source": [
    "#clicking on next button\n",
    "nxt_btn1=driver.find_element(By.XPATH,'/html/body/div/div/div[3]/div/div/div[2]/div[13]/div/div/nav/a[12]')\n",
    "nxt_btn1.click()"
   ]
  },
  {
   "cell_type": "code",
   "execution_count": 81,
   "id": "aa38c1a8",
   "metadata": {},
   "outputs": [],
   "source": [
    "# scraping rating, review summary and full value from the webpage\n",
    "\n",
    "rating_tag=driver.find_elements(By.XPATH,'//div[@class=\"_3LWZlK _1BLPMq\"]')\n",
    "for i in rating_tag:\n",
    "    rating.append(i.text)\n",
    "\n",
    "review_tag=driver.find_elements(By.XPATH,'//p[@class=\"_2-N8zT\"]')\n",
    "for i in review_tag:\n",
    "    review.append(i.text)\n",
    "\n",
    "full_rev_tag=driver.find_elements(By.XPATH,'//div[@class=\"t-ZTKy\"]')\n",
    "for i in full_rev_tag:\n",
    "    full_review.append(i.text)"
   ]
  },
  {
   "cell_type": "code",
   "execution_count": 82,
   "id": "8057d92a",
   "metadata": {},
   "outputs": [
    {
     "data": {
      "text/plain": [
       "(100, 100, 100)"
      ]
     },
     "execution_count": 82,
     "metadata": {},
     "output_type": "execute_result"
    }
   ],
   "source": [
    "len(rating), len(review), len(full_review)"
   ]
  },
  {
   "cell_type": "code",
   "execution_count": 83,
   "id": "273f804b",
   "metadata": {},
   "outputs": [
    {
     "name": "stdout",
     "output_type": "stream",
     "text": [
      "\n",
      " First 100 Reviews of iphone 11\n",
      " \n"
     ]
    },
    {
     "data": {
      "text/html": [
       "<div>\n",
       "<style scoped>\n",
       "    .dataframe tbody tr th:only-of-type {\n",
       "        vertical-align: middle;\n",
       "    }\n",
       "\n",
       "    .dataframe tbody tr th {\n",
       "        vertical-align: top;\n",
       "    }\n",
       "\n",
       "    .dataframe thead th {\n",
       "        text-align: right;\n",
       "    }\n",
       "</style>\n",
       "<table border=\"1\" class=\"dataframe\">\n",
       "  <thead>\n",
       "    <tr style=\"text-align: right;\">\n",
       "      <th></th>\n",
       "      <th>Rating</th>\n",
       "      <th>Review Summary</th>\n",
       "      <th>Full Review</th>\n",
       "    </tr>\n",
       "  </thead>\n",
       "  <tbody>\n",
       "    <tr>\n",
       "      <th>0</th>\n",
       "      <td>5</td>\n",
       "      <td>Simply awesome</td>\n",
       "      <td>Really satisfied with the Product I received.....</td>\n",
       "    </tr>\n",
       "    <tr>\n",
       "      <th>1</th>\n",
       "      <td>5</td>\n",
       "      <td>Perfect product!</td>\n",
       "      <td>Amazing phone with great cameras and better ba...</td>\n",
       "    </tr>\n",
       "    <tr>\n",
       "      <th>2</th>\n",
       "      <td>5</td>\n",
       "      <td>Best in the market!</td>\n",
       "      <td>Great iPhone very snappy experience as apple k...</td>\n",
       "    </tr>\n",
       "    <tr>\n",
       "      <th>3</th>\n",
       "      <td>5</td>\n",
       "      <td>Highly recommended</td>\n",
       "      <td>What a camera .....just awesome ..you can feel...</td>\n",
       "    </tr>\n",
       "    <tr>\n",
       "      <th>4</th>\n",
       "      <td>5</td>\n",
       "      <td>Worth every penny</td>\n",
       "      <td>Previously I was using one plus 3t it was a gr...</td>\n",
       "    </tr>\n",
       "    <tr>\n",
       "      <th>...</th>\n",
       "      <td>...</td>\n",
       "      <td>...</td>\n",
       "      <td>...</td>\n",
       "    </tr>\n",
       "    <tr>\n",
       "      <th>95</th>\n",
       "      <td>5</td>\n",
       "      <td>Super!</td>\n",
       "      <td>This is my first ever iPhone.\\nAnd I truly don...</td>\n",
       "    </tr>\n",
       "    <tr>\n",
       "      <th>96</th>\n",
       "      <td>5</td>\n",
       "      <td>Wonderful</td>\n",
       "      <td>Nice value for money good and best price I pho...</td>\n",
       "    </tr>\n",
       "    <tr>\n",
       "      <th>97</th>\n",
       "      <td>5</td>\n",
       "      <td>Worth every penny</td>\n",
       "      <td>Undoubtedly Iphone 11 is the most successful m...</td>\n",
       "    </tr>\n",
       "    <tr>\n",
       "      <th>98</th>\n",
       "      <td>5</td>\n",
       "      <td>Best in the market!</td>\n",
       "      <td>Don’t expect much from front camera… especiall...</td>\n",
       "    </tr>\n",
       "    <tr>\n",
       "      <th>99</th>\n",
       "      <td>5</td>\n",
       "      <td>Fabulous!</td>\n",
       "      <td>I purchased the iPhone 11 a month back. I must...</td>\n",
       "    </tr>\n",
       "  </tbody>\n",
       "</table>\n",
       "<p>100 rows × 3 columns</p>\n",
       "</div>"
      ],
      "text/plain": [
       "   Rating       Review Summary  \\\n",
       "0       5       Simply awesome   \n",
       "1       5     Perfect product!   \n",
       "2       5  Best in the market!   \n",
       "3       5   Highly recommended   \n",
       "4       5    Worth every penny   \n",
       "..    ...                  ...   \n",
       "95      5               Super!   \n",
       "96      5            Wonderful   \n",
       "97      5    Worth every penny   \n",
       "98      5  Best in the market!   \n",
       "99      5            Fabulous!   \n",
       "\n",
       "                                          Full Review  \n",
       "0   Really satisfied with the Product I received.....  \n",
       "1   Amazing phone with great cameras and better ba...  \n",
       "2   Great iPhone very snappy experience as apple k...  \n",
       "3   What a camera .....just awesome ..you can feel...  \n",
       "4   Previously I was using one plus 3t it was a gr...  \n",
       "..                                                ...  \n",
       "95  This is my first ever iPhone.\\nAnd I truly don...  \n",
       "96  Nice value for money good and best price I pho...  \n",
       "97  Undoubtedly Iphone 11 is the most successful m...  \n",
       "98  Don’t expect much from front camera… especiall...  \n",
       "99  I purchased the iPhone 11 a month back. I must...  \n",
       "\n",
       "[100 rows x 3 columns]"
      ]
     },
     "execution_count": 83,
     "metadata": {},
     "output_type": "execute_result"
    }
   ],
   "source": [
    "# Let's Prepare data frame for the scrape data.\n",
    "\n",
    "print(\"\\n First 100 Reviews of iphone 11\\n \")\n",
    "df=pd.DataFrame({'Rating':rating, 'Review Summary': review, 'Full Review': full_review})\n",
    "df"
   ]
  },
  {
   "cell_type": "code",
   "execution_count": null,
   "id": "00f6e699",
   "metadata": {},
   "outputs": [],
   "source": []
  },
  {
   "cell_type": "code",
   "execution_count": 84,
   "id": "6330a174",
   "metadata": {},
   "outputs": [],
   "source": [
    "#Q6: Scrape data for first 100 sneakers you find when you visit flipkart.com and search for “sneakers” in the search field.\n",
    "# You have to scrape 4 attributes of each sneaker: 1. Brand  2. Product Description 3. Price\n",
    "\n",
    "# Getting the web page.\n",
    "url='https://www.flipkart.com'\n",
    "driver.get(url)\n"
   ]
  },
  {
   "cell_type": "code",
   "execution_count": 85,
   "id": "127321c5",
   "metadata": {},
   "outputs": [
    {
     "data": {
      "text/plain": [
       "<selenium.webdriver.remote.webelement.WebElement (session=\"d79deb73c9dc63bde5b1620581ed8435\", element=\"54e589d4-d0c0-4c83-9ab7-2085690c1308\")>"
      ]
     },
     "execution_count": 85,
     "metadata": {},
     "output_type": "execute_result"
    }
   ],
   "source": [
    "#finding the web element for search product \n",
    "\n",
    "search_item=driver.find_element(By.CLASS_NAME,\"_3704LK\")\n",
    "search_item"
   ]
  },
  {
   "cell_type": "code",
   "execution_count": 86,
   "id": "6c2aad1c",
   "metadata": {},
   "outputs": [],
   "source": [
    "search_item.send_keys('sneakers')"
   ]
  },
  {
   "cell_type": "code",
   "execution_count": 87,
   "id": "7dc2e71f",
   "metadata": {},
   "outputs": [
    {
     "data": {
      "text/plain": [
       "<selenium.webdriver.remote.webelement.WebElement (session=\"d79deb73c9dc63bde5b1620581ed8435\", element=\"d5a41e1a-d790-4a2e-aa0c-684a8fc9d9c4\")>"
      ]
     },
     "execution_count": 87,
     "metadata": {},
     "output_type": "execute_result"
    }
   ],
   "source": [
    "search_icon= driver.find_element(By.XPATH, '/html/body/div[1]/div/div[1]/div[1]/div[2]/div[2]/form/div/button')\n",
    "search_icon"
   ]
  },
  {
   "cell_type": "code",
   "execution_count": 88,
   "id": "612314af",
   "metadata": {},
   "outputs": [],
   "source": [
    "search_icon.click()"
   ]
  },
  {
   "cell_type": "code",
   "execution_count": 89,
   "id": "d19a8b81",
   "metadata": {},
   "outputs": [
    {
     "data": {
      "text/plain": [
       "40"
      ]
     },
     "execution_count": 89,
     "metadata": {},
     "output_type": "execute_result"
    }
   ],
   "source": [
    "brand_tag=driver.find_elements(By.XPATH,'//div[@class=\"_2WkVRV\"]')\n",
    "len(brand_tag) "
   ]
  },
  {
   "cell_type": "code",
   "execution_count": 91,
   "id": "eac27776",
   "metadata": {},
   "outputs": [
    {
     "data": {
      "text/plain": [
       "40"
      ]
     },
     "execution_count": 91,
     "metadata": {},
     "output_type": "execute_result"
    }
   ],
   "source": [
    "snek_brand=[]\n",
    "for i in brand_tag:\n",
    "    snek_brand.append(i.text)\n",
    "len(snek_brand)"
   ]
  },
  {
   "cell_type": "code",
   "execution_count": 92,
   "id": "fd687879",
   "metadata": {},
   "outputs": [
    {
     "data": {
      "text/plain": [
       "['White & Black Sneakers For Men Casual Shoes For Men lat...',\n",
       " 'Sneakers Sneakers For Men',\n",
       " 'Sneakers For Men',\n",
       " 'White & Black Sneakers For Men Casual Shoes For Men Tre...',\n",
       " 'Sneakers For Men',\n",
       " \"W18 men's very comfortable casaul shoes Sneakers For Me...\"]"
      ]
     },
     "execution_count": 92,
     "metadata": {},
     "output_type": "execute_result"
    }
   ],
   "source": [
    "prod_tag=driver.find_elements(By.XPATH,'//a[@class=\"IRpwTa _2-ICcC\" ]')\n",
    "prod_des=[]\n",
    "for i in prod_tag:\n",
    "    prod_des.append(i.text)\n",
    "prod_des"
   ]
  },
  {
   "cell_type": "code",
   "execution_count": 104,
   "id": "cde49ad4",
   "metadata": {},
   "outputs": [
    {
     "data": {
      "text/plain": [
       "['White & Black Sneakers For Men Casual Shoes For Men lat...',\n",
       " 'Sneakers Sneakers For Men',\n",
       " 'Sneakers For Men',\n",
       " 'White & Black Sneakers For Men Casual Shoes For Men Tre...',\n",
       " 'Sneakers For Men',\n",
       " \"W18 men's very comfortable casaul shoes Sneakers For Me...\"]"
      ]
     },
     "execution_count": 104,
     "metadata": {},
     "output_type": "execute_result"
    }
   ],
   "source": [
    "prod_des=prod_des[:6]\n",
    "len(prod_des)\n",
    "prod_des"
   ]
  },
  {
   "cell_type": "code",
   "execution_count": 105,
   "id": "cfd64bb7",
   "metadata": {},
   "outputs": [
    {
     "data": {
      "text/plain": [
       "40"
      ]
     },
     "execution_count": 105,
     "metadata": {},
     "output_type": "execute_result"
    }
   ],
   "source": [
    "prod_tag1=driver.find_elements(By.XPATH, '//a[@class=\"IRpwTa\" ]')\n",
    "\n",
    "for i in prod_tag1:\n",
    "    prod_des.append(i.text)\n",
    "len(prod_des)"
   ]
  },
  {
   "cell_type": "code",
   "execution_count": 106,
   "id": "72df24f6",
   "metadata": {},
   "outputs": [],
   "source": [
    "price_tag6=driver.find_elements(By.XPATH, '//div[@class=\"_30jeq3\"]')"
   ]
  },
  {
   "cell_type": "code",
   "execution_count": 107,
   "id": "6194267e",
   "metadata": {},
   "outputs": [
    {
     "data": {
      "text/plain": [
       "['₹496',\n",
       " '₹1,784',\n",
       " '₹269',\n",
       " '₹399',\n",
       " '₹198',\n",
       " '₹299',\n",
       " '₹258',\n",
       " '₹494',\n",
       " '₹319',\n",
       " '₹378',\n",
       " '₹449',\n",
       " '₹399',\n",
       " '₹299',\n",
       " '₹1,659',\n",
       " '₹299',\n",
       " '₹496',\n",
       " '₹519',\n",
       " '₹1,557',\n",
       " '₹397',\n",
       " '₹499',\n",
       " '₹1,819',\n",
       " '₹299',\n",
       " '₹335',\n",
       " '₹195',\n",
       " '₹2,036',\n",
       " '₹479',\n",
       " '₹479',\n",
       " '₹450',\n",
       " '₹199',\n",
       " '₹299',\n",
       " '₹479',\n",
       " '₹539',\n",
       " '₹664',\n",
       " '₹207',\n",
       " '₹298',\n",
       " '₹699',\n",
       " '₹474',\n",
       " '₹649',\n",
       " '₹254',\n",
       " '₹398']"
      ]
     },
     "execution_count": 107,
     "metadata": {},
     "output_type": "execute_result"
    }
   ],
   "source": [
    "price=[]\n",
    "for i in price_tag6:\n",
    "    price.append(i.text)\n",
    "price"
   ]
  },
  {
   "cell_type": "code",
   "execution_count": 108,
   "id": "b5946cbc",
   "metadata": {},
   "outputs": [
    {
     "data": {
      "text/plain": [
       "<selenium.webdriver.remote.webelement.WebElement (session=\"d79deb73c9dc63bde5b1620581ed8435\", element=\"ca85e3a2-a535-4767-8283-4525d4bede4c\")>"
      ]
     },
     "execution_count": 108,
     "metadata": {},
     "output_type": "execute_result"
    }
   ],
   "source": [
    "nxt_bttn=driver.find_element(By.XPATH, '/html/body/div[1]/div/div[3]/div[1]/div[2]/div[12]/div/div/nav/a[11]')\n",
    "nxt_bttn"
   ]
  },
  {
   "cell_type": "code",
   "execution_count": 109,
   "id": "86d3b1e4",
   "metadata": {},
   "outputs": [],
   "source": [
    "nxt_bttn.click()"
   ]
  },
  {
   "cell_type": "code",
   "execution_count": 110,
   "id": "002a436e",
   "metadata": {},
   "outputs": [
    {
     "data": {
      "text/plain": [
       "40"
      ]
     },
     "execution_count": 110,
     "metadata": {},
     "output_type": "execute_result"
    }
   ],
   "source": [
    "brand_tag=driver.find_elements(By.XPATH,'//div[@class=\"_2WkVRV\"]')\n",
    "len(brand_tag) "
   ]
  },
  {
   "cell_type": "code",
   "execution_count": 111,
   "id": "04f68a28",
   "metadata": {},
   "outputs": [
    {
     "data": {
      "text/plain": [
       "80"
      ]
     },
     "execution_count": 111,
     "metadata": {},
     "output_type": "execute_result"
    }
   ],
   "source": [
    "for i in brand_tag:\n",
    "    snek_brand.append(i.text)\n",
    "len(snek_brand)"
   ]
  },
  {
   "cell_type": "code",
   "execution_count": 112,
   "id": "ae9f78ab",
   "metadata": {},
   "outputs": [
    {
     "data": {
      "text/plain": [
       "72"
      ]
     },
     "execution_count": 112,
     "metadata": {},
     "output_type": "execute_result"
    }
   ],
   "source": [
    "prod_tag1=driver.find_elements(By.XPATH, '//a[@class=\"IRpwTa\" ]')\n",
    "\n",
    "for i in prod_tag1:\n",
    "    prod_des.append(i.text)\n",
    "len(prod_des)"
   ]
  },
  {
   "cell_type": "code",
   "execution_count": 113,
   "id": "397a160e",
   "metadata": {},
   "outputs": [
    {
     "data": {
      "text/plain": [
       "80"
      ]
     },
     "execution_count": 113,
     "metadata": {},
     "output_type": "execute_result"
    }
   ],
   "source": [
    "prod_tag=driver.find_elements(By.XPATH,'//a[@class=\"IRpwTa _2-ICcC\" ]')\n",
    "\n",
    "for i in prod_tag:\n",
    "    prod_des.append(i.text)\n",
    "len(prod_des)"
   ]
  },
  {
   "cell_type": "code",
   "execution_count": 114,
   "id": "460a9e8a",
   "metadata": {},
   "outputs": [
    {
     "data": {
      "text/plain": [
       "80"
      ]
     },
     "execution_count": 114,
     "metadata": {},
     "output_type": "execute_result"
    }
   ],
   "source": [
    "price_tag6=driver.find_elements(By.XPATH, '//div[@class=\"_30jeq3\"]')\n",
    "for i in price_tag6:\n",
    "    price.append(i.text)\n",
    "len(price)"
   ]
  },
  {
   "cell_type": "code",
   "execution_count": 115,
   "id": "499772c4",
   "metadata": {},
   "outputs": [],
   "source": [
    "nxt_bttn.click()"
   ]
  },
  {
   "cell_type": "code",
   "execution_count": 116,
   "id": "45c5fead",
   "metadata": {},
   "outputs": [
    {
     "data": {
      "text/plain": [
       "100"
      ]
     },
     "execution_count": 116,
     "metadata": {},
     "output_type": "execute_result"
    }
   ],
   "source": [
    "brand_tag=driver.find_elements(By.XPATH,'//div[@class=\"_2WkVRV\"]')[:20]\n",
    "for i in brand_tag:\n",
    "    snek_brand.append(i.text)\n",
    "len(snek_brand)\n"
   ]
  },
  {
   "cell_type": "code",
   "execution_count": 117,
   "id": "c72056d9",
   "metadata": {},
   "outputs": [
    {
     "data": {
      "text/plain": [
       "100"
      ]
     },
     "execution_count": 117,
     "metadata": {},
     "output_type": "execute_result"
    }
   ],
   "source": [
    "prod_tag1=driver.find_elements(By.XPATH, '//a[@class=\"IRpwTa\" ]')[:20]\n",
    "\n",
    "for i in prod_tag1:\n",
    "    prod_des.append(i.text)\n",
    "len(prod_des)"
   ]
  },
  {
   "cell_type": "code",
   "execution_count": 118,
   "id": "a4e95be5",
   "metadata": {},
   "outputs": [
    {
     "data": {
      "text/plain": [
       "100"
      ]
     },
     "execution_count": 118,
     "metadata": {},
     "output_type": "execute_result"
    }
   ],
   "source": [
    "price_tag6=driver.find_elements(By.XPATH, '//div[@class=\"_30jeq3\"]')[:20]\n",
    "for i in price_tag6:\n",
    "    price.append(i.text)\n",
    "len(price)"
   ]
  },
  {
   "cell_type": "code",
   "execution_count": 119,
   "id": "c6c8a754",
   "metadata": {},
   "outputs": [
    {
     "name": "stdout",
     "output_type": "stream",
     "text": [
      "First 100 list of sneakers from flipkart\n"
     ]
    },
    {
     "data": {
      "text/html": [
       "<div>\n",
       "<style scoped>\n",
       "    .dataframe tbody tr th:only-of-type {\n",
       "        vertical-align: middle;\n",
       "    }\n",
       "\n",
       "    .dataframe tbody tr th {\n",
       "        vertical-align: top;\n",
       "    }\n",
       "\n",
       "    .dataframe thead th {\n",
       "        text-align: right;\n",
       "    }\n",
       "</style>\n",
       "<table border=\"1\" class=\"dataframe\">\n",
       "  <thead>\n",
       "    <tr style=\"text-align: right;\">\n",
       "      <th></th>\n",
       "      <th>Brand Name</th>\n",
       "      <th>Product Description</th>\n",
       "      <th>Price</th>\n",
       "    </tr>\n",
       "  </thead>\n",
       "  <tbody>\n",
       "    <tr>\n",
       "      <th>0</th>\n",
       "      <td>Scull Wings</td>\n",
       "      <td>White &amp; Black Sneakers For Men Casual Shoes Fo...</td>\n",
       "      <td>₹496</td>\n",
       "    </tr>\n",
       "    <tr>\n",
       "      <th>1</th>\n",
       "      <td>HRX by Hrithik Roshan</td>\n",
       "      <td>Sneakers Sneakers For Men</td>\n",
       "      <td>₹1,784</td>\n",
       "    </tr>\n",
       "    <tr>\n",
       "      <th>2</th>\n",
       "      <td>BRUTON</td>\n",
       "      <td>Sneakers For Men</td>\n",
       "      <td>₹269</td>\n",
       "    </tr>\n",
       "    <tr>\n",
       "      <th>3</th>\n",
       "      <td>Magnolia</td>\n",
       "      <td>White &amp; Black Sneakers For Men Casual Shoes Fo...</td>\n",
       "      <td>₹399</td>\n",
       "    </tr>\n",
       "    <tr>\n",
       "      <th>4</th>\n",
       "      <td>URBANBOX</td>\n",
       "      <td>Sneakers For Men</td>\n",
       "      <td>₹198</td>\n",
       "    </tr>\n",
       "    <tr>\n",
       "      <th>...</th>\n",
       "      <td>...</td>\n",
       "      <td>...</td>\n",
       "      <td>...</td>\n",
       "    </tr>\n",
       "    <tr>\n",
       "      <th>95</th>\n",
       "      <td>ZF - ALFIYA</td>\n",
       "      <td>Stylish Comfortable Men Casual Sneakers Shoes ...</td>\n",
       "      <td>₹399</td>\n",
       "    </tr>\n",
       "    <tr>\n",
       "      <th>96</th>\n",
       "      <td>BIRDE</td>\n",
       "      <td>Stylish &amp; Trending Outdoor Walking Comfortable...</td>\n",
       "      <td>₹419</td>\n",
       "    </tr>\n",
       "    <tr>\n",
       "      <th>97</th>\n",
       "      <td>CLYMB</td>\n",
       "      <td>Stylish &amp; Trending Outdoor Walking Comfortable...</td>\n",
       "      <td>₹249</td>\n",
       "    </tr>\n",
       "    <tr>\n",
       "      <th>98</th>\n",
       "      <td>PEXLO</td>\n",
       "      <td>Sneakers For Men</td>\n",
       "      <td>₹633</td>\n",
       "    </tr>\n",
       "    <tr>\n",
       "      <th>99</th>\n",
       "      <td>Glowlife</td>\n",
       "      <td>STYLISH MENS BLACK TRENDY SNEAKER FOR MENS Sne...</td>\n",
       "      <td>₹499</td>\n",
       "    </tr>\n",
       "  </tbody>\n",
       "</table>\n",
       "<p>100 rows × 3 columns</p>\n",
       "</div>"
      ],
      "text/plain": [
       "               Brand Name                                Product Description  \\\n",
       "0             Scull Wings  White & Black Sneakers For Men Casual Shoes Fo...   \n",
       "1   HRX by Hrithik Roshan                          Sneakers Sneakers For Men   \n",
       "2                  BRUTON                                   Sneakers For Men   \n",
       "3                Magnolia  White & Black Sneakers For Men Casual Shoes Fo...   \n",
       "4                URBANBOX                                   Sneakers For Men   \n",
       "..                    ...                                                ...   \n",
       "95            ZF - ALFIYA  Stylish Comfortable Men Casual Sneakers Shoes ...   \n",
       "96                  BIRDE  Stylish & Trending Outdoor Walking Comfortable...   \n",
       "97                  CLYMB  Stylish & Trending Outdoor Walking Comfortable...   \n",
       "98                  PEXLO                                   Sneakers For Men   \n",
       "99               Glowlife  STYLISH MENS BLACK TRENDY SNEAKER FOR MENS Sne...   \n",
       "\n",
       "     Price  \n",
       "0     ₹496  \n",
       "1   ₹1,784  \n",
       "2     ₹269  \n",
       "3     ₹399  \n",
       "4     ₹198  \n",
       "..     ...  \n",
       "95    ₹399  \n",
       "96    ₹419  \n",
       "97    ₹249  \n",
       "98    ₹633  \n",
       "99    ₹499  \n",
       "\n",
       "[100 rows x 3 columns]"
      ]
     },
     "execution_count": 119,
     "metadata": {},
     "output_type": "execute_result"
    }
   ],
   "source": [
    "#Preparing dataframe for first 100 result.\n",
    "item_snek=pd.DataFrame({'Brand Name':snek_brand, 'Product Description':prod_des, 'Price':price})\n",
    "print(\"First 100 list of sneakers from flipkart\")\n",
    "item_snek"
   ]
  },
  {
   "cell_type": "code",
   "execution_count": null,
   "id": "fcc524a7",
   "metadata": {},
   "outputs": [],
   "source": []
  },
  {
   "cell_type": "code",
   "execution_count": 121,
   "id": "13439a0f",
   "metadata": {},
   "outputs": [],
   "source": [
    "#Q7: Go to the link - https://www.myntra.com/shoes. Set second Price filter and Color filter to “Black”, a And then scrape First 100 shoes data you get. \n",
    "#The data should include “Brand” of the shoes , Short Shoe description, price of the shoe as shown in the below image.\n",
    "\n",
    "#Getting web page\n",
    "#url= 'https://www.myntra.com/shoes'\n",
    "#driver.get(url)\n",
    "# Leaving for now"
   ]
  },
  {
   "cell_type": "code",
   "execution_count": 183,
   "id": "2d821552",
   "metadata": {},
   "outputs": [],
   "source": [
    "#Q8: Go to webpage https://www.amazon.in/Enter “Laptop” in the search field and then click the search icon.\n",
    "#Then set CPU Type filter to “Intel Core i7”.After setting the filters scrape first 10 laptops data. You have to scrape 3 attributesfor each laptop:\n",
    "#1. Title  2. Rating   3. Price\n",
    "\n",
    "#getting the web page\n",
    "url= 'https://www.amazon.in/'\n",
    "driver.get(url)"
   ]
  },
  {
   "cell_type": "code",
   "execution_count": 184,
   "id": "0490077c",
   "metadata": {},
   "outputs": [],
   "source": [
    "#finding web element search item bar\n",
    "serch_item=driver.find_element(By.XPATH, '/html/body/div[1]/header/div/div[1]/div[2]/div/form/div[2]/div[1]/input' )"
   ]
  },
  {
   "cell_type": "code",
   "execution_count": 185,
   "id": "d9d8a36d",
   "metadata": {},
   "outputs": [],
   "source": [
    "#writing 'laptop on search bar'\n",
    "serch_item.send_keys('Laptop')"
   ]
  },
  {
   "cell_type": "code",
   "execution_count": 186,
   "id": "226a4455",
   "metadata": {},
   "outputs": [],
   "source": [
    "#finding web element for search icon\n",
    "srch_icon=driver.find_element(By.XPATH, '/html/body/div[1]/header/div/div[1]/div[2]/div/form/div[3]/div/span/input')"
   ]
  },
  {
   "cell_type": "code",
   "execution_count": 187,
   "id": "37fdc896",
   "metadata": {},
   "outputs": [],
   "source": [
    "#clicking on search icon\n",
    "srch_icon.click()"
   ]
  },
  {
   "cell_type": "code",
   "execution_count": 188,
   "id": "a87ab421",
   "metadata": {},
   "outputs": [],
   "source": [
    "#finding web element for check box of intel i7\n",
    "chck_box=driver.find_element(By.XPATH,'/html/body/div[1]/div[2]/div[1]/div[2]/div/div[3]/span/div[1]/div/div/div[6]/ul[4]/li[12]/span/a/div/label/i')"
   ]
  },
  {
   "cell_type": "code",
   "execution_count": 189,
   "id": "1753f7d6",
   "metadata": {},
   "outputs": [],
   "source": [
    "#clicking on check box.\n",
    "chck_box.click()"
   ]
  },
  {
   "cell_type": "code",
   "execution_count": 29,
   "id": "af64947c",
   "metadata": {},
   "outputs": [
    {
     "data": {
      "text/plain": [
       "['Hp Pavilion 15 12Th Gen Intel Core I7 16Gb Sdram/1Tb Ssd 15.6 Inches (39.6Cm) Fhd,IPS/Intel Iris Xe Graphics/B&O/Windows 11 Home/Alexa/Backlit Kb/Fpr/Mso 2021/1.75Kg, 15-Eg2039Tu, Natural Silver',\n",
       " 'Lenovo ThinkBook 15 Intel 11th Gen Core i7 15.6\"(39.62 cm)FHD Thin and Light Laptop (16GB/512GB SSD/Windows 11 Home/MS Office H&S 2021/Iris® Xe Graphics/Backlit/Mineral Grey/1.7 Kg) 20VE00W4IH',\n",
       " 'Infinix INBook X1 Pro Core i7 10th Gen - (16 GB/512 GB SSD/Windows 11 Home) XL12 Thin and Light Laptop (14 Inch, Noble Red, 1.48 kg)',\n",
       " 'Hp Pavilion X360 11Th Gen Intel Core I7 14 Inches Fhd Multitouch 2In1 Laptop (16Gb Ram/512Gb Ssd/B&O/Windows 11 Home/Fpr/Backlit Kb/Intel Iris Xe Graphics/Pen/Alexa/Ms Office/Silver/1.52Kg)14-Dy1047Tu',\n",
       " 'HP Envy 11th Gen Intel Evo Core i7 14 inch(35.6 cm) WUXGA Anti-Glare Display 2-in-1 Laptop(16GB RAM/1TB SSD/GTX 1650 4GB Graphics/400 nits/Win 11/MS Office/FPR/B&O/Alexa Built-in/1.59 Kg), 14-eb0021TX',\n",
       " 'ASUS Vivobook 15, 15.6-inch (39.62 cms) FHD, Intel Core i7-1065G7 10th Gen, Thin and Light Laptop (16GB/512GB SSD/Iris Plus Graphics/Windows 11/Office 2021/Silver/1.8 kg), X515JA-EJ701WS',\n",
       " 'LG Gram 16 Intel Evo 11th Gen i7 Thin & Light Laptop 2K+ IPS 16:10 Display [16 GB RAM/ 512 GB SSD/ Windows 11 / Iris Xe Graphics/ Thunderbolt 4, USC -C x 2 / 1.19 kg, Black/ 3Yr Warranty] 16Z90P',\n",
       " 'HP Pavilion 14 12th Gen Intel Core i7 16GB SDRAM/1TB SSD 14 inch(35.6cm) FHD,IPS,Micro-Edge Display/Intel UHD Graphics/B&O/Win 11/Alexa Built-in/Backlit KB/FPR/MSO 2021/Natural Silver, 14-dv2015TU',\n",
       " 'Lenovo ThinkBook 13s Intel 11th Gen Core i7 13.3\"(33.78 cm) WQXGA IPS 300 nits 100% sRGB Dolby Vision Thin and Light Laptop (16GB/512GB SSD/Windows 10 Professional/Mineral Grey/1.26 Kg), 20V9A032IH',\n",
       " 'Lenovo ThinkPad E14 Intel Core i7 11th Gen 14-inch (35.56cm) FHD TN Antiglare Thin and Light Laptop (16GB RAM/512GB SSD/Windows 11 Home/Microsoft Office H&S 2021/FPR/Black/1.59 kg), 20TAS1B400']"
      ]
     },
     "execution_count": 29,
     "metadata": {},
     "output_type": "execute_result"
    }
   ],
   "source": [
    "#Scraping the page for web element of title\n",
    "title_1=driver.find_elements(By.XPATH, '//h2[@class=\"a-size-mini a-spacing-none a-color-base s-line-clamp-2\"]')[:10]\n",
    "title=[]\n",
    "for i in title_1:\n",
    "    title.append(i.text)\n",
    "title"
   ]
  },
  {
   "cell_type": "code",
   "execution_count": 32,
   "id": "52b259c3",
   "metadata": {},
   "outputs": [],
   "source": [
    "#scraping price of first 10\n",
    "price_tag=driver.find_elements(By.XPATH, '//a[@class=\"a-size-base a-link-normal s-underline-text s-underline-link-text s-link-style a-text-normal\"]')[:10]"
   ]
  },
  {
   "cell_type": "code",
   "execution_count": 33,
   "id": "495906ab",
   "metadata": {},
   "outputs": [
    {
     "data": {
      "text/plain": [
       "['₹87,900',\n",
       " '₹86,990',\n",
       " '₹53,999',\n",
       " '₹82,990',\n",
       " '₹99,400',\n",
       " '₹57,890',\n",
       " '₹85,499',\n",
       " '₹89,990',\n",
       " '₹94,990',\n",
       " '₹99,990']"
      ]
     },
     "execution_count": 33,
     "metadata": {},
     "output_type": "execute_result"
    }
   ],
   "source": [
    "price_main=[]\n",
    "for i in price_tag:\n",
    "    price_main.append((i.text).split()[0])\n",
    "price_main"
   ]
  },
  {
   "cell_type": "code",
   "execution_count": 196,
   "id": "822aab4a",
   "metadata": {
    "scrolled": true
   },
   "outputs": [
    {
     "data": {
      "text/plain": [
       "['26', '5', '49', '16', '143', '14', '7', '161', '9', '24']"
      ]
     },
     "execution_count": 196,
     "metadata": {},
     "output_type": "execute_result"
    }
   ],
   "source": [
    "#scraping the rating from the web element\n",
    "\n",
    "rate = driver.find_elements(By.XPATH,'//div[@class=\"a-row a-size-small\"]')\n",
    "\n",
    "Rate=[]\n",
    "\n",
    "\n",
    "\n",
    "for i in rate[0:10]:\n",
    "\n",
    "    Rate.append(i.text)\n",
    "\n",
    "Rate"
   ]
  },
  {
   "cell_type": "code",
   "execution_count": 200,
   "id": "953ec038",
   "metadata": {},
   "outputs": [
    {
     "name": "stdout",
     "output_type": "stream",
     "text": [
      "First 10 results appear in search\n",
      "\n"
     ]
    },
    {
     "data": {
      "text/html": [
       "<div>\n",
       "<style scoped>\n",
       "    .dataframe tbody tr th:only-of-type {\n",
       "        vertical-align: middle;\n",
       "    }\n",
       "\n",
       "    .dataframe tbody tr th {\n",
       "        vertical-align: top;\n",
       "    }\n",
       "\n",
       "    .dataframe thead th {\n",
       "        text-align: right;\n",
       "    }\n",
       "</style>\n",
       "<table border=\"1\" class=\"dataframe\">\n",
       "  <thead>\n",
       "    <tr style=\"text-align: right;\">\n",
       "      <th></th>\n",
       "      <th>Title</th>\n",
       "      <th>Price</th>\n",
       "      <th>People rate</th>\n",
       "    </tr>\n",
       "  </thead>\n",
       "  <tbody>\n",
       "    <tr>\n",
       "      <th>0</th>\n",
       "      <td>Hp Pavilion 15 12Th Gen Intel Core I7 16Gb Sdr...</td>\n",
       "      <td>₹87,900</td>\n",
       "      <td>26</td>\n",
       "    </tr>\n",
       "    <tr>\n",
       "      <th>1</th>\n",
       "      <td>Lenovo ThinkBook 15 Intel 11th Gen Core i7 15....</td>\n",
       "      <td>₹86,990</td>\n",
       "      <td>5</td>\n",
       "    </tr>\n",
       "    <tr>\n",
       "      <th>2</th>\n",
       "      <td>Infinix INBook X1 Pro Core i7 10th Gen - (16 G...</td>\n",
       "      <td>₹53,999</td>\n",
       "      <td>49</td>\n",
       "    </tr>\n",
       "    <tr>\n",
       "      <th>3</th>\n",
       "      <td>Hp Pavilion X360 11Th Gen Intel Core I7 14 Inc...</td>\n",
       "      <td>₹82,990</td>\n",
       "      <td>16</td>\n",
       "    </tr>\n",
       "    <tr>\n",
       "      <th>4</th>\n",
       "      <td>HP Envy 11th Gen Intel Evo Core i7 14 inch(35....</td>\n",
       "      <td>₹99,400</td>\n",
       "      <td>143</td>\n",
       "    </tr>\n",
       "    <tr>\n",
       "      <th>5</th>\n",
       "      <td>ASUS Vivobook 15, 15.6-inch (39.62 cms) FHD, I...</td>\n",
       "      <td>₹57,890</td>\n",
       "      <td>14</td>\n",
       "    </tr>\n",
       "    <tr>\n",
       "      <th>6</th>\n",
       "      <td>LG Gram 16 Intel Evo 11th Gen i7 Thin &amp; Light ...</td>\n",
       "      <td>₹85,499</td>\n",
       "      <td>7</td>\n",
       "    </tr>\n",
       "    <tr>\n",
       "      <th>7</th>\n",
       "      <td>HP Pavilion 14 12th Gen Intel Core i7 16GB SDR...</td>\n",
       "      <td>₹89,990</td>\n",
       "      <td>161</td>\n",
       "    </tr>\n",
       "    <tr>\n",
       "      <th>8</th>\n",
       "      <td>Lenovo ThinkBook 13s Intel 11th Gen Core i7 13...</td>\n",
       "      <td>₹94,990</td>\n",
       "      <td>9</td>\n",
       "    </tr>\n",
       "    <tr>\n",
       "      <th>9</th>\n",
       "      <td>Lenovo ThinkPad E14 Intel Core i7 11th Gen 14-...</td>\n",
       "      <td>₹99,990</td>\n",
       "      <td>24</td>\n",
       "    </tr>\n",
       "  </tbody>\n",
       "</table>\n",
       "</div>"
      ],
      "text/plain": [
       "                                               Title    Price People rate\n",
       "0  Hp Pavilion 15 12Th Gen Intel Core I7 16Gb Sdr...  ₹87,900          26\n",
       "1  Lenovo ThinkBook 15 Intel 11th Gen Core i7 15....  ₹86,990           5\n",
       "2  Infinix INBook X1 Pro Core i7 10th Gen - (16 G...  ₹53,999          49\n",
       "3  Hp Pavilion X360 11Th Gen Intel Core I7 14 Inc...  ₹82,990          16\n",
       "4  HP Envy 11th Gen Intel Evo Core i7 14 inch(35....  ₹99,400         143\n",
       "5  ASUS Vivobook 15, 15.6-inch (39.62 cms) FHD, I...  ₹57,890          14\n",
       "6  LG Gram 16 Intel Evo 11th Gen i7 Thin & Light ...  ₹85,499           7\n",
       "7  HP Pavilion 14 12th Gen Intel Core i7 16GB SDR...  ₹89,990         161\n",
       "8  Lenovo ThinkBook 13s Intel 11th Gen Core i7 13...  ₹94,990           9\n",
       "9  Lenovo ThinkPad E14 Intel Core i7 11th Gen 14-...  ₹99,990          24"
      ]
     },
     "execution_count": 200,
     "metadata": {},
     "output_type": "execute_result"
    }
   ],
   "source": [
    "#preparing the data frame for the requireed data fields\n",
    "lap=pd.DataFrame({'Title': title, 'Price': price_main, 'People rate':Rate})\n",
    "print(\"First 10 results appear in search\\n\")\n",
    "lap"
   ]
  },
  {
   "cell_type": "code",
   "execution_count": null,
   "id": "b9aa08ef",
   "metadata": {},
   "outputs": [],
   "source": []
  },
  {
   "cell_type": "code",
   "execution_count": 60,
   "id": "ac8bff68",
   "metadata": {},
   "outputs": [],
   "source": [
    "#Q9: Write a python program to scrape data for first 10 job results for Data Scientist Designation in Noida location.\n",
    "#You have to scrape company name, No. of days ago when job was posted, Rating of the company. \n",
    "\n",
    "#getting the web page\n",
    "\n",
    "url='https://www.ambitionbox.com/'\n",
    "driver.get(url)"
   ]
  },
  {
   "cell_type": "code",
   "execution_count": 61,
   "id": "08707358",
   "metadata": {},
   "outputs": [
    {
     "data": {
      "text/plain": [
       "<selenium.webdriver.remote.webelement.WebElement (session=\"97f64dad07c692447079c4b93963e017\", element=\"00fc6ac2-2ede-4af7-9264-494f026b4e36\")>"
      ]
     },
     "execution_count": 61,
     "metadata": {},
     "output_type": "execute_result"
    }
   ],
   "source": [
    "#Finding element for job button\n",
    "job_tag=driver.find_element(By.XPATH,'/html/body/div[1]/nav/nav/a[6]')\n",
    "job_tag"
   ]
  },
  {
   "cell_type": "code",
   "execution_count": 62,
   "id": "3392680e",
   "metadata": {},
   "outputs": [],
   "source": [
    "#clicking on job title\n",
    "job_tag.click()"
   ]
  },
  {
   "cell_type": "code",
   "execution_count": 63,
   "id": "61004b93",
   "metadata": {},
   "outputs": [
    {
     "data": {
      "text/plain": [
       "<selenium.webdriver.remote.webelement.WebElement (session=\"97f64dad07c692447079c4b93963e017\", element=\"63eed09e-4b02-4db4-b51c-f345e540a013\")>"
      ]
     },
     "execution_count": 63,
     "metadata": {},
     "output_type": "execute_result"
    }
   ],
   "source": [
    "#finding web element for search bar appear on job page\n",
    "search_job=driver.find_element(By.CLASS_NAME, \"input.tt-input\")\n",
    "search_job"
   ]
  },
  {
   "cell_type": "code",
   "execution_count": 64,
   "id": "f6a86352",
   "metadata": {},
   "outputs": [],
   "source": [
    "#writing \"data scientist\" in the search bar.\n",
    "search_job.send_keys('Data Scientist')"
   ]
  },
  {
   "cell_type": "code",
   "execution_count": 65,
   "id": "414bd569",
   "metadata": {},
   "outputs": [
    {
     "data": {
      "text/plain": [
       "<selenium.webdriver.remote.webelement.WebElement (session=\"97f64dad07c692447079c4b93963e017\", element=\"5130d73f-99eb-4adf-af37-814b5925c748\")>"
      ]
     },
     "execution_count": 65,
     "metadata": {},
     "output_type": "execute_result"
    }
   ],
   "source": [
    "#Finding web element for the search button\n",
    "search_bttn=driver.find_element(By.XPATH, '/html/body/div/div/div/div[2]/div[1]/div[1]/div/div/div/button')\n",
    "search_bttn"
   ]
  },
  {
   "cell_type": "code",
   "execution_count": 66,
   "id": "304e8a8a",
   "metadata": {},
   "outputs": [],
   "source": [
    "#clicking on search button\n",
    "search_bttn.click()"
   ]
  },
  {
   "cell_type": "code",
   "execution_count": 67,
   "id": "79bd7bef",
   "metadata": {},
   "outputs": [
    {
     "data": {
      "text/plain": [
       "<selenium.webdriver.remote.webelement.WebElement (session=\"97f64dad07c692447079c4b93963e017\", element=\"75016c6b-d802-49a9-bb63-5f263db582a0\")>"
      ]
     },
     "execution_count": 67,
     "metadata": {},
     "output_type": "execute_result"
    }
   ],
   "source": [
    "#finding web element for the location\n",
    "locn_bar=driver.find_element(By.XPATH,'/html/body/div/div/div/div[2]/div[1]/div[2]/div[1]/div/div/div/div[2]/div[1]')\n",
    "locn_bar"
   ]
  },
  {
   "cell_type": "code",
   "execution_count": 68,
   "id": "1816e69e",
   "metadata": {},
   "outputs": [],
   "source": [
    "][#clicking on location\n",
    "locn_bar.click()"
   ]
  },
  {
   "cell_type": "code",
   "execution_count": 71,
   "id": "78c5583d",
   "metadata": {},
   "outputs": [
    {
     "data": {
      "text/plain": [
       "<selenium.webdriver.remote.webelement.WebElement (session=\"97f64dad07c692447079c4b93963e017\", element=\"6a623005-36a4-4786-b63a-8c2bf91ac7dd\")>"
      ]
     },
     "execution_count": 71,
     "metadata": {},
     "output_type": "execute_result"
    }
   ],
   "source": [
    "#find web elemnt for nodia in the location list\n",
    "clck_locn=driver.find_element(By.XPATH,'/html/body/div/div/div/div[2]/div[1]/div[2]/div[1]/div/div/div/div[2]/div[2]/div/div[3]/div[1]/div[4]/div/label')\n",
    "clck_locn"
   ]
  },
  {
   "cell_type": "code",
   "execution_count": 72,
   "id": "db1fb9f1",
   "metadata": {},
   "outputs": [],
   "source": [
    "#clicking on noida check box\n",
    "clck_locn.click()"
   ]
  },
  {
   "cell_type": "code",
   "execution_count": 73,
   "id": "4240bbce",
   "metadata": {},
   "outputs": [
    {
     "data": {
      "text/plain": [
       "10"
      ]
     },
     "execution_count": 73,
     "metadata": {},
     "output_type": "execute_result"
    }
   ],
   "source": [
    "#scraping for company name\n",
    "cmpny_tag=driver.find_elements(By.XPATH,'//p[@class=\"company body-medium\"]')\n",
    "len(cmpny_tag)"
   ]
  },
  {
   "cell_type": "code",
   "execution_count": 74,
   "id": "a0b05faf",
   "metadata": {},
   "outputs": [
    {
     "data": {
      "text/plain": [
       "['Optum Global Solutions (India) Private Limited',\n",
       " 'GENPACT India Private Limited',\n",
       " 'Dew Solutions Pvt. Ltd.',\n",
       " 'InfoEdge India Ltd.',\n",
       " 'Info Edge India Limited',\n",
       " 'Info Edge India Limited',\n",
       " 'Latent bridge',\n",
       " 'Careerera',\n",
       " 'Careernet Consulting',\n",
       " 'Acidaes Solutions Pvt. Ltd.']"
      ]
     },
     "execution_count": 74,
     "metadata": {},
     "output_type": "execute_result"
    }
   ],
   "source": [
    "company=[]\n",
    "for i in cmpny_tag:\n",
    "    company.append(i.text)\n",
    "company"
   ]
  },
  {
   "cell_type": "code",
   "execution_count": 75,
   "id": "97a15d41",
   "metadata": {},
   "outputs": [
    {
     "data": {
      "text/plain": [
       "20"
      ]
     },
     "execution_count": 75,
     "metadata": {},
     "output_type": "execute_result"
    }
   ],
   "source": [
    "#scraping number of days ago.\n",
    "num_day_tag=driver.find_elements(By.XPATH,'//span[@class=\"body-small-l\"]')\n",
    "len(num_day_tag)"
   ]
  },
  {
   "cell_type": "code",
   "execution_count": 77,
   "id": "ac8bd57e",
   "metadata": {},
   "outputs": [
    {
     "data": {
      "text/plain": [
       "['8d ago',\n",
       " '15d ago',\n",
       " '6d ago',\n",
       " '13d ago',\n",
       " '14d ago',\n",
       " '14d ago',\n",
       " '14d ago',\n",
       " '1d ago',\n",
       " '28d ago',\n",
       " '14d ago']"
      ]
     },
     "execution_count": 77,
     "metadata": {},
     "output_type": "execute_result"
    }
   ],
   "source": [
    "num_day=[]\n",
    "for i in num_day_tag:\n",
    "    num_day.append(i.text)\n",
    "\n",
    "day_ago=[]\n",
    "for i in range(0,len(num_day),2):\n",
    "    day_ago.append(num_day[i])\n",
    "day_ago"
   ]
  },
  {
   "cell_type": "code",
   "execution_count": 78,
   "id": "07da02bb",
   "metadata": {},
   "outputs": [
    {
     "data": {
      "text/plain": [
       "14"
      ]
     },
     "execution_count": 78,
     "metadata": {},
     "output_type": "execute_result"
    }
   ],
   "source": [
    "#scraping for rating.\n",
    "comp_rate_tag=driver.find_elements(By.XPATH,'//div[@class=\"rating-wrapper\"]')\n",
    "len(comp_rate_tag)"
   ]
  },
  {
   "cell_type": "code",
   "execution_count": 84,
   "id": "66e6a6e2",
   "metadata": {},
   "outputs": [
    {
     "data": {
      "text/plain": [
       "['4.1', '4.0', '4.3', '3.9', '3.9', '3.9', '4.5', '3.8', '3.9', '3.8']"
      ]
     },
     "execution_count": 84,
     "metadata": {},
     "output_type": "execute_result"
    }
   ],
   "source": [
    "comp_rate=[]\n",
    "for i in comp_rate_tag[4:]:\n",
    "    comp_rate.append((i.text).split()[0])\n",
    "comp_rate"
   ]
  },
  {
   "cell_type": "code",
   "execution_count": 85,
   "id": "bc0e42e5",
   "metadata": {},
   "outputs": [
    {
     "name": "stdout",
     "output_type": "stream",
     "text": [
      "First 10 Data Scientist job posted in ambitionbox.com \n",
      "\n"
     ]
    },
    {
     "data": {
      "text/html": [
       "<div>\n",
       "<style scoped>\n",
       "    .dataframe tbody tr th:only-of-type {\n",
       "        vertical-align: middle;\n",
       "    }\n",
       "\n",
       "    .dataframe tbody tr th {\n",
       "        vertical-align: top;\n",
       "    }\n",
       "\n",
       "    .dataframe thead th {\n",
       "        text-align: right;\n",
       "    }\n",
       "</style>\n",
       "<table border=\"1\" class=\"dataframe\">\n",
       "  <thead>\n",
       "    <tr style=\"text-align: right;\">\n",
       "      <th></th>\n",
       "      <th>Company Name</th>\n",
       "      <th>No. of days ago since job posted</th>\n",
       "      <th>Company rating</th>\n",
       "    </tr>\n",
       "  </thead>\n",
       "  <tbody>\n",
       "    <tr>\n",
       "      <th>0</th>\n",
       "      <td>Optum Global Solutions (India) Private Limited</td>\n",
       "      <td>8d ago</td>\n",
       "      <td>4.1</td>\n",
       "    </tr>\n",
       "    <tr>\n",
       "      <th>1</th>\n",
       "      <td>GENPACT India Private Limited</td>\n",
       "      <td>15d ago</td>\n",
       "      <td>4.0</td>\n",
       "    </tr>\n",
       "    <tr>\n",
       "      <th>2</th>\n",
       "      <td>Dew Solutions Pvt. Ltd.</td>\n",
       "      <td>6d ago</td>\n",
       "      <td>4.3</td>\n",
       "    </tr>\n",
       "    <tr>\n",
       "      <th>3</th>\n",
       "      <td>InfoEdge India Ltd.</td>\n",
       "      <td>13d ago</td>\n",
       "      <td>3.9</td>\n",
       "    </tr>\n",
       "    <tr>\n",
       "      <th>4</th>\n",
       "      <td>Info Edge India Limited</td>\n",
       "      <td>14d ago</td>\n",
       "      <td>3.9</td>\n",
       "    </tr>\n",
       "    <tr>\n",
       "      <th>5</th>\n",
       "      <td>Info Edge India Limited</td>\n",
       "      <td>14d ago</td>\n",
       "      <td>3.9</td>\n",
       "    </tr>\n",
       "    <tr>\n",
       "      <th>6</th>\n",
       "      <td>Latent bridge</td>\n",
       "      <td>14d ago</td>\n",
       "      <td>4.5</td>\n",
       "    </tr>\n",
       "    <tr>\n",
       "      <th>7</th>\n",
       "      <td>Careerera</td>\n",
       "      <td>1d ago</td>\n",
       "      <td>3.8</td>\n",
       "    </tr>\n",
       "    <tr>\n",
       "      <th>8</th>\n",
       "      <td>Careernet Consulting</td>\n",
       "      <td>28d ago</td>\n",
       "      <td>3.9</td>\n",
       "    </tr>\n",
       "    <tr>\n",
       "      <th>9</th>\n",
       "      <td>Acidaes Solutions Pvt. Ltd.</td>\n",
       "      <td>14d ago</td>\n",
       "      <td>3.8</td>\n",
       "    </tr>\n",
       "  </tbody>\n",
       "</table>\n",
       "</div>"
      ],
      "text/plain": [
       "                                     Company Name  \\\n",
       "0  Optum Global Solutions (India) Private Limited   \n",
       "1                   GENPACT India Private Limited   \n",
       "2                         Dew Solutions Pvt. Ltd.   \n",
       "3                             InfoEdge India Ltd.   \n",
       "4                         Info Edge India Limited   \n",
       "5                         Info Edge India Limited   \n",
       "6                                   Latent bridge   \n",
       "7                                       Careerera   \n",
       "8                            Careernet Consulting   \n",
       "9                     Acidaes Solutions Pvt. Ltd.   \n",
       "\n",
       "  No. of days ago since job posted  Company rating  \n",
       "0                            8d ago            4.1  \n",
       "1                           15d ago            4.0  \n",
       "2                            6d ago            4.3  \n",
       "3                           13d ago            3.9  \n",
       "4                           14d ago            3.9  \n",
       "5                           14d ago            3.9  \n",
       "6                           14d ago            4.5  \n",
       "7                            1d ago            3.8  \n",
       "8                           28d ago            3.9  \n",
       "9                           14d ago            3.8  "
      ]
     },
     "execution_count": 85,
     "metadata": {},
     "output_type": "execute_result"
    }
   ],
   "source": [
    "#Preparing DataFrame for required data.\n",
    "\n",
    "Job_new= pd.DataFrame({'Company Name':company, 'No. of days ago since job posted ': day_ago, 'Company rating':comp_rate })\n",
    "print(\"First 10 Data Scientist job posted in ambitionbox.com \\n\")\n",
    "Job_new"
   ]
  },
  {
   "cell_type": "code",
   "execution_count": null,
   "id": "52850fdb",
   "metadata": {},
   "outputs": [],
   "source": []
  },
  {
   "cell_type": "code",
   "execution_count": 152,
   "id": "99ebb763",
   "metadata": {},
   "outputs": [],
   "source": [
    "#Q10: Write a python program to scrape the salary data for Data Scientist designation.\n",
    "#You have to scrape Company name, Number of salaries, Average salary, Minsalary, Max Salary.\n",
    "\n",
    "#getting the web page\n",
    "\n",
    "url='https://www.ambitionbox.com/'\n",
    "driver.get(url)"
   ]
  },
  {
   "cell_type": "code",
   "execution_count": 153,
   "id": "1e0612b2",
   "metadata": {},
   "outputs": [
    {
     "data": {
      "text/plain": [
       "<selenium.webdriver.remote.webelement.WebElement (session=\"97f64dad07c692447079c4b93963e017\", element=\"7d2d6853-b75b-4ee3-9810-eea4c54d049c\")>"
      ]
     },
     "execution_count": 153,
     "metadata": {},
     "output_type": "execute_result"
    }
   ],
   "source": [
    "#find web element for salaries\n",
    "salary_bttn=driver.find_element(By.XPATH,'/html/body/div[1]/nav/nav/a[4]')\n",
    "salary_bttn"
   ]
  },
  {
   "cell_type": "code",
   "execution_count": 154,
   "id": "3d65cfaa",
   "metadata": {},
   "outputs": [],
   "source": [
    "#clicking on salaries\n",
    "salary_bttn.click()"
   ]
  },
  {
   "cell_type": "code",
   "execution_count": 155,
   "id": "1d9d9fe7",
   "metadata": {},
   "outputs": [
    {
     "data": {
      "text/plain": [
       "<selenium.webdriver.remote.webelement.WebElement (session=\"97f64dad07c692447079c4b93963e017\", element=\"9614f330-0cf3-4d72-9853-9c6c8ad14112\")>"
      ]
     },
     "execution_count": 155,
     "metadata": {},
     "output_type": "execute_result"
    }
   ],
   "source": [
    "#find web element for search job profile bar\n",
    "profile_bar=driver.find_element(By.XPATH,'/html/body/div/div/div/main/section[1]/div[2]/div[1]/span/input')\n",
    "profile_bar"
   ]
  },
  {
   "cell_type": "code",
   "execution_count": 156,
   "id": "2eeae7aa",
   "metadata": {},
   "outputs": [],
   "source": [
    "#writing data scientist here in search bar\n",
    "profile_bar.send_keys(\"Data Scientist\")"
   ]
  },
  {
   "cell_type": "code",
   "execution_count": 157,
   "id": "a6062416",
   "metadata": {},
   "outputs": [
    {
     "data": {
      "text/plain": [
       "<selenium.webdriver.remote.webelement.WebElement (session=\"97f64dad07c692447079c4b93963e017\", element=\"f7fb295d-da4d-45d8-9b4a-50852ed5aeee\")>"
      ]
     },
     "execution_count": 157,
     "metadata": {},
     "output_type": "execute_result"
    }
   ],
   "source": [
    "#find web elemnt for search icon button\n",
    "srch_btn=driver.find_element(By.XPATH,'/html/body/div/div/div/main/section[1]/div[2]/div[1]/span/div/div/div[1]')\n",
    "srch_btn\n"
   ]
  },
  {
   "cell_type": "code",
   "execution_count": null,
   "id": "4f6e2033",
   "metadata": {},
   "outputs": [],
   "source": []
  },
  {
   "cell_type": "code",
   "execution_count": 160,
   "id": "3f46b136",
   "metadata": {},
   "outputs": [
    {
     "data": {
      "text/plain": [
       "25"
      ]
     },
     "execution_count": 160,
     "metadata": {},
     "output_type": "execute_result"
    }
   ],
   "source": [
    "#scrape data for company name\n",
    "cmpny_nm=driver.find_elements(By.XPATH,'//div[@class=\"company-info\"]')\n",
    "len(cmpny_nm)"
   ]
  },
  {
   "cell_type": "code",
   "execution_count": 167,
   "id": "cf944bc9",
   "metadata": {},
   "outputs": [
    {
     "data": {
      "text/plain": [
       "['Walmart',\n",
       " 'Ab Inbev',\n",
       " 'ZS',\n",
       " 'Optum',\n",
       " 'Reliance Jio',\n",
       " 'Fractal Analytics',\n",
       " 'Tiger Analytics',\n",
       " 'UnitedHealth',\n",
       " 'EXL Service',\n",
       " 'Deloitte']"
      ]
     },
     "execution_count": 167,
     "metadata": {},
     "output_type": "execute_result"
    }
   ],
   "source": [
    "company_n=[]\n",
    "for i in cmpny_nm[:10]:\n",
    "    company_n.append((i.text).split('\\n')[0])\n",
    "company_n"
   ]
  },
  {
   "cell_type": "code",
   "execution_count": 171,
   "id": "2625f1b2",
   "metadata": {},
   "outputs": [
    {
     "data": {
      "text/plain": [
       "['3 yrs experience ',\n",
       " '3-4 yrs experience ',\n",
       " '2 yrs experience ',\n",
       " '3-4 yrs experience ',\n",
       " '3-4 yrs experience ',\n",
       " '2-4 yrs experience ',\n",
       " '2-4 yrs experience ',\n",
       " '2-4 yrs experience ',\n",
       " '3-4 yrs experience ',\n",
       " '2-4 yrs experience ']"
      ]
     },
     "execution_count": 171,
     "metadata": {},
     "output_type": "execute_result"
    }
   ],
   "source": [
    "experience=[]\n",
    "for i in cmpny_nm[:10]:\n",
    "    experience.append((i.text).split('\\n')[2].split('(')[0])\n",
    "experience"
   ]
  },
  {
   "cell_type": "code",
   "execution_count": 172,
   "id": "df05181e",
   "metadata": {},
   "outputs": [
    {
     "data": {
      "text/plain": [
       "['based on 12 salaries)',\n",
       " 'based on 33 salaries)',\n",
       " 'based on 15 salaries)',\n",
       " 'based on 32 salaries)',\n",
       " 'based on 21 salaries)',\n",
       " 'based on 89 salaries)',\n",
       " 'based on 51 salaries)',\n",
       " 'based on 57 salaries)',\n",
       " 'based on 21 salaries)',\n",
       " 'based on 69 salaries)']"
      ]
     },
     "execution_count": 172,
     "metadata": {},
     "output_type": "execute_result"
    }
   ],
   "source": [
    "total_rec=[]\n",
    "for i in cmpny_nm[:10]:\n",
    "    total_rec.append((i.text).split('\\n')[2].split('(')[1])\n",
    "total_rec"
   ]
  },
  {
   "cell_type": "code",
   "execution_count": 174,
   "id": "714356df",
   "metadata": {},
   "outputs": [
    {
     "data": {
      "text/plain": [
       "10"
      ]
     },
     "execution_count": 174,
     "metadata": {},
     "output_type": "execute_result"
    }
   ],
   "source": [
    "#scraping minimum salary\n",
    "min_salary=driver.find_elements(By.XPATH,'//div[@class=\"salary-values\"]')\n",
    "len(min_salary)"
   ]
  },
  {
   "cell_type": "code",
   "execution_count": 177,
   "id": "c5fcbc5d",
   "metadata": {},
   "outputs": [
    {
     "data": {
      "text/plain": [
       "['₹ 25.0L',\n",
       " '₹ 15.0L',\n",
       " '₹ 11.0L',\n",
       " '₹ 11.0L',\n",
       " '₹ 5.6L',\n",
       " '₹ 10.0L',\n",
       " '₹ 9.0L',\n",
       " '₹ 8.3L',\n",
       " '₹ 7.6L',\n",
       " '₹ 7.0L']"
      ]
     },
     "execution_count": 177,
     "metadata": {},
     "output_type": "execute_result"
    }
   ],
   "source": [
    "min_sal=[]\n",
    "for i in min_salary:\n",
    "    min_sal.append((i.text).split('\\n')[0])\n",
    "min_sal"
   ]
  },
  {
   "cell_type": "code",
   "execution_count": 178,
   "id": "5f7cac45",
   "metadata": {},
   "outputs": [
    {
     "data": {
      "text/plain": [
       "['₹ 36.0L',\n",
       " '₹ 26.2L',\n",
       " '₹ 22.0L',\n",
       " '₹ 22.5L',\n",
       " '₹ 26.2L',\n",
       " '₹ 23.0L',\n",
       " '₹ 20.0L',\n",
       " '₹ 21.1L',\n",
       " '₹ 21.0L',\n",
       " '₹ 25.0L']"
      ]
     },
     "execution_count": 178,
     "metadata": {},
     "output_type": "execute_result"
    }
   ],
   "source": [
    "#scraping maximum salary\n",
    "max_sal=[]\n",
    "for i in min_salary:\n",
    "    max_sal.append((i.text).split('\\n')[1])\n",
    "max_sal"
   ]
  },
  {
   "cell_type": "code",
   "execution_count": 179,
   "id": "3f407d53",
   "metadata": {},
   "outputs": [
    {
     "data": {
      "text/plain": [
       "10"
      ]
     },
     "execution_count": 179,
     "metadata": {},
     "output_type": "execute_result"
    }
   ],
   "source": [
    "#scraping for average salary\n",
    "avg_tag=driver.find_elements(By.XPATH,'//p[@class=\"averageCtc\"]')\n",
    "len(avg_tag)"
   ]
  },
  {
   "cell_type": "code",
   "execution_count": 180,
   "id": "e6504a71",
   "metadata": {},
   "outputs": [
    {
     "data": {
      "text/plain": [
       "['₹ 30.6L',\n",
       " '₹ 20.8L',\n",
       " '₹ 16.7L',\n",
       " '₹ 15.9L',\n",
       " '₹ 15.7L',\n",
       " '₹ 15.5L',\n",
       " '₹ 14.8L',\n",
       " '₹ 14.0L',\n",
       " '₹ 13.2L',\n",
       " '₹ 12.8L']"
      ]
     },
     "execution_count": 180,
     "metadata": {},
     "output_type": "execute_result"
    }
   ],
   "source": [
    "avg_sal=[]\n",
    "for i in avg_tag:\n",
    "    avg_sal.append(i.text)\n",
    "avg_sal"
   ]
  },
  {
   "cell_type": "code",
   "execution_count": 181,
   "id": "2821447c",
   "metadata": {},
   "outputs": [
    {
     "data": {
      "text/plain": [
       "(10, 10, 10, 10, 10, 10)"
      ]
     },
     "execution_count": 181,
     "metadata": {},
     "output_type": "execute_result"
    }
   ],
   "source": [
    "len(avg_sal),len(company_n),len(experience),len(total_rec),len(min_sal),len(max_sal)"
   ]
  },
  {
   "cell_type": "code",
   "execution_count": 182,
   "id": "05040de2",
   "metadata": {},
   "outputs": [
    {
     "name": "stdout",
     "output_type": "stream",
     "text": [
      "First 10 Search Results\n",
      "\n"
     ]
    },
    {
     "data": {
      "text/html": [
       "<div>\n",
       "<style scoped>\n",
       "    .dataframe tbody tr th:only-of-type {\n",
       "        vertical-align: middle;\n",
       "    }\n",
       "\n",
       "    .dataframe tbody tr th {\n",
       "        vertical-align: top;\n",
       "    }\n",
       "\n",
       "    .dataframe thead th {\n",
       "        text-align: right;\n",
       "    }\n",
       "</style>\n",
       "<table border=\"1\" class=\"dataframe\">\n",
       "  <thead>\n",
       "    <tr style=\"text-align: right;\">\n",
       "      <th></th>\n",
       "      <th>Company Name</th>\n",
       "      <th>Experience Required</th>\n",
       "      <th>Based on Records</th>\n",
       "      <th>Minimum Salary</th>\n",
       "      <th>Average Salary</th>\n",
       "      <th>Maximum Salary</th>\n",
       "    </tr>\n",
       "  </thead>\n",
       "  <tbody>\n",
       "    <tr>\n",
       "      <th>0</th>\n",
       "      <td>Walmart</td>\n",
       "      <td>3 yrs experience</td>\n",
       "      <td>based on 12 salaries)</td>\n",
       "      <td>₹ 25.0L</td>\n",
       "      <td>₹ 30.6L</td>\n",
       "      <td>₹ 36.0L</td>\n",
       "    </tr>\n",
       "    <tr>\n",
       "      <th>1</th>\n",
       "      <td>Ab Inbev</td>\n",
       "      <td>3-4 yrs experience</td>\n",
       "      <td>based on 33 salaries)</td>\n",
       "      <td>₹ 15.0L</td>\n",
       "      <td>₹ 20.8L</td>\n",
       "      <td>₹ 26.2L</td>\n",
       "    </tr>\n",
       "    <tr>\n",
       "      <th>2</th>\n",
       "      <td>ZS</td>\n",
       "      <td>2 yrs experience</td>\n",
       "      <td>based on 15 salaries)</td>\n",
       "      <td>₹ 11.0L</td>\n",
       "      <td>₹ 16.7L</td>\n",
       "      <td>₹ 22.0L</td>\n",
       "    </tr>\n",
       "    <tr>\n",
       "      <th>3</th>\n",
       "      <td>Optum</td>\n",
       "      <td>3-4 yrs experience</td>\n",
       "      <td>based on 32 salaries)</td>\n",
       "      <td>₹ 11.0L</td>\n",
       "      <td>₹ 15.9L</td>\n",
       "      <td>₹ 22.5L</td>\n",
       "    </tr>\n",
       "    <tr>\n",
       "      <th>4</th>\n",
       "      <td>Reliance Jio</td>\n",
       "      <td>3-4 yrs experience</td>\n",
       "      <td>based on 21 salaries)</td>\n",
       "      <td>₹ 5.6L</td>\n",
       "      <td>₹ 15.7L</td>\n",
       "      <td>₹ 26.2L</td>\n",
       "    </tr>\n",
       "    <tr>\n",
       "      <th>5</th>\n",
       "      <td>Fractal Analytics</td>\n",
       "      <td>2-4 yrs experience</td>\n",
       "      <td>based on 89 salaries)</td>\n",
       "      <td>₹ 10.0L</td>\n",
       "      <td>₹ 15.5L</td>\n",
       "      <td>₹ 23.0L</td>\n",
       "    </tr>\n",
       "    <tr>\n",
       "      <th>6</th>\n",
       "      <td>Tiger Analytics</td>\n",
       "      <td>2-4 yrs experience</td>\n",
       "      <td>based on 51 salaries)</td>\n",
       "      <td>₹ 9.0L</td>\n",
       "      <td>₹ 14.8L</td>\n",
       "      <td>₹ 20.0L</td>\n",
       "    </tr>\n",
       "    <tr>\n",
       "      <th>7</th>\n",
       "      <td>UnitedHealth</td>\n",
       "      <td>2-4 yrs experience</td>\n",
       "      <td>based on 57 salaries)</td>\n",
       "      <td>₹ 8.3L</td>\n",
       "      <td>₹ 14.0L</td>\n",
       "      <td>₹ 21.1L</td>\n",
       "    </tr>\n",
       "    <tr>\n",
       "      <th>8</th>\n",
       "      <td>EXL Service</td>\n",
       "      <td>3-4 yrs experience</td>\n",
       "      <td>based on 21 salaries)</td>\n",
       "      <td>₹ 7.6L</td>\n",
       "      <td>₹ 13.2L</td>\n",
       "      <td>₹ 21.0L</td>\n",
       "    </tr>\n",
       "    <tr>\n",
       "      <th>9</th>\n",
       "      <td>Deloitte</td>\n",
       "      <td>2-4 yrs experience</td>\n",
       "      <td>based on 69 salaries)</td>\n",
       "      <td>₹ 7.0L</td>\n",
       "      <td>₹ 12.8L</td>\n",
       "      <td>₹ 25.0L</td>\n",
       "    </tr>\n",
       "  </tbody>\n",
       "</table>\n",
       "</div>"
      ],
      "text/plain": [
       "        Company Name  Experience Required       Based on Records  \\\n",
       "0            Walmart    3 yrs experience   based on 12 salaries)   \n",
       "1           Ab Inbev  3-4 yrs experience   based on 33 salaries)   \n",
       "2                 ZS    2 yrs experience   based on 15 salaries)   \n",
       "3              Optum  3-4 yrs experience   based on 32 salaries)   \n",
       "4       Reliance Jio  3-4 yrs experience   based on 21 salaries)   \n",
       "5  Fractal Analytics  2-4 yrs experience   based on 89 salaries)   \n",
       "6    Tiger Analytics  2-4 yrs experience   based on 51 salaries)   \n",
       "7       UnitedHealth  2-4 yrs experience   based on 57 salaries)   \n",
       "8        EXL Service  3-4 yrs experience   based on 21 salaries)   \n",
       "9           Deloitte  2-4 yrs experience   based on 69 salaries)   \n",
       "\n",
       "  Minimum Salary Average Salary Maximum Salary  \n",
       "0        ₹ 25.0L        ₹ 30.6L        ₹ 36.0L  \n",
       "1        ₹ 15.0L        ₹ 20.8L        ₹ 26.2L  \n",
       "2        ₹ 11.0L        ₹ 16.7L        ₹ 22.0L  \n",
       "3        ₹ 11.0L        ₹ 15.9L        ₹ 22.5L  \n",
       "4         ₹ 5.6L        ₹ 15.7L        ₹ 26.2L  \n",
       "5        ₹ 10.0L        ₹ 15.5L        ₹ 23.0L  \n",
       "6         ₹ 9.0L        ₹ 14.8L        ₹ 20.0L  \n",
       "7         ₹ 8.3L        ₹ 14.0L        ₹ 21.1L  \n",
       "8         ₹ 7.6L        ₹ 13.2L        ₹ 21.0L  \n",
       "9         ₹ 7.0L        ₹ 12.8L        ₹ 25.0L  "
      ]
     },
     "execution_count": 182,
     "metadata": {},
     "output_type": "execute_result"
    }
   ],
   "source": [
    "#Preparing Dataframe for the records\n",
    "\n",
    "sal=pd.DataFrame({'Company Name':company_n, 'Experience Required': experience, 'Based on Records': total_rec, 'Minimum Salary':min_sal, 'Average Salary':avg_sal, 'Maximum Salary':max_sal})\n",
    "print(\"First 10 Search Results\\n\")\n",
    "sal"
   ]
  },
  {
   "cell_type": "code",
   "execution_count": null,
   "id": "a17622a5",
   "metadata": {},
   "outputs": [],
   "source": []
  }
 ],
 "metadata": {
  "kernelspec": {
   "display_name": "Python 3 (ipykernel)",
   "language": "python",
   "name": "python3"
  },
  "language_info": {
   "codemirror_mode": {
    "name": "ipython",
    "version": 3
   },
   "file_extension": ".py",
   "mimetype": "text/x-python",
   "name": "python",
   "nbconvert_exporter": "python",
   "pygments_lexer": "ipython3",
   "version": "3.9.12"
  }
 },
 "nbformat": 4,
 "nbformat_minor": 5
}
