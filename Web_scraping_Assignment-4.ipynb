{
 "cells": [
  {
   "cell_type": "code",
   "execution_count": 1,
   "id": "d4b8b52f",
   "metadata": {},
   "outputs": [
    {
     "name": "stdout",
     "output_type": "stream",
     "text": [
      "Requirement already satisfied: selenium in c:\\users\\dell\\anaconda3\\lib\\site-packages (4.3.0)\n",
      "Requirement already satisfied: urllib3[secure,socks]~=1.26 in c:\\users\\dell\\anaconda3\\lib\\site-packages (from selenium) (1.26.9)\n",
      "Requirement already satisfied: trio-websocket~=0.9 in c:\\users\\dell\\anaconda3\\lib\\site-packages (from selenium) (0.9.2)\n",
      "Requirement already satisfied: trio~=0.17 in c:\\users\\dell\\anaconda3\\lib\\site-packages (from selenium) (0.21.0)\n",
      "Requirement already satisfied: sortedcontainers in c:\\users\\dell\\anaconda3\\lib\\site-packages (from trio~=0.17->selenium) (2.4.0)\n",
      "Requirement already satisfied: attrs>=19.2.0 in c:\\users\\dell\\anaconda3\\lib\\site-packages (from trio~=0.17->selenium) (21.4.0)\n",
      "Requirement already satisfied: outcome in c:\\users\\dell\\anaconda3\\lib\\site-packages (from trio~=0.17->selenium) (1.2.0)\n",
      "Requirement already satisfied: async-generator>=1.9 in c:\\users\\dell\\anaconda3\\lib\\site-packages (from trio~=0.17->selenium) (1.10)\n",
      "Requirement already satisfied: sniffio in c:\\users\\dell\\anaconda3\\lib\\site-packages (from trio~=0.17->selenium) (1.2.0)\n",
      "Requirement already satisfied: idna in c:\\users\\dell\\anaconda3\\lib\\site-packages (from trio~=0.17->selenium) (3.3)\n",
      "Requirement already satisfied: cffi>=1.14 in c:\\users\\dell\\anaconda3\\lib\\site-packages (from trio~=0.17->selenium) (1.15.0)\n",
      "Requirement already satisfied: pycparser in c:\\users\\dell\\anaconda3\\lib\\site-packages (from cffi>=1.14->trio~=0.17->selenium) (2.21)\n",
      "Requirement already satisfied: wsproto>=0.14 in c:\\users\\dell\\anaconda3\\lib\\site-packages (from trio-websocket~=0.9->selenium) (1.1.0)\n",
      "Requirement already satisfied: pyOpenSSL>=0.14 in c:\\users\\dell\\anaconda3\\lib\\site-packages (from urllib3[secure,socks]~=1.26->selenium) (21.0.0)\n",
      "Requirement already satisfied: certifi in c:\\users\\dell\\anaconda3\\lib\\site-packages (from urllib3[secure,socks]~=1.26->selenium) (2021.10.8)\n",
      "Requirement already satisfied: cryptography>=1.3.4 in c:\\users\\dell\\anaconda3\\lib\\site-packages (from urllib3[secure,socks]~=1.26->selenium) (3.4.8)\n",
      "Requirement already satisfied: PySocks!=1.5.7,<2.0,>=1.5.6 in c:\\users\\dell\\anaconda3\\lib\\site-packages (from urllib3[secure,socks]~=1.26->selenium) (1.7.1)\n",
      "Requirement already satisfied: six>=1.5.2 in c:\\users\\dell\\anaconda3\\lib\\site-packages (from pyOpenSSL>=0.14->urllib3[secure,socks]~=1.26->selenium) (1.16.0)\n",
      "Requirement already satisfied: h11<1,>=0.9.0 in c:\\users\\dell\\anaconda3\\lib\\site-packages (from wsproto>=0.14->trio-websocket~=0.9->selenium) (0.13.0)\n"
     ]
    }
   ],
   "source": [
    "!pip install selenium"
   ]
  },
  {
   "cell_type": "code",
   "execution_count": 85,
   "id": "cb5af6ab",
   "metadata": {},
   "outputs": [],
   "source": [
    "# importing necessary Library\n",
    "\n",
    "import selenium\n",
    "import pandas as pd\n",
    "from selenium import webdriver\n",
    "import warnings\n",
    "warnings.filterwarnings('ignore')\n",
    "from selenium.common.exceptions import StaleElementReferenceException, NoSuchElementException\n",
    "from selenium.webdriver.common.by import By\n",
    "from selenium.webdriver.support.ui import WebDriverWait\n",
    "from selenium.webdriver.support import expected_conditions\n",
    "import time"
   ]
  },
  {
   "cell_type": "markdown",
   "id": "6f0de7d7",
   "metadata": {},
   "source": [
    "Q1. Scrape the details of most viewed videos on YouTube from Wikipedia.\n",
    "Url = https://en.wikipedia.org/wiki/List_of_most-viewed_YouTube_videos\n",
    "You need to find following details:\n",
    "A) Rank\n",
    "B) Name\n",
    "C) Artist\n",
    "D) Upload date\n",
    "E) Views\n"
   ]
  },
  {
   "cell_type": "code",
   "execution_count": 3,
   "id": "9c31392a",
   "metadata": {},
   "outputs": [],
   "source": [
    "# getting web driver\n",
    "driver=webdriver.Chrome(r'D:\\chromedriver_win32\\chromedriver.exe')"
   ]
  },
  {
   "cell_type": "code",
   "execution_count": 4,
   "id": "d06d536d",
   "metadata": {},
   "outputs": [],
   "source": [
    "# getting the web page\n",
    "url= \"https://en.wikipedia.org/wiki/List_of_most-viewed_YouTube_videos\"\n",
    "driver.get(url)"
   ]
  },
  {
   "cell_type": "code",
   "execution_count": 24,
   "id": "bdaa313e",
   "metadata": {},
   "outputs": [
    {
     "data": {
      "text/plain": [
       "30"
      ]
     },
     "execution_count": 24,
     "metadata": {},
     "output_type": "execute_result"
    }
   ],
   "source": [
    "# finding web element for rank and scraping the data\n",
    "Rank=[]\n",
    "rank_tag=driver.find_elements(By.XPATH, '/html/body/div[3]/div[3]/div[5]/div[1]/table[2]/tbody/tr/td[1]' )\n",
    "for i in rank_tag:\n",
    "    Rank.append(i.text)\n",
    "    \n",
    "len(Rank)"
   ]
  },
  {
   "cell_type": "code",
   "execution_count": 23,
   "id": "8bd6b562",
   "metadata": {},
   "outputs": [
    {
     "data": {
      "text/plain": [
       "30"
      ]
     },
     "execution_count": 23,
     "metadata": {},
     "output_type": "execute_result"
    }
   ],
   "source": [
    "# finding web element for name and scraping the details\n",
    "name=[]\n",
    "name_tag= driver.find_elements(By.XPATH, '/html/body/div[3]/div[3]/div[5]/div[1]/table[2]/tbody/tr/td[2]')\n",
    "for i in name_tag:\n",
    "    name.append((i.text).split('[')[0])\n",
    "    \n",
    "len(name)"
   ]
  },
  {
   "cell_type": "code",
   "execution_count": 22,
   "id": "e5407728",
   "metadata": {},
   "outputs": [
    {
     "data": {
      "text/plain": [
       "30"
      ]
     },
     "execution_count": 22,
     "metadata": {},
     "output_type": "execute_result"
    }
   ],
   "source": [
    "# finding web element for artist is scraping the details from web page\n",
    "artist=[]\n",
    "artist_tag=driver.find_elements(By.XPATH, '/html/body/div[3]/div[3]/div[5]/div[1]/table[2]/tbody/tr/td[3]')\n",
    "for i in artist_tag:\n",
    "    artist.append(i.text)\n",
    "len(artist)"
   ]
  },
  {
   "cell_type": "code",
   "execution_count": 26,
   "id": "9b3898f9",
   "metadata": {},
   "outputs": [
    {
     "data": {
      "text/plain": [
       "30"
      ]
     },
     "execution_count": 26,
     "metadata": {},
     "output_type": "execute_result"
    }
   ],
   "source": [
    "# Finding the web element and scraping data for upload_date\n",
    "upload_date=[]\n",
    "upload_tag=driver.find_elements(By.XPATH, '/html/body/div[3]/div[3]/div[5]/div[1]/table[2]/tbody/tr/td[5]')\n",
    "for i in upload_tag:\n",
    "    upload_date.append(i.text)\n",
    "len(upload_date)"
   ]
  },
  {
   "cell_type": "code",
   "execution_count": 28,
   "id": "9afd415e",
   "metadata": {},
   "outputs": [
    {
     "data": {
      "text/plain": [
       "30"
      ]
     },
     "execution_count": 28,
     "metadata": {},
     "output_type": "execute_result"
    }
   ],
   "source": [
    "# finding web element and scarpe the details for views\n",
    "views=[]\n",
    "view_tag=driver.find_elements(By.XPATH, '/html/body/div[3]/div[3]/div[5]/div[1]/table[2]/tbody/tr/td[4]')\n",
    "for i in view_tag:\n",
    "    views.append(i.text)\n",
    "len(views)"
   ]
  },
  {
   "cell_type": "code",
   "execution_count": 30,
   "id": "32e03be0",
   "metadata": {},
   "outputs": [
    {
     "name": "stdout",
     "output_type": "stream",
     "text": [
      " List of Top Views You Tube Videos. \n",
      "\n"
     ]
    },
    {
     "data": {
      "text/html": [
       "<div>\n",
       "<style scoped>\n",
       "    .dataframe tbody tr th:only-of-type {\n",
       "        vertical-align: middle;\n",
       "    }\n",
       "\n",
       "    .dataframe tbody tr th {\n",
       "        vertical-align: top;\n",
       "    }\n",
       "\n",
       "    .dataframe thead th {\n",
       "        text-align: right;\n",
       "    }\n",
       "</style>\n",
       "<table border=\"1\" class=\"dataframe\">\n",
       "  <thead>\n",
       "    <tr style=\"text-align: right;\">\n",
       "      <th></th>\n",
       "      <th>Rank</th>\n",
       "      <th>Video Name</th>\n",
       "      <th>Artist</th>\n",
       "      <th>Upload Date</th>\n",
       "      <th>Views in Billion</th>\n",
       "    </tr>\n",
       "  </thead>\n",
       "  <tbody>\n",
       "    <tr>\n",
       "      <th>0</th>\n",
       "      <td>1.</td>\n",
       "      <td>\"Baby Shark Dance\"</td>\n",
       "      <td>Pinkfong Baby Shark - Kids' Songs &amp; Stories</td>\n",
       "      <td>June 17, 2016</td>\n",
       "      <td>11.05</td>\n",
       "    </tr>\n",
       "    <tr>\n",
       "      <th>1</th>\n",
       "      <td>2.</td>\n",
       "      <td>\"Despacito\"</td>\n",
       "      <td>Luis Fonsi</td>\n",
       "      <td>January 12, 2017</td>\n",
       "      <td>7.93</td>\n",
       "    </tr>\n",
       "    <tr>\n",
       "      <th>2</th>\n",
       "      <td>3.</td>\n",
       "      <td>\"Johny Johny Yes Papa\"</td>\n",
       "      <td>LooLoo Kids</td>\n",
       "      <td>October 8, 2016</td>\n",
       "      <td>6.40</td>\n",
       "    </tr>\n",
       "    <tr>\n",
       "      <th>3</th>\n",
       "      <td>4.</td>\n",
       "      <td>\"Shape of You\"</td>\n",
       "      <td>Ed Sheeran</td>\n",
       "      <td>January 30, 2017</td>\n",
       "      <td>5.77</td>\n",
       "    </tr>\n",
       "    <tr>\n",
       "      <th>4</th>\n",
       "      <td>5.</td>\n",
       "      <td>\"See You Again\"</td>\n",
       "      <td>Wiz Khalifa</td>\n",
       "      <td>April 6, 2015</td>\n",
       "      <td>5.59</td>\n",
       "    </tr>\n",
       "    <tr>\n",
       "      <th>5</th>\n",
       "      <td>6.</td>\n",
       "      <td>\"Bath Song\"</td>\n",
       "      <td>Cocomelon – Nursery Rhymes</td>\n",
       "      <td>May 2, 2018</td>\n",
       "      <td>5.54</td>\n",
       "    </tr>\n",
       "    <tr>\n",
       "      <th>6</th>\n",
       "      <td>7.</td>\n",
       "      <td>\"Phonics Song with Two Words\"</td>\n",
       "      <td>ChuChu TV</td>\n",
       "      <td>March 6, 2014</td>\n",
       "      <td>4.77</td>\n",
       "    </tr>\n",
       "    <tr>\n",
       "      <th>7</th>\n",
       "      <td>8.</td>\n",
       "      <td>\"Uptown Funk\"</td>\n",
       "      <td>Mark Ronson</td>\n",
       "      <td>November 19, 2014</td>\n",
       "      <td>4.65</td>\n",
       "    </tr>\n",
       "    <tr>\n",
       "      <th>8</th>\n",
       "      <td>9.</td>\n",
       "      <td>\"Learning Colors – Colorful Eggs on a Farm\"</td>\n",
       "      <td>Miroshka TV</td>\n",
       "      <td>February 27, 2018</td>\n",
       "      <td>4.60</td>\n",
       "    </tr>\n",
       "    <tr>\n",
       "      <th>9</th>\n",
       "      <td>10.</td>\n",
       "      <td>\"Masha and the Bear – Recipe for Disaster\"</td>\n",
       "      <td>Get Movies</td>\n",
       "      <td>January 31, 2012</td>\n",
       "      <td>4.50</td>\n",
       "    </tr>\n",
       "    <tr>\n",
       "      <th>10</th>\n",
       "      <td>11.</td>\n",
       "      <td>\"Gangnam Style\"</td>\n",
       "      <td>Psy</td>\n",
       "      <td>July 15, 2012</td>\n",
       "      <td>4.50</td>\n",
       "    </tr>\n",
       "    <tr>\n",
       "      <th>11</th>\n",
       "      <td>12.</td>\n",
       "      <td>\"Wheels on the Bus\"</td>\n",
       "      <td>Cocomelon – Nursery Rhymes</td>\n",
       "      <td>May 24, 2018</td>\n",
       "      <td>4.24</td>\n",
       "    </tr>\n",
       "    <tr>\n",
       "      <th>12</th>\n",
       "      <td>13.</td>\n",
       "      <td>\"Dame Tu Cosita\"</td>\n",
       "      <td>El Chombo</td>\n",
       "      <td>April 5, 2018</td>\n",
       "      <td>4.00</td>\n",
       "    </tr>\n",
       "    <tr>\n",
       "      <th>13</th>\n",
       "      <td>14.</td>\n",
       "      <td>\"Sugar\"</td>\n",
       "      <td>Maroon 5</td>\n",
       "      <td>January 14, 2015</td>\n",
       "      <td>3.74</td>\n",
       "    </tr>\n",
       "    <tr>\n",
       "      <th>14</th>\n",
       "      <td>15.</td>\n",
       "      <td>\"Roar\"</td>\n",
       "      <td>Katy Perry</td>\n",
       "      <td>September 5, 2013</td>\n",
       "      <td>3.63</td>\n",
       "    </tr>\n",
       "    <tr>\n",
       "      <th>15</th>\n",
       "      <td>16.</td>\n",
       "      <td>\"Counting Stars\"</td>\n",
       "      <td>OneRepublic</td>\n",
       "      <td>May 31, 2013</td>\n",
       "      <td>3.62</td>\n",
       "    </tr>\n",
       "    <tr>\n",
       "      <th>16</th>\n",
       "      <td>17.</td>\n",
       "      <td>\"Sorry\"</td>\n",
       "      <td>Justin Bieber</td>\n",
       "      <td>October 22, 2015</td>\n",
       "      <td>3.57</td>\n",
       "    </tr>\n",
       "    <tr>\n",
       "      <th>17</th>\n",
       "      <td>18.</td>\n",
       "      <td>\"Thinking Out Loud\"</td>\n",
       "      <td>Ed Sheeran</td>\n",
       "      <td>October 7, 2014</td>\n",
       "      <td>3.48</td>\n",
       "    </tr>\n",
       "    <tr>\n",
       "      <th>18</th>\n",
       "      <td>19.</td>\n",
       "      <td>\"Axel F\"</td>\n",
       "      <td>Crazy Frog</td>\n",
       "      <td>June 16, 2009</td>\n",
       "      <td>3.45</td>\n",
       "    </tr>\n",
       "    <tr>\n",
       "      <th>19</th>\n",
       "      <td>20.</td>\n",
       "      <td>\"Dark Horse\"</td>\n",
       "      <td>Katy Perry</td>\n",
       "      <td>February 20, 2014</td>\n",
       "      <td>3.32</td>\n",
       "    </tr>\n",
       "    <tr>\n",
       "      <th>20</th>\n",
       "      <td>21.</td>\n",
       "      <td>\"Girls Like You\"</td>\n",
       "      <td>Maroon 5</td>\n",
       "      <td>May 31, 2018</td>\n",
       "      <td>3.32</td>\n",
       "    </tr>\n",
       "    <tr>\n",
       "      <th>21</th>\n",
       "      <td>22.</td>\n",
       "      <td>\"Faded\"</td>\n",
       "      <td>Alan Walker</td>\n",
       "      <td>December 3, 2015</td>\n",
       "      <td>3.32</td>\n",
       "    </tr>\n",
       "    <tr>\n",
       "      <th>22</th>\n",
       "      <td>23.</td>\n",
       "      <td>\"Baa Baa Black Sheep\"</td>\n",
       "      <td>Cocomelon – Nursery Rhymes</td>\n",
       "      <td>June 25, 2018</td>\n",
       "      <td>3.31</td>\n",
       "    </tr>\n",
       "    <tr>\n",
       "      <th>23</th>\n",
       "      <td>24.</td>\n",
       "      <td>\"Let Her Go\"</td>\n",
       "      <td>Passenger</td>\n",
       "      <td>July 25, 2012</td>\n",
       "      <td>3.27</td>\n",
       "    </tr>\n",
       "    <tr>\n",
       "      <th>24</th>\n",
       "      <td>25.</td>\n",
       "      <td>\"Bailando\"</td>\n",
       "      <td>Enrique Iglesias</td>\n",
       "      <td>April 11, 2014</td>\n",
       "      <td>3.25</td>\n",
       "    </tr>\n",
       "    <tr>\n",
       "      <th>25</th>\n",
       "      <td>26.</td>\n",
       "      <td>\"Lean On\"</td>\n",
       "      <td>Major Lazer</td>\n",
       "      <td>March 22, 2015</td>\n",
       "      <td>3.24</td>\n",
       "    </tr>\n",
       "    <tr>\n",
       "      <th>26</th>\n",
       "      <td>27.</td>\n",
       "      <td>\"Perfect\"</td>\n",
       "      <td>Ed Sheeran</td>\n",
       "      <td>November 9, 2017</td>\n",
       "      <td>3.22</td>\n",
       "    </tr>\n",
       "    <tr>\n",
       "      <th>27</th>\n",
       "      <td>28.</td>\n",
       "      <td>\"Waka Waka (This Time for Africa)\"</td>\n",
       "      <td>Shakira</td>\n",
       "      <td>June 4, 2010</td>\n",
       "      <td>3.21</td>\n",
       "    </tr>\n",
       "    <tr>\n",
       "      <th>28</th>\n",
       "      <td>29.</td>\n",
       "      <td>\"Shake It Off\"</td>\n",
       "      <td>Taylor Swift</td>\n",
       "      <td>August 18, 2014</td>\n",
       "      <td>3.19</td>\n",
       "    </tr>\n",
       "    <tr>\n",
       "      <th>29</th>\n",
       "      <td>30.</td>\n",
       "      <td>\"Mi Gente\"</td>\n",
       "      <td>J Balvin</td>\n",
       "      <td>June 29, 2017</td>\n",
       "      <td>3.11</td>\n",
       "    </tr>\n",
       "  </tbody>\n",
       "</table>\n",
       "</div>"
      ],
      "text/plain": [
       "   Rank                                   Video Name  \\\n",
       "0    1.                           \"Baby Shark Dance\"   \n",
       "1    2.                                  \"Despacito\"   \n",
       "2    3.                       \"Johny Johny Yes Papa\"   \n",
       "3    4.                               \"Shape of You\"   \n",
       "4    5.                              \"See You Again\"   \n",
       "5    6.                                  \"Bath Song\"   \n",
       "6    7.                \"Phonics Song with Two Words\"   \n",
       "7    8.                                \"Uptown Funk\"   \n",
       "8    9.  \"Learning Colors – Colorful Eggs on a Farm\"   \n",
       "9   10.   \"Masha and the Bear – Recipe for Disaster\"   \n",
       "10  11.                              \"Gangnam Style\"   \n",
       "11  12.                          \"Wheels on the Bus\"   \n",
       "12  13.                             \"Dame Tu Cosita\"   \n",
       "13  14.                                      \"Sugar\"   \n",
       "14  15.                                       \"Roar\"   \n",
       "15  16.                             \"Counting Stars\"   \n",
       "16  17.                                      \"Sorry\"   \n",
       "17  18.                          \"Thinking Out Loud\"   \n",
       "18  19.                                     \"Axel F\"   \n",
       "19  20.                                 \"Dark Horse\"   \n",
       "20  21.                             \"Girls Like You\"   \n",
       "21  22.                                      \"Faded\"   \n",
       "22  23.                        \"Baa Baa Black Sheep\"   \n",
       "23  24.                                 \"Let Her Go\"   \n",
       "24  25.                                   \"Bailando\"   \n",
       "25  26.                                    \"Lean On\"   \n",
       "26  27.                                    \"Perfect\"   \n",
       "27  28.           \"Waka Waka (This Time for Africa)\"   \n",
       "28  29.                               \"Shake It Off\"   \n",
       "29  30.                                   \"Mi Gente\"   \n",
       "\n",
       "                                         Artist        Upload Date  \\\n",
       "0   Pinkfong Baby Shark - Kids' Songs & Stories      June 17, 2016   \n",
       "1                                    Luis Fonsi   January 12, 2017   \n",
       "2                                   LooLoo Kids    October 8, 2016   \n",
       "3                                    Ed Sheeran   January 30, 2017   \n",
       "4                                   Wiz Khalifa      April 6, 2015   \n",
       "5                    Cocomelon – Nursery Rhymes        May 2, 2018   \n",
       "6                                     ChuChu TV      March 6, 2014   \n",
       "7                                   Mark Ronson  November 19, 2014   \n",
       "8                                   Miroshka TV  February 27, 2018   \n",
       "9                                    Get Movies   January 31, 2012   \n",
       "10                                          Psy      July 15, 2012   \n",
       "11                   Cocomelon – Nursery Rhymes       May 24, 2018   \n",
       "12                                    El Chombo      April 5, 2018   \n",
       "13                                     Maroon 5   January 14, 2015   \n",
       "14                                   Katy Perry  September 5, 2013   \n",
       "15                                  OneRepublic       May 31, 2013   \n",
       "16                                Justin Bieber   October 22, 2015   \n",
       "17                                   Ed Sheeran    October 7, 2014   \n",
       "18                                   Crazy Frog      June 16, 2009   \n",
       "19                                   Katy Perry  February 20, 2014   \n",
       "20                                     Maroon 5       May 31, 2018   \n",
       "21                                  Alan Walker   December 3, 2015   \n",
       "22                   Cocomelon – Nursery Rhymes      June 25, 2018   \n",
       "23                                    Passenger      July 25, 2012   \n",
       "24                             Enrique Iglesias     April 11, 2014   \n",
       "25                                  Major Lazer     March 22, 2015   \n",
       "26                                   Ed Sheeran   November 9, 2017   \n",
       "27                                      Shakira       June 4, 2010   \n",
       "28                                 Taylor Swift    August 18, 2014   \n",
       "29                                     J Balvin      June 29, 2017   \n",
       "\n",
       "   Views in Billion  \n",
       "0             11.05  \n",
       "1              7.93  \n",
       "2              6.40  \n",
       "3              5.77  \n",
       "4              5.59  \n",
       "5              5.54  \n",
       "6              4.77  \n",
       "7              4.65  \n",
       "8              4.60  \n",
       "9              4.50  \n",
       "10             4.50  \n",
       "11             4.24  \n",
       "12             4.00  \n",
       "13             3.74  \n",
       "14             3.63  \n",
       "15             3.62  \n",
       "16             3.57  \n",
       "17             3.48  \n",
       "18             3.45  \n",
       "19             3.32  \n",
       "20             3.32  \n",
       "21             3.32  \n",
       "22             3.31  \n",
       "23             3.27  \n",
       "24             3.25  \n",
       "25             3.24  \n",
       "26             3.22  \n",
       "27             3.21  \n",
       "28             3.19  \n",
       "29             3.11  "
      ]
     },
     "execution_count": 30,
     "metadata": {},
     "output_type": "execute_result"
    }
   ],
   "source": [
    "# preparing DataFrame\n",
    "youtube_views= pd.DataFrame({'Rank': Rank, 'Video Name': name, 'Artist': artist, 'Upload Date':upload_date,\n",
    "                            'Views in Billion' : views})\n",
    "print(\" List of Top Views You Tube Videos. \\n\")\n",
    "youtube_views"
   ]
  },
  {
   "cell_type": "code",
   "execution_count": 31,
   "id": "093003cd",
   "metadata": {},
   "outputs": [],
   "source": [
    "driver.close()"
   ]
  },
  {
   "cell_type": "markdown",
   "id": "fda8d659",
   "metadata": {},
   "source": [
    "Q2. Scrape the details team India’s international fixtures from bcci.tv.\n",
    "Url = https://www.bcci.tv/.\n",
    "You need to find following details:\n",
    "A) Match title (I.e. 1\n",
    "st ODI)\n",
    "B) Series\n",
    "C) Place\n",
    "D) Date\n",
    "E) Time\n",
    "Note: - From bcci.tv home page you have reach to the international fixture page through cod"
   ]
  },
  {
   "cell_type": "code",
   "execution_count": 34,
   "id": "2330ccf3",
   "metadata": {},
   "outputs": [],
   "source": [
    "# getting web driver\n",
    "driver=webdriver.Chrome(r'D:\\chromedriver_win32\\chromedriver.exe')"
   ]
  },
  {
   "cell_type": "code",
   "execution_count": 35,
   "id": "8c2b20ad",
   "metadata": {},
   "outputs": [],
   "source": [
    "# getting the web page\n",
    "url= \"https://www.bcci.tv/\"\n",
    "driver.get(url)\n",
    "    "
   ]
  },
  {
   "cell_type": "code",
   "execution_count": 39,
   "id": "99c96028",
   "metadata": {},
   "outputs": [],
   "source": [
    "#finding menu button and click on it\n",
    "menu_tag=driver.find_element(By.XPATH,'/html/body/nav/div[1]/button')\n",
    "menu_tag.click()\n"
   ]
  },
  {
   "cell_type": "code",
   "execution_count": 41,
   "id": "3e3ddbcc",
   "metadata": {},
   "outputs": [],
   "source": [
    "# finding international icon on bar and click on it\n",
    "internation_icon= driver.find_element(By.XPATH,'/html/body/nav/div[1]/div[2]/ul[1]/li[2]/a')\n",
    "internation_icon.click()"
   ]
  },
  {
   "cell_type": "code",
   "execution_count": 42,
   "id": "71c5fe55",
   "metadata": {},
   "outputs": [],
   "source": [
    "#finding fixtures and click on it\n",
    "fixture_icon=driver.find_element(By.XPATH,'/html/body/div[2]/div[1]/div/ul/li[1]/a')\n",
    "fixture_icon.click()"
   ]
  },
  {
   "cell_type": "code",
   "execution_count": 48,
   "id": "ff2e8fac",
   "metadata": {},
   "outputs": [
    {
     "name": "stdout",
     "output_type": "stream",
     "text": [
      "6 6\n"
     ]
    }
   ],
   "source": [
    "# finding the web element and scrape the details for match title and place\n",
    "match_title=[]\n",
    "place=[]\n",
    "\n",
    "\n",
    "m_place_tag=driver.find_elements(By.XPATH, '//div[@class=\"fix-place ng-binding ng-scope\" ]')\n",
    "for i in m_place_tag:\n",
    "    match_title.append((i.text).split('-')[0])\n",
    "    place.append((i.text).split('-')[1])\n",
    "print(len(match_title),len(place))\n",
    "    "
   ]
  },
  {
   "cell_type": "code",
   "execution_count": 50,
   "id": "1bbb9eb7",
   "metadata": {},
   "outputs": [
    {
     "data": {
      "text/plain": [
       "6"
      ]
     },
     "execution_count": 50,
     "metadata": {},
     "output_type": "execute_result"
    }
   ],
   "source": [
    "# finding web element and scrape the date\n",
    "date=[]\n",
    "\n",
    "date_tag=driver.find_elements(By.XPATH,'//h5[@class=\"ng-binding\"]')\n",
    "for i in date_tag:\n",
    "    date.append(i.text)\n",
    "len(date)"
   ]
  },
  {
   "cell_type": "code",
   "execution_count": 51,
   "id": "84063fc2",
   "metadata": {},
   "outputs": [
    {
     "data": {
      "text/plain": [
       "['3:30 PM IST',\n",
       " '8:00 PM IST',\n",
       " '8:00 PM IST',\n",
       " '12:45 PM IST',\n",
       " '12:45 PM IST',\n",
       " '12:45 PM IST']"
      ]
     },
     "execution_count": 51,
     "metadata": {},
     "output_type": "execute_result"
    }
   ],
   "source": [
    "\n",
    "time=[]\n",
    "\n",
    "time_tag=driver.find_elements(By.XPATH,'//h5[@class=\"text-right ng-binding\"]')\n",
    "for i in time_tag:\n",
    "    time.append(i.text)\n",
    "time"
   ]
  },
  {
   "cell_type": "code",
   "execution_count": null,
   "id": "9b461803",
   "metadata": {},
   "outputs": [],
   "source": [
    "# finding web element and scape series details\n",
    "series=[]\n",
    "temp=[]\n",
    "series_tag=driver.find_elements(By.XPATH,'//h5[@class=\"fix-text\"]')\n",
    "for i in series_tag:\n",
    "    temp.append(i.text)\n",
    "for i in range(1,len(temp),2):\n",
    "    series.append(temp[i])\n",
    "series"
   ]
  },
  {
   "cell_type": "code",
   "execution_count": 60,
   "id": "bc7febeb",
   "metadata": {},
   "outputs": [
    {
     "data": {
      "text/plain": [
       "['England Women vs India Women',\n",
       " 'West Indies vs India',\n",
       " 'West Indies vs India',\n",
       " 'Zimbabwe vs India',\n",
       " 'Zimbabwe vs India',\n",
       " 'Zimbabwe vs India']"
      ]
     },
     "execution_count": 60,
     "metadata": {},
     "output_type": "execute_result"
    }
   ],
   "source": [
    "# scape title of the match\n",
    "title=[]\n",
    "title_tag=driver.find_elements(By.XPATH,'//div[@class=\"fixture-card-mid d-flex align-items-center justify-content-between\"]')\n",
    "for i in title_tag:\n",
    "    title.append((i.text).replace('\\n', ' '))\n",
    "title"
   ]
  },
  {
   "cell_type": "code",
   "execution_count": 63,
   "id": "88b4d902",
   "metadata": {},
   "outputs": [
    {
     "name": "stdout",
     "output_type": "stream",
     "text": [
      "\n",
      "Upcoming International Fixtures \n"
     ]
    },
    {
     "data": {
      "text/html": [
       "<div>\n",
       "<style scoped>\n",
       "    .dataframe tbody tr th:only-of-type {\n",
       "        vertical-align: middle;\n",
       "    }\n",
       "\n",
       "    .dataframe tbody tr th {\n",
       "        vertical-align: top;\n",
       "    }\n",
       "\n",
       "    .dataframe thead th {\n",
       "        text-align: right;\n",
       "    }\n",
       "</style>\n",
       "<table border=\"1\" class=\"dataframe\">\n",
       "  <thead>\n",
       "    <tr style=\"text-align: right;\">\n",
       "      <th></th>\n",
       "      <th>Series</th>\n",
       "      <th>Match Title</th>\n",
       "      <th>Matches</th>\n",
       "      <th>Date</th>\n",
       "      <th>Time</th>\n",
       "      <th>Place</th>\n",
       "    </tr>\n",
       "  </thead>\n",
       "  <tbody>\n",
       "    <tr>\n",
       "      <th>0</th>\n",
       "      <td>COMMONWEALTH GAMES WOMEN'S CRICKET 2022</td>\n",
       "      <td>England Women vs India Women</td>\n",
       "      <td>Semi Final</td>\n",
       "      <td>6 AUG 2022</td>\n",
       "      <td>3:30 PM IST</td>\n",
       "      <td>Edgbaston, Birmingham</td>\n",
       "    </tr>\n",
       "    <tr>\n",
       "      <th>1</th>\n",
       "      <td>INDIA TOUR OF WEST INDIES T20 SERIES 2022</td>\n",
       "      <td>West Indies vs India</td>\n",
       "      <td>4th T20I</td>\n",
       "      <td>6 AUG 2022</td>\n",
       "      <td>8:00 PM IST</td>\n",
       "      <td>Central Broward Regional Park Stadium Turf Gr...</td>\n",
       "    </tr>\n",
       "    <tr>\n",
       "      <th>2</th>\n",
       "      <td>INDIA TOUR OF WEST INDIES T20 SERIES 2022</td>\n",
       "      <td>West Indies vs India</td>\n",
       "      <td>5th T20I</td>\n",
       "      <td>7 AUG 2022</td>\n",
       "      <td>8:00 PM IST</td>\n",
       "      <td>Central Broward Regional Park Stadium Turf Gr...</td>\n",
       "    </tr>\n",
       "    <tr>\n",
       "      <th>3</th>\n",
       "      <td>INDIA TOUR OF ZIMBABWE ODI SERIES 2022</td>\n",
       "      <td>Zimbabwe vs India</td>\n",
       "      <td>1st ODI</td>\n",
       "      <td>18 AUG 2022</td>\n",
       "      <td>12:45 PM IST</td>\n",
       "      <td>Harare Sports Club, Harare</td>\n",
       "    </tr>\n",
       "    <tr>\n",
       "      <th>4</th>\n",
       "      <td>INDIA TOUR OF ZIMBABWE ODI SERIES 2022</td>\n",
       "      <td>Zimbabwe vs India</td>\n",
       "      <td>2nd ODI</td>\n",
       "      <td>20 AUG 2022</td>\n",
       "      <td>12:45 PM IST</td>\n",
       "      <td>Harare Sports Club, Harare</td>\n",
       "    </tr>\n",
       "    <tr>\n",
       "      <th>5</th>\n",
       "      <td>INDIA TOUR OF ZIMBABWE ODI SERIES 2022</td>\n",
       "      <td>Zimbabwe vs India</td>\n",
       "      <td>3rd ODI</td>\n",
       "      <td>22 AUG 2022</td>\n",
       "      <td>12:45 PM IST</td>\n",
       "      <td>Harare Sports Club, Harare</td>\n",
       "    </tr>\n",
       "  </tbody>\n",
       "</table>\n",
       "</div>"
      ],
      "text/plain": [
       "                                      Series                   Match Title  \\\n",
       "0    COMMONWEALTH GAMES WOMEN'S CRICKET 2022  England Women vs India Women   \n",
       "1  INDIA TOUR OF WEST INDIES T20 SERIES 2022          West Indies vs India   \n",
       "2  INDIA TOUR OF WEST INDIES T20 SERIES 2022          West Indies vs India   \n",
       "3     INDIA TOUR OF ZIMBABWE ODI SERIES 2022             Zimbabwe vs India   \n",
       "4     INDIA TOUR OF ZIMBABWE ODI SERIES 2022             Zimbabwe vs India   \n",
       "5     INDIA TOUR OF ZIMBABWE ODI SERIES 2022             Zimbabwe vs India   \n",
       "\n",
       "       Matches         Date          Time  \\\n",
       "0  Semi Final    6 AUG 2022   3:30 PM IST   \n",
       "1    4th T20I    6 AUG 2022   8:00 PM IST   \n",
       "2    5th T20I    7 AUG 2022   8:00 PM IST   \n",
       "3     1st ODI   18 AUG 2022  12:45 PM IST   \n",
       "4     2nd ODI   20 AUG 2022  12:45 PM IST   \n",
       "5     3rd ODI   22 AUG 2022  12:45 PM IST   \n",
       "\n",
       "                                               Place  \n",
       "0                              Edgbaston, Birmingham  \n",
       "1   Central Broward Regional Park Stadium Turf Gr...  \n",
       "2   Central Broward Regional Park Stadium Turf Gr...  \n",
       "3                         Harare Sports Club, Harare  \n",
       "4                         Harare Sports Club, Harare  \n",
       "5                         Harare Sports Club, Harare  "
      ]
     },
     "execution_count": 63,
     "metadata": {},
     "output_type": "execute_result"
    }
   ],
   "source": [
    "#let's prepare Dataframe\n",
    "\n",
    "bcci_tv= pd.DataFrame({'Series':series, 'Match Title': title, 'Matches':match_title, \n",
    "                       'Date': date, 'Time': time, 'Place': place})\n",
    "\n",
    "print(\"\\nUpcoming International Fixtures \")\n",
    "bcci_tv"
   ]
  },
  {
   "cell_type": "code",
   "execution_count": 64,
   "id": "8ed515b4",
   "metadata": {},
   "outputs": [],
   "source": [
    "driver.close()"
   ]
  },
  {
   "cell_type": "markdown",
   "id": "46e834f3",
   "metadata": {},
   "source": [
    "Q3. Scrape the details of selenium exception from guru99.com.\n",
    "Url = https://www.guru99.com/\n",
    "You need to find following details:\n",
    "A) Name\n",
    "B) Description\n",
    "Note: - From guru99 home page you have to reach to selenium exception handling page through code"
   ]
  },
  {
   "cell_type": "code",
   "execution_count": 65,
   "id": "79f58395",
   "metadata": {},
   "outputs": [],
   "source": [
    "# getting web driver\n",
    "driver=webdriver.Chrome(r'D:\\chromedriver_win32\\chromedriver.exe')"
   ]
  },
  {
   "cell_type": "code",
   "execution_count": 66,
   "id": "d91d3b8e",
   "metadata": {},
   "outputs": [],
   "source": [
    "# getting the webpage\n",
    "url=' https://www.guru99.com/'\n",
    "driver.get(url)"
   ]
  },
  {
   "cell_type": "code",
   "execution_count": 67,
   "id": "f81ea9b9",
   "metadata": {},
   "outputs": [],
   "source": [
    "#select selenium from testing and click on it\n",
    "selenium_tag=driver.find_element(By.XPATH,'/html/body/div[1]/div/div/div/main/div/article/div/div[1]/div[2]/div[1]/div/ul[1]/li[3]/a')\n",
    "selenium_tag.click()"
   ]
  },
  {
   "cell_type": "code",
   "execution_count": 68,
   "id": "9be2660f",
   "metadata": {},
   "outputs": [],
   "source": [
    "# find selenium exception handling tutor and click on it\n",
    "sele_excep_handling_tag=driver.find_element(By.XPATH,'/html/body/div[1]/div/div/div/main/div/article/div/div/table[5]/tbody/tr[34]/td[1]/a')\n",
    "sele_excep_handling_tag.click()"
   ]
  },
  {
   "cell_type": "code",
   "execution_count": 72,
   "id": "219a0336",
   "metadata": {},
   "outputs": [
    {
     "data": {
      "text/plain": [
       "41"
      ]
     },
     "execution_count": 72,
     "metadata": {},
     "output_type": "execute_result"
    }
   ],
   "source": [
    "# finding the web element and scraping all the required details\n",
    "name=[]\n",
    "name_tag=driver.find_elements(By.XPATH,'/html/body/div[1]/div/div/div/main/div/article/div/div/table/tbody/tr/td[1]')\n",
    "for i in name_tag:\n",
    "    name.append(i.text)\n",
    "len(name)"
   ]
  },
  {
   "cell_type": "code",
   "execution_count": 74,
   "id": "8a08d58a",
   "metadata": {},
   "outputs": [
    {
     "data": {
      "text/plain": [
       "41"
      ]
     },
     "execution_count": 74,
     "metadata": {},
     "output_type": "execute_result"
    }
   ],
   "source": [
    "description=[]\n",
    "descrptn_tag=driver.find_elements(By.XPATH,'/html/body/div[1]/div/div/div/main/div/article/div/div/table/tbody/tr/td[2]')\n",
    "for i in descrptn_tag:\n",
    "    description.append(i.text)\n",
    "len(description)"
   ]
  },
  {
   "cell_type": "code",
   "execution_count": 75,
   "id": "35958422",
   "metadata": {},
   "outputs": [
    {
     "name": "stdout",
     "output_type": "stream",
     "text": [
      "List of all the exception in Selenium Exception Handling\n"
     ]
    },
    {
     "data": {
      "text/html": [
       "<div>\n",
       "<style scoped>\n",
       "    .dataframe tbody tr th:only-of-type {\n",
       "        vertical-align: middle;\n",
       "    }\n",
       "\n",
       "    .dataframe tbody tr th {\n",
       "        vertical-align: top;\n",
       "    }\n",
       "\n",
       "    .dataframe thead th {\n",
       "        text-align: right;\n",
       "    }\n",
       "</style>\n",
       "<table border=\"1\" class=\"dataframe\">\n",
       "  <thead>\n",
       "    <tr style=\"text-align: right;\">\n",
       "      <th></th>\n",
       "      <th>Name of Exception</th>\n",
       "      <th>Descrition</th>\n",
       "    </tr>\n",
       "  </thead>\n",
       "  <tbody>\n",
       "    <tr>\n",
       "      <th>0</th>\n",
       "      <td>ElementNotVisibleException</td>\n",
       "      <td>This type of Selenium exception occurs when an...</td>\n",
       "    </tr>\n",
       "    <tr>\n",
       "      <th>1</th>\n",
       "      <td>ElementNotSelectableException</td>\n",
       "      <td>This Selenium exception occurs when an element...</td>\n",
       "    </tr>\n",
       "    <tr>\n",
       "      <th>2</th>\n",
       "      <td>NoSuchElementException</td>\n",
       "      <td>This Exception occurs if an element could not ...</td>\n",
       "    </tr>\n",
       "    <tr>\n",
       "      <th>3</th>\n",
       "      <td>NoSuchFrameException</td>\n",
       "      <td>This Exception occurs if the frame target to b...</td>\n",
       "    </tr>\n",
       "    <tr>\n",
       "      <th>4</th>\n",
       "      <td>NoAlertPresentException</td>\n",
       "      <td>This Exception occurs when you switch to no pr...</td>\n",
       "    </tr>\n",
       "    <tr>\n",
       "      <th>5</th>\n",
       "      <td>NoSuchWindowException</td>\n",
       "      <td>This Exception occurs if the window target to ...</td>\n",
       "    </tr>\n",
       "    <tr>\n",
       "      <th>6</th>\n",
       "      <td>StaleElementReferenceException</td>\n",
       "      <td>This Selenium exception occurs happens when th...</td>\n",
       "    </tr>\n",
       "    <tr>\n",
       "      <th>7</th>\n",
       "      <td>SessionNotFoundException</td>\n",
       "      <td>The WebDriver is acting after you quit the bro...</td>\n",
       "    </tr>\n",
       "    <tr>\n",
       "      <th>8</th>\n",
       "      <td>TimeoutException</td>\n",
       "      <td>Thrown when there is not enough time for a com...</td>\n",
       "    </tr>\n",
       "    <tr>\n",
       "      <th>9</th>\n",
       "      <td>WebDriverException</td>\n",
       "      <td>This Exception takes place when the WebDriver ...</td>\n",
       "    </tr>\n",
       "    <tr>\n",
       "      <th>10</th>\n",
       "      <td>ConnectionClosedException</td>\n",
       "      <td>This type of Exception takes place when there ...</td>\n",
       "    </tr>\n",
       "    <tr>\n",
       "      <th>11</th>\n",
       "      <td>ElementClickInterceptedException</td>\n",
       "      <td>The command may not be completed as the elemen...</td>\n",
       "    </tr>\n",
       "    <tr>\n",
       "      <th>12</th>\n",
       "      <td>ElementNotInteractableException</td>\n",
       "      <td>This Selenium exception is thrown when any ele...</td>\n",
       "    </tr>\n",
       "    <tr>\n",
       "      <th>13</th>\n",
       "      <td>ErrorInResponseException</td>\n",
       "      <td>This happens while interacting with the Firefo...</td>\n",
       "    </tr>\n",
       "    <tr>\n",
       "      <th>14</th>\n",
       "      <td>ErrorHandler.UnknownServerException</td>\n",
       "      <td>Exception is used as a placeholder in case if ...</td>\n",
       "    </tr>\n",
       "    <tr>\n",
       "      <th>15</th>\n",
       "      <td>ImeActivationFailedException</td>\n",
       "      <td>This expectation will occur when IME engine ac...</td>\n",
       "    </tr>\n",
       "    <tr>\n",
       "      <th>16</th>\n",
       "      <td>ImeNotAvailableException</td>\n",
       "      <td>It takes place when IME support is unavailable.</td>\n",
       "    </tr>\n",
       "    <tr>\n",
       "      <th>17</th>\n",
       "      <td>InsecureCertificateException</td>\n",
       "      <td>Navigation made the user agent to hit a certif...</td>\n",
       "    </tr>\n",
       "    <tr>\n",
       "      <th>18</th>\n",
       "      <td>InvalidArgumentException</td>\n",
       "      <td>It occurs when an argument does not belong to ...</td>\n",
       "    </tr>\n",
       "    <tr>\n",
       "      <th>19</th>\n",
       "      <td>InvalidCookieDomainException</td>\n",
       "      <td>This happens when you try to add a cookie unde...</td>\n",
       "    </tr>\n",
       "    <tr>\n",
       "      <th>20</th>\n",
       "      <td>InvalidCoordinatesException</td>\n",
       "      <td>This type of Exception matches an interacting ...</td>\n",
       "    </tr>\n",
       "    <tr>\n",
       "      <th>21</th>\n",
       "      <td>InvalidElementStateExceptio</td>\n",
       "      <td>It occurs when command can’t be finished when ...</td>\n",
       "    </tr>\n",
       "    <tr>\n",
       "      <th>22</th>\n",
       "      <td>InvalidSessionIdException</td>\n",
       "      <td>This Exception took place when the given sessi...</td>\n",
       "    </tr>\n",
       "    <tr>\n",
       "      <th>23</th>\n",
       "      <td>InvalidSwitchToTargetException</td>\n",
       "      <td>This occurs when the frame or window target to...</td>\n",
       "    </tr>\n",
       "    <tr>\n",
       "      <th>24</th>\n",
       "      <td>JavascriptException</td>\n",
       "      <td>This issue occurs while executing JavaScript g...</td>\n",
       "    </tr>\n",
       "    <tr>\n",
       "      <th>25</th>\n",
       "      <td>JsonException</td>\n",
       "      <td>It occurs when you afford to get the session w...</td>\n",
       "    </tr>\n",
       "    <tr>\n",
       "      <th>26</th>\n",
       "      <td>NoSuchAttributeException</td>\n",
       "      <td>This kind of Exception occurs when the attribu...</td>\n",
       "    </tr>\n",
       "    <tr>\n",
       "      <th>27</th>\n",
       "      <td>MoveTargetOutOfBoundsException</td>\n",
       "      <td>It takes place if the target provided to the A...</td>\n",
       "    </tr>\n",
       "    <tr>\n",
       "      <th>28</th>\n",
       "      <td>NoSuchContextException</td>\n",
       "      <td>ContextAware does mobile device testing.</td>\n",
       "    </tr>\n",
       "    <tr>\n",
       "      <th>29</th>\n",
       "      <td>NoSuchCookieException</td>\n",
       "      <td>This Exception occurs when no cookie matching ...</td>\n",
       "    </tr>\n",
       "    <tr>\n",
       "      <th>30</th>\n",
       "      <td>NotFoundException</td>\n",
       "      <td>This Exception is a subclass of WebDriverExcep...</td>\n",
       "    </tr>\n",
       "    <tr>\n",
       "      <th>31</th>\n",
       "      <td>RemoteDriverServerException</td>\n",
       "      <td>This Selenium exception is thrown when the ser...</td>\n",
       "    </tr>\n",
       "    <tr>\n",
       "      <th>32</th>\n",
       "      <td>ScreenshotException</td>\n",
       "      <td>It is not possible to capture a screen.</td>\n",
       "    </tr>\n",
       "    <tr>\n",
       "      <th>33</th>\n",
       "      <td>SessionNotCreatedException</td>\n",
       "      <td>It happens when a new session could not be suc...</td>\n",
       "    </tr>\n",
       "    <tr>\n",
       "      <th>34</th>\n",
       "      <td>UnableToSetCookieException</td>\n",
       "      <td>This occurs if a driver is unable to set a coo...</td>\n",
       "    </tr>\n",
       "    <tr>\n",
       "      <th>35</th>\n",
       "      <td>UnexpectedTagNameException</td>\n",
       "      <td>Happens if a support class did not get a web e...</td>\n",
       "    </tr>\n",
       "    <tr>\n",
       "      <th>36</th>\n",
       "      <td>UnhandledAlertException</td>\n",
       "      <td>This expectation occurs when there is an alert...</td>\n",
       "    </tr>\n",
       "    <tr>\n",
       "      <th>37</th>\n",
       "      <td>UnexpectedAlertPresentException</td>\n",
       "      <td>It occurs when there is the appearance of an u...</td>\n",
       "    </tr>\n",
       "    <tr>\n",
       "      <th>38</th>\n",
       "      <td>UnknownMethodException</td>\n",
       "      <td>This Exception happens when the requested comm...</td>\n",
       "    </tr>\n",
       "    <tr>\n",
       "      <th>39</th>\n",
       "      <td>UnreachableBrowserException</td>\n",
       "      <td>This Exception occurs only when the browser is...</td>\n",
       "    </tr>\n",
       "    <tr>\n",
       "      <th>40</th>\n",
       "      <td>UnsupportedCommandException</td>\n",
       "      <td>This occurs when remote WebDriver does n’t sen...</td>\n",
       "    </tr>\n",
       "  </tbody>\n",
       "</table>\n",
       "</div>"
      ],
      "text/plain": [
       "                      Name of Exception  \\\n",
       "0            ElementNotVisibleException   \n",
       "1         ElementNotSelectableException   \n",
       "2                NoSuchElementException   \n",
       "3                  NoSuchFrameException   \n",
       "4               NoAlertPresentException   \n",
       "5                 NoSuchWindowException   \n",
       "6        StaleElementReferenceException   \n",
       "7              SessionNotFoundException   \n",
       "8                      TimeoutException   \n",
       "9                    WebDriverException   \n",
       "10            ConnectionClosedException   \n",
       "11     ElementClickInterceptedException   \n",
       "12      ElementNotInteractableException   \n",
       "13             ErrorInResponseException   \n",
       "14  ErrorHandler.UnknownServerException   \n",
       "15         ImeActivationFailedException   \n",
       "16             ImeNotAvailableException   \n",
       "17         InsecureCertificateException   \n",
       "18             InvalidArgumentException   \n",
       "19         InvalidCookieDomainException   \n",
       "20          InvalidCoordinatesException   \n",
       "21          InvalidElementStateExceptio   \n",
       "22            InvalidSessionIdException   \n",
       "23       InvalidSwitchToTargetException   \n",
       "24                  JavascriptException   \n",
       "25                        JsonException   \n",
       "26             NoSuchAttributeException   \n",
       "27       MoveTargetOutOfBoundsException   \n",
       "28               NoSuchContextException   \n",
       "29                NoSuchCookieException   \n",
       "30                    NotFoundException   \n",
       "31          RemoteDriverServerException   \n",
       "32                  ScreenshotException   \n",
       "33           SessionNotCreatedException   \n",
       "34           UnableToSetCookieException   \n",
       "35           UnexpectedTagNameException   \n",
       "36              UnhandledAlertException   \n",
       "37      UnexpectedAlertPresentException   \n",
       "38               UnknownMethodException   \n",
       "39          UnreachableBrowserException   \n",
       "40          UnsupportedCommandException   \n",
       "\n",
       "                                           Descrition  \n",
       "0   This type of Selenium exception occurs when an...  \n",
       "1   This Selenium exception occurs when an element...  \n",
       "2   This Exception occurs if an element could not ...  \n",
       "3   This Exception occurs if the frame target to b...  \n",
       "4   This Exception occurs when you switch to no pr...  \n",
       "5   This Exception occurs if the window target to ...  \n",
       "6   This Selenium exception occurs happens when th...  \n",
       "7   The WebDriver is acting after you quit the bro...  \n",
       "8   Thrown when there is not enough time for a com...  \n",
       "9   This Exception takes place when the WebDriver ...  \n",
       "10  This type of Exception takes place when there ...  \n",
       "11  The command may not be completed as the elemen...  \n",
       "12  This Selenium exception is thrown when any ele...  \n",
       "13  This happens while interacting with the Firefo...  \n",
       "14  Exception is used as a placeholder in case if ...  \n",
       "15  This expectation will occur when IME engine ac...  \n",
       "16    It takes place when IME support is unavailable.  \n",
       "17  Navigation made the user agent to hit a certif...  \n",
       "18  It occurs when an argument does not belong to ...  \n",
       "19  This happens when you try to add a cookie unde...  \n",
       "20  This type of Exception matches an interacting ...  \n",
       "21  It occurs when command can’t be finished when ...  \n",
       "22  This Exception took place when the given sessi...  \n",
       "23  This occurs when the frame or window target to...  \n",
       "24  This issue occurs while executing JavaScript g...  \n",
       "25  It occurs when you afford to get the session w...  \n",
       "26  This kind of Exception occurs when the attribu...  \n",
       "27  It takes place if the target provided to the A...  \n",
       "28           ContextAware does mobile device testing.  \n",
       "29  This Exception occurs when no cookie matching ...  \n",
       "30  This Exception is a subclass of WebDriverExcep...  \n",
       "31  This Selenium exception is thrown when the ser...  \n",
       "32            It is not possible to capture a screen.  \n",
       "33  It happens when a new session could not be suc...  \n",
       "34  This occurs if a driver is unable to set a coo...  \n",
       "35  Happens if a support class did not get a web e...  \n",
       "36  This expectation occurs when there is an alert...  \n",
       "37  It occurs when there is the appearance of an u...  \n",
       "38  This Exception happens when the requested comm...  \n",
       "39  This Exception occurs only when the browser is...  \n",
       "40  This occurs when remote WebDriver does n’t sen...  "
      ]
     },
     "execution_count": 75,
     "metadata": {},
     "output_type": "execute_result"
    }
   ],
   "source": [
    "# preparing data frame\n",
    "exception= pd.DataFrame({'Name of Exception': name, 'Descrition': description})\n",
    "print(\"List of all the exception in Selenium Exception Handling\")\n",
    "exception"
   ]
  },
  {
   "cell_type": "code",
   "execution_count": 76,
   "id": "5995007e",
   "metadata": {},
   "outputs": [],
   "source": [
    "driver.close()"
   ]
  },
  {
   "cell_type": "markdown",
   "id": "4d3feaff",
   "metadata": {},
   "source": [
    "Q4. . Scrape the details of State-wise GDP of India from statisticstime.com.\n",
    "Url = http://statisticstimes.com/\n",
    "You have to find following details:\n",
    "A) Rank\n",
    "B) State\n",
    "C) GSDP(18-19)\n",
    "D) GSDP(17-18)\n",
    "E) Share(2017)\n",
    "F) GDP($ billion)\n",
    "Note: - From statisticstimes home page you have to reach to economy page through code"
   ]
  },
  {
   "cell_type": "code",
   "execution_count": 104,
   "id": "620b19bc",
   "metadata": {},
   "outputs": [],
   "source": [
    "# getting web driver\n",
    "driver=webdriver.Chrome(r'D:\\chromedriver_win32\\chromedriver.exe')"
   ]
  },
  {
   "cell_type": "code",
   "execution_count": 105,
   "id": "bc083e91",
   "metadata": {},
   "outputs": [],
   "source": [
    "# getting the web page\n",
    "url=' http://statisticstimes.com/'\n",
    "driver.get(url)"
   ]
  },
  {
   "cell_type": "code",
   "execution_count": 106,
   "id": "f6d26a16",
   "metadata": {},
   "outputs": [],
   "source": [
    "#find economy drop button and click on it\n",
    "economy_tag=driver.find_element(By.XPATH, '/html/body/div[2]/div[1]/div[2]/div[2]/button')\n",
    "economy_tag.click()\n",
    "time.sleep(7)\n",
    "india_tag=driver.find_element(By.XPATH,'/html/body/div[2]/div[1]/div[2]/div[2]/div/a[3]')\n",
    "india_tag.click()"
   ]
  },
  {
   "cell_type": "code",
   "execution_count": 107,
   "id": "faf628f5",
   "metadata": {},
   "outputs": [],
   "source": [
    "# find India GDP and click on it\n",
    "india_gdp=driver.find_element(By.XPATH, '/html/body/div[2]/div[2]/div[2]/ul/li[1]/a')\n",
    "india_gdp.click()"
   ]
  },
  {
   "cell_type": "code",
   "execution_count": null,
   "id": "1c8ccbf6",
   "metadata": {},
   "outputs": [],
   "source": [
    "# finding web elements and scrape the details of all the required field\n",
    "rank=[]\n",
    "rank_tag=driver.find_elements(By.XPATH, '//td[@class=\"data1\"]')\n",
    "for i in rank_tag[:33]:\n",
    "    rank.append(i.text)\n",
    "len(rank)"
   ]
  },
  {
   "cell_type": "code",
   "execution_count": 113,
   "id": "c15b1c52",
   "metadata": {},
   "outputs": [
    {
     "data": {
      "text/plain": [
       "33"
      ]
     },
     "execution_count": 113,
     "metadata": {},
     "output_type": "execute_result"
    }
   ],
   "source": [
    "state=[]\n",
    "state_tag=driver.find_elements(By.XPATH, '//td[@class=\"name\"]')\n",
    "for i in state_tag[:33]:\n",
    "    state.append(i.text)\n",
    "len(state)"
   ]
  },
  {
   "cell_type": "code",
   "execution_count": 111,
   "id": "c66e5e16",
   "metadata": {},
   "outputs": [
    {
     "data": {
      "text/plain": [
       "33"
      ]
     },
     "execution_count": 111,
     "metadata": {},
     "output_type": "execute_result"
    }
   ],
   "source": [
    "gsdp18_19= []\n",
    "gsdp_tag= driver.find_elements(By.XPATH,'//td[@class=\"data sorting_1\"]')\n",
    "for i in gsdp_tag[:33]:\n",
    "    gsdp18_19.append(i.text)\n",
    "len(gsdp18_19)\n"
   ]
  },
  {
   "cell_type": "code",
   "execution_count": 129,
   "id": "12440847",
   "metadata": {},
   "outputs": [
    {
     "data": {
      "text/plain": [
       "33"
      ]
     },
     "execution_count": 129,
     "metadata": {},
     "output_type": "execute_result"
    }
   ],
   "source": [
    "\n",
    "share=[]\n",
    "share_tag=driver.find_elements(By.XPATH,'/html/body/div[3]/div[2]/div[5]/div[1]/div/table/tbody/tr/td[5]')\n",
    "for i in share_tag:\n",
    "    share.append(i.text)\n",
    "    \n",
    "len(share)\n"
   ]
  },
  {
   "cell_type": "code",
   "execution_count": 123,
   "id": "043c4e22",
   "metadata": {},
   "outputs": [
    {
     "data": {
      "text/plain": [
       "33"
      ]
     },
     "execution_count": 123,
     "metadata": {},
     "output_type": "execute_result"
    }
   ],
   "source": [
    "gsdp19_20=[]\n",
    "gsdp19_tag=driver.find_elements(By.XPATH,'/html/body/div[3]/div[2]/div[5]/div[1]/div/table/tbody/tr/td[3]')\n",
    "for i in gsdp19_tag:\n",
    "    gsdp19_20.append(i.text)\n",
    "len(gsdp19_20)"
   ]
  },
  {
   "cell_type": "code",
   "execution_count": 127,
   "id": "3dfe7dcb",
   "metadata": {},
   "outputs": [
    {
     "data": {
      "text/plain": [
       "33"
      ]
     },
     "execution_count": 127,
     "metadata": {},
     "output_type": "execute_result"
    }
   ],
   "source": [
    "gdp_bill=[]\n",
    "gdp_tag=driver.find_elements(By.XPATH,'/html/body/div[3]/div[2]/div[5]/div[1]/div/table/tbody/tr/td[6]')\n",
    "for i in gdp_tag:\n",
    "    gdp_bill.append(i.text)\n",
    "len(gdp_bill)"
   ]
  },
  {
   "cell_type": "code",
   "execution_count": 130,
   "id": "22f8254e",
   "metadata": {},
   "outputs": [
    {
     "data": {
      "text/plain": [
       "(33, 33, 33, 33, 33, 33)"
      ]
     },
     "execution_count": 130,
     "metadata": {},
     "output_type": "execute_result"
    }
   ],
   "source": [
    "len(rank),len(state), len(gsdp18_19), len(gsdp19_20), len(share),len(gdp_bill)"
   ]
  },
  {
   "cell_type": "code",
   "execution_count": 131,
   "id": "73c1c047",
   "metadata": {},
   "outputs": [
    {
     "name": "stdout",
     "output_type": "stream",
     "text": [
      "Indian States by GDP\n",
      "\n"
     ]
    },
    {
     "data": {
      "text/html": [
       "<div>\n",
       "<style scoped>\n",
       "    .dataframe tbody tr th:only-of-type {\n",
       "        vertical-align: middle;\n",
       "    }\n",
       "\n",
       "    .dataframe tbody tr th {\n",
       "        vertical-align: top;\n",
       "    }\n",
       "\n",
       "    .dataframe thead th {\n",
       "        text-align: right;\n",
       "    }\n",
       "</style>\n",
       "<table border=\"1\" class=\"dataframe\">\n",
       "  <thead>\n",
       "    <tr style=\"text-align: right;\">\n",
       "      <th></th>\n",
       "      <th>Rank</th>\n",
       "      <th>State</th>\n",
       "      <th>GSDP 18-19</th>\n",
       "      <th>GSDP 19-20</th>\n",
       "      <th>Share 2019</th>\n",
       "      <th>GDP ($ Billion)</th>\n",
       "    </tr>\n",
       "  </thead>\n",
       "  <tbody>\n",
       "    <tr>\n",
       "      <th>0</th>\n",
       "      <td>1</td>\n",
       "      <td>Maharashtra</td>\n",
       "      <td>2,632,792</td>\n",
       "      <td>-</td>\n",
       "      <td>13.94%</td>\n",
       "      <td>399.921</td>\n",
       "    </tr>\n",
       "    <tr>\n",
       "      <th>1</th>\n",
       "      <td>2</td>\n",
       "      <td>Tamil Nadu</td>\n",
       "      <td>1,630,208</td>\n",
       "      <td>1,845,853</td>\n",
       "      <td>8.63%</td>\n",
       "      <td>247.629</td>\n",
       "    </tr>\n",
       "    <tr>\n",
       "      <th>2</th>\n",
       "      <td>3</td>\n",
       "      <td>Uttar Pradesh</td>\n",
       "      <td>1,584,764</td>\n",
       "      <td>1,687,818</td>\n",
       "      <td>8.39%</td>\n",
       "      <td>240.726</td>\n",
       "    </tr>\n",
       "    <tr>\n",
       "      <th>3</th>\n",
       "      <td>4</td>\n",
       "      <td>Gujarat</td>\n",
       "      <td>1,502,899</td>\n",
       "      <td>-</td>\n",
       "      <td>7.96%</td>\n",
       "      <td>228.290</td>\n",
       "    </tr>\n",
       "    <tr>\n",
       "      <th>4</th>\n",
       "      <td>5</td>\n",
       "      <td>Karnataka</td>\n",
       "      <td>1,493,127</td>\n",
       "      <td>1,631,977</td>\n",
       "      <td>7.91%</td>\n",
       "      <td>226.806</td>\n",
       "    </tr>\n",
       "    <tr>\n",
       "      <th>5</th>\n",
       "      <td>6</td>\n",
       "      <td>West Bengal</td>\n",
       "      <td>1,089,898</td>\n",
       "      <td>1,253,832</td>\n",
       "      <td>5.77%</td>\n",
       "      <td>165.556</td>\n",
       "    </tr>\n",
       "    <tr>\n",
       "      <th>6</th>\n",
       "      <td>7</td>\n",
       "      <td>Rajasthan</td>\n",
       "      <td>942,586</td>\n",
       "      <td>1,020,989</td>\n",
       "      <td>4.99%</td>\n",
       "      <td>143.179</td>\n",
       "    </tr>\n",
       "    <tr>\n",
       "      <th>7</th>\n",
       "      <td>8</td>\n",
       "      <td>Andhra Pradesh</td>\n",
       "      <td>862,957</td>\n",
       "      <td>972,782</td>\n",
       "      <td>4.57%</td>\n",
       "      <td>131.083</td>\n",
       "    </tr>\n",
       "    <tr>\n",
       "      <th>8</th>\n",
       "      <td>9</td>\n",
       "      <td>Telangana</td>\n",
       "      <td>861,031</td>\n",
       "      <td>969,604</td>\n",
       "      <td>4.56%</td>\n",
       "      <td>130.791</td>\n",
       "    </tr>\n",
       "    <tr>\n",
       "      <th>9</th>\n",
       "      <td>10</td>\n",
       "      <td>Madhya Pradesh</td>\n",
       "      <td>809,592</td>\n",
       "      <td>906,672</td>\n",
       "      <td>4.29%</td>\n",
       "      <td>122.977</td>\n",
       "    </tr>\n",
       "    <tr>\n",
       "      <th>10</th>\n",
       "      <td>11</td>\n",
       "      <td>Kerala</td>\n",
       "      <td>781,653</td>\n",
       "      <td>-</td>\n",
       "      <td>4.14%</td>\n",
       "      <td>118.733</td>\n",
       "    </tr>\n",
       "    <tr>\n",
       "      <th>11</th>\n",
       "      <td>12</td>\n",
       "      <td>Delhi</td>\n",
       "      <td>774,870</td>\n",
       "      <td>856,112</td>\n",
       "      <td>4.10%</td>\n",
       "      <td>117.703</td>\n",
       "    </tr>\n",
       "    <tr>\n",
       "      <th>12</th>\n",
       "      <td>13</td>\n",
       "      <td>Haryana</td>\n",
       "      <td>734,163</td>\n",
       "      <td>831,610</td>\n",
       "      <td>3.89%</td>\n",
       "      <td>111.519</td>\n",
       "    </tr>\n",
       "    <tr>\n",
       "      <th>13</th>\n",
       "      <td>14</td>\n",
       "      <td>Bihar</td>\n",
       "      <td>530,363</td>\n",
       "      <td>611,804</td>\n",
       "      <td>2.81%</td>\n",
       "      <td>80.562</td>\n",
       "    </tr>\n",
       "    <tr>\n",
       "      <th>14</th>\n",
       "      <td>15</td>\n",
       "      <td>Punjab</td>\n",
       "      <td>526,376</td>\n",
       "      <td>574,760</td>\n",
       "      <td>2.79%</td>\n",
       "      <td>79.957</td>\n",
       "    </tr>\n",
       "    <tr>\n",
       "      <th>15</th>\n",
       "      <td>16</td>\n",
       "      <td>Odisha</td>\n",
       "      <td>487,805</td>\n",
       "      <td>521,275</td>\n",
       "      <td>2.58%</td>\n",
       "      <td>74.098</td>\n",
       "    </tr>\n",
       "    <tr>\n",
       "      <th>16</th>\n",
       "      <td>17</td>\n",
       "      <td>Assam</td>\n",
       "      <td>315,881</td>\n",
       "      <td>-</td>\n",
       "      <td>1.67%</td>\n",
       "      <td>47.982</td>\n",
       "    </tr>\n",
       "    <tr>\n",
       "      <th>17</th>\n",
       "      <td>18</td>\n",
       "      <td>Chhattisgarh</td>\n",
       "      <td>304,063</td>\n",
       "      <td>329,180</td>\n",
       "      <td>1.61%</td>\n",
       "      <td>46.187</td>\n",
       "    </tr>\n",
       "    <tr>\n",
       "      <th>18</th>\n",
       "      <td>19</td>\n",
       "      <td>Jharkhand</td>\n",
       "      <td>297,204</td>\n",
       "      <td>328,598</td>\n",
       "      <td>1.57%</td>\n",
       "      <td>45.145</td>\n",
       "    </tr>\n",
       "    <tr>\n",
       "      <th>19</th>\n",
       "      <td>20</td>\n",
       "      <td>Uttarakhand</td>\n",
       "      <td>245,895</td>\n",
       "      <td>-</td>\n",
       "      <td>1.30%</td>\n",
       "      <td>37.351</td>\n",
       "    </tr>\n",
       "    <tr>\n",
       "      <th>20</th>\n",
       "      <td>21</td>\n",
       "      <td>Jammu &amp; Kashmir</td>\n",
       "      <td>155,956</td>\n",
       "      <td>-</td>\n",
       "      <td>0.83%</td>\n",
       "      <td>23.690</td>\n",
       "    </tr>\n",
       "    <tr>\n",
       "      <th>21</th>\n",
       "      <td>22</td>\n",
       "      <td>Himachal Pradesh</td>\n",
       "      <td>153,845</td>\n",
       "      <td>165,472</td>\n",
       "      <td>0.81%</td>\n",
       "      <td>23.369</td>\n",
       "    </tr>\n",
       "    <tr>\n",
       "      <th>22</th>\n",
       "      <td>23</td>\n",
       "      <td>Goa</td>\n",
       "      <td>73,170</td>\n",
       "      <td>80,449</td>\n",
       "      <td>0.39%</td>\n",
       "      <td>11.115</td>\n",
       "    </tr>\n",
       "    <tr>\n",
       "      <th>23</th>\n",
       "      <td>24</td>\n",
       "      <td>Tripura</td>\n",
       "      <td>49,845</td>\n",
       "      <td>55,984</td>\n",
       "      <td>0.26%</td>\n",
       "      <td>7.571</td>\n",
       "    </tr>\n",
       "    <tr>\n",
       "      <th>24</th>\n",
       "      <td>25</td>\n",
       "      <td>Chandigarh</td>\n",
       "      <td>42,114</td>\n",
       "      <td>-</td>\n",
       "      <td>0.22%</td>\n",
       "      <td>6.397</td>\n",
       "    </tr>\n",
       "    <tr>\n",
       "      <th>25</th>\n",
       "      <td>26</td>\n",
       "      <td>Puducherry</td>\n",
       "      <td>34,433</td>\n",
       "      <td>38,253</td>\n",
       "      <td>0.18%</td>\n",
       "      <td>5.230</td>\n",
       "    </tr>\n",
       "    <tr>\n",
       "      <th>26</th>\n",
       "      <td>27</td>\n",
       "      <td>Meghalaya</td>\n",
       "      <td>33,481</td>\n",
       "      <td>36,572</td>\n",
       "      <td>0.18%</td>\n",
       "      <td>5.086</td>\n",
       "    </tr>\n",
       "    <tr>\n",
       "      <th>27</th>\n",
       "      <td>28</td>\n",
       "      <td>Sikkim</td>\n",
       "      <td>28,723</td>\n",
       "      <td>32,496</td>\n",
       "      <td>0.15%</td>\n",
       "      <td>4.363</td>\n",
       "    </tr>\n",
       "    <tr>\n",
       "      <th>28</th>\n",
       "      <td>29</td>\n",
       "      <td>Manipur</td>\n",
       "      <td>27,870</td>\n",
       "      <td>31,790</td>\n",
       "      <td>0.15%</td>\n",
       "      <td>4.233</td>\n",
       "    </tr>\n",
       "    <tr>\n",
       "      <th>29</th>\n",
       "      <td>30</td>\n",
       "      <td>Nagaland</td>\n",
       "      <td>27,283</td>\n",
       "      <td>-</td>\n",
       "      <td>0.14%</td>\n",
       "      <td>4.144</td>\n",
       "    </tr>\n",
       "    <tr>\n",
       "      <th>30</th>\n",
       "      <td>31</td>\n",
       "      <td>Arunachal Pradesh</td>\n",
       "      <td>24,603</td>\n",
       "      <td>-</td>\n",
       "      <td>0.13%</td>\n",
       "      <td>3.737</td>\n",
       "    </tr>\n",
       "    <tr>\n",
       "      <th>31</th>\n",
       "      <td>32</td>\n",
       "      <td>Mizoram</td>\n",
       "      <td>22,287</td>\n",
       "      <td>26,503</td>\n",
       "      <td>0.12%</td>\n",
       "      <td>3.385</td>\n",
       "    </tr>\n",
       "    <tr>\n",
       "      <th>32</th>\n",
       "      <td>33</td>\n",
       "      <td>Andaman &amp; Nicobar Islands</td>\n",
       "      <td>-</td>\n",
       "      <td>-</td>\n",
       "      <td>-</td>\n",
       "      <td>-</td>\n",
       "    </tr>\n",
       "  </tbody>\n",
       "</table>\n",
       "</div>"
      ],
      "text/plain": [
       "   Rank                      State GSDP 18-19 GSDP 19-20 Share 2019  \\\n",
       "0     1                Maharashtra  2,632,792          -     13.94%   \n",
       "1     2                 Tamil Nadu  1,630,208  1,845,853      8.63%   \n",
       "2     3              Uttar Pradesh  1,584,764  1,687,818      8.39%   \n",
       "3     4                    Gujarat  1,502,899          -      7.96%   \n",
       "4     5                  Karnataka  1,493,127  1,631,977      7.91%   \n",
       "5     6                West Bengal  1,089,898  1,253,832      5.77%   \n",
       "6     7                  Rajasthan    942,586  1,020,989      4.99%   \n",
       "7     8             Andhra Pradesh    862,957    972,782      4.57%   \n",
       "8     9                  Telangana    861,031    969,604      4.56%   \n",
       "9    10             Madhya Pradesh    809,592    906,672      4.29%   \n",
       "10   11                     Kerala    781,653          -      4.14%   \n",
       "11   12                      Delhi    774,870    856,112      4.10%   \n",
       "12   13                    Haryana    734,163    831,610      3.89%   \n",
       "13   14                      Bihar    530,363    611,804      2.81%   \n",
       "14   15                     Punjab    526,376    574,760      2.79%   \n",
       "15   16                     Odisha    487,805    521,275      2.58%   \n",
       "16   17                      Assam    315,881          -      1.67%   \n",
       "17   18               Chhattisgarh    304,063    329,180      1.61%   \n",
       "18   19                  Jharkhand    297,204    328,598      1.57%   \n",
       "19   20                Uttarakhand    245,895          -      1.30%   \n",
       "20   21            Jammu & Kashmir    155,956          -      0.83%   \n",
       "21   22           Himachal Pradesh    153,845    165,472      0.81%   \n",
       "22   23                        Goa     73,170     80,449      0.39%   \n",
       "23   24                    Tripura     49,845     55,984      0.26%   \n",
       "24   25                 Chandigarh     42,114          -      0.22%   \n",
       "25   26                 Puducherry     34,433     38,253      0.18%   \n",
       "26   27                  Meghalaya     33,481     36,572      0.18%   \n",
       "27   28                     Sikkim     28,723     32,496      0.15%   \n",
       "28   29                    Manipur     27,870     31,790      0.15%   \n",
       "29   30                   Nagaland     27,283          -      0.14%   \n",
       "30   31          Arunachal Pradesh     24,603          -      0.13%   \n",
       "31   32                    Mizoram     22,287     26,503      0.12%   \n",
       "32   33  Andaman & Nicobar Islands          -          -          -   \n",
       "\n",
       "   GDP ($ Billion)  \n",
       "0          399.921  \n",
       "1          247.629  \n",
       "2          240.726  \n",
       "3          228.290  \n",
       "4          226.806  \n",
       "5          165.556  \n",
       "6          143.179  \n",
       "7          131.083  \n",
       "8          130.791  \n",
       "9          122.977  \n",
       "10         118.733  \n",
       "11         117.703  \n",
       "12         111.519  \n",
       "13          80.562  \n",
       "14          79.957  \n",
       "15          74.098  \n",
       "16          47.982  \n",
       "17          46.187  \n",
       "18          45.145  \n",
       "19          37.351  \n",
       "20          23.690  \n",
       "21          23.369  \n",
       "22          11.115  \n",
       "23           7.571  \n",
       "24           6.397  \n",
       "25           5.230  \n",
       "26           5.086  \n",
       "27           4.363  \n",
       "28           4.233  \n",
       "29           4.144  \n",
       "30           3.737  \n",
       "31           3.385  \n",
       "32               -  "
      ]
     },
     "execution_count": 131,
     "metadata": {},
     "output_type": "execute_result"
    }
   ],
   "source": [
    "# preparing the data frame\n",
    "GDP_states= pd.DataFrame({'Rank':rank, 'State':state, 'GSDP 18-19':gsdp18_19, 'GSDP 19-20':gsdp19_20,\n",
    "                         'Share 2019':share, 'GDP ($ Billion)':gdp_bill})\n",
    "print(\"Indian States by GDP\\n\")\n",
    "GDP_states"
   ]
  },
  {
   "cell_type": "code",
   "execution_count": 132,
   "id": "6f40c2a6",
   "metadata": {},
   "outputs": [],
   "source": [
    "driver.close()"
   ]
  },
  {
   "cell_type": "code",
   "execution_count": null,
   "id": "812f7eef",
   "metadata": {},
   "outputs": [],
   "source": []
  },
  {
   "cell_type": "markdown",
   "id": "e243fe14",
   "metadata": {},
   "source": [
    "Q5. Scrape the details of trending repositories on Github.com.\n",
    "Url = https://github.com/\n",
    "You have to find the following details:\n",
    "A) Repository title\n",
    "B) Repository description\n",
    "C) Contributors count\n",
    "D) Language used\n",
    "Note: - From the home page you have to click on the trending option from Explore menu through code."
   ]
  },
  {
   "cell_type": "code",
   "execution_count": 159,
   "id": "84dccebe",
   "metadata": {},
   "outputs": [],
   "source": [
    "# getting web driver\n",
    "driver=webdriver.Chrome(r'D:\\chromedriver_win32\\chromedriver.exe')"
   ]
  },
  {
   "cell_type": "code",
   "execution_count": 188,
   "id": "90a3cab0",
   "metadata": {},
   "outputs": [],
   "source": [
    "# getting the webpage\n",
    "url = 'https://github.com/'\n",
    "driver.get(url)"
   ]
  },
  {
   "cell_type": "code",
   "execution_count": 189,
   "id": "780e2b54",
   "metadata": {},
   "outputs": [],
   "source": [
    "# find web element for menu_bar and click on it\n",
    "menu_bar=driver.find_element(By.XPATH,'/html/body/div[1]/header/div/div[1]/div[2]/button')\n",
    "menu_bar.click()"
   ]
  },
  {
   "cell_type": "code",
   "execution_count": 193,
   "id": "e20abea6",
   "metadata": {},
   "outputs": [],
   "source": [
    "# find explore button and click on it\n",
    "explore_tag=driver.find_element(By.XPATH,'/html/body/div[1]/header/div/div[2]/nav/ul/li[4]')\n",
    "explore_tag.click()"
   ]
  },
  {
   "cell_type": "code",
   "execution_count": 194,
   "id": "8dd99e89",
   "metadata": {},
   "outputs": [],
   "source": [
    "# finding web element for trending button and click on it\n",
    "trending_tag=driver.find_element(By.XPATH, '/html/body/div[1]/header/div/div[2]/nav/ul/li[4]/details/div/ul/li[5]/a')\n",
    "trending_tag.click()"
   ]
  },
  {
   "cell_type": "code",
   "execution_count": 196,
   "id": "94088fa6",
   "metadata": {},
   "outputs": [
    {
     "data": {
      "text/plain": [
       "25"
      ]
     },
     "execution_count": 196,
     "metadata": {},
     "output_type": "execute_result"
    }
   ],
   "source": [
    "# finding web elements for all the deatils need to scarpe and then scarpe them\n",
    "title=[]\n",
    "t_tag=driver.find_elements(By.XPATH,'/html/body/div[4]/main/div[3]/div/div[2]/article/h1/a')\n",
    "for i in t_tag:\n",
    "    title.append(i.text)\n",
    "len(title)"
   ]
  },
  {
   "cell_type": "code",
   "execution_count": 224,
   "id": "28299d18",
   "metadata": {},
   "outputs": [
    {
     "data": {
      "text/plain": [
       "['toeverything / AFFiNE',\n",
       " 'utmapp / UTM',\n",
       " 'NVIDIAGameWorks / kaolin-wisp',\n",
       " 'microsoft / terminal',\n",
       " 'jina-ai / discoart',\n",
       " 'martinshkreli / models',\n",
       " 'facebookresearch / ParlAI',\n",
       " 'KalleHallden / exer_log',\n",
       " 'juliocesarfort / public-pentesting-reports',\n",
       " 'EbookFoundation / free-programming-books',\n",
       " 'moyix / fauxpilot',\n",
       " 'josejesusguzman / acordeon-az500-innoovaccion',\n",
       " 'adiwajshing / Baileys',\n",
       " 'qmk / qmk_firmware',\n",
       " 'valinet / ExplorerPatcher',\n",
       " 'PKUFlyingPig / cs-self-learning',\n",
       " 'lucidrains / imagen-pytorch',\n",
       " 'Womsxd / AutoMihoyoBBS',\n",
       " 'getify / You-Dont-Know-JS',\n",
       " 'coolsnowwolf / lede',\n",
       " 'google-research / multinerf',\n",
       " 'termux / termux-app',\n",
       " 'godotengine / godot',\n",
       " 'rust-lang / rust-analyzer',\n",
       " 'ventoy / Ventoy']"
      ]
     },
     "execution_count": 224,
     "metadata": {},
     "output_type": "execute_result"
    }
   ],
   "source": [
    "title"
   ]
  },
  {
   "cell_type": "code",
   "execution_count": 182,
   "id": "24b70629",
   "metadata": {},
   "outputs": [
    {
     "data": {
      "text/plain": [
       "23"
      ]
     },
     "execution_count": 182,
     "metadata": {},
     "output_type": "execute_result"
    }
   ],
   "source": [
    "descrption=[]\n",
    "descrp_tag=driver.find_elements(By.XPATH,'/html/body/div[4]/main/div[3]/div/div[2]/article/p')\n",
    "for i in descrp_tag:\n",
    "    descrption.append(i.text)\n",
    "len(descrption)"
   ]
  },
  {
   "cell_type": "code",
   "execution_count": 172,
   "id": "968ff85e",
   "metadata": {},
   "outputs": [
    {
     "data": {
      "text/plain": [
       "(25, 23)"
      ]
     },
     "execution_count": 172,
     "metadata": {},
     "output_type": "execute_result"
    }
   ],
   "source": [
    "len(title), len(descrption)"
   ]
  },
  {
   "cell_type": "code",
   "execution_count": 183,
   "id": "5533e825",
   "metadata": {},
   "outputs": [
    {
     "name": "stdout",
     "output_type": "stream",
     "text": [
      "7 11\n"
     ]
    }
   ],
   "source": [
    "# finding which repository don't have description\n",
    "index1=title.index('KalleHallden / exer_log')\n",
    "\n",
    "index2=title.index('josejesusguzman / acordeon-az500-innoovaccion')\n",
    "print(index1, index2)"
   ]
  },
  {
   "cell_type": "code",
   "execution_count": 184,
   "id": "26ecaf8a",
   "metadata": {},
   "outputs": [
    {
     "data": {
      "text/plain": [
       "25"
      ]
     },
     "execution_count": 184,
     "metadata": {},
     "output_type": "execute_result"
    }
   ],
   "source": [
    "# filling the void with 'N/A' in description.\n",
    "descrption.insert(index1,'N/A')\n",
    "descrption.insert(index2,'N/A')\n",
    "len(descrption)"
   ]
  },
  {
   "cell_type": "code",
   "execution_count": 180,
   "id": "4d7b0b3d",
   "metadata": {},
   "outputs": [
    {
     "data": {
      "text/plain": [
       "25"
      ]
     },
     "execution_count": 180,
     "metadata": {},
     "output_type": "execute_result"
    }
   ],
   "source": [
    "# langugae\n",
    "language=[]\n",
    "lang_tag= driver.find_elements(By.XPATH,'/html/body/div[4]/main/div[3]/div/div[2]/article/div[2]/span[1]')\n",
    "for i in lang_tag:\n",
    "    language.append(i.text)\n",
    "len(language)"
   ]
  },
  {
   "cell_type": "code",
   "execution_count": 205,
   "id": "8880440f",
   "metadata": {},
   "outputs": [
    {
     "data": {
      "text/plain": [
       "25"
      ]
     },
     "execution_count": 205,
     "metadata": {},
     "output_type": "execute_result"
    }
   ],
   "source": [
    "# contributors\n",
    "url=[]\n",
    "url_tag=driver.find_elements(By.XPATH, '/html/body/div[4]/main/div[3]/div/div[2]/article/h1/a')\n",
    "for i in url_tag:\n",
    "    url.append(i.get_attribute('href'))\n",
    "len(url)\n"
   ]
  },
  {
   "cell_type": "code",
   "execution_count": 234,
   "id": "9454effe",
   "metadata": {},
   "outputs": [
    {
     "data": {
      "text/plain": [
       "115"
      ]
     },
     "execution_count": 234,
     "metadata": {},
     "output_type": "execute_result"
    }
   ],
   "source": [
    "contributor=[]\n",
    "for i in range(0,len(url)):\n",
    "    driver.get(url[i])\n",
    "    time.sleep(10)\n",
    "    \n",
    "    try: \n",
    "        conti_tag=driver.find_elements(By.XPATH,'//a[@class=\"Link--primary no-underline\"]')\n",
    "        for count in conti_tag:\n",
    "            contributor.append(count.text)\n",
    "    except None:\n",
    "        contributor.append('N/A')\n",
    "len(contributor)"
   ]
  },
  {
   "cell_type": "code",
   "execution_count": 235,
   "id": "5fc45392",
   "metadata": {},
   "outputs": [
    {
     "data": {
      "text/plain": [
       "['Contributors 13',\n",
       " 'Contributors 40',\n",
       " 'Contributors 4',\n",
       " 'Contributors 336',\n",
       " 'Contributors 5',\n",
       " 'Contributors 182',\n",
       " 'Contributors 4',\n",
       " 'Contributors 33',\n",
       " 'Contributors 1,988',\n",
       " 'Contributors 2',\n",
       " 'Contributors 86',\n",
       " 'Contributors 1,747',\n",
       " 'Contributors 6',\n",
       " 'Contributors 43',\n",
       " 'Contributors 11',\n",
       " 'Contributors 16',\n",
       " 'Contributors 177',\n",
       " 'Contributors 301',\n",
       " 'Contributors 2',\n",
       " 'Contributors 61',\n",
       " 'Contributors 1,728',\n",
       " 'Contributors 585',\n",
       " 'Contributors 74']"
      ]
     },
     "execution_count": 235,
     "metadata": {},
     "output_type": "execute_result"
    }
   ],
   "source": [
    "\n",
    "contri= list(filter(lambda k: 'Contributors ' in k, contributor))\n",
    "contri\n"
   ]
  },
  {
   "cell_type": "code",
   "execution_count": 236,
   "id": "5dbc77a4",
   "metadata": {},
   "outputs": [
    {
     "data": {
      "text/plain": [
       "23"
      ]
     },
     "execution_count": 236,
     "metadata": {},
     "output_type": "execute_result"
    }
   ],
   "source": [
    "len(contri)"
   ]
  },
  {
   "cell_type": "code",
   "execution_count": 237,
   "id": "58571483",
   "metadata": {},
   "outputs": [],
   "source": [
    "# finding index of missing values\n",
    "index_1=title.index('josejesusguzman / acordeon-az500-innoovaccion')\n",
    "index_2=title.index('martinshkreli / models')"
   ]
  },
  {
   "cell_type": "code",
   "execution_count": 238,
   "id": "b6874885",
   "metadata": {},
   "outputs": [
    {
     "data": {
      "text/plain": [
       "25"
      ]
     },
     "execution_count": 238,
     "metadata": {},
     "output_type": "execute_result"
    }
   ],
   "source": [
    "# inserting N/A in the missing place in contri\n",
    "contri.insert(index_1,'N/A')\n",
    "contri.insert(index_2, 'N/A')\n",
    "len(contri)"
   ]
  },
  {
   "cell_type": "code",
   "execution_count": 232,
   "id": "a8496b90",
   "metadata": {},
   "outputs": [],
   "source": []
  },
  {
   "cell_type": "code",
   "execution_count": 239,
   "id": "b87aa903",
   "metadata": {
    "scrolled": true
   },
   "outputs": [
    {
     "name": "stdout",
     "output_type": "stream",
     "text": [
      " Trending Repository in github\n",
      "\n"
     ]
    },
    {
     "data": {
      "text/html": [
       "<div>\n",
       "<style scoped>\n",
       "    .dataframe tbody tr th:only-of-type {\n",
       "        vertical-align: middle;\n",
       "    }\n",
       "\n",
       "    .dataframe tbody tr th {\n",
       "        vertical-align: top;\n",
       "    }\n",
       "\n",
       "    .dataframe thead th {\n",
       "        text-align: right;\n",
       "    }\n",
       "</style>\n",
       "<table border=\"1\" class=\"dataframe\">\n",
       "  <thead>\n",
       "    <tr style=\"text-align: right;\">\n",
       "      <th></th>\n",
       "      <th>Repository Title</th>\n",
       "      <th>Repository Description</th>\n",
       "      <th>Language</th>\n",
       "      <th>Contributors</th>\n",
       "    </tr>\n",
       "  </thead>\n",
       "  <tbody>\n",
       "    <tr>\n",
       "      <th>0</th>\n",
       "      <td>toeverything / AFFiNE</td>\n",
       "      <td>There can be more than Notion and Miro. Affine...</td>\n",
       "      <td>TypeScript</td>\n",
       "      <td>Contributors 13</td>\n",
       "    </tr>\n",
       "    <tr>\n",
       "      <th>1</th>\n",
       "      <td>utmapp / UTM</td>\n",
       "      <td>Virtual machines for iOS and macOS</td>\n",
       "      <td>Swift</td>\n",
       "      <td>Contributors 40</td>\n",
       "    </tr>\n",
       "    <tr>\n",
       "      <th>2</th>\n",
       "      <td>NVIDIAGameWorks / kaolin-wisp</td>\n",
       "      <td>NVIDIA Kaolin Wisp is a PyTorch library powere...</td>\n",
       "      <td>Python</td>\n",
       "      <td>Contributors 4</td>\n",
       "    </tr>\n",
       "    <tr>\n",
       "      <th>3</th>\n",
       "      <td>microsoft / terminal</td>\n",
       "      <td>The new Windows Terminal and the original Wind...</td>\n",
       "      <td>C++</td>\n",
       "      <td>Contributors 336</td>\n",
       "    </tr>\n",
       "    <tr>\n",
       "      <th>4</th>\n",
       "      <td>jina-ai / discoart</td>\n",
       "      <td>Create Disco Diffusion artworks in one line</td>\n",
       "      <td>Python</td>\n",
       "      <td>Contributors 5</td>\n",
       "    </tr>\n",
       "    <tr>\n",
       "      <th>5</th>\n",
       "      <td>martinshkreli / models</td>\n",
       "      <td>stock market models - have fun</td>\n",
       "      <td>Built by</td>\n",
       "      <td>N/A</td>\n",
       "    </tr>\n",
       "    <tr>\n",
       "      <th>6</th>\n",
       "      <td>facebookresearch / ParlAI</td>\n",
       "      <td>A framework for training and evaluating AI mod...</td>\n",
       "      <td>Python</td>\n",
       "      <td>Contributors 182</td>\n",
       "    </tr>\n",
       "    <tr>\n",
       "      <th>7</th>\n",
       "      <td>KalleHallden / exer_log</td>\n",
       "      <td>N/A</td>\n",
       "      <td>Dart</td>\n",
       "      <td>Contributors 4</td>\n",
       "    </tr>\n",
       "    <tr>\n",
       "      <th>8</th>\n",
       "      <td>juliocesarfort / public-pentesting-reports</td>\n",
       "      <td>Curated list of public penetration test report...</td>\n",
       "      <td>CSS</td>\n",
       "      <td>Contributors 33</td>\n",
       "    </tr>\n",
       "    <tr>\n",
       "      <th>9</th>\n",
       "      <td>EbookFoundation / free-programming-books</td>\n",
       "      <td>📚 Freely available programming books</td>\n",
       "      <td>Built by</td>\n",
       "      <td>Contributors 1,988</td>\n",
       "    </tr>\n",
       "    <tr>\n",
       "      <th>10</th>\n",
       "      <td>moyix / fauxpilot</td>\n",
       "      <td>FauxPilot - an open-source GitHub Copilot server</td>\n",
       "      <td>Python</td>\n",
       "      <td>Contributors 2</td>\n",
       "    </tr>\n",
       "    <tr>\n",
       "      <th>11</th>\n",
       "      <td>josejesusguzman / acordeon-az500-innoovaccion</td>\n",
       "      <td>N/A</td>\n",
       "      <td>Built by</td>\n",
       "      <td>Contributors 86</td>\n",
       "    </tr>\n",
       "    <tr>\n",
       "      <th>12</th>\n",
       "      <td>adiwajshing / Baileys</td>\n",
       "      <td>Lightweight full-featured WhatsApp Web + Multi...</td>\n",
       "      <td>JavaScript</td>\n",
       "      <td>N/A</td>\n",
       "    </tr>\n",
       "    <tr>\n",
       "      <th>13</th>\n",
       "      <td>qmk / qmk_firmware</td>\n",
       "      <td>Open-source keyboard firmware for Atmel AVR an...</td>\n",
       "      <td>C</td>\n",
       "      <td>Contributors 1,747</td>\n",
       "    </tr>\n",
       "    <tr>\n",
       "      <th>14</th>\n",
       "      <td>valinet / ExplorerPatcher</td>\n",
       "      <td>This project aims to enhance the working envir...</td>\n",
       "      <td>C</td>\n",
       "      <td>Contributors 6</td>\n",
       "    </tr>\n",
       "    <tr>\n",
       "      <th>15</th>\n",
       "      <td>PKUFlyingPig / cs-self-learning</td>\n",
       "      <td>计算机自学指南</td>\n",
       "      <td>HTML</td>\n",
       "      <td>Contributors 43</td>\n",
       "    </tr>\n",
       "    <tr>\n",
       "      <th>16</th>\n",
       "      <td>lucidrains / imagen-pytorch</td>\n",
       "      <td>Implementation of Imagen, Google's Text-to-Ima...</td>\n",
       "      <td>Python</td>\n",
       "      <td>Contributors 11</td>\n",
       "    </tr>\n",
       "    <tr>\n",
       "      <th>17</th>\n",
       "      <td>Womsxd / AutoMihoyoBBS</td>\n",
       "      <td>米游社自动签到，支持：崩坏二、崩坏三、原神、未定事件簿，米游币自动获取</td>\n",
       "      <td>Python</td>\n",
       "      <td>Contributors 16</td>\n",
       "    </tr>\n",
       "    <tr>\n",
       "      <th>18</th>\n",
       "      <td>getify / You-Dont-Know-JS</td>\n",
       "      <td>A book series on JavaScript. @YDKJS on twitter.</td>\n",
       "      <td>Built by</td>\n",
       "      <td>Contributors 177</td>\n",
       "    </tr>\n",
       "    <tr>\n",
       "      <th>19</th>\n",
       "      <td>coolsnowwolf / lede</td>\n",
       "      <td>Lean's OpenWrt source</td>\n",
       "      <td>C</td>\n",
       "      <td>Contributors 301</td>\n",
       "    </tr>\n",
       "    <tr>\n",
       "      <th>20</th>\n",
       "      <td>google-research / multinerf</td>\n",
       "      <td>A Code Release for Mip-NeRF 360, Ref-NeRF, and...</td>\n",
       "      <td>Python</td>\n",
       "      <td>Contributors 2</td>\n",
       "    </tr>\n",
       "    <tr>\n",
       "      <th>21</th>\n",
       "      <td>termux / termux-app</td>\n",
       "      <td>Termux - a terminal emulator application for A...</td>\n",
       "      <td>Java</td>\n",
       "      <td>Contributors 61</td>\n",
       "    </tr>\n",
       "    <tr>\n",
       "      <th>22</th>\n",
       "      <td>godotengine / godot</td>\n",
       "      <td>Godot Engine – Multi-platform 2D and 3D game e...</td>\n",
       "      <td>C++</td>\n",
       "      <td>Contributors 1,728</td>\n",
       "    </tr>\n",
       "    <tr>\n",
       "      <th>23</th>\n",
       "      <td>rust-lang / rust-analyzer</td>\n",
       "      <td>A Rust compiler front-end for IDEs</td>\n",
       "      <td>Rust</td>\n",
       "      <td>Contributors 585</td>\n",
       "    </tr>\n",
       "    <tr>\n",
       "      <th>24</th>\n",
       "      <td>ventoy / Ventoy</td>\n",
       "      <td>A new bootable USB solution.</td>\n",
       "      <td>C</td>\n",
       "      <td>Contributors 74</td>\n",
       "    </tr>\n",
       "  </tbody>\n",
       "</table>\n",
       "</div>"
      ],
      "text/plain": [
       "                                 Repository Title  \\\n",
       "0                           toeverything / AFFiNE   \n",
       "1                                    utmapp / UTM   \n",
       "2                   NVIDIAGameWorks / kaolin-wisp   \n",
       "3                            microsoft / terminal   \n",
       "4                              jina-ai / discoart   \n",
       "5                          martinshkreli / models   \n",
       "6                       facebookresearch / ParlAI   \n",
       "7                         KalleHallden / exer_log   \n",
       "8      juliocesarfort / public-pentesting-reports   \n",
       "9        EbookFoundation / free-programming-books   \n",
       "10                              moyix / fauxpilot   \n",
       "11  josejesusguzman / acordeon-az500-innoovaccion   \n",
       "12                          adiwajshing / Baileys   \n",
       "13                             qmk / qmk_firmware   \n",
       "14                      valinet / ExplorerPatcher   \n",
       "15                PKUFlyingPig / cs-self-learning   \n",
       "16                    lucidrains / imagen-pytorch   \n",
       "17                         Womsxd / AutoMihoyoBBS   \n",
       "18                      getify / You-Dont-Know-JS   \n",
       "19                            coolsnowwolf / lede   \n",
       "20                    google-research / multinerf   \n",
       "21                            termux / termux-app   \n",
       "22                            godotengine / godot   \n",
       "23                      rust-lang / rust-analyzer   \n",
       "24                                ventoy / Ventoy   \n",
       "\n",
       "                               Repository Description    Language  \\\n",
       "0   There can be more than Notion and Miro. Affine...  TypeScript   \n",
       "1                  Virtual machines for iOS and macOS       Swift   \n",
       "2   NVIDIA Kaolin Wisp is a PyTorch library powere...      Python   \n",
       "3   The new Windows Terminal and the original Wind...         C++   \n",
       "4         Create Disco Diffusion artworks in one line      Python   \n",
       "5                      stock market models - have fun    Built by   \n",
       "6   A framework for training and evaluating AI mod...      Python   \n",
       "7                                                 N/A        Dart   \n",
       "8   Curated list of public penetration test report...         CSS   \n",
       "9                📚 Freely available programming books    Built by   \n",
       "10   FauxPilot - an open-source GitHub Copilot server      Python   \n",
       "11                                                N/A    Built by   \n",
       "12  Lightweight full-featured WhatsApp Web + Multi...  JavaScript   \n",
       "13  Open-source keyboard firmware for Atmel AVR an...           C   \n",
       "14  This project aims to enhance the working envir...           C   \n",
       "15                                            计算机自学指南        HTML   \n",
       "16  Implementation of Imagen, Google's Text-to-Ima...      Python   \n",
       "17                米游社自动签到，支持：崩坏二、崩坏三、原神、未定事件簿，米游币自动获取      Python   \n",
       "18    A book series on JavaScript. @YDKJS on twitter.    Built by   \n",
       "19                              Lean's OpenWrt source           C   \n",
       "20  A Code Release for Mip-NeRF 360, Ref-NeRF, and...      Python   \n",
       "21  Termux - a terminal emulator application for A...        Java   \n",
       "22  Godot Engine – Multi-platform 2D and 3D game e...         C++   \n",
       "23                 A Rust compiler front-end for IDEs        Rust   \n",
       "24                       A new bootable USB solution.           C   \n",
       "\n",
       "          Contributors  \n",
       "0      Contributors 13  \n",
       "1      Contributors 40  \n",
       "2       Contributors 4  \n",
       "3     Contributors 336  \n",
       "4       Contributors 5  \n",
       "5                  N/A  \n",
       "6     Contributors 182  \n",
       "7       Contributors 4  \n",
       "8      Contributors 33  \n",
       "9   Contributors 1,988  \n",
       "10      Contributors 2  \n",
       "11     Contributors 86  \n",
       "12                 N/A  \n",
       "13  Contributors 1,747  \n",
       "14      Contributors 6  \n",
       "15     Contributors 43  \n",
       "16     Contributors 11  \n",
       "17     Contributors 16  \n",
       "18    Contributors 177  \n",
       "19    Contributors 301  \n",
       "20      Contributors 2  \n",
       "21     Contributors 61  \n",
       "22  Contributors 1,728  \n",
       "23    Contributors 585  \n",
       "24     Contributors 74  "
      ]
     },
     "execution_count": 239,
     "metadata": {},
     "output_type": "execute_result"
    }
   ],
   "source": [
    "# Preparing data frame.\n",
    "\n",
    "repository= pd.DataFrame({'Repository Title':title, 'Repository Description': descrption,\n",
    "                         'Language':language,'Contributors': contri})\n",
    "print(\" Trending Repository in github\\n\")\n",
    "repository"
   ]
  },
  {
   "cell_type": "code",
   "execution_count": 240,
   "id": "ff4277e1",
   "metadata": {},
   "outputs": [],
   "source": [
    "driver.close()"
   ]
  },
  {
   "cell_type": "markdown",
   "id": "9ac06323",
   "metadata": {},
   "source": [
    "Q6. Scrape the details of top 100 songs on billiboard.com.\n",
    "Url = https:/www.billboard.com/\n",
    "You have to find the following details:\n",
    "A) Song name\n",
    "B) Artist name\n",
    "C) Last week rank\n",
    "D) Peak rank\n",
    "E) Weeks on board\n",
    "Note: - From the home page you have to click on the charts option then hot 100-page link through code"
   ]
  },
  {
   "cell_type": "code",
   "execution_count": 241,
   "id": "38f9c5f6",
   "metadata": {},
   "outputs": [],
   "source": [
    "# getting the web driver\n",
    "driver=webdriver.Chrome(r'D:\\chromedriver_win32\\chromedriver.exe')"
   ]
  },
  {
   "cell_type": "code",
   "execution_count": 249,
   "id": "6f318fc2",
   "metadata": {},
   "outputs": [],
   "source": [
    "# getting web page\n",
    "url='https:/www.billboard.com/'\n",
    "driver.get(url)"
   ]
  },
  {
   "cell_type": "code",
   "execution_count": 250,
   "id": "9fe600b8",
   "metadata": {},
   "outputs": [],
   "source": [
    "# find web elemnet for menu bar and click on it\n",
    "menu_bar=driver.find_element(By.XPATH, '/html/body/div[3]/header/div[1]/div/div/div[1]/button')\n",
    "menu_bar.click()"
   ]
  },
  {
   "cell_type": "code",
   "execution_count": 251,
   "id": "0ef4d628",
   "metadata": {},
   "outputs": [],
   "source": [
    "# find web element for chart and click on it\n",
    "chart_tab=driver.find_element(By.XPATH, '/html/body/div[3]/div[6]/div/div/div/ul/li[1]/h3/button')\n",
    "chart_tab.click()"
   ]
  },
  {
   "cell_type": "code",
   "execution_count": 252,
   "id": "61154d63",
   "metadata": {},
   "outputs": [],
   "source": [
    "#find web element for Hot 100 and click on it\n",
    "hot_100_tag=driver.find_element(By.XPATH,'/html/body/div[3]/div[6]/div/div/div/ul/li[1]/ul/li[2]/a')\n",
    "hot_100_tag.click()"
   ]
  },
  {
   "cell_type": "code",
   "execution_count": 257,
   "id": "36b4104a",
   "metadata": {},
   "outputs": [
    {
     "data": {
      "text/plain": [
       "419"
      ]
     },
     "execution_count": 257,
     "metadata": {},
     "output_type": "execute_result"
    }
   ],
   "source": [
    "#web element for song title\n",
    "xyz_tag=driver.find_elements(By.ID, \"title-of-a-story\")\n",
    "xyz=[]\n",
    "for i in xyz_tag:\n",
    "    xyz.append(i.text)\n",
    "len(xyz)"
   ]
  },
  {
   "cell_type": "code",
   "execution_count": 268,
   "id": "95300c22",
   "metadata": {},
   "outputs": [],
   "source": [
    "# scraping meaningful data, here songs from scarpe data\n",
    "song = list(filter (lambda k: k!= '', xyz))\n",
    "song=song[:100]"
   ]
  },
  {
   "cell_type": "code",
   "execution_count": 270,
   "id": "19abdf64",
   "metadata": {},
   "outputs": [
    {
     "data": {
      "text/plain": [
       "100"
      ]
     },
     "execution_count": 270,
     "metadata": {},
     "output_type": "execute_result"
    }
   ],
   "source": [
    "len(song)"
   ]
  },
  {
   "cell_type": "code",
   "execution_count": 274,
   "id": "93bb8a1d",
   "metadata": {},
   "outputs": [
    {
     "data": {
      "text/plain": [
       "100"
      ]
     },
     "execution_count": 274,
     "metadata": {},
     "output_type": "execute_result"
    }
   ],
   "source": [
    "# scrape web elemnt for artist and scrape the details\n",
    "artist=[]\n",
    "art_tag= driver.find_elements(By.XPATH,'/html/body/div[3]/main/div[2]/div[3]/div/div/div/div[2]/div/ul/li[4]/ul/li[1]/span')\n",
    "for i in art_tag:\n",
    "    artist.append(i.text)\n",
    "len(artist)\n",
    "\n"
   ]
  },
  {
   "cell_type": "code",
   "execution_count": 276,
   "id": "2de5f115",
   "metadata": {},
   "outputs": [
    {
     "data": {
      "text/plain": [
       "100"
      ]
     },
     "execution_count": 276,
     "metadata": {},
     "output_type": "execute_result"
    }
   ],
   "source": [
    "# find web elements of all the required field and scrape them.\n",
    "last_rank=[]\n",
    "last_tag=driver.find_elements(By.XPATH, '/html/body/div[3]/main/div[2]/div[3]/div/div/div/div[2]/div/ul/li[4]/ul/li[7]/ul/li[3]')\n",
    "for i in last_tag:\n",
    "    last_rank.append(i.text)\n",
    "len(last_rank)"
   ]
  },
  {
   "cell_type": "code",
   "execution_count": 278,
   "id": "e4cba38d",
   "metadata": {},
   "outputs": [
    {
     "data": {
      "text/plain": [
       "100"
      ]
     },
     "execution_count": 278,
     "metadata": {},
     "output_type": "execute_result"
    }
   ],
   "source": [
    "peak_rank=[]\n",
    "peak_tag=driver.find_elements(By.XPATH,'/html/body/div[3]/main/div[2]/div[3]/div/div/div/div[2]/div/ul/li[4]/ul/li[7]/ul/li[4]/span')\n",
    "for i in peak_tag:\n",
    "    peak_rank.append(i.text)\n",
    "len(peak_rank)"
   ]
  },
  {
   "cell_type": "code",
   "execution_count": 280,
   "id": "3f8206b0",
   "metadata": {},
   "outputs": [
    {
     "data": {
      "text/plain": [
       "100"
      ]
     },
     "execution_count": 280,
     "metadata": {},
     "output_type": "execute_result"
    }
   ],
   "source": [
    "weeks_on=[]\n",
    "w_board_tag=driver.find_elements(By.XPATH, '/html/body/div[3]/main/div[2]/div[3]/div/div/div/div[2]/div/ul/li[4]/ul/li[7]/ul/li[5]/span')\n",
    "for i in w_board_tag:\n",
    "    weeks_on.append(i.text)\n",
    "len(weeks_on)"
   ]
  },
  {
   "cell_type": "code",
   "execution_count": 282,
   "id": "d76524ce",
   "metadata": {},
   "outputs": [
    {
     "name": "stdout",
     "output_type": "stream",
     "text": [
      "Hot 100 in BillBoard\n",
      "\n"
     ]
    },
    {
     "data": {
      "text/html": [
       "<div>\n",
       "<style scoped>\n",
       "    .dataframe tbody tr th:only-of-type {\n",
       "        vertical-align: middle;\n",
       "    }\n",
       "\n",
       "    .dataframe tbody tr th {\n",
       "        vertical-align: top;\n",
       "    }\n",
       "\n",
       "    .dataframe thead th {\n",
       "        text-align: right;\n",
       "    }\n",
       "</style>\n",
       "<table border=\"1\" class=\"dataframe\">\n",
       "  <thead>\n",
       "    <tr style=\"text-align: right;\">\n",
       "      <th></th>\n",
       "      <th>Song Title</th>\n",
       "      <th>Artist</th>\n",
       "      <th>Last week Rank</th>\n",
       "      <th>Peak Rank</th>\n",
       "      <th>Weeks On Board</th>\n",
       "    </tr>\n",
       "  </thead>\n",
       "  <tbody>\n",
       "    <tr>\n",
       "      <th>0</th>\n",
       "      <td>About Damn Time</td>\n",
       "      <td>Lizzo</td>\n",
       "      <td>1</td>\n",
       "      <td>1</td>\n",
       "      <td>15</td>\n",
       "    </tr>\n",
       "    <tr>\n",
       "      <th>1</th>\n",
       "      <td>As It Was</td>\n",
       "      <td>Harry Styles</td>\n",
       "      <td>2</td>\n",
       "      <td>1</td>\n",
       "      <td>17</td>\n",
       "    </tr>\n",
       "    <tr>\n",
       "      <th>2</th>\n",
       "      <td>Running Up That Hill (A Deal With God)</td>\n",
       "      <td>Kate Bush</td>\n",
       "      <td>3</td>\n",
       "      <td>3</td>\n",
       "      <td>29</td>\n",
       "    </tr>\n",
       "    <tr>\n",
       "      <th>3</th>\n",
       "      <td>First Class</td>\n",
       "      <td>Jack Harlow</td>\n",
       "      <td>4</td>\n",
       "      <td>1</td>\n",
       "      <td>16</td>\n",
       "    </tr>\n",
       "    <tr>\n",
       "      <th>4</th>\n",
       "      <td>Wait For U</td>\n",
       "      <td>Future Featuring Drake &amp; Tems</td>\n",
       "      <td>5</td>\n",
       "      <td>1</td>\n",
       "      <td>13</td>\n",
       "    </tr>\n",
       "    <tr>\n",
       "      <th>...</th>\n",
       "      <td>...</td>\n",
       "      <td>...</td>\n",
       "      <td>...</td>\n",
       "      <td>...</td>\n",
       "      <td>...</td>\n",
       "    </tr>\n",
       "    <tr>\n",
       "      <th>95</th>\n",
       "      <td>Te Felicito</td>\n",
       "      <td>Shakira &amp; Rauw Alejandro</td>\n",
       "      <td>95</td>\n",
       "      <td>67</td>\n",
       "      <td>8</td>\n",
       "    </tr>\n",
       "    <tr>\n",
       "      <th>96</th>\n",
       "      <td>Are You Entertained</td>\n",
       "      <td>Russ &amp; Ed Sheeran</td>\n",
       "      <td>-</td>\n",
       "      <td>97</td>\n",
       "      <td>1</td>\n",
       "    </tr>\n",
       "    <tr>\n",
       "      <th>97</th>\n",
       "      <td>Bzrp Music Sessions, Vol. 52</td>\n",
       "      <td>Bizarrap &amp; Quevedo</td>\n",
       "      <td>-</td>\n",
       "      <td>98</td>\n",
       "      <td>1</td>\n",
       "    </tr>\n",
       "    <tr>\n",
       "      <th>98</th>\n",
       "      <td>Right On</td>\n",
       "      <td>Lil Baby</td>\n",
       "      <td>97</td>\n",
       "      <td>13</td>\n",
       "      <td>15</td>\n",
       "    </tr>\n",
       "    <tr>\n",
       "      <th>99</th>\n",
       "      <td>La Corriente</td>\n",
       "      <td>Bad Bunny &amp; Tony Dize</td>\n",
       "      <td>99</td>\n",
       "      <td>32</td>\n",
       "      <td>9</td>\n",
       "    </tr>\n",
       "  </tbody>\n",
       "</table>\n",
       "<p>100 rows × 5 columns</p>\n",
       "</div>"
      ],
      "text/plain": [
       "                                Song Title                         Artist  \\\n",
       "0                          About Damn Time                          Lizzo   \n",
       "1                                As It Was                   Harry Styles   \n",
       "2   Running Up That Hill (A Deal With God)                      Kate Bush   \n",
       "3                              First Class                    Jack Harlow   \n",
       "4                               Wait For U  Future Featuring Drake & Tems   \n",
       "..                                     ...                            ...   \n",
       "95                             Te Felicito       Shakira & Rauw Alejandro   \n",
       "96                     Are You Entertained              Russ & Ed Sheeran   \n",
       "97            Bzrp Music Sessions, Vol. 52             Bizarrap & Quevedo   \n",
       "98                                Right On                       Lil Baby   \n",
       "99                            La Corriente          Bad Bunny & Tony Dize   \n",
       "\n",
       "   Last week Rank Peak Rank Weeks On Board  \n",
       "0               1         1             15  \n",
       "1               2         1             17  \n",
       "2               3         3             29  \n",
       "3               4         1             16  \n",
       "4               5         1             13  \n",
       "..            ...       ...            ...  \n",
       "95             95        67              8  \n",
       "96              -        97              1  \n",
       "97              -        98              1  \n",
       "98             97        13             15  \n",
       "99             99        32              9  \n",
       "\n",
       "[100 rows x 5 columns]"
      ]
     },
     "execution_count": 282,
     "metadata": {},
     "output_type": "execute_result"
    }
   ],
   "source": [
    "# preparing dataframe\n",
    "hot_100= pd.DataFrame({'Song Title':song, 'Artist':artist, 'Last week Rank':last_rank, 'Peak Rank':peak_rank,\n",
    "                     'Weeks On Board':weeks_on})\n",
    "print(\"Hot 100 in BillBoard\\n\")\n",
    "hot_100"
   ]
  },
  {
   "cell_type": "code",
   "execution_count": 283,
   "id": "b5167d30",
   "metadata": {},
   "outputs": [],
   "source": [
    "driver.close()"
   ]
  },
  {
   "cell_type": "markdown",
   "id": "6ae42e23",
   "metadata": {},
   "source": [
    "Q7. Scrape the details of Data science recruiters from naukri.com.\n",
    "Url = https://www.naukri.com/hr-recruiters-consultants\n",
    "You have to find the following details:\n",
    "A) Name\n",
    "B) Designation\n",
    "C) Company\n",
    "D) Skills they hire for\n",
    "E) Location\n",
    "Note: - From naukri.com homepage click on the recruiters option and the on the search pane type Data science and\n",
    "click on search. All this should be done through code"
   ]
  },
  {
   "cell_type": "code",
   "execution_count": 284,
   "id": "3d652eae",
   "metadata": {},
   "outputs": [],
   "source": [
    "# getting the web driver\n",
    "driver=webdriver.Chrome(r'D:\\chromedriver_win32\\chromedriver.exe')"
   ]
  },
  {
   "cell_type": "code",
   "execution_count": 285,
   "id": "3a3d71cf",
   "metadata": {},
   "outputs": [],
   "source": [
    "# getting the web page\n",
    "url='https://www.naukri.com/hr-recruiters-consultants'\n",
    "driver.get(url)"
   ]
  },
  {
   "cell_type": "code",
   "execution_count": 286,
   "id": "62130fb9",
   "metadata": {},
   "outputs": [],
   "source": [
    "# clicking on search bar and writing DataScience in it\n",
    "srch_bar=driver.find_element(By.XPATH,'/html/body/div[2]/div[2]/div[1]/div[1]/form/div[1]/div/div[1]/div[1]/div[2]/input')\n",
    "srch_bar.send_keys(\"Data Science\")"
   ]
  },
  {
   "cell_type": "code",
   "execution_count": 287,
   "id": "07562193",
   "metadata": {},
   "outputs": [],
   "source": [
    "# find web elemnt for search button and click on it\n",
    "srch_button=driver.find_element(By.XPATH,'/html/body/div[2]/div[2]/div[1]/div[1]/form/div[1]/button')\n",
    "srch_button.click()"
   ]
  },
  {
   "cell_type": "code",
   "execution_count": 292,
   "id": "80d00ed1",
   "metadata": {},
   "outputs": [
    {
     "data": {
      "text/plain": [
       "50"
      ]
     },
     "execution_count": 292,
     "metadata": {},
     "output_type": "execute_result"
    }
   ],
   "source": [
    "# finding web element for all the required field and scrape the details from it\n",
    "name=[]\n",
    "name_tag=driver.find_elements(By.XPATH,'//a[@class=\"ellipsis\"]/span[1]')\n",
    "for i in name_tag:\n",
    "    name.append(i.text)\n",
    "len(name)"
   ]
  },
  {
   "cell_type": "code",
   "execution_count": 299,
   "id": "3e06b6d3",
   "metadata": {},
   "outputs": [
    {
     "data": {
      "text/plain": [
       "50"
      ]
     },
     "execution_count": 299,
     "metadata": {},
     "output_type": "execute_result"
    }
   ],
   "source": [
    "designation=[]\n",
    "desig_tag=driver.find_elements(By.XPATH, '//span[@class=\"ellipsis clr\"]')\n",
    "for i in desig_tag:\n",
    "    designation.append(i.text)    \n",
    "len(designation)                       "
   ]
  },
  {
   "cell_type": "code",
   "execution_count": 312,
   "id": "71c4b046",
   "metadata": {},
   "outputs": [
    {
     "data": {
      "text/plain": [
       "50"
      ]
     },
     "execution_count": 312,
     "metadata": {},
     "output_type": "execute_result"
    }
   ],
   "source": [
    "company=[]\n",
    "compny_tag=driver.find_elements(By.XPATH, '//a[2][@class=\"ellipsis\"]')\n",
    "for i in compny_tag:\n",
    "    company.append(i.get_attribute('title'))\n",
    "len(company)"
   ]
  },
  {
   "cell_type": "code",
   "execution_count": 314,
   "id": "722d12c6",
   "metadata": {},
   "outputs": [
    {
     "data": {
      "text/plain": [
       "50"
      ]
     },
     "execution_count": 314,
     "metadata": {},
     "output_type": "execute_result"
    }
   ],
   "source": [
    "skills=[]\n",
    "skill_tag=driver.find_elements(By.XPATH,'//div[@class=\"hireSec highlightable\"]')\n",
    "for i in skill_tag:\n",
    "    skills.append(i.text)\n",
    "len(skills)"
   ]
  },
  {
   "cell_type": "code",
   "execution_count": 316,
   "id": "68e52886",
   "metadata": {},
   "outputs": [
    {
     "data": {
      "text/plain": [
       "48"
      ]
     },
     "execution_count": 316,
     "metadata": {},
     "output_type": "execute_result"
    }
   ],
   "source": [
    "location=[]\n",
    "loc_tag=driver.find_elements(By.XPATH,'//small[@class=\"ellipsis\"]')\n",
    "for i in loc_tag:\n",
    "    location.append(i.text)\n",
    "len(location)"
   ]
  },
  {
   "cell_type": "code",
   "execution_count": 317,
   "id": "aec70bff",
   "metadata": {},
   "outputs": [],
   "source": [
    "# name whoes location index are not there\n",
    "index_1=name.index(\"Sunil Vedula\")\n",
    "index_2=name.index(\"Amir Chowdhury\")"
   ]
  },
  {
   "cell_type": "code",
   "execution_count": 318,
   "id": "310eb026",
   "metadata": {},
   "outputs": [],
   "source": [
    "# filling gap with N/A\n",
    "location.insert(index_1,'N/A')\n",
    "location.insert(index_2,'N/A')"
   ]
  },
  {
   "cell_type": "code",
   "execution_count": 319,
   "id": "8855b1e6",
   "metadata": {},
   "outputs": [
    {
     "data": {
      "text/plain": [
       "50"
      ]
     },
     "execution_count": 319,
     "metadata": {},
     "output_type": "execute_result"
    }
   ],
   "source": [
    "len(location)"
   ]
  },
  {
   "cell_type": "code",
   "execution_count": 320,
   "id": "6b8784dc",
   "metadata": {},
   "outputs": [
    {
     "name": "stdout",
     "output_type": "stream",
     "text": [
      "List of DataScience Recruiters\n",
      "\n"
     ]
    },
    {
     "data": {
      "text/html": [
       "<div>\n",
       "<style scoped>\n",
       "    .dataframe tbody tr th:only-of-type {\n",
       "        vertical-align: middle;\n",
       "    }\n",
       "\n",
       "    .dataframe tbody tr th {\n",
       "        vertical-align: top;\n",
       "    }\n",
       "\n",
       "    .dataframe thead th {\n",
       "        text-align: right;\n",
       "    }\n",
       "</style>\n",
       "<table border=\"1\" class=\"dataframe\">\n",
       "  <thead>\n",
       "    <tr style=\"text-align: right;\">\n",
       "      <th></th>\n",
       "      <th>Name</th>\n",
       "      <th>Designation</th>\n",
       "      <th>Company</th>\n",
       "      <th>Skills they are Hiring</th>\n",
       "      <th>Location</th>\n",
       "    </tr>\n",
       "  </thead>\n",
       "  <tbody>\n",
       "    <tr>\n",
       "      <th>0</th>\n",
       "      <td>Aakash Harit</td>\n",
       "      <td>HR Manager</td>\n",
       "      <td>Data Science Network</td>\n",
       "      <td>Classic ASP Developer, Internet Marketing Prof...</td>\n",
       "      <td>Delhi</td>\n",
       "    </tr>\n",
       "    <tr>\n",
       "      <th>1</th>\n",
       "      <td>shravan Kumar Gaddam</td>\n",
       "      <td>Company Recruiter</td>\n",
       "      <td>Shore Infotech India Pvt. Ltd</td>\n",
       "      <td>.Net, Java, Data Science, Linux Administration...</td>\n",
       "      <td>Hyderabad / Secunderabad</td>\n",
       "    </tr>\n",
       "    <tr>\n",
       "      <th>2</th>\n",
       "      <td>MARSIAN Technologies LLP</td>\n",
       "      <td>Company HR</td>\n",
       "      <td>MARSIAN Technologies LLP</td>\n",
       "      <td>Data Science, Artificial Intelligence, Machine...</td>\n",
       "      <td>Pune</td>\n",
       "    </tr>\n",
       "    <tr>\n",
       "      <th>3</th>\n",
       "      <td>Anik Agrawal</td>\n",
       "      <td>Company Recruiter</td>\n",
       "      <td>Enerlytics Software Solutions Pvt Ltd</td>\n",
       "      <td>Mean Stack, javascript, angularjs, mongodb, We...</td>\n",
       "      <td>Ahmedabad</td>\n",
       "    </tr>\n",
       "    <tr>\n",
       "      <th>4</th>\n",
       "      <td>subhas patel</td>\n",
       "      <td>Founder CEO</td>\n",
       "      <td>LibraryXProject</td>\n",
       "      <td>Hadoop, Spark, Digital Strategy, Data Architec...</td>\n",
       "      <td>UK - (london)</td>\n",
       "    </tr>\n",
       "    <tr>\n",
       "      <th>5</th>\n",
       "      <td>Abhishek - Only Analytics Hiring - India and</td>\n",
       "      <td>Recruitment Lead Consultant</td>\n",
       "      <td>Apidel Technologies Division of Transpower</td>\n",
       "      <td>Analytics, Business Intelligence, Business Ana...</td>\n",
       "      <td>Vadodara / Baroda</td>\n",
       "    </tr>\n",
       "    <tr>\n",
       "      <th>6</th>\n",
       "      <td>Institute for Financial Management and Resear</td>\n",
       "      <td>Programme Manager</td>\n",
       "      <td>IFMR</td>\n",
       "      <td>Data Science</td>\n",
       "      <td>Chennai</td>\n",
       "    </tr>\n",
       "    <tr>\n",
       "      <th>7</th>\n",
       "      <td>Balu Ramesh</td>\n",
       "      <td>HR Administrator</td>\n",
       "      <td>Techvantage Systems Pvt Ltd</td>\n",
       "      <td>Machine Learning, algorithms, Go Getter, Compu...</td>\n",
       "      <td>Trivandrum</td>\n",
       "    </tr>\n",
       "    <tr>\n",
       "      <th>8</th>\n",
       "      <td>Asif Lucknowi</td>\n",
       "      <td>Director</td>\n",
       "      <td>Weupskill- Live Wire India</td>\n",
       "      <td>Technical Training, Software Development, Pres...</td>\n",
       "      <td>Indore</td>\n",
       "    </tr>\n",
       "    <tr>\n",
       "      <th>9</th>\n",
       "      <td>InstaFinancials</td>\n",
       "      <td>Human Resource</td>\n",
       "      <td>CBL Data Science Private Limited</td>\n",
       "      <td>Software Development, It Sales, Account Manage...</td>\n",
       "      <td>Bengaluru / Bangalore</td>\n",
       "    </tr>\n",
       "    <tr>\n",
       "      <th>10</th>\n",
       "      <td>Vaishnavi Kudalkar</td>\n",
       "      <td>HR Executive</td>\n",
       "      <td>Codeachive learning</td>\n",
       "      <td>Data Science, Python, Data Analytics</td>\n",
       "      <td>Mumbai</td>\n",
       "    </tr>\n",
       "    <tr>\n",
       "      <th>11</th>\n",
       "      <td>Priyanka Akiri</td>\n",
       "      <td>HR Manager</td>\n",
       "      <td>Infinitive Software Solutions</td>\n",
       "      <td>Oracle Dba, Data Science, Data Warehousing, ET...</td>\n",
       "      <td>Hyderabad</td>\n",
       "    </tr>\n",
       "    <tr>\n",
       "      <th>12</th>\n",
       "      <td>Kalpana Dumpala</td>\n",
       "      <td>Executive Hiring</td>\n",
       "      <td>Innominds Software</td>\n",
       "      <td>Qa, Ui/ux, Java Developer, Java Architect, C++...</td>\n",
       "      <td>Hyderabad / Secunderabad</td>\n",
       "    </tr>\n",
       "    <tr>\n",
       "      <th>13</th>\n",
       "      <td>Mubarak</td>\n",
       "      <td>Company HR</td>\n",
       "      <td>MoneyTap</td>\n",
       "      <td>Business Intelligence, Data Warehousing, Data ...</td>\n",
       "      <td>Bengaluru / Bangalore</td>\n",
       "    </tr>\n",
       "    <tr>\n",
       "      <th>14</th>\n",
       "      <td>Kushal Rastogi</td>\n",
       "      <td>Company HR</td>\n",
       "      <td>QuantMagnum Technologies Pvt. Ltd.</td>\n",
       "      <td>Office Administration, Hr Administration, tele...</td>\n",
       "      <td>Mumbai</td>\n",
       "    </tr>\n",
       "    <tr>\n",
       "      <th>15</th>\n",
       "      <td>Mahesh Babu Channa</td>\n",
       "      <td>HR Team Lead</td>\n",
       "      <td>SocialPrachar.com</td>\n",
       "      <td>Social Media, digital media maketing, seo, smm...</td>\n",
       "      <td>Hyderabad / Secunderabad</td>\n",
       "    </tr>\n",
       "    <tr>\n",
       "      <th>16</th>\n",
       "      <td>Kapil Devang</td>\n",
       "      <td>HR Manager</td>\n",
       "      <td>BISP Solutions</td>\n",
       "      <td>Big Data, Hadoop, Data Analytics, Data Science</td>\n",
       "      <td>Bhopal</td>\n",
       "    </tr>\n",
       "    <tr>\n",
       "      <th>17</th>\n",
       "      <td>Sakshi Chhikara</td>\n",
       "      <td>Assistant Manager HR</td>\n",
       "      <td>BIZ INFOTECNO PRIVATE LIMITED</td>\n",
       "      <td>React.js, Data Science, Java, Front End, Busin...</td>\n",
       "      <td>Chandigarh</td>\n",
       "    </tr>\n",
       "    <tr>\n",
       "      <th>18</th>\n",
       "      <td>Ruchi Dhote</td>\n",
       "      <td>Senior Executive Talent Acquisition</td>\n",
       "      <td>Bristlecone India Ltd</td>\n",
       "      <td>Qlikview, Qlik Sense, Microsoft Azure, Power B...</td>\n",
       "      <td>Pune</td>\n",
       "    </tr>\n",
       "    <tr>\n",
       "      <th>19</th>\n",
       "      <td>Manisha Yadav</td>\n",
       "      <td>HR Executive</td>\n",
       "      <td>Easi Tax</td>\n",
       "      <td>Telecalling, Client Interaction, Marketing, Re...</td>\n",
       "      <td>Navi Mumbai</td>\n",
       "    </tr>\n",
       "    <tr>\n",
       "      <th>20</th>\n",
       "      <td>Riya Rajesh</td>\n",
       "      <td>Manager Talent Acquisition</td>\n",
       "      <td>Novelworx Digital Solutions</td>\n",
       "      <td>Data Science</td>\n",
       "      <td>Cochin</td>\n",
       "    </tr>\n",
       "    <tr>\n",
       "      <th>21</th>\n",
       "      <td>Rashmi Bhattacharjee</td>\n",
       "      <td>HR Head</td>\n",
       "      <td>AXESTRACK SOFTWARE SOLUTIONS PRIVATE LIMITED</td>\n",
       "      <td>Corporate Sales, Software Development, Softwar...</td>\n",
       "      <td>Delhi</td>\n",
       "    </tr>\n",
       "    <tr>\n",
       "      <th>22</th>\n",
       "      <td>Faizan Kareem</td>\n",
       "      <td>HR MANAGER</td>\n",
       "      <td>FirstTech Consaltants Pvt.Ltd</td>\n",
       "      <td>Data Analytics, Data Science, Machine Learning...</td>\n",
       "      <td>Hyderabad / Secunderabad</td>\n",
       "    </tr>\n",
       "    <tr>\n",
       "      <th>23</th>\n",
       "      <td>Rithika dadwal</td>\n",
       "      <td>HR Recruiter</td>\n",
       "      <td>Affine Analytics</td>\n",
       "      <td>Data Science, Machine Learning, Python, R, Dee...</td>\n",
       "      <td>Pune</td>\n",
       "    </tr>\n",
       "    <tr>\n",
       "      <th>24</th>\n",
       "      <td>Sandhya Khandagale</td>\n",
       "      <td>HR Recruiter</td>\n",
       "      <td>Compumatrice Multimedia Pvt Ltd</td>\n",
       "      <td>Big Data, Data Science, Artificial Intelligenc...</td>\n",
       "      <td>Pune</td>\n",
       "    </tr>\n",
       "    <tr>\n",
       "      <th>25</th>\n",
       "      <td>Shaun Rao</td>\n",
       "      <td>Manager Human Resources</td>\n",
       "      <td>Exela Technologies</td>\n",
       "      <td>Java, Net, Angularjs, Hr, Infrastructure, Mana...</td>\n",
       "      <td>Pune</td>\n",
       "    </tr>\n",
       "    <tr>\n",
       "      <th>26</th>\n",
       "      <td>Azahar Shaikh</td>\n",
       "      <td>Company Recruiter</td>\n",
       "      <td>NEAL ANALYTICS SERVICES PVT LTD</td>\n",
       "      <td>Data Science, Artificial Intelligence, Machine...</td>\n",
       "      <td>Pune</td>\n",
       "    </tr>\n",
       "    <tr>\n",
       "      <th>27</th>\n",
       "      <td>Manas</td>\n",
       "      <td>Lead Talent acquisition</td>\n",
       "      <td>Autumn Leaf Consulting Services Private Limited</td>\n",
       "      <td>Software Architecture, Vp Engineering, Product...</td>\n",
       "      <td>Bengaluru / Bangalore</td>\n",
       "    </tr>\n",
       "    <tr>\n",
       "      <th>28</th>\n",
       "      <td>kumar</td>\n",
       "      <td>Proprietor</td>\n",
       "      <td>trainin</td>\n",
       "      <td>Data Science, Hadoop, Rpas, Devops, Python, Aw...</td>\n",
       "      <td>Bengaluru / Bangalore</td>\n",
       "    </tr>\n",
       "    <tr>\n",
       "      <th>29</th>\n",
       "      <td>Sunil Vedula</td>\n",
       "      <td>CEO</td>\n",
       "      <td>Nanoprecise Sci Corp</td>\n",
       "      <td>Signal Processing, Machine Learning, Neural Ne...</td>\n",
       "      <td>N/A</td>\n",
       "    </tr>\n",
       "    <tr>\n",
       "      <th>30</th>\n",
       "      <td>Rajat Kumar</td>\n",
       "      <td>Founder CEO</td>\n",
       "      <td>R.S Consultancy &amp;amp; Services</td>\n",
       "      <td>Web Technologies, Project Management, Software...</td>\n",
       "      <td>Delhi</td>\n",
       "    </tr>\n",
       "    <tr>\n",
       "      <th>31</th>\n",
       "      <td>Dhruv Dev Dubey</td>\n",
       "      <td>Company Recruitment Head</td>\n",
       "      <td>Confidential</td>\n",
       "      <td>Server Administartion, Verilog, Vhdl, Digital ...</td>\n",
       "      <td>Bengaluru / Bangalore</td>\n",
       "    </tr>\n",
       "    <tr>\n",
       "      <th>32</th>\n",
       "      <td>Jayanth N</td>\n",
       "      <td>Project Manager</td>\n",
       "      <td>Dollarbird Information Services Pvt, Ltd</td>\n",
       "      <td>Data Analytics, Managed Services, Team Leading...</td>\n",
       "      <td>Mysoru / Mysore</td>\n",
       "    </tr>\n",
       "    <tr>\n",
       "      <th>33</th>\n",
       "      <td>Avodha</td>\n",
       "      <td>Business Development Associate</td>\n",
       "      <td>Nikitha Palaparthi</td>\n",
       "      <td>Ethical Hacking, Security Operations Center, S...</td>\n",
       "      <td>Hyderabad / Secunderabad</td>\n",
       "    </tr>\n",
       "    <tr>\n",
       "      <th>34</th>\n",
       "      <td>Priya Khare</td>\n",
       "      <td>Senior Manager</td>\n",
       "      <td>Independent Consultant</td>\n",
       "      <td>Data Science, Artificial Intelligence, analyti...</td>\n",
       "      <td>Bengaluru / Bangalore</td>\n",
       "    </tr>\n",
       "    <tr>\n",
       "      <th>35</th>\n",
       "      <td>Amit Sharma</td>\n",
       "      <td>Consultant</td>\n",
       "      <td>ASCO consulting</td>\n",
       "      <td>Machine Learning, Artificial Intelligence, Dat...</td>\n",
       "      <td>New Delhi</td>\n",
       "    </tr>\n",
       "    <tr>\n",
       "      <th>36</th>\n",
       "      <td>Kanan</td>\n",
       "      <td>senior technology instructor</td>\n",
       "      <td>NY INST</td>\n",
       "      <td>C, C++, Artificial Intelligence, Python, Php, ...</td>\n",
       "      <td>Chennai</td>\n",
       "    </tr>\n",
       "    <tr>\n",
       "      <th>37</th>\n",
       "      <td>Shashikant Chaudhary</td>\n",
       "      <td>HR Recruiter/HR Excutive</td>\n",
       "      <td>3D India Staffing Research &amp;amp; Consulting Co...</td>\n",
       "      <td>Relationship Management, Retail Sales, Private...</td>\n",
       "      <td>Aligarh</td>\n",
       "    </tr>\n",
       "    <tr>\n",
       "      <th>38</th>\n",
       "      <td>Brad</td>\n",
       "      <td>Manager, Technical Recruiting</td>\n",
       "      <td>O.C. Tanner</td>\n",
       "      <td>Data Science, Software Engineering</td>\n",
       "      <td>Salt Lake City</td>\n",
       "    </tr>\n",
       "    <tr>\n",
       "      <th>39</th>\n",
       "      <td>Rutuja Pawar</td>\n",
       "      <td>Technical Recruiter</td>\n",
       "      <td>Demand Matrix</td>\n",
       "      <td>Data Science, Big Data Analytics, Digital Mark...</td>\n",
       "      <td>Pune</td>\n",
       "    </tr>\n",
       "    <tr>\n",
       "      <th>40</th>\n",
       "      <td>Madhusudhan Sridhar</td>\n",
       "      <td>Erp Implementer</td>\n",
       "      <td>MADHUSUDHAN SRIDHAR</td>\n",
       "      <td>Data Science, Recruitment, Salary</td>\n",
       "      <td>Bengaluru / Bangalore</td>\n",
       "    </tr>\n",
       "    <tr>\n",
       "      <th>41</th>\n",
       "      <td>Ankit Sinha</td>\n",
       "      <td>Head Analytics</td>\n",
       "      <td>Suntech Global</td>\n",
       "      <td>B.Tech, Tableau, Statistics, R, Analytics, Tim...</td>\n",
       "      <td>Mumbai</td>\n",
       "    </tr>\n",
       "    <tr>\n",
       "      <th>42</th>\n",
       "      <td>Gaurav Chouhan</td>\n",
       "      <td>Chief Technical Officer</td>\n",
       "      <td>Strategic Consulting Lab</td>\n",
       "      <td>Software Development, Business Intelligence, B...</td>\n",
       "      <td>Indore</td>\n",
       "    </tr>\n",
       "    <tr>\n",
       "      <th>43</th>\n",
       "      <td>Rashi Kacker</td>\n",
       "      <td>Sr Product Manager</td>\n",
       "      <td>Impel Labs Pvt. Ltd.</td>\n",
       "      <td>Data Science, Node.js, Angularjs</td>\n",
       "      <td>Bengaluru / Bangalore</td>\n",
       "    </tr>\n",
       "    <tr>\n",
       "      <th>44</th>\n",
       "      <td>Ashwini</td>\n",
       "      <td>Director Global Delivery</td>\n",
       "      <td>MRP Advisers</td>\n",
       "      <td>Data Science, Media Marketing, Resource Planni...</td>\n",
       "      <td>MYSORE</td>\n",
       "    </tr>\n",
       "    <tr>\n",
       "      <th>45</th>\n",
       "      <td>Balaji Kolli</td>\n",
       "      <td>Co Founder</td>\n",
       "      <td>Saras Solutions India Pvt Ltd</td>\n",
       "      <td>Data Analysis, Learning, Data Science, Compute...</td>\n",
       "      <td>Hyderabad / Secunderabad</td>\n",
       "    </tr>\n",
       "    <tr>\n",
       "      <th>46</th>\n",
       "      <td>Rajani Nagaraj</td>\n",
       "      <td>HR Manager</td>\n",
       "      <td>WildJasmine</td>\n",
       "      <td>Java, Hadoop, R, Machine Learning, Spark, Flum...</td>\n",
       "      <td>Bengaluru / Bangalore</td>\n",
       "    </tr>\n",
       "    <tr>\n",
       "      <th>47</th>\n",
       "      <td>ROHIT Kumar</td>\n",
       "      <td>Architect</td>\n",
       "      <td>LNT Private Limited</td>\n",
       "      <td>Software Development, Core Java, Unit Testing,...</td>\n",
       "      <td>Mumbai</td>\n",
       "    </tr>\n",
       "    <tr>\n",
       "      <th>48</th>\n",
       "      <td>Amir Chowdhury</td>\n",
       "      <td>Managing Partner</td>\n",
       "      <td>Granular.ai</td>\n",
       "      <td>Machine Learning, Data Science, Product Manage...</td>\n",
       "      <td>N/A</td>\n",
       "    </tr>\n",
       "    <tr>\n",
       "      <th>49</th>\n",
       "      <td>SREEDHAR</td>\n",
       "      <td>Recruitment Consultant</td>\n",
       "      <td>JOBSMILL BUSINESS SOLUTIONS PRIVATE LIMITED</td>\n",
       "      <td>Data Science, Machine Learning, Big Data Analy...</td>\n",
       "      <td>Hyderabad / Secunderabad</td>\n",
       "    </tr>\n",
       "  </tbody>\n",
       "</table>\n",
       "</div>"
      ],
      "text/plain": [
       "                                             Name  \\\n",
       "0                                    Aakash Harit   \n",
       "1                            shravan Kumar Gaddam   \n",
       "2                        MARSIAN Technologies LLP   \n",
       "3                                    Anik Agrawal   \n",
       "4                                    subhas patel   \n",
       "5    Abhishek - Only Analytics Hiring - India and   \n",
       "6   Institute for Financial Management and Resear   \n",
       "7                                     Balu Ramesh   \n",
       "8                                   Asif Lucknowi   \n",
       "9                                 InstaFinancials   \n",
       "10                             Vaishnavi Kudalkar   \n",
       "11                                 Priyanka Akiri   \n",
       "12                                Kalpana Dumpala   \n",
       "13                                        Mubarak   \n",
       "14                                 Kushal Rastogi   \n",
       "15                             Mahesh Babu Channa   \n",
       "16                                   Kapil Devang   \n",
       "17                                Sakshi Chhikara   \n",
       "18                                    Ruchi Dhote   \n",
       "19                                  Manisha Yadav   \n",
       "20                                    Riya Rajesh   \n",
       "21                           Rashmi Bhattacharjee   \n",
       "22                                  Faizan Kareem   \n",
       "23                                 Rithika dadwal   \n",
       "24                             Sandhya Khandagale   \n",
       "25                                      Shaun Rao   \n",
       "26                                  Azahar Shaikh   \n",
       "27                                          Manas   \n",
       "28                                          kumar   \n",
       "29                                   Sunil Vedula   \n",
       "30                                    Rajat Kumar   \n",
       "31                                Dhruv Dev Dubey   \n",
       "32                                      Jayanth N   \n",
       "33                                         Avodha   \n",
       "34                                    Priya Khare   \n",
       "35                                    Amit Sharma   \n",
       "36                                          Kanan   \n",
       "37                           Shashikant Chaudhary   \n",
       "38                                           Brad   \n",
       "39                                   Rutuja Pawar   \n",
       "40                            Madhusudhan Sridhar   \n",
       "41                                    Ankit Sinha   \n",
       "42                                 Gaurav Chouhan   \n",
       "43                                   Rashi Kacker   \n",
       "44                                        Ashwini   \n",
       "45                                   Balaji Kolli   \n",
       "46                                 Rajani Nagaraj   \n",
       "47                                    ROHIT Kumar   \n",
       "48                                 Amir Chowdhury   \n",
       "49                                       SREEDHAR   \n",
       "\n",
       "                            Designation  \\\n",
       "0                            HR Manager   \n",
       "1                     Company Recruiter   \n",
       "2                            Company HR   \n",
       "3                     Company Recruiter   \n",
       "4                           Founder CEO   \n",
       "5           Recruitment Lead Consultant   \n",
       "6                     Programme Manager   \n",
       "7                      HR Administrator   \n",
       "8                              Director   \n",
       "9                        Human Resource   \n",
       "10                         HR Executive   \n",
       "11                           HR Manager   \n",
       "12                     Executive Hiring   \n",
       "13                           Company HR   \n",
       "14                           Company HR   \n",
       "15                         HR Team Lead   \n",
       "16                           HR Manager   \n",
       "17                 Assistant Manager HR   \n",
       "18  Senior Executive Talent Acquisition   \n",
       "19                         HR Executive   \n",
       "20           Manager Talent Acquisition   \n",
       "21                              HR Head   \n",
       "22                           HR MANAGER   \n",
       "23                         HR Recruiter   \n",
       "24                         HR Recruiter   \n",
       "25              Manager Human Resources   \n",
       "26                    Company Recruiter   \n",
       "27              Lead Talent acquisition   \n",
       "28                           Proprietor   \n",
       "29                                  CEO   \n",
       "30                          Founder CEO   \n",
       "31             Company Recruitment Head   \n",
       "32                      Project Manager   \n",
       "33       Business Development Associate   \n",
       "34                       Senior Manager   \n",
       "35                           Consultant   \n",
       "36         senior technology instructor   \n",
       "37             HR Recruiter/HR Excutive   \n",
       "38        Manager, Technical Recruiting   \n",
       "39                  Technical Recruiter   \n",
       "40                      Erp Implementer   \n",
       "41                       Head Analytics   \n",
       "42              Chief Technical Officer   \n",
       "43                   Sr Product Manager   \n",
       "44             Director Global Delivery   \n",
       "45                           Co Founder   \n",
       "46                           HR Manager   \n",
       "47                            Architect   \n",
       "48                     Managing Partner   \n",
       "49               Recruitment Consultant   \n",
       "\n",
       "                                              Company  \\\n",
       "0                                Data Science Network   \n",
       "1                       Shore Infotech India Pvt. Ltd   \n",
       "2                            MARSIAN Technologies LLP   \n",
       "3               Enerlytics Software Solutions Pvt Ltd   \n",
       "4                                     LibraryXProject   \n",
       "5          Apidel Technologies Division of Transpower   \n",
       "6                                                IFMR   \n",
       "7                         Techvantage Systems Pvt Ltd   \n",
       "8                          Weupskill- Live Wire India   \n",
       "9                    CBL Data Science Private Limited   \n",
       "10                                Codeachive learning   \n",
       "11                      Infinitive Software Solutions   \n",
       "12                                 Innominds Software   \n",
       "13                                           MoneyTap   \n",
       "14                 QuantMagnum Technologies Pvt. Ltd.   \n",
       "15                                  SocialPrachar.com   \n",
       "16                                     BISP Solutions   \n",
       "17                      BIZ INFOTECNO PRIVATE LIMITED   \n",
       "18                              Bristlecone India Ltd   \n",
       "19                                           Easi Tax   \n",
       "20                        Novelworx Digital Solutions   \n",
       "21       AXESTRACK SOFTWARE SOLUTIONS PRIVATE LIMITED   \n",
       "22                      FirstTech Consaltants Pvt.Ltd   \n",
       "23                                   Affine Analytics   \n",
       "24                    Compumatrice Multimedia Pvt Ltd   \n",
       "25                                 Exela Technologies   \n",
       "26                    NEAL ANALYTICS SERVICES PVT LTD   \n",
       "27    Autumn Leaf Consulting Services Private Limited   \n",
       "28                                            trainin   \n",
       "29                               Nanoprecise Sci Corp   \n",
       "30                     R.S Consultancy &amp; Services   \n",
       "31                                       Confidential   \n",
       "32           Dollarbird Information Services Pvt, Ltd   \n",
       "33                                 Nikitha Palaparthi   \n",
       "34                             Independent Consultant   \n",
       "35                                    ASCO consulting   \n",
       "36                                            NY INST   \n",
       "37  3D India Staffing Research &amp; Consulting Co...   \n",
       "38                                        O.C. Tanner   \n",
       "39                                      Demand Matrix   \n",
       "40                                MADHUSUDHAN SRIDHAR   \n",
       "41                                     Suntech Global   \n",
       "42                           Strategic Consulting Lab   \n",
       "43                               Impel Labs Pvt. Ltd.   \n",
       "44                                       MRP Advisers   \n",
       "45                      Saras Solutions India Pvt Ltd   \n",
       "46                                        WildJasmine   \n",
       "47                                LNT Private Limited   \n",
       "48                                        Granular.ai   \n",
       "49        JOBSMILL BUSINESS SOLUTIONS PRIVATE LIMITED   \n",
       "\n",
       "                               Skills they are Hiring  \\\n",
       "0   Classic ASP Developer, Internet Marketing Prof...   \n",
       "1   .Net, Java, Data Science, Linux Administration...   \n",
       "2   Data Science, Artificial Intelligence, Machine...   \n",
       "3   Mean Stack, javascript, angularjs, mongodb, We...   \n",
       "4   Hadoop, Spark, Digital Strategy, Data Architec...   \n",
       "5   Analytics, Business Intelligence, Business Ana...   \n",
       "6                                        Data Science   \n",
       "7   Machine Learning, algorithms, Go Getter, Compu...   \n",
       "8   Technical Training, Software Development, Pres...   \n",
       "9   Software Development, It Sales, Account Manage...   \n",
       "10               Data Science, Python, Data Analytics   \n",
       "11  Oracle Dba, Data Science, Data Warehousing, ET...   \n",
       "12  Qa, Ui/ux, Java Developer, Java Architect, C++...   \n",
       "13  Business Intelligence, Data Warehousing, Data ...   \n",
       "14  Office Administration, Hr Administration, tele...   \n",
       "15  Social Media, digital media maketing, seo, smm...   \n",
       "16     Big Data, Hadoop, Data Analytics, Data Science   \n",
       "17  React.js, Data Science, Java, Front End, Busin...   \n",
       "18  Qlikview, Qlik Sense, Microsoft Azure, Power B...   \n",
       "19  Telecalling, Client Interaction, Marketing, Re...   \n",
       "20                                       Data Science   \n",
       "21  Corporate Sales, Software Development, Softwar...   \n",
       "22  Data Analytics, Data Science, Machine Learning...   \n",
       "23  Data Science, Machine Learning, Python, R, Dee...   \n",
       "24  Big Data, Data Science, Artificial Intelligenc...   \n",
       "25  Java, Net, Angularjs, Hr, Infrastructure, Mana...   \n",
       "26  Data Science, Artificial Intelligence, Machine...   \n",
       "27  Software Architecture, Vp Engineering, Product...   \n",
       "28  Data Science, Hadoop, Rpas, Devops, Python, Aw...   \n",
       "29  Signal Processing, Machine Learning, Neural Ne...   \n",
       "30  Web Technologies, Project Management, Software...   \n",
       "31  Server Administartion, Verilog, Vhdl, Digital ...   \n",
       "32  Data Analytics, Managed Services, Team Leading...   \n",
       "33  Ethical Hacking, Security Operations Center, S...   \n",
       "34  Data Science, Artificial Intelligence, analyti...   \n",
       "35  Machine Learning, Artificial Intelligence, Dat...   \n",
       "36  C, C++, Artificial Intelligence, Python, Php, ...   \n",
       "37  Relationship Management, Retail Sales, Private...   \n",
       "38                 Data Science, Software Engineering   \n",
       "39  Data Science, Big Data Analytics, Digital Mark...   \n",
       "40                  Data Science, Recruitment, Salary   \n",
       "41  B.Tech, Tableau, Statistics, R, Analytics, Tim...   \n",
       "42  Software Development, Business Intelligence, B...   \n",
       "43                   Data Science, Node.js, Angularjs   \n",
       "44  Data Science, Media Marketing, Resource Planni...   \n",
       "45  Data Analysis, Learning, Data Science, Compute...   \n",
       "46  Java, Hadoop, R, Machine Learning, Spark, Flum...   \n",
       "47  Software Development, Core Java, Unit Testing,...   \n",
       "48  Machine Learning, Data Science, Product Manage...   \n",
       "49  Data Science, Machine Learning, Big Data Analy...   \n",
       "\n",
       "                    Location  \n",
       "0                      Delhi  \n",
       "1   Hyderabad / Secunderabad  \n",
       "2                       Pune  \n",
       "3                  Ahmedabad  \n",
       "4              UK - (london)  \n",
       "5          Vadodara / Baroda  \n",
       "6                    Chennai  \n",
       "7                 Trivandrum  \n",
       "8                     Indore  \n",
       "9      Bengaluru / Bangalore  \n",
       "10                    Mumbai  \n",
       "11                 Hyderabad  \n",
       "12  Hyderabad / Secunderabad  \n",
       "13     Bengaluru / Bangalore  \n",
       "14                    Mumbai  \n",
       "15  Hyderabad / Secunderabad  \n",
       "16                    Bhopal  \n",
       "17                Chandigarh  \n",
       "18                      Pune  \n",
       "19               Navi Mumbai  \n",
       "20                    Cochin  \n",
       "21                     Delhi  \n",
       "22  Hyderabad / Secunderabad  \n",
       "23                      Pune  \n",
       "24                      Pune  \n",
       "25                      Pune  \n",
       "26                      Pune  \n",
       "27     Bengaluru / Bangalore  \n",
       "28     Bengaluru / Bangalore  \n",
       "29                       N/A  \n",
       "30                     Delhi  \n",
       "31     Bengaluru / Bangalore  \n",
       "32           Mysoru / Mysore  \n",
       "33  Hyderabad / Secunderabad  \n",
       "34     Bengaluru / Bangalore  \n",
       "35                 New Delhi  \n",
       "36                   Chennai  \n",
       "37                   Aligarh  \n",
       "38            Salt Lake City  \n",
       "39                      Pune  \n",
       "40     Bengaluru / Bangalore  \n",
       "41                    Mumbai  \n",
       "42                    Indore  \n",
       "43     Bengaluru / Bangalore  \n",
       "44                    MYSORE  \n",
       "45  Hyderabad / Secunderabad  \n",
       "46     Bengaluru / Bangalore  \n",
       "47                    Mumbai  \n",
       "48                       N/A  \n",
       "49  Hyderabad / Secunderabad  "
      ]
     },
     "execution_count": 320,
     "metadata": {},
     "output_type": "execute_result"
    }
   ],
   "source": [
    "# preparing dataframe\n",
    "recruiter=pd.DataFrame({'Name':name, 'Designation':designation, 'Company':company,\n",
    "                       'Skills they are Hiring':skills, 'Location':location})\n",
    "print(\"List of DataScience Recruiters\\n\")\n",
    "recruiter"
   ]
  },
  {
   "cell_type": "code",
   "execution_count": 321,
   "id": "ff8e1901",
   "metadata": {},
   "outputs": [],
   "source": [
    "driver.close()"
   ]
  },
  {
   "cell_type": "markdown",
   "id": "e6df9a8c",
   "metadata": {},
   "source": [
    "Q8. Scrape the details of Highest selling novels.\n",
    "URL = https://www.theguardian.com/news/datablog/2012/aug/09/best-selling-books-all-time-fifty-shades-grey-compare\n",
    "You have to find the following details:\n",
    "A) Book name\n",
    "B) Author name\n",
    "C) Volumes sold\n",
    "D) Publisher\n",
    "E) Genre\n"
   ]
  },
  {
   "cell_type": "code",
   "execution_count": 322,
   "id": "5a01b901",
   "metadata": {},
   "outputs": [],
   "source": [
    "# getting the web driver\n",
    "driver=webdriver.Chrome(r'D:\\chromedriver_win32\\chromedriver.exe')"
   ]
  },
  {
   "cell_type": "code",
   "execution_count": 323,
   "id": "fb6dad59",
   "metadata": {},
   "outputs": [],
   "source": [
    "# getting the web page\n",
    "url= 'https://www.theguardian.com/news/datablog/2012/aug/09/best-selling-books-all-time-fifty-shades-grey-compare'\n",
    "driver.get(url)"
   ]
  },
  {
   "cell_type": "code",
   "execution_count": 327,
   "id": "855a9e83",
   "metadata": {},
   "outputs": [
    {
     "data": {
      "text/plain": [
       "100"
      ]
     },
     "execution_count": 327,
     "metadata": {},
     "output_type": "execute_result"
    }
   ],
   "source": [
    "# finding the web element of all the required details and scrape them.\n",
    "book=[]\n",
    "book_tag=driver.find_elements(By.XPATH, '/html/body/div/div[2]/div[2]/div/div[2]/div/table/tbody/tr/td[2]')\n",
    "for i in book_tag:\n",
    "    book.append(i.text)\n",
    "len(book)"
   ]
  },
  {
   "cell_type": "code",
   "execution_count": 329,
   "id": "0036d4cd",
   "metadata": {},
   "outputs": [
    {
     "data": {
      "text/plain": [
       "100"
      ]
     },
     "execution_count": 329,
     "metadata": {},
     "output_type": "execute_result"
    }
   ],
   "source": [
    "author=[]\n",
    "author_tag=driver.find_elements(By.XPATH,'/html/body/div/div[2]/div[2]/div/div[2]/div/table/tbody/tr/td[3]')\n",
    "for i in author_tag:\n",
    "    author.append(i.text)\n",
    "len(author)"
   ]
  },
  {
   "cell_type": "code",
   "execution_count": 330,
   "id": "e08a9201",
   "metadata": {},
   "outputs": [
    {
     "data": {
      "text/plain": [
       "100"
      ]
     },
     "execution_count": 330,
     "metadata": {},
     "output_type": "execute_result"
    }
   ],
   "source": [
    "volume=[]\n",
    "sold_tag=driver.find_elements(By.XPATH, '/html/body/div/div[2]/div[2]/div/div[2]/div/table/tbody/tr/td[4]')\n",
    "for i in sold_tag:\n",
    "    volume.append(i.text)\n",
    "len(volume)"
   ]
  },
  {
   "cell_type": "code",
   "execution_count": 331,
   "id": "73d78119",
   "metadata": {},
   "outputs": [
    {
     "data": {
      "text/plain": [
       "100"
      ]
     },
     "execution_count": 331,
     "metadata": {},
     "output_type": "execute_result"
    }
   ],
   "source": [
    "publisher=[]\n",
    "publish_tag=driver.find_elements(By.XPATH, '/html/body/div/div[2]/div[2]/div/div[2]/div/table/tbody/tr/td[5]')\n",
    "for i in publish_tag:\n",
    "    publisher.append(i.text)\n",
    "len(publisher)"
   ]
  },
  {
   "cell_type": "code",
   "execution_count": 332,
   "id": "b18cda24",
   "metadata": {},
   "outputs": [
    {
     "data": {
      "text/plain": [
       "100"
      ]
     },
     "execution_count": 332,
     "metadata": {},
     "output_type": "execute_result"
    }
   ],
   "source": [
    "genre=[]\n",
    "genre_tag=driver.find_elements(By.XPATH,'/html/body/div/div[2]/div[2]/div/div[2]/div/table/tbody/tr/td[6]')\n",
    "for i in genre_tag:\n",
    "    genre.append(i.text)\n",
    "len(genre)"
   ]
  },
  {
   "cell_type": "code",
   "execution_count": 335,
   "id": "2faa8e01",
   "metadata": {},
   "outputs": [
    {
     "data": {
      "text/plain": [
       "(100, 100, 100, 100, 100)"
      ]
     },
     "execution_count": 335,
     "metadata": {},
     "output_type": "execute_result"
    }
   ],
   "source": [
    "len(book), len(author), len(volume),len(publisher), len(genre)"
   ]
  },
  {
   "cell_type": "code",
   "execution_count": 336,
   "id": "c506d964",
   "metadata": {},
   "outputs": [
    {
     "name": "stdout",
     "output_type": "stream",
     "text": [
      "List of Highest Selling Novel's\n",
      "\n"
     ]
    },
    {
     "data": {
      "text/html": [
       "<div>\n",
       "<style scoped>\n",
       "    .dataframe tbody tr th:only-of-type {\n",
       "        vertical-align: middle;\n",
       "    }\n",
       "\n",
       "    .dataframe tbody tr th {\n",
       "        vertical-align: top;\n",
       "    }\n",
       "\n",
       "    .dataframe thead th {\n",
       "        text-align: right;\n",
       "    }\n",
       "</style>\n",
       "<table border=\"1\" class=\"dataframe\">\n",
       "  <thead>\n",
       "    <tr style=\"text-align: right;\">\n",
       "      <th></th>\n",
       "      <th>Book Title</th>\n",
       "      <th>Author</th>\n",
       "      <th>Volume Sales</th>\n",
       "      <th>Publisher</th>\n",
       "      <th>Genre</th>\n",
       "    </tr>\n",
       "  </thead>\n",
       "  <tbody>\n",
       "    <tr>\n",
       "      <th>0</th>\n",
       "      <td>Da Vinci Code,The</td>\n",
       "      <td>Brown, Dan</td>\n",
       "      <td>5,094,805</td>\n",
       "      <td>Transworld</td>\n",
       "      <td>Crime, Thriller &amp; Adventure</td>\n",
       "    </tr>\n",
       "    <tr>\n",
       "      <th>1</th>\n",
       "      <td>Harry Potter and the Deathly Hallows</td>\n",
       "      <td>Rowling, J.K.</td>\n",
       "      <td>4,475,152</td>\n",
       "      <td>Bloomsbury</td>\n",
       "      <td>Children's Fiction</td>\n",
       "    </tr>\n",
       "    <tr>\n",
       "      <th>2</th>\n",
       "      <td>Harry Potter and the Philosopher's Stone</td>\n",
       "      <td>Rowling, J.K.</td>\n",
       "      <td>4,200,654</td>\n",
       "      <td>Bloomsbury</td>\n",
       "      <td>Children's Fiction</td>\n",
       "    </tr>\n",
       "    <tr>\n",
       "      <th>3</th>\n",
       "      <td>Harry Potter and the Order of the Phoenix</td>\n",
       "      <td>Rowling, J.K.</td>\n",
       "      <td>4,179,479</td>\n",
       "      <td>Bloomsbury</td>\n",
       "      <td>Children's Fiction</td>\n",
       "    </tr>\n",
       "    <tr>\n",
       "      <th>4</th>\n",
       "      <td>Fifty Shades of Grey</td>\n",
       "      <td>James, E. L.</td>\n",
       "      <td>3,758,936</td>\n",
       "      <td>Random House</td>\n",
       "      <td>Romance &amp; Sagas</td>\n",
       "    </tr>\n",
       "    <tr>\n",
       "      <th>...</th>\n",
       "      <td>...</td>\n",
       "      <td>...</td>\n",
       "      <td>...</td>\n",
       "      <td>...</td>\n",
       "      <td>...</td>\n",
       "    </tr>\n",
       "    <tr>\n",
       "      <th>95</th>\n",
       "      <td>Ghost,The</td>\n",
       "      <td>Harris, Robert</td>\n",
       "      <td>807,311</td>\n",
       "      <td>Random House</td>\n",
       "      <td>General &amp; Literary Fiction</td>\n",
       "    </tr>\n",
       "    <tr>\n",
       "      <th>96</th>\n",
       "      <td>Happy Days with the Naked Chef</td>\n",
       "      <td>Oliver, Jamie</td>\n",
       "      <td>794,201</td>\n",
       "      <td>Penguin</td>\n",
       "      <td>Food &amp; Drink: General</td>\n",
       "    </tr>\n",
       "    <tr>\n",
       "      <th>97</th>\n",
       "      <td>Hunger Games,The:Hunger Games Trilogy</td>\n",
       "      <td>Collins, Suzanne</td>\n",
       "      <td>792,187</td>\n",
       "      <td>Scholastic Ltd.</td>\n",
       "      <td>Young Adult Fiction</td>\n",
       "    </tr>\n",
       "    <tr>\n",
       "      <th>98</th>\n",
       "      <td>Lost Boy,The:A Foster Child's Search for the L...</td>\n",
       "      <td>Pelzer, Dave</td>\n",
       "      <td>791,507</td>\n",
       "      <td>Orion</td>\n",
       "      <td>Biography: General</td>\n",
       "    </tr>\n",
       "    <tr>\n",
       "      <th>99</th>\n",
       "      <td>Jamie's Ministry of Food:Anyone Can Learn to C...</td>\n",
       "      <td>Oliver, Jamie</td>\n",
       "      <td>791,095</td>\n",
       "      <td>Penguin</td>\n",
       "      <td>Food &amp; Drink: General</td>\n",
       "    </tr>\n",
       "  </tbody>\n",
       "</table>\n",
       "<p>100 rows × 5 columns</p>\n",
       "</div>"
      ],
      "text/plain": [
       "                                           Book Title            Author  \\\n",
       "0                                   Da Vinci Code,The        Brown, Dan   \n",
       "1                Harry Potter and the Deathly Hallows     Rowling, J.K.   \n",
       "2            Harry Potter and the Philosopher's Stone     Rowling, J.K.   \n",
       "3           Harry Potter and the Order of the Phoenix     Rowling, J.K.   \n",
       "4                                Fifty Shades of Grey      James, E. L.   \n",
       "..                                                ...               ...   \n",
       "95                                          Ghost,The    Harris, Robert   \n",
       "96                     Happy Days with the Naked Chef     Oliver, Jamie   \n",
       "97              Hunger Games,The:Hunger Games Trilogy  Collins, Suzanne   \n",
       "98  Lost Boy,The:A Foster Child's Search for the L...      Pelzer, Dave   \n",
       "99  Jamie's Ministry of Food:Anyone Can Learn to C...     Oliver, Jamie   \n",
       "\n",
       "   Volume Sales        Publisher                        Genre  \n",
       "0     5,094,805       Transworld  Crime, Thriller & Adventure  \n",
       "1     4,475,152       Bloomsbury           Children's Fiction  \n",
       "2     4,200,654       Bloomsbury           Children's Fiction  \n",
       "3     4,179,479       Bloomsbury           Children's Fiction  \n",
       "4     3,758,936     Random House              Romance & Sagas  \n",
       "..          ...              ...                          ...  \n",
       "95      807,311     Random House   General & Literary Fiction  \n",
       "96      794,201          Penguin        Food & Drink: General  \n",
       "97      792,187  Scholastic Ltd.          Young Adult Fiction  \n",
       "98      791,507            Orion           Biography: General  \n",
       "99      791,095          Penguin        Food & Drink: General  \n",
       "\n",
       "[100 rows x 5 columns]"
      ]
     },
     "execution_count": 336,
     "metadata": {},
     "output_type": "execute_result"
    }
   ],
   "source": [
    "# preparing Dataframe\n",
    "Novels=pd.DataFrame({'Book Title':book, 'Author':author, 'Volume Sales':volume,\n",
    "                    'Publisher':publisher, 'Genre':genre})\n",
    "print(\"List of Highest Selling Novel's\\n\")\n",
    "Novels"
   ]
  },
  {
   "cell_type": "code",
   "execution_count": 337,
   "id": "7a0dfaad",
   "metadata": {},
   "outputs": [],
   "source": [
    "driver.close()"
   ]
  },
  {
   "cell_type": "markdown",
   "id": "91c97804",
   "metadata": {},
   "source": [
    "Q9. Scrape the details most watched tv series of all time from imdb.com.\n",
    "Url = https://www.imdb.com/list/ls095964455/\n",
    "You have to find the following details:\n",
    "A) Name\n",
    "B) Year span\n",
    "C) Genre\n",
    "D) Run time\n",
    "E) Ratings\n",
    "F) Votes\n"
   ]
  },
  {
   "cell_type": "code",
   "execution_count": 338,
   "id": "f312ba91",
   "metadata": {},
   "outputs": [],
   "source": [
    "# getting the web driver\n",
    "driver=webdriver.Chrome(r'D:\\chromedriver_win32\\chromedriver.exe')"
   ]
  },
  {
   "cell_type": "code",
   "execution_count": 339,
   "id": "5496d8c7",
   "metadata": {},
   "outputs": [],
   "source": [
    "# getting the web page\n",
    "url='https://www.imdb.com/list/ls095964455/'\n",
    "driver.get(url)"
   ]
  },
  {
   "cell_type": "code",
   "execution_count": 343,
   "id": "45679ade",
   "metadata": {},
   "outputs": [
    {
     "data": {
      "text/plain": [
       "(100, 100)"
      ]
     },
     "execution_count": 343,
     "metadata": {},
     "output_type": "execute_result"
    }
   ],
   "source": [
    "# finding the web element for all the required details and scrape them.\n",
    "tv_name=[]\n",
    "year_span=[]\n",
    "tv_tag=driver.find_elements(By.XPATH, '//h3[@class=\"lister-item-header\"]')\n",
    "for i in tv_tag:\n",
    "    tv_name.append((i.text).split('(')[0])\n",
    "    year_span.append((i.text).split('(')[1])\n",
    "\n",
    "len(tv_name),len(year_span)"
   ]
  },
  {
   "cell_type": "code",
   "execution_count": 348,
   "id": "ad90c495",
   "metadata": {},
   "outputs": [
    {
     "data": {
      "text/plain": [
       "100"
      ]
     },
     "execution_count": 348,
     "metadata": {},
     "output_type": "execute_result"
    }
   ],
   "source": [
    "genr=[]\n",
    "gen_tag=driver.find_elements(By.XPATH,'//p[@class=\"text-muted text-small\"]/span[5]')\n",
    "for i in gen_tag:\n",
    "    genr.append(i.text)\n",
    "len(genr)"
   ]
  },
  {
   "cell_type": "code",
   "execution_count": 350,
   "id": "ea3e57da",
   "metadata": {},
   "outputs": [
    {
     "data": {
      "text/plain": [
       "100"
      ]
     },
     "execution_count": 350,
     "metadata": {},
     "output_type": "execute_result"
    }
   ],
   "source": [
    "run_time=[]\n",
    "run_tag=driver.find_elements(By.XPATH, '//p[@class=\"text-muted text-small\"]/span[3]')\n",
    "for i in run_tag:\n",
    "    run_time.append(i.text)\n",
    "len(run_time)"
   ]
  },
  {
   "cell_type": "code",
   "execution_count": 353,
   "id": "886d14ce",
   "metadata": {},
   "outputs": [
    {
     "data": {
      "text/plain": [
       "100"
      ]
     },
     "execution_count": 353,
     "metadata": {},
     "output_type": "execute_result"
    }
   ],
   "source": [
    "rating=[]\n",
    "rate_tag=driver.find_elements(By.XPATH,'//div[@class=\"ipl-rating-star small\"]/span[2]')\n",
    "for i in rate_tag:\n",
    "    rating.append(i.text)\n",
    "len(rating)"
   ]
  },
  {
   "cell_type": "code",
   "execution_count": 365,
   "id": "bac309bc",
   "metadata": {},
   "outputs": [
    {
     "data": {
      "text/plain": [
       "100"
      ]
     },
     "execution_count": 365,
     "metadata": {},
     "output_type": "execute_result"
    }
   ],
   "source": [
    "votes=[]\n",
    "temp=[]\n",
    "vote_tag=driver.find_elements(By.XPATH,'//p[@class=\"text-muted text-small\"]/span[2]')\n",
    "for i in vote_tag:\n",
    "    temp.append(i.text)\n",
    "for i in range(1,len(temp),2):\n",
    "    votes.append(temp[i])\n",
    "len(votes)"
   ]
  },
  {
   "cell_type": "code",
   "execution_count": 367,
   "id": "15e03a2b",
   "metadata": {},
   "outputs": [
    {
     "name": "stdout",
     "output_type": "stream",
     "text": [
      "Top 100 most watched TV Series\n",
      "\n"
     ]
    },
    {
     "data": {
      "text/html": [
       "<div>\n",
       "<style scoped>\n",
       "    .dataframe tbody tr th:only-of-type {\n",
       "        vertical-align: middle;\n",
       "    }\n",
       "\n",
       "    .dataframe tbody tr th {\n",
       "        vertical-align: top;\n",
       "    }\n",
       "\n",
       "    .dataframe thead th {\n",
       "        text-align: right;\n",
       "    }\n",
       "</style>\n",
       "<table border=\"1\" class=\"dataframe\">\n",
       "  <thead>\n",
       "    <tr style=\"text-align: right;\">\n",
       "      <th></th>\n",
       "      <th>Series Name</th>\n",
       "      <th>Year Span</th>\n",
       "      <th>Genre</th>\n",
       "      <th>Run Time</th>\n",
       "      <th>Rating</th>\n",
       "      <th>Votes</th>\n",
       "    </tr>\n",
       "  </thead>\n",
       "  <tbody>\n",
       "    <tr>\n",
       "      <th>0</th>\n",
       "      <td>1. Game of Thrones</td>\n",
       "      <td>2011–2019)</td>\n",
       "      <td>Action, Adventure, Drama</td>\n",
       "      <td>57 min</td>\n",
       "      <td>9.2</td>\n",
       "      <td>2,020,411</td>\n",
       "    </tr>\n",
       "    <tr>\n",
       "      <th>1</th>\n",
       "      <td>2. Stranger Things</td>\n",
       "      <td>2016– )</td>\n",
       "      <td>Drama, Fantasy, Horror</td>\n",
       "      <td>51 min</td>\n",
       "      <td>8.7</td>\n",
       "      <td>1,116,109</td>\n",
       "    </tr>\n",
       "    <tr>\n",
       "      <th>2</th>\n",
       "      <td>3. The Walking Dead</td>\n",
       "      <td>2010–2022)</td>\n",
       "      <td>Drama, Horror, Thriller</td>\n",
       "      <td>44 min</td>\n",
       "      <td>8.2</td>\n",
       "      <td>959,375</td>\n",
       "    </tr>\n",
       "    <tr>\n",
       "      <th>3</th>\n",
       "      <td>4. 13 Reasons Why</td>\n",
       "      <td>2017–2020)</td>\n",
       "      <td>Drama, Mystery, Thriller</td>\n",
       "      <td>60 min</td>\n",
       "      <td>7.5</td>\n",
       "      <td>286,822</td>\n",
       "    </tr>\n",
       "    <tr>\n",
       "      <th>4</th>\n",
       "      <td>5. The 100</td>\n",
       "      <td>2014–2020)</td>\n",
       "      <td>Drama, Mystery, Sci-Fi</td>\n",
       "      <td>43 min</td>\n",
       "      <td>7.6</td>\n",
       "      <td>246,409</td>\n",
       "    </tr>\n",
       "    <tr>\n",
       "      <th>...</th>\n",
       "      <td>...</td>\n",
       "      <td>...</td>\n",
       "      <td>...</td>\n",
       "      <td>...</td>\n",
       "      <td>...</td>\n",
       "      <td>...</td>\n",
       "    </tr>\n",
       "    <tr>\n",
       "      <th>95</th>\n",
       "      <td>96. Reign</td>\n",
       "      <td>2013–2017)</td>\n",
       "      <td>Drama</td>\n",
       "      <td>42 min</td>\n",
       "      <td>7.4</td>\n",
       "      <td>49,259</td>\n",
       "    </tr>\n",
       "    <tr>\n",
       "      <th>96</th>\n",
       "      <td>97. A Series of Unfortunate Events</td>\n",
       "      <td>2017–2019)</td>\n",
       "      <td>Adventure, Comedy, Drama</td>\n",
       "      <td>50 min</td>\n",
       "      <td>7.8</td>\n",
       "      <td>60,132</td>\n",
       "    </tr>\n",
       "    <tr>\n",
       "      <th>97</th>\n",
       "      <td>98. Criminal Minds</td>\n",
       "      <td>2005–2020)</td>\n",
       "      <td>Crime, Drama, Mystery</td>\n",
       "      <td>42 min</td>\n",
       "      <td>8.1</td>\n",
       "      <td>193,349</td>\n",
       "    </tr>\n",
       "    <tr>\n",
       "      <th>98</th>\n",
       "      <td>99. Scream: The TV Series</td>\n",
       "      <td>2015–2019)</td>\n",
       "      <td>Comedy, Crime, Drama</td>\n",
       "      <td>45 min</td>\n",
       "      <td>7.1</td>\n",
       "      <td>40,798</td>\n",
       "    </tr>\n",
       "    <tr>\n",
       "      <th>99</th>\n",
       "      <td>100. The Haunting of Hill House</td>\n",
       "      <td>2018)</td>\n",
       "      <td>Drama, Horror, Mystery</td>\n",
       "      <td>572 min</td>\n",
       "      <td>8.6</td>\n",
       "      <td>233,182</td>\n",
       "    </tr>\n",
       "  </tbody>\n",
       "</table>\n",
       "<p>100 rows × 6 columns</p>\n",
       "</div>"
      ],
      "text/plain": [
       "                            Series Name   Year Span                     Genre  \\\n",
       "0                   1. Game of Thrones   2011–2019)  Action, Adventure, Drama   \n",
       "1                   2. Stranger Things      2016– )    Drama, Fantasy, Horror   \n",
       "2                  3. The Walking Dead   2010–2022)   Drama, Horror, Thriller   \n",
       "3                    4. 13 Reasons Why   2017–2020)  Drama, Mystery, Thriller   \n",
       "4                           5. The 100   2014–2020)    Drama, Mystery, Sci-Fi   \n",
       "..                                  ...         ...                       ...   \n",
       "95                           96. Reign   2013–2017)                     Drama   \n",
       "96  97. A Series of Unfortunate Events   2017–2019)  Adventure, Comedy, Drama   \n",
       "97                  98. Criminal Minds   2005–2020)     Crime, Drama, Mystery   \n",
       "98           99. Scream: The TV Series   2015–2019)      Comedy, Crime, Drama   \n",
       "99     100. The Haunting of Hill House        2018)    Drama, Horror, Mystery   \n",
       "\n",
       "   Run Time Rating      Votes  \n",
       "0    57 min    9.2  2,020,411  \n",
       "1    51 min    8.7  1,116,109  \n",
       "2    44 min    8.2    959,375  \n",
       "3    60 min    7.5    286,822  \n",
       "4    43 min    7.6    246,409  \n",
       "..      ...    ...        ...  \n",
       "95   42 min    7.4     49,259  \n",
       "96   50 min    7.8     60,132  \n",
       "97   42 min    8.1    193,349  \n",
       "98   45 min    7.1     40,798  \n",
       "99  572 min    8.6    233,182  \n",
       "\n",
       "[100 rows x 6 columns]"
      ]
     },
     "execution_count": 367,
     "metadata": {},
     "output_type": "execute_result"
    }
   ],
   "source": [
    "# preparing dataframe\n",
    "Tv_Series=pd.DataFrame({'Series Name':tv_name, 'Year Span':year_span, 'Genre':genr,\n",
    "                       'Run Time': run_time, 'Rating':rating, 'Votes': votes})\n",
    "print(\"Top 100 most watched TV Series\\n\")\n",
    "Tv_Series\n"
   ]
  },
  {
   "cell_type": "code",
   "execution_count": 368,
   "id": "132b2178",
   "metadata": {},
   "outputs": [],
   "source": [
    "driver.close()"
   ]
  },
  {
   "cell_type": "markdown",
   "id": "6101467e",
   "metadata": {},
   "source": [
    "Q10. Details of Datasets from UCI machine learning repositories.\n",
    "Url = https://archive.ics.uci.edu/\n",
    "You have to find the following details:\n",
    "A) Dataset name\n",
    "B) Data type\n",
    "C) Task\n",
    "D) Attribute type\n",
    "E) No of instances\n",
    "F) No of attribute\n",
    "G) Year\n",
    "Note: - from the home page you have to go to the ShowAllDataset page through code."
   ]
  },
  {
   "cell_type": "code",
   "execution_count": 369,
   "id": "e2c0071b",
   "metadata": {},
   "outputs": [],
   "source": [
    "# getting the web driver\n",
    "driver=webdriver.Chrome(r'D:\\chromedriver_win32\\chromedriver.exe')"
   ]
  },
  {
   "cell_type": "code",
   "execution_count": 370,
   "id": "70a878cb",
   "metadata": {},
   "outputs": [],
   "source": [
    "# getting the web page\n",
    "url ='https://archive.ics.uci.edu/'\n",
    "driver.get(url)"
   ]
  },
  {
   "cell_type": "code",
   "execution_count": 371,
   "id": "9a546837",
   "metadata": {},
   "outputs": [],
   "source": [
    "# finding web element and clicking on view all tab.\n",
    "view_all_tag=driver.find_element(By.XPATH, '/html/body/table[2]/tbody/tr/td/span/b/a')\n",
    "view_all_tag.click()"
   ]
  },
  {
   "cell_type": "code",
   "execution_count": 376,
   "id": "b95be559",
   "metadata": {},
   "outputs": [
    {
     "data": {
      "text/plain": [
       "622"
      ]
     },
     "execution_count": 376,
     "metadata": {},
     "output_type": "execute_result"
    }
   ],
   "source": [
    "# finding web element for all the required details and scrape them\n",
    "dataset=[]\n",
    "ds_name_tag=driver.find_elements(By.XPATH,'//p[@class=\"normal\"]/b')\n",
    "for i in ds_name_tag:\n",
    "    dataset.append(i.text)\n",
    "len(dataset)"
   ]
  },
  {
   "cell_type": "code",
   "execution_count": 379,
   "id": "a62f561f",
   "metadata": {},
   "outputs": [
    {
     "data": {
      "text/plain": [
       "622"
      ]
     },
     "execution_count": 379,
     "metadata": {},
     "output_type": "execute_result"
    }
   ],
   "source": [
    "data_type=[]\n",
    "type_tag=driver.find_elements(By.XPATH, '/html/body/table[2]/tbody/tr/td[2]/table[2]/tbody/tr/td[2]/p')\n",
    "for i in type_tag[1:]:\n",
    "    data_type.append(i.text)\n",
    "len(data_type)"
   ]
  },
  {
   "cell_type": "code",
   "execution_count": 381,
   "id": "7f95b827",
   "metadata": {},
   "outputs": [
    {
     "data": {
      "text/plain": [
       "622"
      ]
     },
     "execution_count": 381,
     "metadata": {},
     "output_type": "execute_result"
    }
   ],
   "source": [
    "task=[]\n",
    "task_tag=driver.find_elements(By.XPATH,'/html/body/table[2]/tbody/tr/td[2]/table[2]/tbody/tr/td[3]/p')\n",
    "for i in task_tag[1:]:\n",
    "    task.append(i.text)\n",
    "len(task)"
   ]
  },
  {
   "cell_type": "code",
   "execution_count": 383,
   "id": "baf62a29",
   "metadata": {},
   "outputs": [
    {
     "data": {
      "text/plain": [
       "622"
      ]
     },
     "execution_count": 383,
     "metadata": {},
     "output_type": "execute_result"
    }
   ],
   "source": [
    "attribute_type=[]\n",
    "attri_tag=driver.find_elements(By.XPATH, '/html/body/table[2]/tbody/tr/td[2]/table[2]/tbody/tr/td[4]/p')\n",
    "for i in attri_tag[1:]:\n",
    "    attribute_type.append(i.text)\n",
    "len(attribute_type)"
   ]
  },
  {
   "cell_type": "code",
   "execution_count": 384,
   "id": "c7fe6343",
   "metadata": {},
   "outputs": [
    {
     "data": {
      "text/plain": [
       "622"
      ]
     },
     "execution_count": 384,
     "metadata": {},
     "output_type": "execute_result"
    }
   ],
   "source": [
    "instance=[]\n",
    "instance_tag=driver.find_elements(By.XPATH,'/html/body/table[2]/tbody/tr/td[2]/table[2]/tbody/tr/td[5]/p')\n",
    "for i in instance_tag[1:]:\n",
    "    instance.append(i.text)\n",
    "len(instance)"
   ]
  },
  {
   "cell_type": "code",
   "execution_count": 385,
   "id": "f7965517",
   "metadata": {},
   "outputs": [
    {
     "data": {
      "text/plain": [
       "622"
      ]
     },
     "execution_count": 385,
     "metadata": {},
     "output_type": "execute_result"
    }
   ],
   "source": [
    "num_attribute=[]\n",
    "num_attri_tag=driver.find_elements(By.XPATH, '/html/body/table[2]/tbody/tr/td[2]/table[2]/tbody/tr/td[6]/p')\n",
    "for i in num_attri_tag[1:]:\n",
    "    num_attribute.append(i.text)\n",
    "len(num_attribute)"
   ]
  },
  {
   "cell_type": "code",
   "execution_count": 386,
   "id": "2c06d93d",
   "metadata": {},
   "outputs": [
    {
     "data": {
      "text/plain": [
       "622"
      ]
     },
     "execution_count": 386,
     "metadata": {},
     "output_type": "execute_result"
    }
   ],
   "source": [
    "Year=[]\n",
    "y_tag=driver.find_elements(By.XPATH,'/html/body/table[2]/tbody/tr/td[2]/table[2]/tbody/tr/td[7]/p')\n",
    "for i in y_tag[1:]:\n",
    "    Year.append(i.text)\n",
    "len(Year)"
   ]
  },
  {
   "cell_type": "code",
   "execution_count": 388,
   "id": "5f5a0ebd",
   "metadata": {},
   "outputs": [
    {
     "name": "stdout",
     "output_type": "stream",
     "text": [
      "List of all the Dataset Present in the site.\n"
     ]
    },
    {
     "data": {
      "text/html": [
       "<div>\n",
       "<style scoped>\n",
       "    .dataframe tbody tr th:only-of-type {\n",
       "        vertical-align: middle;\n",
       "    }\n",
       "\n",
       "    .dataframe tbody tr th {\n",
       "        vertical-align: top;\n",
       "    }\n",
       "\n",
       "    .dataframe thead th {\n",
       "        text-align: right;\n",
       "    }\n",
       "</style>\n",
       "<table border=\"1\" class=\"dataframe\">\n",
       "  <thead>\n",
       "    <tr style=\"text-align: right;\">\n",
       "      <th></th>\n",
       "      <th>Dataset Name</th>\n",
       "      <th>Data Type</th>\n",
       "      <th>Task</th>\n",
       "      <th>Attribute Type</th>\n",
       "      <th>Instances</th>\n",
       "      <th>Number Of Attribute</th>\n",
       "      <th>Year</th>\n",
       "    </tr>\n",
       "  </thead>\n",
       "  <tbody>\n",
       "    <tr>\n",
       "      <th>0</th>\n",
       "      <td>Abalone</td>\n",
       "      <td>Multivariate</td>\n",
       "      <td>Classification</td>\n",
       "      <td>Categorical, Integer, Real</td>\n",
       "      <td>4177</td>\n",
       "      <td>8</td>\n",
       "      <td>1995</td>\n",
       "    </tr>\n",
       "    <tr>\n",
       "      <th>1</th>\n",
       "      <td>Adult</td>\n",
       "      <td>Multivariate</td>\n",
       "      <td>Classification</td>\n",
       "      <td>Categorical, Integer</td>\n",
       "      <td>48842</td>\n",
       "      <td>14</td>\n",
       "      <td>1996</td>\n",
       "    </tr>\n",
       "    <tr>\n",
       "      <th>2</th>\n",
       "      <td>Annealing</td>\n",
       "      <td>Multivariate</td>\n",
       "      <td>Classification</td>\n",
       "      <td>Categorical, Integer, Real</td>\n",
       "      <td>798</td>\n",
       "      <td>38</td>\n",
       "      <td></td>\n",
       "    </tr>\n",
       "    <tr>\n",
       "      <th>3</th>\n",
       "      <td>Anonymous Microsoft Web Data</td>\n",
       "      <td></td>\n",
       "      <td>Recommender-Systems</td>\n",
       "      <td>Categorical</td>\n",
       "      <td>37711</td>\n",
       "      <td>294</td>\n",
       "      <td>1998</td>\n",
       "    </tr>\n",
       "    <tr>\n",
       "      <th>4</th>\n",
       "      <td>Arrhythmia</td>\n",
       "      <td>Multivariate</td>\n",
       "      <td>Classification</td>\n",
       "      <td>Categorical, Integer, Real</td>\n",
       "      <td>452</td>\n",
       "      <td>279</td>\n",
       "      <td>1998</td>\n",
       "    </tr>\n",
       "    <tr>\n",
       "      <th>...</th>\n",
       "      <td>...</td>\n",
       "      <td>...</td>\n",
       "      <td>...</td>\n",
       "      <td>...</td>\n",
       "      <td>...</td>\n",
       "      <td>...</td>\n",
       "      <td>...</td>\n",
       "    </tr>\n",
       "    <tr>\n",
       "      <th>617</th>\n",
       "      <td>Influenza outbreak event prediction via Twitte...</td>\n",
       "      <td>Multivariate</td>\n",
       "      <td>Classification</td>\n",
       "      <td>Integer, Real</td>\n",
       "      <td>75840</td>\n",
       "      <td>525</td>\n",
       "      <td>2020</td>\n",
       "    </tr>\n",
       "    <tr>\n",
       "      <th>618</th>\n",
       "      <td>Turkish Music Emotion Dataset</td>\n",
       "      <td>Multivariate</td>\n",
       "      <td>Classification</td>\n",
       "      <td>Integer, Real</td>\n",
       "      <td>400</td>\n",
       "      <td>50</td>\n",
       "      <td>2020</td>\n",
       "    </tr>\n",
       "    <tr>\n",
       "      <th>619</th>\n",
       "      <td>Maternal Health Risk Data Set</td>\n",
       "      <td></td>\n",
       "      <td>Classification</td>\n",
       "      <td></td>\n",
       "      <td>1014</td>\n",
       "      <td>7</td>\n",
       "      <td>2020</td>\n",
       "    </tr>\n",
       "    <tr>\n",
       "      <th>620</th>\n",
       "      <td>Room Occupancy Estimation</td>\n",
       "      <td>Multivariate, Time-Series</td>\n",
       "      <td>Classification</td>\n",
       "      <td>Real</td>\n",
       "      <td>10129</td>\n",
       "      <td>16</td>\n",
       "      <td>2021</td>\n",
       "    </tr>\n",
       "    <tr>\n",
       "      <th>621</th>\n",
       "      <td>Image Recognition Task Execution Times in Mobi...</td>\n",
       "      <td>Univariate</td>\n",
       "      <td>Regression</td>\n",
       "      <td>Real</td>\n",
       "      <td>4000</td>\n",
       "      <td>2</td>\n",
       "      <td>2021</td>\n",
       "    </tr>\n",
       "  </tbody>\n",
       "</table>\n",
       "<p>622 rows × 7 columns</p>\n",
       "</div>"
      ],
      "text/plain": [
       "                                          Dataset Name  \\\n",
       "0                                              Abalone   \n",
       "1                                                Adult   \n",
       "2                                            Annealing   \n",
       "3                         Anonymous Microsoft Web Data   \n",
       "4                                           Arrhythmia   \n",
       "..                                                 ...   \n",
       "617  Influenza outbreak event prediction via Twitte...   \n",
       "618                      Turkish Music Emotion Dataset   \n",
       "619                      Maternal Health Risk Data Set   \n",
       "620                          Room Occupancy Estimation   \n",
       "621  Image Recognition Task Execution Times in Mobi...   \n",
       "\n",
       "                      Data Type                  Task  \\\n",
       "0                 Multivariate        Classification    \n",
       "1                 Multivariate        Classification    \n",
       "2                 Multivariate        Classification    \n",
       "3                                Recommender-Systems    \n",
       "4                 Multivariate        Classification    \n",
       "..                          ...                   ...   \n",
       "617               Multivariate        Classification    \n",
       "618               Multivariate        Classification    \n",
       "619                                   Classification    \n",
       "620  Multivariate, Time-Series        Classification    \n",
       "621                 Univariate            Regression    \n",
       "\n",
       "                  Attribute Type Instances Number Of Attribute   Year  \n",
       "0    Categorical, Integer, Real      4177                   8   1995   \n",
       "1          Categorical, Integer     48842                  14   1996   \n",
       "2    Categorical, Integer, Real       798                  38          \n",
       "3                   Categorical     37711                 294   1998   \n",
       "4    Categorical, Integer, Real       452                 279   1998   \n",
       "..                           ...       ...                 ...    ...  \n",
       "617               Integer, Real     75840                 525   2020   \n",
       "618               Integer, Real       400                  50   2020   \n",
       "619                                  1014                   7   2020   \n",
       "620                        Real     10129                  16   2021   \n",
       "621                        Real      4000                   2   2021   \n",
       "\n",
       "[622 rows x 7 columns]"
      ]
     },
     "execution_count": 388,
     "metadata": {},
     "output_type": "execute_result"
    }
   ],
   "source": [
    "# preparing dataframe\n",
    "Datasets= pd.DataFrame({'Dataset Name':dataset,'Data Type': data_type, 'Task': task, \n",
    "                       'Attribute Type':attribute_type, 'Instances':instance, \n",
    "                        'Number Of Attribute': num_attribute, 'Year':Year})\n",
    "print(\"List of all the Dataset Present in the site.\")\n",
    "Datasets"
   ]
  },
  {
   "cell_type": "code",
   "execution_count": 389,
   "id": "e5a1244e",
   "metadata": {},
   "outputs": [],
   "source": [
    "driver.close()"
   ]
  },
  {
   "cell_type": "code",
   "execution_count": null,
   "id": "9732dca1",
   "metadata": {},
   "outputs": [],
   "source": []
  }
 ],
 "metadata": {
  "kernelspec": {
   "display_name": "Python 3 (ipykernel)",
   "language": "python",
   "name": "python3"
  },
  "language_info": {
   "codemirror_mode": {
    "name": "ipython",
    "version": 3
   },
   "file_extension": ".py",
   "mimetype": "text/x-python",
   "name": "python",
   "nbconvert_exporter": "python",
   "pygments_lexer": "ipython3",
   "version": "3.9.12"
  }
 },
 "nbformat": 4,
 "nbformat_minor": 5
}
